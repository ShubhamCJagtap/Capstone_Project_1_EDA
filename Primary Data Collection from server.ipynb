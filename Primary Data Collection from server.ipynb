{
 "cells": [
  {
   "cell_type": "code",
   "execution_count": 1,
   "id": "fc2827d5",
   "metadata": {},
   "outputs": [],
   "source": [
    "import pandas as pd\n",
    "import numpy as np\n",
    "import mysql.connector as connection"
   ]
  },
  {
   "cell_type": "code",
   "execution_count": 9,
   "id": "f9dfd48c",
   "metadata": {},
   "outputs": [],
   "source": [
    "Google_drive_link = 'https://drive.google.com/file/d/1Ir3rW0YTKmk7MSjVjCU_UGMQevhe1v9W/view'"
   ]
  },
  {
   "cell_type": "markdown",
   "id": "cef7d323",
   "metadata": {},
   "source": [
    "# Events Data"
   ]
  },
  {
   "cell_type": "code",
   "execution_count": 6,
   "id": "aedb447e",
   "metadata": {
    "scrolled": true
   },
   "outputs": [
    {
     "data": {
      "text/html": [
       "<div>\n",
       "<style scoped>\n",
       "    .dataframe tbody tr th:only-of-type {\n",
       "        vertical-align: middle;\n",
       "    }\n",
       "\n",
       "    .dataframe tbody tr th {\n",
       "        vertical-align: top;\n",
       "    }\n",
       "\n",
       "    .dataframe thead th {\n",
       "        text-align: right;\n",
       "    }\n",
       "</style>\n",
       "<table border=\"1\" class=\"dataframe\">\n",
       "  <thead>\n",
       "    <tr style=\"text-align: right;\">\n",
       "      <th></th>\n",
       "      <th>event_id</th>\n",
       "      <th>device_id</th>\n",
       "      <th>timestamp</th>\n",
       "      <th>longitude</th>\n",
       "      <th>latitude</th>\n",
       "      <th>city</th>\n",
       "      <th>state</th>\n",
       "    </tr>\n",
       "  </thead>\n",
       "  <tbody>\n",
       "    <tr>\n",
       "      <th>0</th>\n",
       "      <td>2765368</td>\n",
       "      <td>2.973348e+18</td>\n",
       "      <td>2016-05-07 22:52:05</td>\n",
       "      <td>77.225676</td>\n",
       "      <td>28.730140</td>\n",
       "      <td>Delhi</td>\n",
       "      <td>Delhi</td>\n",
       "    </tr>\n",
       "    <tr>\n",
       "      <th>1</th>\n",
       "      <td>2955066</td>\n",
       "      <td>4.734221e+18</td>\n",
       "      <td>2016-05-01 20:44:16</td>\n",
       "      <td>88.388361</td>\n",
       "      <td>22.660325</td>\n",
       "      <td>Calcutta</td>\n",
       "      <td>WestBengal</td>\n",
       "    </tr>\n",
       "    <tr>\n",
       "      <th>2</th>\n",
       "      <td>605968</td>\n",
       "      <td>-3.264500e+18</td>\n",
       "      <td>2016-05-02 14:23:04</td>\n",
       "      <td>77.256809</td>\n",
       "      <td>28.757906</td>\n",
       "      <td>Delhi</td>\n",
       "      <td>Delhi</td>\n",
       "    </tr>\n",
       "    <tr>\n",
       "      <th>3</th>\n",
       "      <td>448114</td>\n",
       "      <td>5.731369e+18</td>\n",
       "      <td>2016-05-03 13:21:16</td>\n",
       "      <td>80.343613</td>\n",
       "      <td>13.153332</td>\n",
       "      <td>Chennai</td>\n",
       "      <td>TamilNadu</td>\n",
       "    </tr>\n",
       "    <tr>\n",
       "      <th>4</th>\n",
       "      <td>665740</td>\n",
       "      <td>3.388880e+17</td>\n",
       "      <td>2016-05-06 03:51:05</td>\n",
       "      <td>85.997745</td>\n",
       "      <td>23.842609</td>\n",
       "      <td>Bokaro</td>\n",
       "      <td>Jharkhand</td>\n",
       "    </tr>\n",
       "    <tr>\n",
       "      <th>5</th>\n",
       "      <td>1078723</td>\n",
       "      <td>-5.124242e+17</td>\n",
       "      <td>2016-05-02 02:21:20</td>\n",
       "      <td>83.398244</td>\n",
       "      <td>17.768149</td>\n",
       "      <td>Visakhapatnam</td>\n",
       "      <td>AndhraPradesh</td>\n",
       "    </tr>\n",
       "    <tr>\n",
       "      <th>6</th>\n",
       "      <td>2948755</td>\n",
       "      <td>5.536513e+18</td>\n",
       "      <td>2016-05-03 16:20:14</td>\n",
       "      <td>80.359796</td>\n",
       "      <td>13.128174</td>\n",
       "      <td>Chennai</td>\n",
       "      <td>TamilNadu</td>\n",
       "    </tr>\n",
       "    <tr>\n",
       "      <th>7</th>\n",
       "      <td>280014</td>\n",
       "      <td>-8.879644e+18</td>\n",
       "      <td>2016-05-05 13:06:01</td>\n",
       "      <td>78.155397</td>\n",
       "      <td>16.390327</td>\n",
       "      <td>Wanparti</td>\n",
       "      <td>AndhraPradesh</td>\n",
       "    </tr>\n",
       "    <tr>\n",
       "      <th>8</th>\n",
       "      <td>2309828</td>\n",
       "      <td>3.020769e+18</td>\n",
       "      <td>2016-05-04 09:24:50</td>\n",
       "      <td>77.263922</td>\n",
       "      <td>28.757914</td>\n",
       "      <td>Delhi</td>\n",
       "      <td>Delhi</td>\n",
       "    </tr>\n",
       "    <tr>\n",
       "      <th>9</th>\n",
       "      <td>720049</td>\n",
       "      <td>4.928556e+18</td>\n",
       "      <td>2016-05-06 19:00:52</td>\n",
       "      <td>72.844795</td>\n",
       "      <td>18.974929</td>\n",
       "      <td>Mumbai</td>\n",
       "      <td>Maharashtra</td>\n",
       "    </tr>\n",
       "    <tr>\n",
       "      <th>10</th>\n",
       "      <td>3219828</td>\n",
       "      <td>-3.433061e+18</td>\n",
       "      <td>2016-05-03 00:27:21</td>\n",
       "      <td>80.290779</td>\n",
       "      <td>13.115427</td>\n",
       "      <td>Chennai</td>\n",
       "      <td>TamilNadu</td>\n",
       "    </tr>\n",
       "    <tr>\n",
       "      <th>11</th>\n",
       "      <td>13998</td>\n",
       "      <td>3.978026e+18</td>\n",
       "      <td>2016-05-06 13:12:42</td>\n",
       "      <td>73.875196</td>\n",
       "      <td>18.615791</td>\n",
       "      <td>Pune</td>\n",
       "      <td>Maharashtra</td>\n",
       "    </tr>\n",
       "    <tr>\n",
       "      <th>12</th>\n",
       "      <td>2334601</td>\n",
       "      <td>-6.018833e+17</td>\n",
       "      <td>2016-05-05 11:17:48</td>\n",
       "      <td>83.380111</td>\n",
       "      <td>17.828583</td>\n",
       "      <td>Visakhapatnam</td>\n",
       "      <td>AndhraPradesh</td>\n",
       "    </tr>\n",
       "    <tr>\n",
       "      <th>13</th>\n",
       "      <td>2633127</td>\n",
       "      <td>-3.090167e+18</td>\n",
       "      <td>2016-05-05 04:42:59</td>\n",
       "      <td>77.285920</td>\n",
       "      <td>28.758381</td>\n",
       "      <td>Delhi</td>\n",
       "      <td>Delhi</td>\n",
       "    </tr>\n",
       "    <tr>\n",
       "      <th>14</th>\n",
       "      <td>460645</td>\n",
       "      <td>7.983871e+18</td>\n",
       "      <td>2016-05-04 21:04:40</td>\n",
       "      <td>80.335435</td>\n",
       "      <td>13.189053</td>\n",
       "      <td>Chennai</td>\n",
       "      <td>TamilNadu</td>\n",
       "    </tr>\n",
       "  </tbody>\n",
       "</table>\n",
       "</div>"
      ],
      "text/plain": [
       "    event_id     device_id            timestamp  longitude   latitude  \\\n",
       "0    2765368  2.973348e+18  2016-05-07 22:52:05  77.225676  28.730140   \n",
       "1    2955066  4.734221e+18  2016-05-01 20:44:16  88.388361  22.660325   \n",
       "2     605968 -3.264500e+18  2016-05-02 14:23:04  77.256809  28.757906   \n",
       "3     448114  5.731369e+18  2016-05-03 13:21:16  80.343613  13.153332   \n",
       "4     665740  3.388880e+17  2016-05-06 03:51:05  85.997745  23.842609   \n",
       "5    1078723 -5.124242e+17  2016-05-02 02:21:20  83.398244  17.768149   \n",
       "6    2948755  5.536513e+18  2016-05-03 16:20:14  80.359796  13.128174   \n",
       "7     280014 -8.879644e+18  2016-05-05 13:06:01  78.155397  16.390327   \n",
       "8    2309828  3.020769e+18  2016-05-04 09:24:50  77.263922  28.757914   \n",
       "9     720049  4.928556e+18  2016-05-06 19:00:52  72.844795  18.974929   \n",
       "10   3219828 -3.433061e+18  2016-05-03 00:27:21  80.290779  13.115427   \n",
       "11     13998  3.978026e+18  2016-05-06 13:12:42  73.875196  18.615791   \n",
       "12   2334601 -6.018833e+17  2016-05-05 11:17:48  83.380111  17.828583   \n",
       "13   2633127 -3.090167e+18  2016-05-05 04:42:59  77.285920  28.758381   \n",
       "14    460645  7.983871e+18  2016-05-04 21:04:40  80.335435  13.189053   \n",
       "\n",
       "             city          state  \n",
       "0           Delhi          Delhi  \n",
       "1        Calcutta     WestBengal  \n",
       "2           Delhi          Delhi  \n",
       "3         Chennai      TamilNadu  \n",
       "4          Bokaro      Jharkhand  \n",
       "5   Visakhapatnam  AndhraPradesh  \n",
       "6         Chennai      TamilNadu  \n",
       "7        Wanparti  AndhraPradesh  \n",
       "8           Delhi          Delhi  \n",
       "9          Mumbai    Maharashtra  \n",
       "10        Chennai      TamilNadu  \n",
       "11           Pune    Maharashtra  \n",
       "12  Visakhapatnam  AndhraPradesh  \n",
       "13          Delhi          Delhi  \n",
       "14        Chennai      TamilNadu  "
      ]
     },
     "execution_count": 6,
     "metadata": {},
     "output_type": "execute_result"
    }
   ],
   "source": [
    "df = pd.read_csv('events_data.csv')   #read csv file\n",
    "df.head(15)"
   ]
  },
  {
   "cell_type": "code",
   "execution_count": 4,
   "id": "a9b4f09f",
   "metadata": {},
   "outputs": [
    {
     "name": "stdout",
     "output_type": "stream",
     "text": [
      "<class 'pandas.core.frame.DataFrame'>\n",
      "RangeIndex: 3252950 entries, 0 to 3252949\n",
      "Data columns (total 7 columns):\n",
      " #   Column     Dtype  \n",
      "---  ------     -----  \n",
      " 0   event_id   int64  \n",
      " 1   device_id  float64\n",
      " 2   timestamp  object \n",
      " 3   longitude  float64\n",
      " 4   latitude   float64\n",
      " 5   city       object \n",
      " 6   state      object \n",
      "dtypes: float64(3), int64(1), object(3)\n",
      "memory usage: 173.7+ MB\n"
     ]
    }
   ],
   "source": [
    "df.info()"
   ]
  },
  {
   "cell_type": "code",
   "execution_count": 7,
   "id": "2aa2cecc",
   "metadata": {},
   "outputs": [
    {
     "data": {
      "text/plain": [
       "Delhi                       751733\n",
       "Maharashtra                 677105\n",
       "TamilNadu                   436282\n",
       "AndhraPradesh               321332\n",
       "MadhyaPradesh               232690\n",
       "Rajasthan                   196361\n",
       "WestBengal                  196161\n",
       "Karnataka                    99058\n",
       "UttarPradesh                 94750\n",
       "Gujarat                      42881\n",
       "Bihar                        35472\n",
       "Punjab                       26195\n",
       "Kerala                       23148\n",
       "Haryana                      21053\n",
       "Jharkhand                    18060\n",
       "Orissa                       15904\n",
       "Telangana                    12784\n",
       "Assam                        12021\n",
       "Chhattisgarh                  9754\n",
       "Uttaranchal                   7720\n",
       "JammuandKashmir               5385\n",
       "Goa                           3250\n",
       "Nagaland                      2298\n",
       "Pondicherry                   1741\n",
       "Mizoram                       1613\n",
       "Meghalaya                     1515\n",
       "AndamanandNicobarIslands      1515\n",
       "HimachalPradesh               1409\n",
       "Manipur                        989\n",
       "Chandigarh                     894\n",
       "Tripura                        892\n",
       "ArunachalPradesh               608\n",
       "Name: state, dtype: int64"
      ]
     },
     "execution_count": 7,
     "metadata": {},
     "output_type": "execute_result"
    }
   ],
   "source": [
    "df['state'].value_counts()"
   ]
  },
  {
   "cell_type": "code",
   "execution_count": 12,
   "id": "32a6038d",
   "metadata": {},
   "outputs": [
    {
     "data": {
      "text/plain": [
       "event_id     3252950\n",
       "device_id      60865\n",
       "timestamp     588126\n",
       "longitude      60095\n",
       "latitude       60177\n",
       "city             933\n",
       "state             32\n",
       "dtype: int64"
      ]
     },
     "execution_count": 12,
     "metadata": {},
     "output_type": "execute_result"
    }
   ],
   "source": [
    "df.nunique()"
   ]
  },
  {
   "cell_type": "code",
   "execution_count": 5,
   "id": "ea85b97a",
   "metadata": {},
   "outputs": [
    {
     "data": {
      "text/plain": [
       "event_id       0\n",
       "device_id    453\n",
       "timestamp      0\n",
       "longitude    423\n",
       "latitude     423\n",
       "city           0\n",
       "state        377\n",
       "dtype: int64"
      ]
     },
     "execution_count": 5,
     "metadata": {},
     "output_type": "execute_result"
    }
   ],
   "source": [
    "df.isna().sum()"
   ]
  },
  {
   "cell_type": "markdown",
   "id": "b33bae45",
   "metadata": {},
   "source": [
    "# Gender Age data from Mysql Server"
   ]
  },
  {
   "cell_type": "code",
   "execution_count": 10,
   "id": "f48a47ba",
   "metadata": {},
   "outputs": [
    {
     "name": "stderr",
     "output_type": "stream",
     "text": [
      "c:\\program files\\python38\\lib\\site-packages\\pandas\\io\\sql.py:758: UserWarning: pandas only support SQLAlchemy connectable(engine/connection) ordatabase string URI or sqlite3 DBAPI2 connectionother DBAPI2 objects are not tested, please consider using SQLAlchemy\n",
      "  warnings.warn(\n"
     ]
    }
   ],
   "source": [
    "try:\n",
    "    mydb = connection.connect(host=\"cpanel.insaid.co\", database = 'Capstone1',user=\"student\", passwd=\"student\",use_pure=True)\n",
    "    query = \"Select * from gender_age_train;\"\n",
    "    result_dataFrame = pd.read_sql(query,mydb)\n",
    "    mydb.close() #close the connection\n",
    "except Exception as e:\n",
    "    mydb.close()\n",
    "    print(str(e))"
   ]
  },
  {
   "cell_type": "code",
   "execution_count": 12,
   "id": "9c1103f6",
   "metadata": {},
   "outputs": [],
   "source": [
    "result_dataFrame.to_csv('gender_age.csv')"
   ]
  },
  {
   "cell_type": "code",
   "execution_count": 8,
   "id": "f512fd4d",
   "metadata": {},
   "outputs": [],
   "source": [
    "df1 = pd.read_csv('gender_age.csv')"
   ]
  },
  {
   "cell_type": "code",
   "execution_count": 9,
   "id": "9c59b066",
   "metadata": {},
   "outputs": [
    {
     "data": {
      "text/html": [
       "<div>\n",
       "<style scoped>\n",
       "    .dataframe tbody tr th:only-of-type {\n",
       "        vertical-align: middle;\n",
       "    }\n",
       "\n",
       "    .dataframe tbody tr th {\n",
       "        vertical-align: top;\n",
       "    }\n",
       "\n",
       "    .dataframe thead th {\n",
       "        text-align: right;\n",
       "    }\n",
       "</style>\n",
       "<table border=\"1\" class=\"dataframe\">\n",
       "  <thead>\n",
       "    <tr style=\"text-align: right;\">\n",
       "      <th></th>\n",
       "      <th>Unnamed: 0</th>\n",
       "      <th>device_id</th>\n",
       "      <th>gender</th>\n",
       "      <th>age</th>\n",
       "      <th>group</th>\n",
       "    </tr>\n",
       "  </thead>\n",
       "  <tbody>\n",
       "    <tr>\n",
       "      <th>0</th>\n",
       "      <td>0</td>\n",
       "      <td>-8076087639492063270</td>\n",
       "      <td>M</td>\n",
       "      <td>35</td>\n",
       "      <td>M32-38</td>\n",
       "    </tr>\n",
       "    <tr>\n",
       "      <th>1</th>\n",
       "      <td>1</td>\n",
       "      <td>-2897161552818060146</td>\n",
       "      <td>M</td>\n",
       "      <td>35</td>\n",
       "      <td>M32-38</td>\n",
       "    </tr>\n",
       "    <tr>\n",
       "      <th>2</th>\n",
       "      <td>2</td>\n",
       "      <td>-8260683887967679142</td>\n",
       "      <td>M</td>\n",
       "      <td>35</td>\n",
       "      <td>M32-38</td>\n",
       "    </tr>\n",
       "    <tr>\n",
       "      <th>3</th>\n",
       "      <td>3</td>\n",
       "      <td>-4938849341048082022</td>\n",
       "      <td>M</td>\n",
       "      <td>30</td>\n",
       "      <td>M29-31</td>\n",
       "    </tr>\n",
       "    <tr>\n",
       "      <th>4</th>\n",
       "      <td>4</td>\n",
       "      <td>245133531816851882</td>\n",
       "      <td>M</td>\n",
       "      <td>30</td>\n",
       "      <td>M29-31</td>\n",
       "    </tr>\n",
       "    <tr>\n",
       "      <th>5</th>\n",
       "      <td>5</td>\n",
       "      <td>-1297074871525174196</td>\n",
       "      <td>F</td>\n",
       "      <td>24</td>\n",
       "      <td>F24-26</td>\n",
       "    </tr>\n",
       "    <tr>\n",
       "      <th>6</th>\n",
       "      <td>6</td>\n",
       "      <td>236877999787307864</td>\n",
       "      <td>M</td>\n",
       "      <td>36</td>\n",
       "      <td>M32-38</td>\n",
       "    </tr>\n",
       "    <tr>\n",
       "      <th>7</th>\n",
       "      <td>7</td>\n",
       "      <td>-8098239495777311881</td>\n",
       "      <td>M</td>\n",
       "      <td>38</td>\n",
       "      <td>M32-38</td>\n",
       "    </tr>\n",
       "    <tr>\n",
       "      <th>8</th>\n",
       "      <td>8</td>\n",
       "      <td>176515041953473526</td>\n",
       "      <td>M</td>\n",
       "      <td>33</td>\n",
       "      <td>M32-38</td>\n",
       "    </tr>\n",
       "    <tr>\n",
       "      <th>9</th>\n",
       "      <td>9</td>\n",
       "      <td>1596610250680140042</td>\n",
       "      <td>F</td>\n",
       "      <td>36</td>\n",
       "      <td>F33-42</td>\n",
       "    </tr>\n",
       "  </tbody>\n",
       "</table>\n",
       "</div>"
      ],
      "text/plain": [
       "   Unnamed: 0            device_id gender  age   group\n",
       "0           0 -8076087639492063270      M   35  M32-38\n",
       "1           1 -2897161552818060146      M   35  M32-38\n",
       "2           2 -8260683887967679142      M   35  M32-38\n",
       "3           3 -4938849341048082022      M   30  M29-31\n",
       "4           4   245133531816851882      M   30  M29-31\n",
       "5           5 -1297074871525174196      F   24  F24-26\n",
       "6           6   236877999787307864      M   36  M32-38\n",
       "7           7 -8098239495777311881      M   38  M32-38\n",
       "8           8   176515041953473526      M   33  M32-38\n",
       "9           9  1596610250680140042      F   36  F33-42"
      ]
     },
     "execution_count": 9,
     "metadata": {},
     "output_type": "execute_result"
    }
   ],
   "source": [
    "df1.head(10)"
   ]
  },
  {
   "cell_type": "code",
   "execution_count": 13,
   "id": "0e89c396",
   "metadata": {},
   "outputs": [
    {
     "name": "stdout",
     "output_type": "stream",
     "text": [
      "<class 'pandas.core.frame.DataFrame'>\n",
      "RangeIndex: 74645 entries, 0 to 74644\n",
      "Data columns (total 5 columns):\n",
      " #   Column      Non-Null Count  Dtype \n",
      "---  ------      --------------  ----- \n",
      " 0   Unnamed: 0  74645 non-null  int64 \n",
      " 1   device_id   74645 non-null  int64 \n",
      " 2   gender      74645 non-null  object\n",
      " 3   age         74645 non-null  int64 \n",
      " 4   group       74645 non-null  object\n",
      "dtypes: int64(3), object(2)\n",
      "memory usage: 2.8+ MB\n"
     ]
    }
   ],
   "source": [
    "df1.info()"
   ]
  },
  {
   "cell_type": "markdown",
   "id": "faa7c3c0",
   "metadata": {},
   "source": [
    "# Phone brand device model data from Mysql Server"
   ]
  },
  {
   "cell_type": "code",
   "execution_count": 13,
   "id": "a4abe94b",
   "metadata": {},
   "outputs": [
    {
     "name": "stderr",
     "output_type": "stream",
     "text": [
      "c:\\program files\\python38\\lib\\site-packages\\pandas\\io\\sql.py:758: UserWarning: pandas only support SQLAlchemy connectable(engine/connection) ordatabase string URI or sqlite3 DBAPI2 connectionother DBAPI2 objects are not tested, please consider using SQLAlchemy\n",
      "  warnings.warn(\n"
     ]
    }
   ],
   "source": [
    "try:\n",
    "    mydb = connection.connect(host=\"cpanel.insaid.co\", database = 'Capstone1',user=\"student\", passwd=\"student\",use_pure=True)\n",
    "    query = \"Select * from phone_brand_device_model;\"\n",
    "    result_dataFrame = pd.read_sql(query,mydb)\n",
    "    mydb.close() #close the connection\n",
    "except Exception as e:\n",
    "    mydb.close()\n",
    "    print(str(e))"
   ]
  },
  {
   "cell_type": "code",
   "execution_count": 15,
   "id": "712beca6",
   "metadata": {},
   "outputs": [],
   "source": [
    "result_dataFrame.to_csv('phone_brand_device_model.csv')"
   ]
  },
  {
   "cell_type": "code",
   "execution_count": 10,
   "id": "017b6f16",
   "metadata": {},
   "outputs": [],
   "source": [
    "df2 = pd.read_csv('phone_brand_device_model.csv')"
   ]
  },
  {
   "cell_type": "code",
   "execution_count": 11,
   "id": "70e6e758",
   "metadata": {},
   "outputs": [
    {
     "data": {
      "text/html": [
       "<div>\n",
       "<style scoped>\n",
       "    .dataframe tbody tr th:only-of-type {\n",
       "        vertical-align: middle;\n",
       "    }\n",
       "\n",
       "    .dataframe tbody tr th {\n",
       "        vertical-align: top;\n",
       "    }\n",
       "\n",
       "    .dataframe thead th {\n",
       "        text-align: right;\n",
       "    }\n",
       "</style>\n",
       "<table border=\"1\" class=\"dataframe\">\n",
       "  <thead>\n",
       "    <tr style=\"text-align: right;\">\n",
       "      <th></th>\n",
       "      <th>Unnamed: 0</th>\n",
       "      <th>device_id</th>\n",
       "      <th>phone_brand</th>\n",
       "      <th>device_model</th>\n",
       "    </tr>\n",
       "  </thead>\n",
       "  <tbody>\n",
       "    <tr>\n",
       "      <th>0</th>\n",
       "      <td>0</td>\n",
       "      <td>1877775838486905855</td>\n",
       "      <td>vivo</td>\n",
       "      <td>Y13</td>\n",
       "    </tr>\n",
       "    <tr>\n",
       "      <th>1</th>\n",
       "      <td>1</td>\n",
       "      <td>-3766087376657242966</td>\n",
       "      <td>小米</td>\n",
       "      <td>V183</td>\n",
       "    </tr>\n",
       "    <tr>\n",
       "      <th>2</th>\n",
       "      <td>2</td>\n",
       "      <td>-6238937574958215831</td>\n",
       "      <td>OPPO</td>\n",
       "      <td>R7s</td>\n",
       "    </tr>\n",
       "    <tr>\n",
       "      <th>3</th>\n",
       "      <td>3</td>\n",
       "      <td>8973197758510677470</td>\n",
       "      <td>三星</td>\n",
       "      <td>A368t</td>\n",
       "    </tr>\n",
       "    <tr>\n",
       "      <th>4</th>\n",
       "      <td>4</td>\n",
       "      <td>-2015528097870762664</td>\n",
       "      <td>小米</td>\n",
       "      <td>红米Note2</td>\n",
       "    </tr>\n",
       "    <tr>\n",
       "      <th>5</th>\n",
       "      <td>5</td>\n",
       "      <td>-8896952452425303597</td>\n",
       "      <td>小米</td>\n",
       "      <td>红米Note3</td>\n",
       "    </tr>\n",
       "    <tr>\n",
       "      <th>6</th>\n",
       "      <td>6</td>\n",
       "      <td>-2634171391322875113</td>\n",
       "      <td>小米</td>\n",
       "      <td>S5.1</td>\n",
       "    </tr>\n",
       "    <tr>\n",
       "      <th>7</th>\n",
       "      <td>7</td>\n",
       "      <td>-2526386806972133373</td>\n",
       "      <td>三星</td>\n",
       "      <td>Galaxy Grand Prime</td>\n",
       "    </tr>\n",
       "    <tr>\n",
       "      <th>8</th>\n",
       "      <td>8</td>\n",
       "      <td>1427934937997164515</td>\n",
       "      <td>小米</td>\n",
       "      <td>MI 2S</td>\n",
       "    </tr>\n",
       "    <tr>\n",
       "      <th>9</th>\n",
       "      <td>9</td>\n",
       "      <td>2866484947180243791</td>\n",
       "      <td>三星</td>\n",
       "      <td>Galaxy Note 2</td>\n",
       "    </tr>\n",
       "  </tbody>\n",
       "</table>\n",
       "</div>"
      ],
      "text/plain": [
       "   Unnamed: 0            device_id phone_brand        device_model\n",
       "0           0  1877775838486905855        vivo                 Y13\n",
       "1           1 -3766087376657242966          小米                V183\n",
       "2           2 -6238937574958215831        OPPO                 R7s\n",
       "3           3  8973197758510677470          三星               A368t\n",
       "4           4 -2015528097870762664          小米             红米Note2\n",
       "5           5 -8896952452425303597          小米             红米Note3\n",
       "6           6 -2634171391322875113          小米                S5.1\n",
       "7           7 -2526386806972133373          三星  Galaxy Grand Prime\n",
       "8           8  1427934937997164515          小米               MI 2S\n",
       "9           9  2866484947180243791          三星       Galaxy Note 2"
      ]
     },
     "execution_count": 11,
     "metadata": {},
     "output_type": "execute_result"
    }
   ],
   "source": [
    "df2.head(10)"
   ]
  },
  {
   "cell_type": "code",
   "execution_count": null,
   "id": "acd0c575",
   "metadata": {},
   "outputs": [],
   "source": []
  }
 ],
 "metadata": {
  "kernelspec": {
   "display_name": "Python 3 (ipykernel)",
   "language": "python",
   "name": "python3"
  },
  "language_info": {
   "codemirror_mode": {
    "name": "ipython",
    "version": 3
   },
   "file_extension": ".py",
   "mimetype": "text/x-python",
   "name": "python",
   "nbconvert_exporter": "python",
   "pygments_lexer": "ipython3",
   "version": "3.8.5"
  }
 },
 "nbformat": 4,
 "nbformat_minor": 5
}
