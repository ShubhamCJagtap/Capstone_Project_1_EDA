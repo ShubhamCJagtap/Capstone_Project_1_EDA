{
  "cells": [
    {
      "cell_type": "markdown",
      "metadata": {
        "id": "view-in-github",
        "colab_type": "text"
      },
      "source": [
        "<a href=\"https://colab.research.google.com/github/ShubhamCJagtap/Capstone_Project_1_EDA/blob/master/Capstone_project_1_Mobile_Events_EDA_colab_notebook.ipynb\" target=\"_parent\"><img src=\"https://colab.research.google.com/assets/colab-badge.svg\" alt=\"Open In Colab\"/></a>"
      ]
    },
    {
      "cell_type": "markdown",
      "id": "755ca927",
      "metadata": {
        "id": "755ca927"
      },
      "source": [
        " ## EDA steps to follow\n",
        " \n",
        "**1.** [**Introduction**](#Section1)<br>\n",
        "**2.** [**Problem Statement**](#Section2)<br>\n",
        "**3.** [**Installing & Importing Libraries**](#Section3)<br>\n",
        "  - **3.1** [**Installing Libraries**](#Section31)\n",
        "  - **3.2** [**Upgrading Libraries**](#Section32)\n",
        "  - **3.3** [**Importing Libraries**](#Section33)\n",
        "\n",
        "**4.** [**Data Acquisition & Description**](#Section4)<br>\n",
        "  - **4.1** [**Data Description**](#Section41)\n",
        "  - **4.2** [**Data Information**](#Section42)\n",
        "\n",
        "**5.** [**Data Pre-profiling**](#Section5)<br>\n",
        "**6.** [**Data Cleaning**](#Section6)<br>\n",
        "**7.** [**Data Post-profiling**](#Section7)<br>\n",
        "**8.** [**Exploratory Data Analysis**](#Section8)<br>\n",
        "  - **8.1** [**Outlet Metrics-based Analysis**](#Section81)\n",
        "  - **8.2** [**Nutritional Value-based Analysis**](#Section82)\n",
        "  - **8.3** [**Geographical Information-based Analysis**](#Section83)\n",
        "  - **8.4** [**Outlet Metrics-based & Nutritional Value-based Analysis**](#Section84)\n",
        "  - **8.5** [**Outlet Metrics-based & Geographical Information-based Analysis**](#Section85)\n",
        "  - **8.6** [**Nutritional Value-based & Geographical Information-based Analysis**](#Section86)\n",
        "  - **8.7** [**Outlet Metric-based, Menu Items & Geographical Information-based Analysis**](#Section87)\n",
        "\n",
        "**9.** [**Summarization**](#Section9)<br>"
      ]
    },
    {
      "cell_type": "code",
      "source": [
        "from google.colab import drive\n",
        "drive.mount('/content/drive')"
      ],
      "metadata": {
        "colab": {
          "base_uri": "https://localhost:8080/"
        },
        "id": "b8bCUCuGZ12f",
        "outputId": "4de2e0cc-af2a-4028-e0a2-d99b0f87ba3c"
      },
      "id": "b8bCUCuGZ12f",
      "execution_count": 5,
      "outputs": [
        {
          "output_type": "stream",
          "name": "stdout",
          "text": [
            "Drive already mounted at /content/drive; to attempt to forcibly remount, call drive.mount(\"/content/drive\", force_remount=True).\n"
          ]
        }
      ]
    },
    {
      "cell_type": "markdown",
      "id": "7e5a158a",
      "metadata": {
        "id": "7e5a158a"
      },
      "source": [
        "# Introduction"
      ]
    },
    {
      "cell_type": "markdown",
      "id": "905f5b9a",
      "metadata": {
        "id": "905f5b9a"
      },
      "source": [
        "### Company Introduction\n",
        "Your company for this project is InsaidTelecom.<br>\n",
        "\n",
        "InsaidTelecom, one of the leading telecom players, understands that customizing offerings is very important for its business to stay competitive.<br>\n",
        "Currently, InsaidTelecom is seeking to leverage behavioural data from more than 60% of the 50 million mobile devices active daily in India<br>\n",
        "They are doing this to help their clients better understand and interact with their audiences.<br>\n"
      ]
    },
    {
      "cell_type": "markdown",
      "id": "71704b63",
      "metadata": {
        "id": "71704b63"
      },
      "source": [
        "## problem Statement\n",
        "\n",
        "### Current Scenario\n",
        "In this consulting assignment, Insaidians are expected to build a dashboard.<br>\n",
        "This dashboard will help us to understand a user's demographic characteristics based on their mobile usage, geolocation, and mobile device properties<br>\n",
        "Doing so will help millions of developers and brand advertisers around the world pursue data-driven marketing efforts.\n",
        "These efforts are relevant to their users and cater to their preferences.<br>\n",
        "\n",
        "### Expected output\n",
        "\n",
        "- EDA observations\n",
        "- Dashboard"
      ]
    },
    {
      "cell_type": "markdown",
      "id": "2245c342",
      "metadata": {
        "id": "2245c342"
      },
      "source": [
        "## Role\n",
        "\n",
        "### Your Role\n",
        "- To help the customer the consultants are expected to have depth of clarity in the underlying data.\n",
        "- How much effort has been put into cleansing and purifying the data will decide how closely have you looked at the data..\n",
        "- How detailed is the observation stated in the submission report and finally, how well a group presents their consulting journey.\n",
        "- Please remember that this is an analytics consulting firm. Hence, your efforts in terms of finding user behaviour are going to directly impact the company's offerings.\n",
        "- Do help the company understand what is the right way forward and suggest actionable insights from marketing and product terms.\n"
      ]
    },
    {
      "cell_type": "markdown",
      "id": "744cb91c",
      "metadata": {
        "id": "744cb91c"
      },
      "source": [
        "## State to focus\n",
        "- Delhi"
      ]
    },
    {
      "cell_type": "markdown",
      "id": "059c98d9",
      "metadata": {
        "id": "059c98d9"
      },
      "source": [
        "# Import Libraries"
      ]
    },
    {
      "cell_type": "code",
      "source": [
        "!pip install mysql.connector"
      ],
      "metadata": {
        "id": "QzK9CSkZg9gA",
        "outputId": "c89c07a7-e2fd-437b-f086-eaddefc3ae8e",
        "colab": {
          "base_uri": "https://localhost:8080/"
        }
      },
      "id": "QzK9CSkZg9gA",
      "execution_count": 6,
      "outputs": [
        {
          "output_type": "stream",
          "name": "stdout",
          "text": [
            "Looking in indexes: https://pypi.org/simple, https://us-python.pkg.dev/colab-wheels/public/simple/\n",
            "Requirement already satisfied: mysql.connector in /usr/local/lib/python3.7/dist-packages (2.2.9)\n"
          ]
        }
      ]
    },
    {
      "cell_type": "code",
      "execution_count": 7,
      "id": "fc2827d5",
      "metadata": {
        "id": "fc2827d5"
      },
      "outputs": [],
      "source": [
        "import pandas as pd\n",
        "import numpy as np\n",
        "import mysql.connector as connection # install !pip install mysql.connector\n",
        "import matplotlib.pyplot as plt\n",
        "import seaborn as sns\n",
        "import warnings\n",
        "warnings.filterwarnings('ignore')\n",
        "\n",
        "pd.set_option('display.max_columns',None)\n",
        "pd.set_option('display.max_rows',None)\n",
        "pd.set_option('display.max_colwidth',None)\n",
        "pd.set_option('mode.chained_assignment',None)"
      ]
    },
    {
      "cell_type": "markdown",
      "id": "cef7d323",
      "metadata": {
        "id": "cef7d323"
      },
      "source": [
        "# Collect Datasets\n",
        "\n",
        "- Events Dataset\n",
        "- Gender Age Dataset\n",
        "- Phone Brand Device Model Dataset"
      ]
    },
    {
      "cell_type": "code",
      "execution_count": 8,
      "id": "aedb447e",
      "metadata": {
        "scrolled": true,
        "id": "aedb447e"
      },
      "outputs": [],
      "source": [
        "df = pd.read_csv('/content/drive/MyDrive/Capstone 1 Insaid/Database/events_data.csv')   #read csv file"
      ]
    },
    {
      "cell_type": "code",
      "execution_count": null,
      "id": "f48a47ba",
      "metadata": {
        "id": "f48a47ba"
      },
      "outputs": [],
      "source": [
        "# try:\n",
        "#     mydb = connection.connect(host=\"cpanel.insaid.co\", database = 'Capstone1',user=\"student\", passwd=\"student\",use_pure=True)\n",
        "#     query = \"Select * from gender_age_train;\"\n",
        "#     result_dataFrame = pd.read_sql(query,mydb)\n",
        "#     mydb.close() #close the connection\n",
        "# except Exception as e:\n",
        "#     mydb.close()\n",
        "#     print(str(e))\n",
        "\n",
        "# result_dataFrame.to_csv('gender_age.csv')\n",
        "\n",
        "# df1 = pd.read_csv('gender_age.csv')"
      ]
    },
    {
      "cell_type": "code",
      "execution_count": null,
      "id": "a4abe94b",
      "metadata": {
        "id": "a4abe94b"
      },
      "outputs": [],
      "source": [
        "# try:\n",
        "#     mydb = connection.connect(host=\"cpanel.insaid.co\", database = 'Capstone1',user=\"student\", passwd=\"student\",use_pure=True)\n",
        "#     query = \"Select * from phone_brand_device_model;\"\n",
        "#     result_dataFrame = pd.read_sql(query,mydb)\n",
        "#     mydb.close() #close the connection\n",
        "# except Exception as e:\n",
        "#     mydb.close()\n",
        "#     print(str(e))\n",
        "\n",
        "# result_dataFrame.to_csv('phone_brand_device_model.csv')\n",
        "\n",
        "# df2 = pd.read_csv('phone_brand_device_model.csv')"
      ]
    },
    {
      "cell_type": "markdown",
      "source": [
        "# Data Preprofiling"
      ],
      "metadata": {
        "id": "QxF7BTcune0v"
      },
      "id": "QxF7BTcune0v"
    },
    {
      "cell_type": "markdown",
      "source": [
        "## 1. Dataset 1 Preprofiling"
      ],
      "metadata": {
        "id": "GLgeNlIWovem"
      },
      "id": "GLgeNlIWovem"
    },
    {
      "cell_type": "code",
      "execution_count": 9,
      "id": "4e77fc9a",
      "metadata": {
        "id": "4e77fc9a",
        "outputId": "a994718c-3503-42ec-e0ce-549abf4e63d6",
        "colab": {
          "base_uri": "https://localhost:8080/",
          "height": 206
        }
      },
      "outputs": [
        {
          "output_type": "execute_result",
          "data": {
            "text/plain": [
              "   event_id     device_id            timestamp  longitude   latitude  \\\n",
              "0   2765368  2.973348e+18  2016-05-07 22:52:05  77.225676  28.730140   \n",
              "1   2955066  4.734221e+18  2016-05-01 20:44:16  88.388361  22.660325   \n",
              "2    605968 -3.264500e+18  2016-05-02 14:23:04  77.256809  28.757906   \n",
              "3    448114  5.731369e+18  2016-05-03 13:21:16  80.343613  13.153332   \n",
              "4    665740  3.388880e+17  2016-05-06 03:51:05  85.997745  23.842609   \n",
              "\n",
              "       city       state  \n",
              "0     Delhi       Delhi  \n",
              "1  Calcutta  WestBengal  \n",
              "2     Delhi       Delhi  \n",
              "3   Chennai   TamilNadu  \n",
              "4    Bokaro   Jharkhand  "
            ],
            "text/html": [
              "\n",
              "  <div id=\"df-e2bc8623-6334-4123-90e9-d81b09a050b1\">\n",
              "    <div class=\"colab-df-container\">\n",
              "      <div>\n",
              "<style scoped>\n",
              "    .dataframe tbody tr th:only-of-type {\n",
              "        vertical-align: middle;\n",
              "    }\n",
              "\n",
              "    .dataframe tbody tr th {\n",
              "        vertical-align: top;\n",
              "    }\n",
              "\n",
              "    .dataframe thead th {\n",
              "        text-align: right;\n",
              "    }\n",
              "</style>\n",
              "<table border=\"1\" class=\"dataframe\">\n",
              "  <thead>\n",
              "    <tr style=\"text-align: right;\">\n",
              "      <th></th>\n",
              "      <th>event_id</th>\n",
              "      <th>device_id</th>\n",
              "      <th>timestamp</th>\n",
              "      <th>longitude</th>\n",
              "      <th>latitude</th>\n",
              "      <th>city</th>\n",
              "      <th>state</th>\n",
              "    </tr>\n",
              "  </thead>\n",
              "  <tbody>\n",
              "    <tr>\n",
              "      <th>0</th>\n",
              "      <td>2765368</td>\n",
              "      <td>2.973348e+18</td>\n",
              "      <td>2016-05-07 22:52:05</td>\n",
              "      <td>77.225676</td>\n",
              "      <td>28.730140</td>\n",
              "      <td>Delhi</td>\n",
              "      <td>Delhi</td>\n",
              "    </tr>\n",
              "    <tr>\n",
              "      <th>1</th>\n",
              "      <td>2955066</td>\n",
              "      <td>4.734221e+18</td>\n",
              "      <td>2016-05-01 20:44:16</td>\n",
              "      <td>88.388361</td>\n",
              "      <td>22.660325</td>\n",
              "      <td>Calcutta</td>\n",
              "      <td>WestBengal</td>\n",
              "    </tr>\n",
              "    <tr>\n",
              "      <th>2</th>\n",
              "      <td>605968</td>\n",
              "      <td>-3.264500e+18</td>\n",
              "      <td>2016-05-02 14:23:04</td>\n",
              "      <td>77.256809</td>\n",
              "      <td>28.757906</td>\n",
              "      <td>Delhi</td>\n",
              "      <td>Delhi</td>\n",
              "    </tr>\n",
              "    <tr>\n",
              "      <th>3</th>\n",
              "      <td>448114</td>\n",
              "      <td>5.731369e+18</td>\n",
              "      <td>2016-05-03 13:21:16</td>\n",
              "      <td>80.343613</td>\n",
              "      <td>13.153332</td>\n",
              "      <td>Chennai</td>\n",
              "      <td>TamilNadu</td>\n",
              "    </tr>\n",
              "    <tr>\n",
              "      <th>4</th>\n",
              "      <td>665740</td>\n",
              "      <td>3.388880e+17</td>\n",
              "      <td>2016-05-06 03:51:05</td>\n",
              "      <td>85.997745</td>\n",
              "      <td>23.842609</td>\n",
              "      <td>Bokaro</td>\n",
              "      <td>Jharkhand</td>\n",
              "    </tr>\n",
              "  </tbody>\n",
              "</table>\n",
              "</div>\n",
              "      <button class=\"colab-df-convert\" onclick=\"convertToInteractive('df-e2bc8623-6334-4123-90e9-d81b09a050b1')\"\n",
              "              title=\"Convert this dataframe to an interactive table.\"\n",
              "              style=\"display:none;\">\n",
              "        \n",
              "  <svg xmlns=\"http://www.w3.org/2000/svg\" height=\"24px\"viewBox=\"0 0 24 24\"\n",
              "       width=\"24px\">\n",
              "    <path d=\"M0 0h24v24H0V0z\" fill=\"none\"/>\n",
              "    <path d=\"M18.56 5.44l.94 2.06.94-2.06 2.06-.94-2.06-.94-.94-2.06-.94 2.06-2.06.94zm-11 1L8.5 8.5l.94-2.06 2.06-.94-2.06-.94L8.5 2.5l-.94 2.06-2.06.94zm10 10l.94 2.06.94-2.06 2.06-.94-2.06-.94-.94-2.06-.94 2.06-2.06.94z\"/><path d=\"M17.41 7.96l-1.37-1.37c-.4-.4-.92-.59-1.43-.59-.52 0-1.04.2-1.43.59L10.3 9.45l-7.72 7.72c-.78.78-.78 2.05 0 2.83L4 21.41c.39.39.9.59 1.41.59.51 0 1.02-.2 1.41-.59l7.78-7.78 2.81-2.81c.8-.78.8-2.07 0-2.86zM5.41 20L4 18.59l7.72-7.72 1.47 1.35L5.41 20z\"/>\n",
              "  </svg>\n",
              "      </button>\n",
              "      \n",
              "  <style>\n",
              "    .colab-df-container {\n",
              "      display:flex;\n",
              "      flex-wrap:wrap;\n",
              "      gap: 12px;\n",
              "    }\n",
              "\n",
              "    .colab-df-convert {\n",
              "      background-color: #E8F0FE;\n",
              "      border: none;\n",
              "      border-radius: 50%;\n",
              "      cursor: pointer;\n",
              "      display: none;\n",
              "      fill: #1967D2;\n",
              "      height: 32px;\n",
              "      padding: 0 0 0 0;\n",
              "      width: 32px;\n",
              "    }\n",
              "\n",
              "    .colab-df-convert:hover {\n",
              "      background-color: #E2EBFA;\n",
              "      box-shadow: 0px 1px 2px rgba(60, 64, 67, 0.3), 0px 1px 3px 1px rgba(60, 64, 67, 0.15);\n",
              "      fill: #174EA6;\n",
              "    }\n",
              "\n",
              "    [theme=dark] .colab-df-convert {\n",
              "      background-color: #3B4455;\n",
              "      fill: #D2E3FC;\n",
              "    }\n",
              "\n",
              "    [theme=dark] .colab-df-convert:hover {\n",
              "      background-color: #434B5C;\n",
              "      box-shadow: 0px 1px 3px 1px rgba(0, 0, 0, 0.15);\n",
              "      filter: drop-shadow(0px 1px 2px rgba(0, 0, 0, 0.3));\n",
              "      fill: #FFFFFF;\n",
              "    }\n",
              "  </style>\n",
              "\n",
              "      <script>\n",
              "        const buttonEl =\n",
              "          document.querySelector('#df-e2bc8623-6334-4123-90e9-d81b09a050b1 button.colab-df-convert');\n",
              "        buttonEl.style.display =\n",
              "          google.colab.kernel.accessAllowed ? 'block' : 'none';\n",
              "\n",
              "        async function convertToInteractive(key) {\n",
              "          const element = document.querySelector('#df-e2bc8623-6334-4123-90e9-d81b09a050b1');\n",
              "          const dataTable =\n",
              "            await google.colab.kernel.invokeFunction('convertToInteractive',\n",
              "                                                     [key], {});\n",
              "          if (!dataTable) return;\n",
              "\n",
              "          const docLinkHtml = 'Like what you see? Visit the ' +\n",
              "            '<a target=\"_blank\" href=https://colab.research.google.com/notebooks/data_table.ipynb>data table notebook</a>'\n",
              "            + ' to learn more about interactive tables.';\n",
              "          element.innerHTML = '';\n",
              "          dataTable['output_type'] = 'display_data';\n",
              "          await google.colab.output.renderOutput(dataTable, element);\n",
              "          const docLink = document.createElement('div');\n",
              "          docLink.innerHTML = docLinkHtml;\n",
              "          element.appendChild(docLink);\n",
              "        }\n",
              "      </script>\n",
              "    </div>\n",
              "  </div>\n",
              "  "
            ]
          },
          "metadata": {},
          "execution_count": 9
        }
      ],
      "source": [
        "df.head()"
      ]
    },
    {
      "cell_type": "code",
      "execution_count": 10,
      "id": "a9b4f09f",
      "metadata": {
        "id": "a9b4f09f",
        "outputId": "603a142a-43bb-47ef-ac7f-5d3d07dd3041",
        "colab": {
          "base_uri": "https://localhost:8080/"
        }
      },
      "outputs": [
        {
          "output_type": "stream",
          "name": "stdout",
          "text": [
            "<class 'pandas.core.frame.DataFrame'>\n",
            "RangeIndex: 3252950 entries, 0 to 3252949\n",
            "Data columns (total 7 columns):\n",
            " #   Column     Dtype  \n",
            "---  ------     -----  \n",
            " 0   event_id   int64  \n",
            " 1   device_id  float64\n",
            " 2   timestamp  object \n",
            " 3   longitude  float64\n",
            " 4   latitude   float64\n",
            " 5   city       object \n",
            " 6   state      object \n",
            "dtypes: float64(3), int64(1), object(3)\n",
            "memory usage: 173.7+ MB\n"
          ]
        }
      ],
      "source": [
        "df.info()"
      ]
    },
    {
      "cell_type": "code",
      "source": [
        "df.describe()"
      ],
      "metadata": {
        "id": "lyxfKZwNhokh",
        "outputId": "6c80257f-7751-42a7-c92e-b80e63a1e025",
        "colab": {
          "base_uri": "https://localhost:8080/",
          "height": 300
        }
      },
      "id": "lyxfKZwNhokh",
      "execution_count": 11,
      "outputs": [
        {
          "output_type": "execute_result",
          "data": {
            "text/plain": [
              "           event_id     device_id     longitude      latitude\n",
              "count  3.252950e+06  3.252497e+06  3.252527e+06  3.252527e+06\n",
              "mean   1.626476e+06  1.012200e+17  7.815868e+01  2.168851e+01\n",
              "std    9.390459e+05  5.316758e+18  4.235570e+00  5.789111e+00\n",
              "min    1.000000e+00 -9.222957e+18  1.256700e+01  8.190110e+00\n",
              "25%    8.132382e+05 -4.540611e+18  7.583543e+01  1.780171e+01\n",
              "50%    1.626476e+06  1.726820e+17  7.726814e+01  2.216454e+01\n",
              "75%    2.439713e+06  4.861813e+18  8.031916e+01  2.868278e+01\n",
              "max    3.252950e+06  9.222849e+18  9.545946e+01  4.187190e+01"
            ],
            "text/html": [
              "\n",
              "  <div id=\"df-3eea1208-603f-4426-a0ff-111b56e5b2bf\">\n",
              "    <div class=\"colab-df-container\">\n",
              "      <div>\n",
              "<style scoped>\n",
              "    .dataframe tbody tr th:only-of-type {\n",
              "        vertical-align: middle;\n",
              "    }\n",
              "\n",
              "    .dataframe tbody tr th {\n",
              "        vertical-align: top;\n",
              "    }\n",
              "\n",
              "    .dataframe thead th {\n",
              "        text-align: right;\n",
              "    }\n",
              "</style>\n",
              "<table border=\"1\" class=\"dataframe\">\n",
              "  <thead>\n",
              "    <tr style=\"text-align: right;\">\n",
              "      <th></th>\n",
              "      <th>event_id</th>\n",
              "      <th>device_id</th>\n",
              "      <th>longitude</th>\n",
              "      <th>latitude</th>\n",
              "    </tr>\n",
              "  </thead>\n",
              "  <tbody>\n",
              "    <tr>\n",
              "      <th>count</th>\n",
              "      <td>3.252950e+06</td>\n",
              "      <td>3.252497e+06</td>\n",
              "      <td>3.252527e+06</td>\n",
              "      <td>3.252527e+06</td>\n",
              "    </tr>\n",
              "    <tr>\n",
              "      <th>mean</th>\n",
              "      <td>1.626476e+06</td>\n",
              "      <td>1.012200e+17</td>\n",
              "      <td>7.815868e+01</td>\n",
              "      <td>2.168851e+01</td>\n",
              "    </tr>\n",
              "    <tr>\n",
              "      <th>std</th>\n",
              "      <td>9.390459e+05</td>\n",
              "      <td>5.316758e+18</td>\n",
              "      <td>4.235570e+00</td>\n",
              "      <td>5.789111e+00</td>\n",
              "    </tr>\n",
              "    <tr>\n",
              "      <th>min</th>\n",
              "      <td>1.000000e+00</td>\n",
              "      <td>-9.222957e+18</td>\n",
              "      <td>1.256700e+01</td>\n",
              "      <td>8.190110e+00</td>\n",
              "    </tr>\n",
              "    <tr>\n",
              "      <th>25%</th>\n",
              "      <td>8.132382e+05</td>\n",
              "      <td>-4.540611e+18</td>\n",
              "      <td>7.583543e+01</td>\n",
              "      <td>1.780171e+01</td>\n",
              "    </tr>\n",
              "    <tr>\n",
              "      <th>50%</th>\n",
              "      <td>1.626476e+06</td>\n",
              "      <td>1.726820e+17</td>\n",
              "      <td>7.726814e+01</td>\n",
              "      <td>2.216454e+01</td>\n",
              "    </tr>\n",
              "    <tr>\n",
              "      <th>75%</th>\n",
              "      <td>2.439713e+06</td>\n",
              "      <td>4.861813e+18</td>\n",
              "      <td>8.031916e+01</td>\n",
              "      <td>2.868278e+01</td>\n",
              "    </tr>\n",
              "    <tr>\n",
              "      <th>max</th>\n",
              "      <td>3.252950e+06</td>\n",
              "      <td>9.222849e+18</td>\n",
              "      <td>9.545946e+01</td>\n",
              "      <td>4.187190e+01</td>\n",
              "    </tr>\n",
              "  </tbody>\n",
              "</table>\n",
              "</div>\n",
              "      <button class=\"colab-df-convert\" onclick=\"convertToInteractive('df-3eea1208-603f-4426-a0ff-111b56e5b2bf')\"\n",
              "              title=\"Convert this dataframe to an interactive table.\"\n",
              "              style=\"display:none;\">\n",
              "        \n",
              "  <svg xmlns=\"http://www.w3.org/2000/svg\" height=\"24px\"viewBox=\"0 0 24 24\"\n",
              "       width=\"24px\">\n",
              "    <path d=\"M0 0h24v24H0V0z\" fill=\"none\"/>\n",
              "    <path d=\"M18.56 5.44l.94 2.06.94-2.06 2.06-.94-2.06-.94-.94-2.06-.94 2.06-2.06.94zm-11 1L8.5 8.5l.94-2.06 2.06-.94-2.06-.94L8.5 2.5l-.94 2.06-2.06.94zm10 10l.94 2.06.94-2.06 2.06-.94-2.06-.94-.94-2.06-.94 2.06-2.06.94z\"/><path d=\"M17.41 7.96l-1.37-1.37c-.4-.4-.92-.59-1.43-.59-.52 0-1.04.2-1.43.59L10.3 9.45l-7.72 7.72c-.78.78-.78 2.05 0 2.83L4 21.41c.39.39.9.59 1.41.59.51 0 1.02-.2 1.41-.59l7.78-7.78 2.81-2.81c.8-.78.8-2.07 0-2.86zM5.41 20L4 18.59l7.72-7.72 1.47 1.35L5.41 20z\"/>\n",
              "  </svg>\n",
              "      </button>\n",
              "      \n",
              "  <style>\n",
              "    .colab-df-container {\n",
              "      display:flex;\n",
              "      flex-wrap:wrap;\n",
              "      gap: 12px;\n",
              "    }\n",
              "\n",
              "    .colab-df-convert {\n",
              "      background-color: #E8F0FE;\n",
              "      border: none;\n",
              "      border-radius: 50%;\n",
              "      cursor: pointer;\n",
              "      display: none;\n",
              "      fill: #1967D2;\n",
              "      height: 32px;\n",
              "      padding: 0 0 0 0;\n",
              "      width: 32px;\n",
              "    }\n",
              "\n",
              "    .colab-df-convert:hover {\n",
              "      background-color: #E2EBFA;\n",
              "      box-shadow: 0px 1px 2px rgba(60, 64, 67, 0.3), 0px 1px 3px 1px rgba(60, 64, 67, 0.15);\n",
              "      fill: #174EA6;\n",
              "    }\n",
              "\n",
              "    [theme=dark] .colab-df-convert {\n",
              "      background-color: #3B4455;\n",
              "      fill: #D2E3FC;\n",
              "    }\n",
              "\n",
              "    [theme=dark] .colab-df-convert:hover {\n",
              "      background-color: #434B5C;\n",
              "      box-shadow: 0px 1px 3px 1px rgba(0, 0, 0, 0.15);\n",
              "      filter: drop-shadow(0px 1px 2px rgba(0, 0, 0, 0.3));\n",
              "      fill: #FFFFFF;\n",
              "    }\n",
              "  </style>\n",
              "\n",
              "      <script>\n",
              "        const buttonEl =\n",
              "          document.querySelector('#df-3eea1208-603f-4426-a0ff-111b56e5b2bf button.colab-df-convert');\n",
              "        buttonEl.style.display =\n",
              "          google.colab.kernel.accessAllowed ? 'block' : 'none';\n",
              "\n",
              "        async function convertToInteractive(key) {\n",
              "          const element = document.querySelector('#df-3eea1208-603f-4426-a0ff-111b56e5b2bf');\n",
              "          const dataTable =\n",
              "            await google.colab.kernel.invokeFunction('convertToInteractive',\n",
              "                                                     [key], {});\n",
              "          if (!dataTable) return;\n",
              "\n",
              "          const docLinkHtml = 'Like what you see? Visit the ' +\n",
              "            '<a target=\"_blank\" href=https://colab.research.google.com/notebooks/data_table.ipynb>data table notebook</a>'\n",
              "            + ' to learn more about interactive tables.';\n",
              "          element.innerHTML = '';\n",
              "          dataTable['output_type'] = 'display_data';\n",
              "          await google.colab.output.renderOutput(dataTable, element);\n",
              "          const docLink = document.createElement('div');\n",
              "          docLink.innerHTML = docLinkHtml;\n",
              "          element.appendChild(docLink);\n",
              "        }\n",
              "      </script>\n",
              "    </div>\n",
              "  </div>\n",
              "  "
            ]
          },
          "metadata": {},
          "execution_count": 11
        }
      ]
    },
    {
      "cell_type": "code",
      "source": [
        "#counting the null values\n",
        "for columns in df:\n",
        "  print(\"The null values in {} is {}\".format(columns, df[columns].isnull().sum()))\n"
      ],
      "metadata": {
        "colab": {
          "base_uri": "https://localhost:8080/"
        },
        "id": "tUkZHZ6ot18R",
        "outputId": "7c064906-1a1c-4f24-df73-5a96f410c427"
      },
      "id": "tUkZHZ6ot18R",
      "execution_count": 12,
      "outputs": [
        {
          "output_type": "stream",
          "name": "stdout",
          "text": [
            "The null values in event_id is 0\n",
            "The null values in device_id is 453\n",
            "The null values in timestamp is 0\n",
            "The null values in longitude is 423\n",
            "The null values in latitude is 423\n",
            "The null values in city is 0\n",
            "The null values in state is 377\n"
          ]
        }
      ]
    },
    {
      "cell_type": "code",
      "source": [
        "#counting the unique values\n",
        "for columns in df:\n",
        "  print (\"The unique entries in {} is {}\". format (columns, df[columns].nunique()))\n"
      ],
      "metadata": {
        "colab": {
          "base_uri": "https://localhost:8080/"
        },
        "id": "aqepZYVmttXk",
        "outputId": "d0cad17c-eb21-4b32-cadf-b4dcea17b56e"
      },
      "id": "aqepZYVmttXk",
      "execution_count": 13,
      "outputs": [
        {
          "output_type": "stream",
          "name": "stdout",
          "text": [
            "The unique entries in event_id is 3252950\n",
            "The unique entries in device_id is 60865\n",
            "The unique entries in timestamp is 588126\n",
            "The unique entries in longitude is 60095\n",
            "The unique entries in latitude is 60177\n",
            "The unique entries in city is 933\n",
            "The unique entries in state is 32\n"
          ]
        }
      ]
    },
    {
      "cell_type": "markdown",
      "id": "96a864a4",
      "metadata": {
        "id": "96a864a4"
      },
      "source": [
        "### Observations\n",
        "\n",
        "- Total Entries  3252950\n",
        "- timestamp type object ## need to change in datetime dtype\n",
        "\n",
        "- Missing values in device_id = 453\n",
        "- Missing values in longitude = 423\n",
        "- Missing values in latitude = 423\n",
        "- Missing values in State = 377\n",
        "\n",
        "Unique states present - 32<br>\n",
        "Unique City present - 933"
      ]
    },
    {
      "cell_type": "markdown",
      "source": [
        "## 2. Dataset 2 Preprofiling"
      ],
      "metadata": {
        "id": "fs6WkbqiqOUU"
      },
      "id": "fs6WkbqiqOUU"
    },
    {
      "cell_type": "code",
      "source": [
        "df2 = pd.read_csv('https://raw.githubusercontent.com/ShubhamCJagtap/Capstone_Project_1_EDA/master/gender_age.csv',index_col=0)"
      ],
      "metadata": {
        "id": "uh17B538l-cB"
      },
      "id": "uh17B538l-cB",
      "execution_count": 20,
      "outputs": []
    },
    {
      "cell_type": "code",
      "source": [
        "df2.head()"
      ],
      "metadata": {
        "id": "Hh3j2AwUnRGP",
        "outputId": "1cd77c7c-5a5e-4300-f8a9-d2761eb7eb96",
        "colab": {
          "base_uri": "https://localhost:8080/",
          "height": 206
        }
      },
      "id": "Hh3j2AwUnRGP",
      "execution_count": 23,
      "outputs": [
        {
          "output_type": "execute_result",
          "data": {
            "text/plain": [
              "             device_id gender  age   group\n",
              "0 -8076087639492063270      M   35  M32-38\n",
              "1 -2897161552818060146      M   35  M32-38\n",
              "2 -8260683887967679142      M   35  M32-38\n",
              "3 -4938849341048082022      M   30  M29-31\n",
              "4   245133531816851882      M   30  M29-31"
            ],
            "text/html": [
              "\n",
              "  <div id=\"df-e9ac0717-d0a2-4abe-bfd6-2023768cf832\">\n",
              "    <div class=\"colab-df-container\">\n",
              "      <div>\n",
              "<style scoped>\n",
              "    .dataframe tbody tr th:only-of-type {\n",
              "        vertical-align: middle;\n",
              "    }\n",
              "\n",
              "    .dataframe tbody tr th {\n",
              "        vertical-align: top;\n",
              "    }\n",
              "\n",
              "    .dataframe thead th {\n",
              "        text-align: right;\n",
              "    }\n",
              "</style>\n",
              "<table border=\"1\" class=\"dataframe\">\n",
              "  <thead>\n",
              "    <tr style=\"text-align: right;\">\n",
              "      <th></th>\n",
              "      <th>device_id</th>\n",
              "      <th>gender</th>\n",
              "      <th>age</th>\n",
              "      <th>group</th>\n",
              "    </tr>\n",
              "  </thead>\n",
              "  <tbody>\n",
              "    <tr>\n",
              "      <th>0</th>\n",
              "      <td>-8076087639492063270</td>\n",
              "      <td>M</td>\n",
              "      <td>35</td>\n",
              "      <td>M32-38</td>\n",
              "    </tr>\n",
              "    <tr>\n",
              "      <th>1</th>\n",
              "      <td>-2897161552818060146</td>\n",
              "      <td>M</td>\n",
              "      <td>35</td>\n",
              "      <td>M32-38</td>\n",
              "    </tr>\n",
              "    <tr>\n",
              "      <th>2</th>\n",
              "      <td>-8260683887967679142</td>\n",
              "      <td>M</td>\n",
              "      <td>35</td>\n",
              "      <td>M32-38</td>\n",
              "    </tr>\n",
              "    <tr>\n",
              "      <th>3</th>\n",
              "      <td>-4938849341048082022</td>\n",
              "      <td>M</td>\n",
              "      <td>30</td>\n",
              "      <td>M29-31</td>\n",
              "    </tr>\n",
              "    <tr>\n",
              "      <th>4</th>\n",
              "      <td>245133531816851882</td>\n",
              "      <td>M</td>\n",
              "      <td>30</td>\n",
              "      <td>M29-31</td>\n",
              "    </tr>\n",
              "  </tbody>\n",
              "</table>\n",
              "</div>\n",
              "      <button class=\"colab-df-convert\" onclick=\"convertToInteractive('df-e9ac0717-d0a2-4abe-bfd6-2023768cf832')\"\n",
              "              title=\"Convert this dataframe to an interactive table.\"\n",
              "              style=\"display:none;\">\n",
              "        \n",
              "  <svg xmlns=\"http://www.w3.org/2000/svg\" height=\"24px\"viewBox=\"0 0 24 24\"\n",
              "       width=\"24px\">\n",
              "    <path d=\"M0 0h24v24H0V0z\" fill=\"none\"/>\n",
              "    <path d=\"M18.56 5.44l.94 2.06.94-2.06 2.06-.94-2.06-.94-.94-2.06-.94 2.06-2.06.94zm-11 1L8.5 8.5l.94-2.06 2.06-.94-2.06-.94L8.5 2.5l-.94 2.06-2.06.94zm10 10l.94 2.06.94-2.06 2.06-.94-2.06-.94-.94-2.06-.94 2.06-2.06.94z\"/><path d=\"M17.41 7.96l-1.37-1.37c-.4-.4-.92-.59-1.43-.59-.52 0-1.04.2-1.43.59L10.3 9.45l-7.72 7.72c-.78.78-.78 2.05 0 2.83L4 21.41c.39.39.9.59 1.41.59.51 0 1.02-.2 1.41-.59l7.78-7.78 2.81-2.81c.8-.78.8-2.07 0-2.86zM5.41 20L4 18.59l7.72-7.72 1.47 1.35L5.41 20z\"/>\n",
              "  </svg>\n",
              "      </button>\n",
              "      \n",
              "  <style>\n",
              "    .colab-df-container {\n",
              "      display:flex;\n",
              "      flex-wrap:wrap;\n",
              "      gap: 12px;\n",
              "    }\n",
              "\n",
              "    .colab-df-convert {\n",
              "      background-color: #E8F0FE;\n",
              "      border: none;\n",
              "      border-radius: 50%;\n",
              "      cursor: pointer;\n",
              "      display: none;\n",
              "      fill: #1967D2;\n",
              "      height: 32px;\n",
              "      padding: 0 0 0 0;\n",
              "      width: 32px;\n",
              "    }\n",
              "\n",
              "    .colab-df-convert:hover {\n",
              "      background-color: #E2EBFA;\n",
              "      box-shadow: 0px 1px 2px rgba(60, 64, 67, 0.3), 0px 1px 3px 1px rgba(60, 64, 67, 0.15);\n",
              "      fill: #174EA6;\n",
              "    }\n",
              "\n",
              "    [theme=dark] .colab-df-convert {\n",
              "      background-color: #3B4455;\n",
              "      fill: #D2E3FC;\n",
              "    }\n",
              "\n",
              "    [theme=dark] .colab-df-convert:hover {\n",
              "      background-color: #434B5C;\n",
              "      box-shadow: 0px 1px 3px 1px rgba(0, 0, 0, 0.15);\n",
              "      filter: drop-shadow(0px 1px 2px rgba(0, 0, 0, 0.3));\n",
              "      fill: #FFFFFF;\n",
              "    }\n",
              "  </style>\n",
              "\n",
              "      <script>\n",
              "        const buttonEl =\n",
              "          document.querySelector('#df-e9ac0717-d0a2-4abe-bfd6-2023768cf832 button.colab-df-convert');\n",
              "        buttonEl.style.display =\n",
              "          google.colab.kernel.accessAllowed ? 'block' : 'none';\n",
              "\n",
              "        async function convertToInteractive(key) {\n",
              "          const element = document.querySelector('#df-e9ac0717-d0a2-4abe-bfd6-2023768cf832');\n",
              "          const dataTable =\n",
              "            await google.colab.kernel.invokeFunction('convertToInteractive',\n",
              "                                                     [key], {});\n",
              "          if (!dataTable) return;\n",
              "\n",
              "          const docLinkHtml = 'Like what you see? Visit the ' +\n",
              "            '<a target=\"_blank\" href=https://colab.research.google.com/notebooks/data_table.ipynb>data table notebook</a>'\n",
              "            + ' to learn more about interactive tables.';\n",
              "          element.innerHTML = '';\n",
              "          dataTable['output_type'] = 'display_data';\n",
              "          await google.colab.output.renderOutput(dataTable, element);\n",
              "          const docLink = document.createElement('div');\n",
              "          docLink.innerHTML = docLinkHtml;\n",
              "          element.appendChild(docLink);\n",
              "        }\n",
              "      </script>\n",
              "    </div>\n",
              "  </div>\n",
              "  "
            ]
          },
          "metadata": {},
          "execution_count": 23
        }
      ]
    },
    {
      "cell_type": "code",
      "source": [
        "df2.info()"
      ],
      "metadata": {
        "id": "x4hqzFj1nS0v",
        "outputId": "4dd873c7-f14b-405a-9b62-7f8fbc23590b",
        "colab": {
          "base_uri": "https://localhost:8080/"
        }
      },
      "id": "x4hqzFj1nS0v",
      "execution_count": 24,
      "outputs": [
        {
          "output_type": "stream",
          "name": "stdout",
          "text": [
            "<class 'pandas.core.frame.DataFrame'>\n",
            "Int64Index: 74645 entries, 0 to 74644\n",
            "Data columns (total 4 columns):\n",
            " #   Column     Non-Null Count  Dtype \n",
            "---  ------     --------------  ----- \n",
            " 0   device_id  74645 non-null  int64 \n",
            " 1   gender     74645 non-null  object\n",
            " 2   age        74645 non-null  int64 \n",
            " 3   group      74645 non-null  object\n",
            "dtypes: int64(2), object(2)\n",
            "memory usage: 2.8+ MB\n"
          ]
        }
      ]
    },
    {
      "cell_type": "code",
      "source": [
        "df2.describe()"
      ],
      "metadata": {
        "id": "VsPq0oDdnX3w",
        "outputId": "76e8cfc2-fa36-4cca-c36b-c8979d2292e4",
        "colab": {
          "base_uri": "https://localhost:8080/",
          "height": 300
        }
      },
      "id": "VsPq0oDdnX3w",
      "execution_count": null,
      "outputs": [
        {
          "output_type": "execute_result",
          "data": {
            "text/plain": [
              "         Unnamed: 0     device_id           age\n",
              "count  74645.000000  7.464500e+04  74645.000000\n",
              "mean   37322.000000 -7.491354e+14     31.410342\n",
              "std    21548.299759  5.327150e+18      9.868735\n",
              "min        0.000000 -9.223067e+18      1.000000\n",
              "25%    18661.000000 -4.617367e+18     25.000000\n",
              "50%    37322.000000 -1.841362e+16     29.000000\n",
              "75%    55983.000000  4.636656e+18     36.000000\n",
              "max    74644.000000  9.222849e+18     96.000000"
            ],
            "text/html": [
              "\n",
              "  <div id=\"df-f19af489-1f2a-45ba-b679-38044b446f4e\">\n",
              "    <div class=\"colab-df-container\">\n",
              "      <div>\n",
              "<style scoped>\n",
              "    .dataframe tbody tr th:only-of-type {\n",
              "        vertical-align: middle;\n",
              "    }\n",
              "\n",
              "    .dataframe tbody tr th {\n",
              "        vertical-align: top;\n",
              "    }\n",
              "\n",
              "    .dataframe thead th {\n",
              "        text-align: right;\n",
              "    }\n",
              "</style>\n",
              "<table border=\"1\" class=\"dataframe\">\n",
              "  <thead>\n",
              "    <tr style=\"text-align: right;\">\n",
              "      <th></th>\n",
              "      <th>Unnamed: 0</th>\n",
              "      <th>device_id</th>\n",
              "      <th>age</th>\n",
              "    </tr>\n",
              "  </thead>\n",
              "  <tbody>\n",
              "    <tr>\n",
              "      <th>count</th>\n",
              "      <td>74645.000000</td>\n",
              "      <td>7.464500e+04</td>\n",
              "      <td>74645.000000</td>\n",
              "    </tr>\n",
              "    <tr>\n",
              "      <th>mean</th>\n",
              "      <td>37322.000000</td>\n",
              "      <td>-7.491354e+14</td>\n",
              "      <td>31.410342</td>\n",
              "    </tr>\n",
              "    <tr>\n",
              "      <th>std</th>\n",
              "      <td>21548.299759</td>\n",
              "      <td>5.327150e+18</td>\n",
              "      <td>9.868735</td>\n",
              "    </tr>\n",
              "    <tr>\n",
              "      <th>min</th>\n",
              "      <td>0.000000</td>\n",
              "      <td>-9.223067e+18</td>\n",
              "      <td>1.000000</td>\n",
              "    </tr>\n",
              "    <tr>\n",
              "      <th>25%</th>\n",
              "      <td>18661.000000</td>\n",
              "      <td>-4.617367e+18</td>\n",
              "      <td>25.000000</td>\n",
              "    </tr>\n",
              "    <tr>\n",
              "      <th>50%</th>\n",
              "      <td>37322.000000</td>\n",
              "      <td>-1.841362e+16</td>\n",
              "      <td>29.000000</td>\n",
              "    </tr>\n",
              "    <tr>\n",
              "      <th>75%</th>\n",
              "      <td>55983.000000</td>\n",
              "      <td>4.636656e+18</td>\n",
              "      <td>36.000000</td>\n",
              "    </tr>\n",
              "    <tr>\n",
              "      <th>max</th>\n",
              "      <td>74644.000000</td>\n",
              "      <td>9.222849e+18</td>\n",
              "      <td>96.000000</td>\n",
              "    </tr>\n",
              "  </tbody>\n",
              "</table>\n",
              "</div>\n",
              "      <button class=\"colab-df-convert\" onclick=\"convertToInteractive('df-f19af489-1f2a-45ba-b679-38044b446f4e')\"\n",
              "              title=\"Convert this dataframe to an interactive table.\"\n",
              "              style=\"display:none;\">\n",
              "        \n",
              "  <svg xmlns=\"http://www.w3.org/2000/svg\" height=\"24px\"viewBox=\"0 0 24 24\"\n",
              "       width=\"24px\">\n",
              "    <path d=\"M0 0h24v24H0V0z\" fill=\"none\"/>\n",
              "    <path d=\"M18.56 5.44l.94 2.06.94-2.06 2.06-.94-2.06-.94-.94-2.06-.94 2.06-2.06.94zm-11 1L8.5 8.5l.94-2.06 2.06-.94-2.06-.94L8.5 2.5l-.94 2.06-2.06.94zm10 10l.94 2.06.94-2.06 2.06-.94-2.06-.94-.94-2.06-.94 2.06-2.06.94z\"/><path d=\"M17.41 7.96l-1.37-1.37c-.4-.4-.92-.59-1.43-.59-.52 0-1.04.2-1.43.59L10.3 9.45l-7.72 7.72c-.78.78-.78 2.05 0 2.83L4 21.41c.39.39.9.59 1.41.59.51 0 1.02-.2 1.41-.59l7.78-7.78 2.81-2.81c.8-.78.8-2.07 0-2.86zM5.41 20L4 18.59l7.72-7.72 1.47 1.35L5.41 20z\"/>\n",
              "  </svg>\n",
              "      </button>\n",
              "      \n",
              "  <style>\n",
              "    .colab-df-container {\n",
              "      display:flex;\n",
              "      flex-wrap:wrap;\n",
              "      gap: 12px;\n",
              "    }\n",
              "\n",
              "    .colab-df-convert {\n",
              "      background-color: #E8F0FE;\n",
              "      border: none;\n",
              "      border-radius: 50%;\n",
              "      cursor: pointer;\n",
              "      display: none;\n",
              "      fill: #1967D2;\n",
              "      height: 32px;\n",
              "      padding: 0 0 0 0;\n",
              "      width: 32px;\n",
              "    }\n",
              "\n",
              "    .colab-df-convert:hover {\n",
              "      background-color: #E2EBFA;\n",
              "      box-shadow: 0px 1px 2px rgba(60, 64, 67, 0.3), 0px 1px 3px 1px rgba(60, 64, 67, 0.15);\n",
              "      fill: #174EA6;\n",
              "    }\n",
              "\n",
              "    [theme=dark] .colab-df-convert {\n",
              "      background-color: #3B4455;\n",
              "      fill: #D2E3FC;\n",
              "    }\n",
              "\n",
              "    [theme=dark] .colab-df-convert:hover {\n",
              "      background-color: #434B5C;\n",
              "      box-shadow: 0px 1px 3px 1px rgba(0, 0, 0, 0.15);\n",
              "      filter: drop-shadow(0px 1px 2px rgba(0, 0, 0, 0.3));\n",
              "      fill: #FFFFFF;\n",
              "    }\n",
              "  </style>\n",
              "\n",
              "      <script>\n",
              "        const buttonEl =\n",
              "          document.querySelector('#df-f19af489-1f2a-45ba-b679-38044b446f4e button.colab-df-convert');\n",
              "        buttonEl.style.display =\n",
              "          google.colab.kernel.accessAllowed ? 'block' : 'none';\n",
              "\n",
              "        async function convertToInteractive(key) {\n",
              "          const element = document.querySelector('#df-f19af489-1f2a-45ba-b679-38044b446f4e');\n",
              "          const dataTable =\n",
              "            await google.colab.kernel.invokeFunction('convertToInteractive',\n",
              "                                                     [key], {});\n",
              "          if (!dataTable) return;\n",
              "\n",
              "          const docLinkHtml = 'Like what you see? Visit the ' +\n",
              "            '<a target=\"_blank\" href=https://colab.research.google.com/notebooks/data_table.ipynb>data table notebook</a>'\n",
              "            + ' to learn more about interactive tables.';\n",
              "          element.innerHTML = '';\n",
              "          dataTable['output_type'] = 'display_data';\n",
              "          await google.colab.output.renderOutput(dataTable, element);\n",
              "          const docLink = document.createElement('div');\n",
              "          docLink.innerHTML = docLinkHtml;\n",
              "          element.appendChild(docLink);\n",
              "        }\n",
              "      </script>\n",
              "    </div>\n",
              "  </div>\n",
              "  "
            ]
          },
          "metadata": {},
          "execution_count": 74
        }
      ]
    },
    {
      "cell_type": "code",
      "source": [
        "df2.isna().sum()"
      ],
      "metadata": {
        "id": "lroVUfb_Jo4V",
        "outputId": "98402415-7822-40a5-ca8d-a4f8dc6247fa",
        "colab": {
          "base_uri": "https://localhost:8080/"
        }
      },
      "id": "lroVUfb_Jo4V",
      "execution_count": null,
      "outputs": [
        {
          "output_type": "execute_result",
          "data": {
            "text/plain": [
              "Unnamed: 0    0\n",
              "device_id     0\n",
              "gender        0\n",
              "age           0\n",
              "group         0\n",
              "dtype: int64"
            ]
          },
          "metadata": {},
          "execution_count": 17
        }
      ]
    },
    {
      "cell_type": "code",
      "source": [
        "df2['gender'].value_counts()"
      ],
      "metadata": {
        "id": "Bqu-MHuqvT7D",
        "outputId": "d017e931-5fc9-44fb-9f6a-1f05b5a0eab5",
        "colab": {
          "base_uri": "https://localhost:8080/"
        }
      },
      "id": "Bqu-MHuqvT7D",
      "execution_count": 25,
      "outputs": [
        {
          "output_type": "execute_result",
          "data": {
            "text/plain": [
              "M    47904\n",
              "F    26741\n",
              "Name: gender, dtype: int64"
            ]
          },
          "metadata": {},
          "execution_count": 25
        }
      ]
    },
    {
      "cell_type": "code",
      "source": [
        "df2.nunique()"
      ],
      "metadata": {
        "id": "nPSBAV-cpDt_",
        "outputId": "5890bfc5-c8a2-429f-d870-cbeaee6d8fd9",
        "colab": {
          "base_uri": "https://localhost:8080/"
        }
      },
      "id": "nPSBAV-cpDt_",
      "execution_count": null,
      "outputs": [
        {
          "output_type": "execute_result",
          "data": {
            "text/plain": [
              "Unnamed: 0    74645\n",
              "device_id     74645\n",
              "gender            2\n",
              "age              85\n",
              "group            12\n",
              "dtype: int64"
            ]
          },
          "metadata": {},
          "execution_count": 36
        }
      ]
    },
    {
      "cell_type": "code",
      "source": [
        "df2['group'].unique()"
      ],
      "metadata": {
        "id": "T5yLl77KpJ6P",
        "outputId": "1f36c6ba-d4c5-469a-ea84-1f4594f78189",
        "colab": {
          "base_uri": "https://localhost:8080/"
        }
      },
      "id": "T5yLl77KpJ6P",
      "execution_count": null,
      "outputs": [
        {
          "output_type": "execute_result",
          "data": {
            "text/plain": [
              "array(['M32-38', 'M29-31', 'F24-26', 'F33-42', 'F27-28', 'M39+', 'M23-26',\n",
              "       'M27-28', 'M22-', 'F43+', 'F23-', 'F29-32'], dtype=object)"
            ]
          },
          "metadata": {},
          "execution_count": 37
        }
      ]
    },
    {
      "cell_type": "code",
      "source": [
        "df2.sort_values('age',ascending=True)[['age','group']].head(3)"
      ],
      "metadata": {
        "id": "0KW4rMGlsEzA",
        "outputId": "130f45ba-c55b-4328-e7b0-e14b2751f242",
        "colab": {
          "base_uri": "https://localhost:8080/",
          "height": 143
        }
      },
      "id": "0KW4rMGlsEzA",
      "execution_count": 27,
      "outputs": [
        {
          "output_type": "execute_result",
          "data": {
            "text/plain": [
              "       age group\n",
              "10385    1  M22-\n",
              "60833    6  M22-\n",
              "60832    6  M22-"
            ],
            "text/html": [
              "\n",
              "  <div id=\"df-c96fba94-5014-47f8-89b0-7443b3584425\">\n",
              "    <div class=\"colab-df-container\">\n",
              "      <div>\n",
              "<style scoped>\n",
              "    .dataframe tbody tr th:only-of-type {\n",
              "        vertical-align: middle;\n",
              "    }\n",
              "\n",
              "    .dataframe tbody tr th {\n",
              "        vertical-align: top;\n",
              "    }\n",
              "\n",
              "    .dataframe thead th {\n",
              "        text-align: right;\n",
              "    }\n",
              "</style>\n",
              "<table border=\"1\" class=\"dataframe\">\n",
              "  <thead>\n",
              "    <tr style=\"text-align: right;\">\n",
              "      <th></th>\n",
              "      <th>age</th>\n",
              "      <th>group</th>\n",
              "    </tr>\n",
              "  </thead>\n",
              "  <tbody>\n",
              "    <tr>\n",
              "      <th>10385</th>\n",
              "      <td>1</td>\n",
              "      <td>M22-</td>\n",
              "    </tr>\n",
              "    <tr>\n",
              "      <th>60833</th>\n",
              "      <td>6</td>\n",
              "      <td>M22-</td>\n",
              "    </tr>\n",
              "    <tr>\n",
              "      <th>60832</th>\n",
              "      <td>6</td>\n",
              "      <td>M22-</td>\n",
              "    </tr>\n",
              "  </tbody>\n",
              "</table>\n",
              "</div>\n",
              "      <button class=\"colab-df-convert\" onclick=\"convertToInteractive('df-c96fba94-5014-47f8-89b0-7443b3584425')\"\n",
              "              title=\"Convert this dataframe to an interactive table.\"\n",
              "              style=\"display:none;\">\n",
              "        \n",
              "  <svg xmlns=\"http://www.w3.org/2000/svg\" height=\"24px\"viewBox=\"0 0 24 24\"\n",
              "       width=\"24px\">\n",
              "    <path d=\"M0 0h24v24H0V0z\" fill=\"none\"/>\n",
              "    <path d=\"M18.56 5.44l.94 2.06.94-2.06 2.06-.94-2.06-.94-.94-2.06-.94 2.06-2.06.94zm-11 1L8.5 8.5l.94-2.06 2.06-.94-2.06-.94L8.5 2.5l-.94 2.06-2.06.94zm10 10l.94 2.06.94-2.06 2.06-.94-2.06-.94-.94-2.06-.94 2.06-2.06.94z\"/><path d=\"M17.41 7.96l-1.37-1.37c-.4-.4-.92-.59-1.43-.59-.52 0-1.04.2-1.43.59L10.3 9.45l-7.72 7.72c-.78.78-.78 2.05 0 2.83L4 21.41c.39.39.9.59 1.41.59.51 0 1.02-.2 1.41-.59l7.78-7.78 2.81-2.81c.8-.78.8-2.07 0-2.86zM5.41 20L4 18.59l7.72-7.72 1.47 1.35L5.41 20z\"/>\n",
              "  </svg>\n",
              "      </button>\n",
              "      \n",
              "  <style>\n",
              "    .colab-df-container {\n",
              "      display:flex;\n",
              "      flex-wrap:wrap;\n",
              "      gap: 12px;\n",
              "    }\n",
              "\n",
              "    .colab-df-convert {\n",
              "      background-color: #E8F0FE;\n",
              "      border: none;\n",
              "      border-radius: 50%;\n",
              "      cursor: pointer;\n",
              "      display: none;\n",
              "      fill: #1967D2;\n",
              "      height: 32px;\n",
              "      padding: 0 0 0 0;\n",
              "      width: 32px;\n",
              "    }\n",
              "\n",
              "    .colab-df-convert:hover {\n",
              "      background-color: #E2EBFA;\n",
              "      box-shadow: 0px 1px 2px rgba(60, 64, 67, 0.3), 0px 1px 3px 1px rgba(60, 64, 67, 0.15);\n",
              "      fill: #174EA6;\n",
              "    }\n",
              "\n",
              "    [theme=dark] .colab-df-convert {\n",
              "      background-color: #3B4455;\n",
              "      fill: #D2E3FC;\n",
              "    }\n",
              "\n",
              "    [theme=dark] .colab-df-convert:hover {\n",
              "      background-color: #434B5C;\n",
              "      box-shadow: 0px 1px 3px 1px rgba(0, 0, 0, 0.15);\n",
              "      filter: drop-shadow(0px 1px 2px rgba(0, 0, 0, 0.3));\n",
              "      fill: #FFFFFF;\n",
              "    }\n",
              "  </style>\n",
              "\n",
              "      <script>\n",
              "        const buttonEl =\n",
              "          document.querySelector('#df-c96fba94-5014-47f8-89b0-7443b3584425 button.colab-df-convert');\n",
              "        buttonEl.style.display =\n",
              "          google.colab.kernel.accessAllowed ? 'block' : 'none';\n",
              "\n",
              "        async function convertToInteractive(key) {\n",
              "          const element = document.querySelector('#df-c96fba94-5014-47f8-89b0-7443b3584425');\n",
              "          const dataTable =\n",
              "            await google.colab.kernel.invokeFunction('convertToInteractive',\n",
              "                                                     [key], {});\n",
              "          if (!dataTable) return;\n",
              "\n",
              "          const docLinkHtml = 'Like what you see? Visit the ' +\n",
              "            '<a target=\"_blank\" href=https://colab.research.google.com/notebooks/data_table.ipynb>data table notebook</a>'\n",
              "            + ' to learn more about interactive tables.';\n",
              "          element.innerHTML = '';\n",
              "          dataTable['output_type'] = 'display_data';\n",
              "          await google.colab.output.renderOutput(dataTable, element);\n",
              "          const docLink = document.createElement('div');\n",
              "          docLink.innerHTML = docLinkHtml;\n",
              "          element.appendChild(docLink);\n",
              "        }\n",
              "      </script>\n",
              "    </div>\n",
              "  </div>\n",
              "  "
            ]
          },
          "metadata": {},
          "execution_count": 27
        }
      ]
    },
    {
      "cell_type": "code",
      "source": [
        "df2.sort_values('age',ascending=False)[['age','group']].head(3)"
      ],
      "metadata": {
        "colab": {
          "base_uri": "https://localhost:8080/",
          "height": 143
        },
        "id": "ntAvcd82voP5",
        "outputId": "d22f6f1c-c4dc-4c80-ebf1-901e9bcdab3d"
      },
      "id": "ntAvcd82voP5",
      "execution_count": 26,
      "outputs": [
        {
          "output_type": "execute_result",
          "data": {
            "text/plain": [
              "       age group\n",
              "5958    96  F43+\n",
              "60872   94  F43+\n",
              "3704    90  M39+"
            ],
            "text/html": [
              "\n",
              "  <div id=\"df-69fb2fd0-4c8a-4c22-84e0-1185666c132a\">\n",
              "    <div class=\"colab-df-container\">\n",
              "      <div>\n",
              "<style scoped>\n",
              "    .dataframe tbody tr th:only-of-type {\n",
              "        vertical-align: middle;\n",
              "    }\n",
              "\n",
              "    .dataframe tbody tr th {\n",
              "        vertical-align: top;\n",
              "    }\n",
              "\n",
              "    .dataframe thead th {\n",
              "        text-align: right;\n",
              "    }\n",
              "</style>\n",
              "<table border=\"1\" class=\"dataframe\">\n",
              "  <thead>\n",
              "    <tr style=\"text-align: right;\">\n",
              "      <th></th>\n",
              "      <th>age</th>\n",
              "      <th>group</th>\n",
              "    </tr>\n",
              "  </thead>\n",
              "  <tbody>\n",
              "    <tr>\n",
              "      <th>5958</th>\n",
              "      <td>96</td>\n",
              "      <td>F43+</td>\n",
              "    </tr>\n",
              "    <tr>\n",
              "      <th>60872</th>\n",
              "      <td>94</td>\n",
              "      <td>F43+</td>\n",
              "    </tr>\n",
              "    <tr>\n",
              "      <th>3704</th>\n",
              "      <td>90</td>\n",
              "      <td>M39+</td>\n",
              "    </tr>\n",
              "  </tbody>\n",
              "</table>\n",
              "</div>\n",
              "      <button class=\"colab-df-convert\" onclick=\"convertToInteractive('df-69fb2fd0-4c8a-4c22-84e0-1185666c132a')\"\n",
              "              title=\"Convert this dataframe to an interactive table.\"\n",
              "              style=\"display:none;\">\n",
              "        \n",
              "  <svg xmlns=\"http://www.w3.org/2000/svg\" height=\"24px\"viewBox=\"0 0 24 24\"\n",
              "       width=\"24px\">\n",
              "    <path d=\"M0 0h24v24H0V0z\" fill=\"none\"/>\n",
              "    <path d=\"M18.56 5.44l.94 2.06.94-2.06 2.06-.94-2.06-.94-.94-2.06-.94 2.06-2.06.94zm-11 1L8.5 8.5l.94-2.06 2.06-.94-2.06-.94L8.5 2.5l-.94 2.06-2.06.94zm10 10l.94 2.06.94-2.06 2.06-.94-2.06-.94-.94-2.06-.94 2.06-2.06.94z\"/><path d=\"M17.41 7.96l-1.37-1.37c-.4-.4-.92-.59-1.43-.59-.52 0-1.04.2-1.43.59L10.3 9.45l-7.72 7.72c-.78.78-.78 2.05 0 2.83L4 21.41c.39.39.9.59 1.41.59.51 0 1.02-.2 1.41-.59l7.78-7.78 2.81-2.81c.8-.78.8-2.07 0-2.86zM5.41 20L4 18.59l7.72-7.72 1.47 1.35L5.41 20z\"/>\n",
              "  </svg>\n",
              "      </button>\n",
              "      \n",
              "  <style>\n",
              "    .colab-df-container {\n",
              "      display:flex;\n",
              "      flex-wrap:wrap;\n",
              "      gap: 12px;\n",
              "    }\n",
              "\n",
              "    .colab-df-convert {\n",
              "      background-color: #E8F0FE;\n",
              "      border: none;\n",
              "      border-radius: 50%;\n",
              "      cursor: pointer;\n",
              "      display: none;\n",
              "      fill: #1967D2;\n",
              "      height: 32px;\n",
              "      padding: 0 0 0 0;\n",
              "      width: 32px;\n",
              "    }\n",
              "\n",
              "    .colab-df-convert:hover {\n",
              "      background-color: #E2EBFA;\n",
              "      box-shadow: 0px 1px 2px rgba(60, 64, 67, 0.3), 0px 1px 3px 1px rgba(60, 64, 67, 0.15);\n",
              "      fill: #174EA6;\n",
              "    }\n",
              "\n",
              "    [theme=dark] .colab-df-convert {\n",
              "      background-color: #3B4455;\n",
              "      fill: #D2E3FC;\n",
              "    }\n",
              "\n",
              "    [theme=dark] .colab-df-convert:hover {\n",
              "      background-color: #434B5C;\n",
              "      box-shadow: 0px 1px 3px 1px rgba(0, 0, 0, 0.15);\n",
              "      filter: drop-shadow(0px 1px 2px rgba(0, 0, 0, 0.3));\n",
              "      fill: #FFFFFF;\n",
              "    }\n",
              "  </style>\n",
              "\n",
              "      <script>\n",
              "        const buttonEl =\n",
              "          document.querySelector('#df-69fb2fd0-4c8a-4c22-84e0-1185666c132a button.colab-df-convert');\n",
              "        buttonEl.style.display =\n",
              "          google.colab.kernel.accessAllowed ? 'block' : 'none';\n",
              "\n",
              "        async function convertToInteractive(key) {\n",
              "          const element = document.querySelector('#df-69fb2fd0-4c8a-4c22-84e0-1185666c132a');\n",
              "          const dataTable =\n",
              "            await google.colab.kernel.invokeFunction('convertToInteractive',\n",
              "                                                     [key], {});\n",
              "          if (!dataTable) return;\n",
              "\n",
              "          const docLinkHtml = 'Like what you see? Visit the ' +\n",
              "            '<a target=\"_blank\" href=https://colab.research.google.com/notebooks/data_table.ipynb>data table notebook</a>'\n",
              "            + ' to learn more about interactive tables.';\n",
              "          element.innerHTML = '';\n",
              "          dataTable['output_type'] = 'display_data';\n",
              "          await google.colab.output.renderOutput(dataTable, element);\n",
              "          const docLink = document.createElement('div');\n",
              "          docLink.innerHTML = docLinkHtml;\n",
              "          element.appendChild(docLink);\n",
              "        }\n",
              "      </script>\n",
              "    </div>\n",
              "  </div>\n",
              "  "
            ]
          },
          "metadata": {},
          "execution_count": 26
        }
      ]
    },
    {
      "cell_type": "code",
      "source": [
        "print(\"Male above age 39 are {}\".format(df2[(df2['age']>39)&(df2['gender']=='M')]['age'].sum()))\n",
        "print(\"Male below age 22 are {}\".format(df2[(df2['age']<22)&(df2['gender']=='M')]['age'].sum()))\n",
        "print(\"Male below age 10 are {}\".format(df2[(df2['age']<10)&(df2['gender']=='M')]['age'].sum()))\n",
        "print(\"Male below age 5 are {}\".format(df2[(df2['age']<5)&(df2['gender']=='M')]['age'].sum()))\n",
        "print('-'*50)\n",
        "print(\"Female above age 43 are {}\".format(df2[(df2['age']>43)&(df2['gender']=='F')]['age'].sum()))\n",
        "print(\"Female below age 23 are {}\".format(df2[(df2['age']<23)&(df2['gender']=='F')]['age'].sum()))\n",
        "print(\"Female below age 10 are {}\".format(df2[(df2['age']<10)&(df2['gender']=='F')]['age'].sum()))\n",
        "print(\"Female below age 5 are {}\".format(df2[(df2['age']<5)&(df2['gender']=='F')]['age'].sum()))\n"
      ],
      "metadata": {
        "id": "ROKK-xzTpSYv",
        "outputId": "253da06c-cfed-44fb-edb5-fa8f8d39cd04",
        "colab": {
          "base_uri": "https://localhost:8080/"
        }
      },
      "id": "ROKK-xzTpSYv",
      "execution_count": 28,
      "outputs": [
        {
          "output_type": "stream",
          "name": "stdout",
          "text": [
            "Male above age 39 are 372416\n",
            "Male below age 22 are 108781\n",
            "Male below age 10 are 25\n",
            "Male below age 5 are 1\n",
            "--------------------------------------------------\n",
            "Female above age 43 are 199865\n",
            "Female below age 23 are 80571\n",
            "Female below age 10 are 0\n",
            "Female below age 5 are 0\n"
          ]
        }
      ]
    },
    {
      "cell_type": "markdown",
      "source": [
        "### Observations\n",
        "\n",
        "- Total Entries - 74646<br>\n",
        "- No Null values detected<br>\n",
        "- age \n",
        "  - minimum - 1 \n",
        "  - maximum - 96 \n",
        "  - mean = 31.41 \n",
        "  - median = 29\n",
        "\n",
        "Mean and median don't have high difference\n",
        "male entries are 47904<br>\n",
        "female entries are 26741<br>\n",
        "\n",
        "### Unique Values\n",
        "- Gender - 2 (M,F)<br>\n",
        "- Age - 85<br>\n",
        "- Age Group - 12<br>\n",
        "\n",
        "### Age Groups are present as per gender\n",
        "\n",
        "Male age group starts from M22- till M39+<br>\n",
        "Female age group starts from F23- till F43+<br>"
      ],
      "metadata": {
        "id": "-9Et3WwUnaBA"
      },
      "id": "-9Et3WwUnaBA"
    },
    {
      "cell_type": "code",
      "source": [
        "duplicated_list_df2 = df2.drop('Unnamed: 0',axis=1).duplicated()"
      ],
      "metadata": {
        "id": "efQ-F0eHwphB"
      },
      "id": "efQ-F0eHwphB",
      "execution_count": null,
      "outputs": []
    },
    {
      "cell_type": "code",
      "source": [
        "df2.drop('Unnamed: 0',axis=1)[duplicated_list_df2]"
      ],
      "metadata": {
        "colab": {
          "base_uri": "https://localhost:8080/",
          "height": 49
        },
        "id": "GVPCk6jAwstB",
        "outputId": "b24ddd53-5fb6-4034-b1df-bddb0d51643c"
      },
      "id": "GVPCk6jAwstB",
      "execution_count": null,
      "outputs": [
        {
          "output_type": "execute_result",
          "data": {
            "text/plain": [
              "Empty DataFrame\n",
              "Columns: [device_id, gender, age, group]\n",
              "Index: []"
            ],
            "text/html": [
              "\n",
              "  <div id=\"df-2d0bace5-cf9f-471d-a7fe-893842e58b79\">\n",
              "    <div class=\"colab-df-container\">\n",
              "      <div>\n",
              "<style scoped>\n",
              "    .dataframe tbody tr th:only-of-type {\n",
              "        vertical-align: middle;\n",
              "    }\n",
              "\n",
              "    .dataframe tbody tr th {\n",
              "        vertical-align: top;\n",
              "    }\n",
              "\n",
              "    .dataframe thead th {\n",
              "        text-align: right;\n",
              "    }\n",
              "</style>\n",
              "<table border=\"1\" class=\"dataframe\">\n",
              "  <thead>\n",
              "    <tr style=\"text-align: right;\">\n",
              "      <th></th>\n",
              "      <th>device_id</th>\n",
              "      <th>gender</th>\n",
              "      <th>age</th>\n",
              "      <th>group</th>\n",
              "    </tr>\n",
              "  </thead>\n",
              "  <tbody>\n",
              "  </tbody>\n",
              "</table>\n",
              "</div>\n",
              "      <button class=\"colab-df-convert\" onclick=\"convertToInteractive('df-2d0bace5-cf9f-471d-a7fe-893842e58b79')\"\n",
              "              title=\"Convert this dataframe to an interactive table.\"\n",
              "              style=\"display:none;\">\n",
              "        \n",
              "  <svg xmlns=\"http://www.w3.org/2000/svg\" height=\"24px\"viewBox=\"0 0 24 24\"\n",
              "       width=\"24px\">\n",
              "    <path d=\"M0 0h24v24H0V0z\" fill=\"none\"/>\n",
              "    <path d=\"M18.56 5.44l.94 2.06.94-2.06 2.06-.94-2.06-.94-.94-2.06-.94 2.06-2.06.94zm-11 1L8.5 8.5l.94-2.06 2.06-.94-2.06-.94L8.5 2.5l-.94 2.06-2.06.94zm10 10l.94 2.06.94-2.06 2.06-.94-2.06-.94-.94-2.06-.94 2.06-2.06.94z\"/><path d=\"M17.41 7.96l-1.37-1.37c-.4-.4-.92-.59-1.43-.59-.52 0-1.04.2-1.43.59L10.3 9.45l-7.72 7.72c-.78.78-.78 2.05 0 2.83L4 21.41c.39.39.9.59 1.41.59.51 0 1.02-.2 1.41-.59l7.78-7.78 2.81-2.81c.8-.78.8-2.07 0-2.86zM5.41 20L4 18.59l7.72-7.72 1.47 1.35L5.41 20z\"/>\n",
              "  </svg>\n",
              "      </button>\n",
              "      \n",
              "  <style>\n",
              "    .colab-df-container {\n",
              "      display:flex;\n",
              "      flex-wrap:wrap;\n",
              "      gap: 12px;\n",
              "    }\n",
              "\n",
              "    .colab-df-convert {\n",
              "      background-color: #E8F0FE;\n",
              "      border: none;\n",
              "      border-radius: 50%;\n",
              "      cursor: pointer;\n",
              "      display: none;\n",
              "      fill: #1967D2;\n",
              "      height: 32px;\n",
              "      padding: 0 0 0 0;\n",
              "      width: 32px;\n",
              "    }\n",
              "\n",
              "    .colab-df-convert:hover {\n",
              "      background-color: #E2EBFA;\n",
              "      box-shadow: 0px 1px 2px rgba(60, 64, 67, 0.3), 0px 1px 3px 1px rgba(60, 64, 67, 0.15);\n",
              "      fill: #174EA6;\n",
              "    }\n",
              "\n",
              "    [theme=dark] .colab-df-convert {\n",
              "      background-color: #3B4455;\n",
              "      fill: #D2E3FC;\n",
              "    }\n",
              "\n",
              "    [theme=dark] .colab-df-convert:hover {\n",
              "      background-color: #434B5C;\n",
              "      box-shadow: 0px 1px 3px 1px rgba(0, 0, 0, 0.15);\n",
              "      filter: drop-shadow(0px 1px 2px rgba(0, 0, 0, 0.3));\n",
              "      fill: #FFFFFF;\n",
              "    }\n",
              "  </style>\n",
              "\n",
              "      <script>\n",
              "        const buttonEl =\n",
              "          document.querySelector('#df-2d0bace5-cf9f-471d-a7fe-893842e58b79 button.colab-df-convert');\n",
              "        buttonEl.style.display =\n",
              "          google.colab.kernel.accessAllowed ? 'block' : 'none';\n",
              "\n",
              "        async function convertToInteractive(key) {\n",
              "          const element = document.querySelector('#df-2d0bace5-cf9f-471d-a7fe-893842e58b79');\n",
              "          const dataTable =\n",
              "            await google.colab.kernel.invokeFunction('convertToInteractive',\n",
              "                                                     [key], {});\n",
              "          if (!dataTable) return;\n",
              "\n",
              "          const docLinkHtml = 'Like what you see? Visit the ' +\n",
              "            '<a target=\"_blank\" href=https://colab.research.google.com/notebooks/data_table.ipynb>data table notebook</a>'\n",
              "            + ' to learn more about interactive tables.';\n",
              "          element.innerHTML = '';\n",
              "          dataTable['output_type'] = 'display_data';\n",
              "          await google.colab.output.renderOutput(dataTable, element);\n",
              "          const docLink = document.createElement('div');\n",
              "          docLink.innerHTML = docLinkHtml;\n",
              "          element.appendChild(docLink);\n",
              "        }\n",
              "      </script>\n",
              "    </div>\n",
              "  </div>\n",
              "  "
            ]
          },
          "metadata": {},
          "execution_count": 45
        }
      ]
    },
    {
      "cell_type": "markdown",
      "source": [
        "No Duplicate Values Present"
      ],
      "metadata": {
        "id": "uUgNsooNsrJ1"
      },
      "id": "uUgNsooNsrJ1"
    },
    {
      "cell_type": "markdown",
      "source": [
        "## 3. Dataset 3 Preprofiling"
      ],
      "metadata": {
        "id": "qvCW1jDYv7UN"
      },
      "id": "qvCW1jDYv7UN"
    },
    {
      "cell_type": "code",
      "source": [
        "df3 = pd.read_csv('https://raw.githubusercontent.com/ShubhamCJagtap/Capstone_Project_1_EDA/master/phone_brand_device_model.csv',index_col=0)"
      ],
      "metadata": {
        "id": "zt9NyCZesaSP"
      },
      "id": "zt9NyCZesaSP",
      "execution_count": 29,
      "outputs": []
    },
    {
      "cell_type": "code",
      "source": [
        "df3.head()"
      ],
      "metadata": {
        "id": "EG99iIIKu8iQ",
        "outputId": "a030efb9-7905-4ee7-c4d9-ec5b5a444aa5",
        "colab": {
          "base_uri": "https://localhost:8080/",
          "height": 206
        }
      },
      "id": "EG99iIIKu8iQ",
      "execution_count": 30,
      "outputs": [
        {
          "output_type": "execute_result",
          "data": {
            "text/plain": [
              "             device_id phone_brand device_model\n",
              "0  1877775838486905855        vivo          Y13\n",
              "1 -3766087376657242966          小米         V183\n",
              "2 -6238937574958215831        OPPO          R7s\n",
              "3  8973197758510677470          三星        A368t\n",
              "4 -2015528097870762664          小米      红米Note2"
            ],
            "text/html": [
              "\n",
              "  <div id=\"df-ffad125f-b3d8-456b-8a49-193328e0eeee\">\n",
              "    <div class=\"colab-df-container\">\n",
              "      <div>\n",
              "<style scoped>\n",
              "    .dataframe tbody tr th:only-of-type {\n",
              "        vertical-align: middle;\n",
              "    }\n",
              "\n",
              "    .dataframe tbody tr th {\n",
              "        vertical-align: top;\n",
              "    }\n",
              "\n",
              "    .dataframe thead th {\n",
              "        text-align: right;\n",
              "    }\n",
              "</style>\n",
              "<table border=\"1\" class=\"dataframe\">\n",
              "  <thead>\n",
              "    <tr style=\"text-align: right;\">\n",
              "      <th></th>\n",
              "      <th>device_id</th>\n",
              "      <th>phone_brand</th>\n",
              "      <th>device_model</th>\n",
              "    </tr>\n",
              "  </thead>\n",
              "  <tbody>\n",
              "    <tr>\n",
              "      <th>0</th>\n",
              "      <td>1877775838486905855</td>\n",
              "      <td>vivo</td>\n",
              "      <td>Y13</td>\n",
              "    </tr>\n",
              "    <tr>\n",
              "      <th>1</th>\n",
              "      <td>-3766087376657242966</td>\n",
              "      <td>小米</td>\n",
              "      <td>V183</td>\n",
              "    </tr>\n",
              "    <tr>\n",
              "      <th>2</th>\n",
              "      <td>-6238937574958215831</td>\n",
              "      <td>OPPO</td>\n",
              "      <td>R7s</td>\n",
              "    </tr>\n",
              "    <tr>\n",
              "      <th>3</th>\n",
              "      <td>8973197758510677470</td>\n",
              "      <td>三星</td>\n",
              "      <td>A368t</td>\n",
              "    </tr>\n",
              "    <tr>\n",
              "      <th>4</th>\n",
              "      <td>-2015528097870762664</td>\n",
              "      <td>小米</td>\n",
              "      <td>红米Note2</td>\n",
              "    </tr>\n",
              "  </tbody>\n",
              "</table>\n",
              "</div>\n",
              "      <button class=\"colab-df-convert\" onclick=\"convertToInteractive('df-ffad125f-b3d8-456b-8a49-193328e0eeee')\"\n",
              "              title=\"Convert this dataframe to an interactive table.\"\n",
              "              style=\"display:none;\">\n",
              "        \n",
              "  <svg xmlns=\"http://www.w3.org/2000/svg\" height=\"24px\"viewBox=\"0 0 24 24\"\n",
              "       width=\"24px\">\n",
              "    <path d=\"M0 0h24v24H0V0z\" fill=\"none\"/>\n",
              "    <path d=\"M18.56 5.44l.94 2.06.94-2.06 2.06-.94-2.06-.94-.94-2.06-.94 2.06-2.06.94zm-11 1L8.5 8.5l.94-2.06 2.06-.94-2.06-.94L8.5 2.5l-.94 2.06-2.06.94zm10 10l.94 2.06.94-2.06 2.06-.94-2.06-.94-.94-2.06-.94 2.06-2.06.94z\"/><path d=\"M17.41 7.96l-1.37-1.37c-.4-.4-.92-.59-1.43-.59-.52 0-1.04.2-1.43.59L10.3 9.45l-7.72 7.72c-.78.78-.78 2.05 0 2.83L4 21.41c.39.39.9.59 1.41.59.51 0 1.02-.2 1.41-.59l7.78-7.78 2.81-2.81c.8-.78.8-2.07 0-2.86zM5.41 20L4 18.59l7.72-7.72 1.47 1.35L5.41 20z\"/>\n",
              "  </svg>\n",
              "      </button>\n",
              "      \n",
              "  <style>\n",
              "    .colab-df-container {\n",
              "      display:flex;\n",
              "      flex-wrap:wrap;\n",
              "      gap: 12px;\n",
              "    }\n",
              "\n",
              "    .colab-df-convert {\n",
              "      background-color: #E8F0FE;\n",
              "      border: none;\n",
              "      border-radius: 50%;\n",
              "      cursor: pointer;\n",
              "      display: none;\n",
              "      fill: #1967D2;\n",
              "      height: 32px;\n",
              "      padding: 0 0 0 0;\n",
              "      width: 32px;\n",
              "    }\n",
              "\n",
              "    .colab-df-convert:hover {\n",
              "      background-color: #E2EBFA;\n",
              "      box-shadow: 0px 1px 2px rgba(60, 64, 67, 0.3), 0px 1px 3px 1px rgba(60, 64, 67, 0.15);\n",
              "      fill: #174EA6;\n",
              "    }\n",
              "\n",
              "    [theme=dark] .colab-df-convert {\n",
              "      background-color: #3B4455;\n",
              "      fill: #D2E3FC;\n",
              "    }\n",
              "\n",
              "    [theme=dark] .colab-df-convert:hover {\n",
              "      background-color: #434B5C;\n",
              "      box-shadow: 0px 1px 3px 1px rgba(0, 0, 0, 0.15);\n",
              "      filter: drop-shadow(0px 1px 2px rgba(0, 0, 0, 0.3));\n",
              "      fill: #FFFFFF;\n",
              "    }\n",
              "  </style>\n",
              "\n",
              "      <script>\n",
              "        const buttonEl =\n",
              "          document.querySelector('#df-ffad125f-b3d8-456b-8a49-193328e0eeee button.colab-df-convert');\n",
              "        buttonEl.style.display =\n",
              "          google.colab.kernel.accessAllowed ? 'block' : 'none';\n",
              "\n",
              "        async function convertToInteractive(key) {\n",
              "          const element = document.querySelector('#df-ffad125f-b3d8-456b-8a49-193328e0eeee');\n",
              "          const dataTable =\n",
              "            await google.colab.kernel.invokeFunction('convertToInteractive',\n",
              "                                                     [key], {});\n",
              "          if (!dataTable) return;\n",
              "\n",
              "          const docLinkHtml = 'Like what you see? Visit the ' +\n",
              "            '<a target=\"_blank\" href=https://colab.research.google.com/notebooks/data_table.ipynb>data table notebook</a>'\n",
              "            + ' to learn more about interactive tables.';\n",
              "          element.innerHTML = '';\n",
              "          dataTable['output_type'] = 'display_data';\n",
              "          await google.colab.output.renderOutput(dataTable, element);\n",
              "          const docLink = document.createElement('div');\n",
              "          docLink.innerHTML = docLinkHtml;\n",
              "          element.appendChild(docLink);\n",
              "        }\n",
              "      </script>\n",
              "    </div>\n",
              "  </div>\n",
              "  "
            ]
          },
          "metadata": {},
          "execution_count": 30
        }
      ]
    },
    {
      "cell_type": "code",
      "source": [
        "df3.info()"
      ],
      "metadata": {
        "id": "nDcQ1IMgu-Vw",
        "colab": {
          "base_uri": "https://localhost:8080/"
        },
        "outputId": "f9581b3e-1d2a-4101-8f36-8f32372178af"
      },
      "id": "nDcQ1IMgu-Vw",
      "execution_count": 31,
      "outputs": [
        {
          "output_type": "stream",
          "name": "stdout",
          "text": [
            "<class 'pandas.core.frame.DataFrame'>\n",
            "Int64Index: 87726 entries, 0 to 87725\n",
            "Data columns (total 3 columns):\n",
            " #   Column        Non-Null Count  Dtype \n",
            "---  ------        --------------  ----- \n",
            " 0   device_id     87726 non-null  int64 \n",
            " 1   phone_brand   87726 non-null  object\n",
            " 2   device_model  87726 non-null  object\n",
            "dtypes: int64(1), object(2)\n",
            "memory usage: 2.7+ MB\n"
          ]
        }
      ]
    },
    {
      "cell_type": "code",
      "source": [
        "df3.isna().sum()"
      ],
      "metadata": {
        "id": "yHKm1KBJJxSm",
        "outputId": "4fcf034b-17b9-40da-c7a8-34354a68b95b",
        "colab": {
          "base_uri": "https://localhost:8080/"
        }
      },
      "id": "yHKm1KBJJxSm",
      "execution_count": 32,
      "outputs": [
        {
          "output_type": "execute_result",
          "data": {
            "text/plain": [
              "device_id       0\n",
              "phone_brand     0\n",
              "device_model    0\n",
              "dtype: int64"
            ]
          },
          "metadata": {},
          "execution_count": 32
        }
      ]
    },
    {
      "cell_type": "code",
      "source": [
        "df3.nunique()"
      ],
      "metadata": {
        "colab": {
          "base_uri": "https://localhost:8080/"
        },
        "id": "FliXS5wewCSp",
        "outputId": "92516978-6320-4264-f370-11732d6c217c"
      },
      "id": "FliXS5wewCSp",
      "execution_count": null,
      "outputs": [
        {
          "output_type": "execute_result",
          "data": {
            "text/plain": [
              "Unnamed: 0      87726\n",
              "device_id       87726\n",
              "phone_brand       116\n",
              "device_model     1467\n",
              "dtype: int64"
            ]
          },
          "metadata": {},
          "execution_count": 49
        }
      ]
    },
    {
      "cell_type": "code",
      "source": [
        "df3['phone_brand'].unique()"
      ],
      "metadata": {
        "colab": {
          "base_uri": "https://localhost:8080/"
        },
        "id": "IKfWF9TUwWUY",
        "outputId": "91f663ca-3560-46f3-e8ba-b31cc18a25ef"
      },
      "id": "IKfWF9TUwWUY",
      "execution_count": null,
      "outputs": [
        {
          "output_type": "execute_result",
          "data": {
            "text/plain": [
              "array(['vivo', '小米', 'OPPO', '三星', '酷派', '联想 ', '华为', '奇酷', '魅族', '斐讯',\n",
              "       '中国移动', 'HTC', '天语', '至尊宝', 'LG', '欧博信', '优米', 'ZUK', '努比亚', '惠普',\n",
              "       '尼比鲁', '美图', '乡米', '摩托罗拉', '梦米', '锤子', '富可视', '乐视', '海信', '百立丰',\n",
              "       '一加', '语信', '海尔', '酷比', '纽曼', '波导', '朵唯', '聆韵', 'TCL', '酷珀', '爱派尔',\n",
              "       'LOGO', '青葱', '果米', '华硕', '昂达', '艾优尼', '康佳', '优购', '邦华', '赛博宇华',\n",
              "       '黑米', 'Lovme', '先锋', 'E派', '神舟', '诺基亚', '普耐尔', '糖葫芦', '亿通', '欧新',\n",
              "       '米奇', '酷比魔方', '蓝魔', '小杨树', '贝尔丰', '糯米', '米歌', 'E人E本', '西米', '大Q',\n",
              "       '台电', '飞利浦', '唯米', '大显', '长虹', '维图', '青橙', '本为', '虾米', '夏新', '帷幄',\n",
              "       '百加', 'SUGAR', '欧奇', '世纪星', '智镁', '欧比', '基伍', '飞秒', '德赛', '易派',\n",
              "       '谷歌', '金星数码', '广信', '诺亚信', 'MIL', '白米', '大可乐', '宝捷讯', '优语', '首云',\n",
              "       '瑞米', '瑞高', '沃普丰', '摩乐', '鲜米', '凯利通', '唯比', '欧沃', '丰米', '恒宇丰',\n",
              "       '奥克斯', '西门子', '欧乐迪', 'PPTV'], dtype=object)"
            ]
          },
          "metadata": {},
          "execution_count": 50
        }
      ]
    },
    {
      "cell_type": "markdown",
      "source": [
        "### Observation\n",
        "Total entries - 87726<br>\n",
        "No missing values"
      ],
      "metadata": {
        "id": "QdATKfyHw2Jf"
      },
      "id": "QdATKfyHw2Jf"
    },
    {
      "cell_type": "markdown",
      "source": [
        "phone_brand have many chinese brand names and company provided equivalent english names are limited.<br>\n"
      ],
      "metadata": {
        "id": "3_qJshcaw_cC"
      },
      "id": "3_qJshcaw_cC"
    },
    {
      "cell_type": "markdown",
      "source": [
        "Brand Name\tBrand English Mapping<br><br>\n",
        "'华为'\t'Huawei'<br>\n",
        "'小米'\t'Xiaomi'<br>\n",
        "'三星'\t'Samsung'<br>\n",
        "'vivo'\t'vivo'<br>\n",
        "'OPPO'\t'OPPO'<br>\n",
        "'魅族'\t'Meizu'<br>\n",
        "'酷派'\t'Coolpad'<br>\n",
        "'乐视'\t'LeEco'<br>\n",
        "'联想 '\t'Lenovo'<br>\n",
        "'HTC'\t'HTC'<br><br>\n",
        "\n",
        "We shall check these brand names for Delhi\n"
      ],
      "metadata": {
        "id": "YwIOSRIlxXy2"
      },
      "id": "YwIOSRIlxXy2"
    },
    {
      "cell_type": "code",
      "source": [
        "# for i in df3['device_model'].unique():\n",
        "#   print(i,end='   ')"
      ],
      "metadata": {
        "id": "1dIUKjSGwfxp"
      },
      "id": "1dIUKjSGwfxp",
      "execution_count": 138,
      "outputs": []
    },
    {
      "cell_type": "markdown",
      "source": [
        "In device model, few names are in chinese. <br>\n",
        "No equivalent english names provided"
      ],
      "metadata": {
        "id": "4RBFxIa8zd3G"
      },
      "id": "4RBFxIa8zd3G"
    },
    {
      "cell_type": "code",
      "source": [
        "duplicate_in_df3 = df3.duplicated()"
      ],
      "metadata": {
        "id": "LHEiX9hUzs4r"
      },
      "id": "LHEiX9hUzs4r",
      "execution_count": 33,
      "outputs": []
    },
    {
      "cell_type": "code",
      "source": [
        "df3[duplicate_in_df3]"
      ],
      "metadata": {
        "colab": {
          "base_uri": "https://localhost:8080/",
          "height": 49
        },
        "id": "E9ip5oZ6zzKL",
        "outputId": "456f4b20-54f2-4651-d237-2caaa8705905"
      },
      "id": "E9ip5oZ6zzKL",
      "execution_count": 34,
      "outputs": [
        {
          "output_type": "execute_result",
          "data": {
            "text/plain": [
              "Empty DataFrame\n",
              "Columns: [device_id, phone_brand, device_model]\n",
              "Index: []"
            ],
            "text/html": [
              "\n",
              "  <div id=\"df-61f429c6-9887-43bf-b3ed-40722fb6ccbb\">\n",
              "    <div class=\"colab-df-container\">\n",
              "      <div>\n",
              "<style scoped>\n",
              "    .dataframe tbody tr th:only-of-type {\n",
              "        vertical-align: middle;\n",
              "    }\n",
              "\n",
              "    .dataframe tbody tr th {\n",
              "        vertical-align: top;\n",
              "    }\n",
              "\n",
              "    .dataframe thead th {\n",
              "        text-align: right;\n",
              "    }\n",
              "</style>\n",
              "<table border=\"1\" class=\"dataframe\">\n",
              "  <thead>\n",
              "    <tr style=\"text-align: right;\">\n",
              "      <th></th>\n",
              "      <th>device_id</th>\n",
              "      <th>phone_brand</th>\n",
              "      <th>device_model</th>\n",
              "    </tr>\n",
              "  </thead>\n",
              "  <tbody>\n",
              "  </tbody>\n",
              "</table>\n",
              "</div>\n",
              "      <button class=\"colab-df-convert\" onclick=\"convertToInteractive('df-61f429c6-9887-43bf-b3ed-40722fb6ccbb')\"\n",
              "              title=\"Convert this dataframe to an interactive table.\"\n",
              "              style=\"display:none;\">\n",
              "        \n",
              "  <svg xmlns=\"http://www.w3.org/2000/svg\" height=\"24px\"viewBox=\"0 0 24 24\"\n",
              "       width=\"24px\">\n",
              "    <path d=\"M0 0h24v24H0V0z\" fill=\"none\"/>\n",
              "    <path d=\"M18.56 5.44l.94 2.06.94-2.06 2.06-.94-2.06-.94-.94-2.06-.94 2.06-2.06.94zm-11 1L8.5 8.5l.94-2.06 2.06-.94-2.06-.94L8.5 2.5l-.94 2.06-2.06.94zm10 10l.94 2.06.94-2.06 2.06-.94-2.06-.94-.94-2.06-.94 2.06-2.06.94z\"/><path d=\"M17.41 7.96l-1.37-1.37c-.4-.4-.92-.59-1.43-.59-.52 0-1.04.2-1.43.59L10.3 9.45l-7.72 7.72c-.78.78-.78 2.05 0 2.83L4 21.41c.39.39.9.59 1.41.59.51 0 1.02-.2 1.41-.59l7.78-7.78 2.81-2.81c.8-.78.8-2.07 0-2.86zM5.41 20L4 18.59l7.72-7.72 1.47 1.35L5.41 20z\"/>\n",
              "  </svg>\n",
              "      </button>\n",
              "      \n",
              "  <style>\n",
              "    .colab-df-container {\n",
              "      display:flex;\n",
              "      flex-wrap:wrap;\n",
              "      gap: 12px;\n",
              "    }\n",
              "\n",
              "    .colab-df-convert {\n",
              "      background-color: #E8F0FE;\n",
              "      border: none;\n",
              "      border-radius: 50%;\n",
              "      cursor: pointer;\n",
              "      display: none;\n",
              "      fill: #1967D2;\n",
              "      height: 32px;\n",
              "      padding: 0 0 0 0;\n",
              "      width: 32px;\n",
              "    }\n",
              "\n",
              "    .colab-df-convert:hover {\n",
              "      background-color: #E2EBFA;\n",
              "      box-shadow: 0px 1px 2px rgba(60, 64, 67, 0.3), 0px 1px 3px 1px rgba(60, 64, 67, 0.15);\n",
              "      fill: #174EA6;\n",
              "    }\n",
              "\n",
              "    [theme=dark] .colab-df-convert {\n",
              "      background-color: #3B4455;\n",
              "      fill: #D2E3FC;\n",
              "    }\n",
              "\n",
              "    [theme=dark] .colab-df-convert:hover {\n",
              "      background-color: #434B5C;\n",
              "      box-shadow: 0px 1px 3px 1px rgba(0, 0, 0, 0.15);\n",
              "      filter: drop-shadow(0px 1px 2px rgba(0, 0, 0, 0.3));\n",
              "      fill: #FFFFFF;\n",
              "    }\n",
              "  </style>\n",
              "\n",
              "      <script>\n",
              "        const buttonEl =\n",
              "          document.querySelector('#df-61f429c6-9887-43bf-b3ed-40722fb6ccbb button.colab-df-convert');\n",
              "        buttonEl.style.display =\n",
              "          google.colab.kernel.accessAllowed ? 'block' : 'none';\n",
              "\n",
              "        async function convertToInteractive(key) {\n",
              "          const element = document.querySelector('#df-61f429c6-9887-43bf-b3ed-40722fb6ccbb');\n",
              "          const dataTable =\n",
              "            await google.colab.kernel.invokeFunction('convertToInteractive',\n",
              "                                                     [key], {});\n",
              "          if (!dataTable) return;\n",
              "\n",
              "          const docLinkHtml = 'Like what you see? Visit the ' +\n",
              "            '<a target=\"_blank\" href=https://colab.research.google.com/notebooks/data_table.ipynb>data table notebook</a>'\n",
              "            + ' to learn more about interactive tables.';\n",
              "          element.innerHTML = '';\n",
              "          dataTable['output_type'] = 'display_data';\n",
              "          await google.colab.output.renderOutput(dataTable, element);\n",
              "          const docLink = document.createElement('div');\n",
              "          docLink.innerHTML = docLinkHtml;\n",
              "          element.appendChild(docLink);\n",
              "        }\n",
              "      </script>\n",
              "    </div>\n",
              "  </div>\n",
              "  "
            ]
          },
          "metadata": {},
          "execution_count": 34
        }
      ]
    },
    {
      "cell_type": "markdown",
      "source": [
        "No Duplicate values present"
      ],
      "metadata": {
        "id": "wCKx6MbH0ppx"
      },
      "id": "wCKx6MbH0ppx"
    },
    {
      "cell_type": "markdown",
      "source": [
        "# Data Preprocessing"
      ],
      "metadata": {
        "id": "iBumksOGac3_"
      },
      "id": "iBumksOGac3_"
    },
    {
      "cell_type": "markdown",
      "source": [
        "## Fill missing Values"
      ],
      "metadata": {
        "id": "RMq_Uwmezhqx"
      },
      "id": "RMq_Uwmezhqx"
    },
    {
      "cell_type": "markdown",
      "source": [
        "*Note : Missing values are present in dataset 1 i.e. Events Dataset*"
      ],
      "metadata": {
        "id": "YAcBEAVRvAFj"
      },
      "id": "YAcBEAVRvAFj"
    },
    {
      "cell_type": "markdown",
      "source": [
        "### State"
      ],
      "metadata": {
        "id": "c2xpUlmWfSob"
      },
      "id": "c2xpUlmWfSob"
    },
    {
      "cell_type": "code",
      "source": [
        "cities_list = (df[df['state'].isna()]['city'].unique()).tolist()\n",
        "print(cities_list)"
      ],
      "metadata": {
        "colab": {
          "base_uri": "https://localhost:8080/"
        },
        "id": "Nt23XoJhacRj",
        "outputId": "f13cf96b-8c5b-4268-c781-e4527b33e2e4"
      },
      "id": "Nt23XoJhacRj",
      "execution_count": 36,
      "outputs": [
        {
          "output_type": "stream",
          "name": "stdout",
          "text": [
            "['Pune', 'Visakhapatnam', 'Indore', 'Chennai', 'Delhi', 'Channapatna', 'Jaipur', 'Gangarampur', 'Arambagh']\n"
          ]
        }
      ]
    },
    {
      "cell_type": "code",
      "source": [
        "state_list = []\n",
        "for i in cities_list:\n",
        "  print(i,df[(df['city']==i)&(df['state'].isna()==False)]['state'].unique())\n",
        "  state_list.append(df[(df['city']==i)&(df['state'].isna()==False)]['state'].unique())"
      ],
      "metadata": {
        "colab": {
          "base_uri": "https://localhost:8080/"
        },
        "id": "-AMRV64La6E7",
        "outputId": "6f3dbbbc-aecb-4915-ef0e-78e9cb34fa71"
      },
      "id": "-AMRV64La6E7",
      "execution_count": 37,
      "outputs": [
        {
          "output_type": "stream",
          "name": "stdout",
          "text": [
            "Pune ['Maharashtra']\n",
            "Visakhapatnam ['AndhraPradesh']\n",
            "Indore ['MadhyaPradesh']\n",
            "Chennai ['TamilNadu']\n",
            "Delhi ['Delhi']\n",
            "Channapatna ['Karnataka']\n",
            "Jaipur ['Rajasthan']\n",
            "Gangarampur ['WestBengal']\n",
            "Arambagh ['WestBengal']\n"
          ]
        }
      ]
    },
    {
      "cell_type": "code",
      "source": [
        "df.loc[(df['city']=='Pune')&(df['state'].isna()),'state']='Maharashtra'\n",
        "df.loc[(df['city']=='Visakhapatnam')&(df['state'].isna()),'state']='AndhraPradesh'\n",
        "df.loc[(df['city']=='Indore')&(df['state'].isna()),'state']='MadhyaPradesh'\n",
        "df.loc[(df['city']=='Chennai')&(df['state'].isna()),'state']='TamilNadu'\n",
        "df.loc[(df['city']=='Delhi')&(df['state'].isna()),'state']='Delhi'\n",
        "df.loc[(df['city']=='Channapatna')&(df['state'].isna()),'state']='Karnataka'\n",
        "df.loc[(df['city']=='Jaipur')&(df['state'].isna()),'state']='Rajasthan'\n",
        "df.loc[(df['city']=='Gangarampur')&(df['state'].isna()),'state']='WestBengal'\n",
        "df.loc[(df['city']=='Arambagh')&(df['state'].isna()),'state']='WestBengal'"
      ],
      "metadata": {
        "id": "nRqXt9GZd39a"
      },
      "id": "nRqXt9GZd39a",
      "execution_count": 38,
      "outputs": []
    },
    {
      "cell_type": "markdown",
      "source": [
        "### Latitude and longitude"
      ],
      "metadata": {
        "id": "KwWw06ucfVh7"
      },
      "id": "KwWw06ucfVh7"
    },
    {
      "cell_type": "code",
      "source": [
        "device_id_lat_lon_missing = df[(df['longitude'].isna())&(df['latitude'].isna())]['device_id'].unique()\n",
        "print(device_id_lat_lon_missing)"
      ],
      "metadata": {
        "colab": {
          "base_uri": "https://localhost:8080/"
        },
        "id": "MJgqZE4PfYrg",
        "outputId": "20c741ed-4893-4f59-83de-0a5da81ad80a"
      },
      "id": "MJgqZE4PfYrg",
      "execution_count": 39,
      "outputs": [
        {
          "output_type": "stream",
          "name": "stdout",
          "text": [
            "[1.77963102e+18 8.79056003e+18 4.86560657e+18 7.98387143e+18\n",
            " 7.36484063e+18 5.37559902e+18 5.51865960e+18 4.58017944e+18\n",
            " 6.03379839e+18 7.66213914e+18 2.35097940e+18 4.37503983e+18\n",
            " 4.78258205e+18 1.32005098e+18 5.73136927e+18 3.73828049e+18\n",
            " 3.05848775e+17 7.01860038e+18 5.11518528e+18 6.77407134e+18\n",
            " 3.09916855e+18]\n"
          ]
        }
      ]
    },
    {
      "cell_type": "code",
      "source": [
        "lst_id_lat_lon = []\n",
        "for i in device_id_lat_lon_missing:\n",
        "  a = df[(df['longitude'].isna()==False)&(df['latitude'].isna()==False)&(df['device_id']==i)][['device_id','longitude','latitude']].value_counts()\n",
        "  lst_id_lat_lon.append(a.index.values)"
      ],
      "metadata": {
        "id": "WQBfK2Cgftfr"
      },
      "id": "WQBfK2Cgftfr",
      "execution_count": 40,
      "outputs": []
    },
    {
      "cell_type": "code",
      "source": [
        "id = []\n",
        "lat = []\n",
        "lon = []\n",
        "for j in lst_id_lat_lon:\n",
        "  id.append(j[0][0])\n",
        "  lon.append(j[0][1])\n",
        "  lat.append(j[0][2])"
      ],
      "metadata": {
        "id": "QXvgUqUTgDu1"
      },
      "id": "QXvgUqUTgDu1",
      "execution_count": 42,
      "outputs": []
    },
    {
      "cell_type": "code",
      "source": [
        "for i in range(0,len(id)):\n",
        "  print(\"id = {}, lat ={}, lon ={}\".format(id[i],lat[i],lon[i]))"
      ],
      "metadata": {
        "colab": {
          "base_uri": "https://localhost:8080/"
        },
        "id": "qU-b8wLJgHJd",
        "outputId": "0144b47a-c224-4df0-f309-2c81c01eb693"
      },
      "id": "qU-b8wLJgHJd",
      "execution_count": 43,
      "outputs": [
        {
          "output_type": "stream",
          "name": "stdout",
          "text": [
            "id = 1.7796310234394053e+18, lat =28.738901, lon =77.235416\n",
            "id = 8.790560034584249e+18, lat =22.761965, lon =75.933778\n",
            "id = 4.865606571395669e+18, lat =17.772251999999995, lon =83.35144199999998\n",
            "id = 7.983871429718485e+18, lat =13.189053, lon =80.33543499999998\n",
            "id = 7.364840628879981e+18, lat =18.54074, lon =73.931944\n",
            "id = 5.375599021847303e+18, lat =28.718392, lon =77.283447\n",
            "id = 5.518659601894558e+18, lat =17.817945, lon =83.384242\n",
            "id = 4.580179444377398e+18, lat =26.960220000000003, lon =75.835756\n",
            "id = 6.033798388179802e+18, lat =17.816579, lon =83.31978699999998\n",
            "id = 7.66213914371992e+18, lat =13.149176, lon =80.30927199999998\n",
            "id = 2.3509794022024387e+18, lat =22.745063, lon =75.888474\n",
            "id = 4.37503983023287e+18, lat =26.980345000000003, lon =75.824489\n",
            "id = 4.782582047729166e+18, lat =28.718379, lon =77.22522\n",
            "id = 1.3200509770197112e+18, lat =26.211919, lon =87.570736\n",
            "id = 5.731369272434022e+18, lat =13.153332, lon =80.34361299999998\n",
            "id = 3.738280493453803e+18, lat =22.76201, lon =75.937988\n",
            "id = 3.058487753865349e+17, lat =26.987566, lon =75.865534\n",
            "id = 7.018600380123445e+18, lat =18.575747, lon =73.92622300000002\n",
            "id = 5.115185276392513e+18, lat =18.556741, lon =73.88868000000002\n",
            "id = 6.774071338248978e+18, lat =30.904178, lon =75.268748\n",
            "id = 3.0991685461987686e+18, lat =27.17739700000001, lon =84.1409\n"
          ]
        }
      ]
    },
    {
      "cell_type": "code",
      "source": [
        "for i in range(0,len(id)):\n",
        "  df.loc[(df['device_id']==id[i])&(np.isnan(df['latitude'])),'latitude'] = lat[i]\n",
        "  df.loc[(df['device_id']==id[i])&(np.isnan(df['longitude'])),'longitude'] = lon[i]"
      ],
      "metadata": {
        "id": "9WsWD8S5gph-"
      },
      "id": "9WsWD8S5gph-",
      "execution_count": 44,
      "outputs": []
    },
    {
      "cell_type": "markdown",
      "source": [
        "### Device Id"
      ],
      "metadata": {
        "id": "ptwgVV0zg0Qg"
      },
      "id": "ptwgVV0zg0Qg"
    },
    {
      "cell_type": "code",
      "source": [
        "device_id_missing_lon = df[df['device_id'].isna()]['longitude'].unique()\n",
        "device_id_missing_lat = df[df['device_id'].isna()]['latitude'].unique()"
      ],
      "metadata": {
        "id": "rpoUyOKYg2Np"
      },
      "id": "rpoUyOKYg2Np",
      "execution_count": 45,
      "outputs": []
    },
    {
      "cell_type": "code",
      "source": [
        "device_id_missing_lon,device_id_missing_lat"
      ],
      "metadata": {
        "colab": {
          "base_uri": "https://localhost:8080/"
        },
        "id": "CIkONc9UhAAp",
        "outputId": "2f78ab6e-d1ef-4549-c00e-560b76c3105d"
      },
      "id": "CIkONc9UhAAp",
      "execution_count": 46,
      "outputs": [
        {
          "output_type": "execute_result",
          "data": {
            "text/plain": [
              "(array([75.882956, 75.888487, 75.846007, 75.923332, 75.992551, 73.862756,\n",
              "        73.860165, 83.357991, 77.292481, 73.926499, 80.343613, 80.309272,\n",
              "        77.274814, 83.371738, 75.95805 , 83.342711, 75.836167, 80.335435,\n",
              "        73.169345, 70.686387, 77.303153]),\n",
              " array([22.814519, 26.948689, 26.960796, 22.777781, 31.561747, 18.628057,\n",
              "        18.566925, 17.805195, 28.719966, 18.614812, 13.153332, 13.149176,\n",
              "        28.721053, 17.752819, 22.817526, 17.822906, 26.95399 , 13.189053,\n",
              "        21.194283, 21.790693, 28.728888]))"
            ]
          },
          "metadata": {},
          "execution_count": 46
        }
      ]
    },
    {
      "cell_type": "code",
      "source": [
        "lst_id_lon = []\n",
        "for i in device_id_missing_lon:\n",
        "  a = df[(df['device_id'].isna()==False)&(df['longitude']==i)][['device_id','longitude','latitude']].value_counts()\n",
        "  lst_id_lon.append(a.index.values)"
      ],
      "metadata": {
        "id": "RMUg2SA_hQT0"
      },
      "id": "RMUg2SA_hQT0",
      "execution_count": 47,
      "outputs": []
    },
    {
      "cell_type": "code",
      "source": [
        "lst_id_lat = []\n",
        "for i in device_id_missing_lat:\n",
        "  a = df[(df['device_id'].isna()==False)&(df['latitude']==i)][['device_id','longitude','latitude']].value_counts()\n",
        "  lst_id_lat.append(a.index.values)"
      ],
      "metadata": {
        "id": "Jw2FjHlFhXr1"
      },
      "id": "Jw2FjHlFhXr1",
      "execution_count": 48,
      "outputs": []
    },
    {
      "cell_type": "code",
      "source": [
        "# using latitude\n",
        "id_lat = []\n",
        "lat_lat = []\n",
        "lon_lat = []\n",
        "for j in lst_id_lat:\n",
        "  id_lat.append(j[0][0])\n",
        "  lon_lat.append(j[0][1])\n",
        "  lat_lat.append(j[0][2])"
      ],
      "metadata": {
        "id": "tpjQAFr2jQJV"
      },
      "id": "tpjQAFr2jQJV",
      "execution_count": 49,
      "outputs": []
    },
    {
      "cell_type": "code",
      "source": [
        "# using Longitude\n",
        "id_lon = []\n",
        "lat_lon = []\n",
        "lon_lon = []\n",
        "for j in lst_id_lat:\n",
        "  id_lon.append(j[0][0])\n",
        "  lon_lon.append(j[0][1])\n",
        "  lat_lon.append(j[0][2])"
      ],
      "metadata": {
        "id": "WxC8t3EqjTHS"
      },
      "id": "WxC8t3EqjTHS",
      "execution_count": 50,
      "outputs": []
    },
    {
      "cell_type": "code",
      "source": [
        "a = 0\n",
        "for i in range(0,len(id_lon)):\n",
        "  if id_lon[i]==id_lat[i]:\n",
        "    pass\n",
        "  else:\n",
        "    a=1\n",
        "    print(\"{} and {} are different at index {}\".format(id_lon[i],id_lat[i],i))\n",
        "if a==0:\n",
        "  print(\"both are same\")"
      ],
      "metadata": {
        "colab": {
          "base_uri": "https://localhost:8080/"
        },
        "id": "CCEvoarijUxW",
        "outputId": "a2ea1b4c-2c49-448c-903d-ce52c0380f3c"
      },
      "id": "CCEvoarijUxW",
      "execution_count": 51,
      "outputs": [
        {
          "output_type": "stream",
          "name": "stdout",
          "text": [
            "both are same\n"
          ]
        }
      ]
    },
    {
      "cell_type": "code",
      "source": [
        "for i in range(0,len(id_lat)):\n",
        "  df.loc[(df['latitude']==lat_lat[i])&(np.isnan(df['device_id'])),'device_id'] = id_lat[i]"
      ],
      "metadata": {
        "id": "AZC_mSiUjol1"
      },
      "id": "AZC_mSiUjol1",
      "execution_count": 52,
      "outputs": []
    },
    {
      "cell_type": "code",
      "source": [
        "#counting the null values\n",
        "for columns in df:\n",
        "  print(\"The null values in {} is {}\".format(columns, df[columns].isnull().sum()))"
      ],
      "metadata": {
        "colab": {
          "base_uri": "https://localhost:8080/"
        },
        "id": "KISnFPr6jxwV",
        "outputId": "e7a8768a-2a2b-4398-ae6a-34547990cfbc"
      },
      "id": "KISnFPr6jxwV",
      "execution_count": 53,
      "outputs": [
        {
          "output_type": "stream",
          "name": "stdout",
          "text": [
            "The null values in event_id is 0\n",
            "The null values in device_id is 0\n",
            "The null values in timestamp is 0\n",
            "The null values in longitude is 0\n",
            "The null values in latitude is 0\n",
            "The null values in city is 0\n",
            "The null values in state is 0\n"
          ]
        }
      ]
    },
    {
      "cell_type": "code",
      "source": [
        "df.shape,df.info()"
      ],
      "metadata": {
        "colab": {
          "base_uri": "https://localhost:8080/"
        },
        "id": "HetS2RHQXCmz",
        "outputId": "4a587b55-73e2-4f03-902c-7d34b8ef6f56"
      },
      "id": "HetS2RHQXCmz",
      "execution_count": 54,
      "outputs": [
        {
          "output_type": "stream",
          "name": "stdout",
          "text": [
            "<class 'pandas.core.frame.DataFrame'>\n",
            "RangeIndex: 3252950 entries, 0 to 3252949\n",
            "Data columns (total 7 columns):\n",
            " #   Column     Dtype  \n",
            "---  ------     -----  \n",
            " 0   event_id   int64  \n",
            " 1   device_id  float64\n",
            " 2   timestamp  object \n",
            " 3   longitude  float64\n",
            " 4   latitude   float64\n",
            " 5   city       object \n",
            " 6   state      object \n",
            "dtypes: float64(3), int64(1), object(3)\n",
            "memory usage: 173.7+ MB\n"
          ]
        },
        {
          "output_type": "execute_result",
          "data": {
            "text/plain": [
              "((3252950, 7), None)"
            ]
          },
          "metadata": {},
          "execution_count": 54
        }
      ]
    },
    {
      "cell_type": "code",
      "execution_count": 55,
      "id": "acd0c575",
      "metadata": {
        "id": "acd0c575"
      },
      "outputs": [],
      "source": [
        "# for column in df.columns:\n",
        "#   print(df[column].unique())\n",
        "duplicated_list = df.duplicated()"
      ]
    },
    {
      "cell_type": "code",
      "source": [
        "df[duplicated_list]"
      ],
      "metadata": {
        "id": "sE1t5WJ2k1LP",
        "outputId": "12c7c4be-9b6e-410f-a3e1-a3b8f8a39d2f",
        "colab": {
          "base_uri": "https://localhost:8080/",
          "height": 49
        }
      },
      "id": "sE1t5WJ2k1LP",
      "execution_count": 56,
      "outputs": [
        {
          "output_type": "execute_result",
          "data": {
            "text/plain": [
              "Empty DataFrame\n",
              "Columns: [event_id, device_id, timestamp, longitude, latitude, city, state]\n",
              "Index: []"
            ],
            "text/html": [
              "\n",
              "  <div id=\"df-32e26710-d6cc-42a8-a756-a2519048bdbe\">\n",
              "    <div class=\"colab-df-container\">\n",
              "      <div>\n",
              "<style scoped>\n",
              "    .dataframe tbody tr th:only-of-type {\n",
              "        vertical-align: middle;\n",
              "    }\n",
              "\n",
              "    .dataframe tbody tr th {\n",
              "        vertical-align: top;\n",
              "    }\n",
              "\n",
              "    .dataframe thead th {\n",
              "        text-align: right;\n",
              "    }\n",
              "</style>\n",
              "<table border=\"1\" class=\"dataframe\">\n",
              "  <thead>\n",
              "    <tr style=\"text-align: right;\">\n",
              "      <th></th>\n",
              "      <th>event_id</th>\n",
              "      <th>device_id</th>\n",
              "      <th>timestamp</th>\n",
              "      <th>longitude</th>\n",
              "      <th>latitude</th>\n",
              "      <th>city</th>\n",
              "      <th>state</th>\n",
              "    </tr>\n",
              "  </thead>\n",
              "  <tbody>\n",
              "  </tbody>\n",
              "</table>\n",
              "</div>\n",
              "      <button class=\"colab-df-convert\" onclick=\"convertToInteractive('df-32e26710-d6cc-42a8-a756-a2519048bdbe')\"\n",
              "              title=\"Convert this dataframe to an interactive table.\"\n",
              "              style=\"display:none;\">\n",
              "        \n",
              "  <svg xmlns=\"http://www.w3.org/2000/svg\" height=\"24px\"viewBox=\"0 0 24 24\"\n",
              "       width=\"24px\">\n",
              "    <path d=\"M0 0h24v24H0V0z\" fill=\"none\"/>\n",
              "    <path d=\"M18.56 5.44l.94 2.06.94-2.06 2.06-.94-2.06-.94-.94-2.06-.94 2.06-2.06.94zm-11 1L8.5 8.5l.94-2.06 2.06-.94-2.06-.94L8.5 2.5l-.94 2.06-2.06.94zm10 10l.94 2.06.94-2.06 2.06-.94-2.06-.94-.94-2.06-.94 2.06-2.06.94z\"/><path d=\"M17.41 7.96l-1.37-1.37c-.4-.4-.92-.59-1.43-.59-.52 0-1.04.2-1.43.59L10.3 9.45l-7.72 7.72c-.78.78-.78 2.05 0 2.83L4 21.41c.39.39.9.59 1.41.59.51 0 1.02-.2 1.41-.59l7.78-7.78 2.81-2.81c.8-.78.8-2.07 0-2.86zM5.41 20L4 18.59l7.72-7.72 1.47 1.35L5.41 20z\"/>\n",
              "  </svg>\n",
              "      </button>\n",
              "      \n",
              "  <style>\n",
              "    .colab-df-container {\n",
              "      display:flex;\n",
              "      flex-wrap:wrap;\n",
              "      gap: 12px;\n",
              "    }\n",
              "\n",
              "    .colab-df-convert {\n",
              "      background-color: #E8F0FE;\n",
              "      border: none;\n",
              "      border-radius: 50%;\n",
              "      cursor: pointer;\n",
              "      display: none;\n",
              "      fill: #1967D2;\n",
              "      height: 32px;\n",
              "      padding: 0 0 0 0;\n",
              "      width: 32px;\n",
              "    }\n",
              "\n",
              "    .colab-df-convert:hover {\n",
              "      background-color: #E2EBFA;\n",
              "      box-shadow: 0px 1px 2px rgba(60, 64, 67, 0.3), 0px 1px 3px 1px rgba(60, 64, 67, 0.15);\n",
              "      fill: #174EA6;\n",
              "    }\n",
              "\n",
              "    [theme=dark] .colab-df-convert {\n",
              "      background-color: #3B4455;\n",
              "      fill: #D2E3FC;\n",
              "    }\n",
              "\n",
              "    [theme=dark] .colab-df-convert:hover {\n",
              "      background-color: #434B5C;\n",
              "      box-shadow: 0px 1px 3px 1px rgba(0, 0, 0, 0.15);\n",
              "      filter: drop-shadow(0px 1px 2px rgba(0, 0, 0, 0.3));\n",
              "      fill: #FFFFFF;\n",
              "    }\n",
              "  </style>\n",
              "\n",
              "      <script>\n",
              "        const buttonEl =\n",
              "          document.querySelector('#df-32e26710-d6cc-42a8-a756-a2519048bdbe button.colab-df-convert');\n",
              "        buttonEl.style.display =\n",
              "          google.colab.kernel.accessAllowed ? 'block' : 'none';\n",
              "\n",
              "        async function convertToInteractive(key) {\n",
              "          const element = document.querySelector('#df-32e26710-d6cc-42a8-a756-a2519048bdbe');\n",
              "          const dataTable =\n",
              "            await google.colab.kernel.invokeFunction('convertToInteractive',\n",
              "                                                     [key], {});\n",
              "          if (!dataTable) return;\n",
              "\n",
              "          const docLinkHtml = 'Like what you see? Visit the ' +\n",
              "            '<a target=\"_blank\" href=https://colab.research.google.com/notebooks/data_table.ipynb>data table notebook</a>'\n",
              "            + ' to learn more about interactive tables.';\n",
              "          element.innerHTML = '';\n",
              "          dataTable['output_type'] = 'display_data';\n",
              "          await google.colab.output.renderOutput(dataTable, element);\n",
              "          const docLink = document.createElement('div');\n",
              "          docLink.innerHTML = docLinkHtml;\n",
              "          element.appendChild(docLink);\n",
              "        }\n",
              "      </script>\n",
              "    </div>\n",
              "  </div>\n",
              "  "
            ]
          },
          "metadata": {},
          "execution_count": 56
        }
      ]
    },
    {
      "cell_type": "markdown",
      "source": [
        "# Data Post Profiling"
      ],
      "metadata": {
        "id": "CtbI9KyetZO8"
      },
      "id": "CtbI9KyetZO8"
    },
    {
      "cell_type": "markdown",
      "source": [
        "## 1 Dataset 1"
      ],
      "metadata": {
        "id": "xihtXvhizw5s"
      },
      "id": "xihtXvhizw5s"
    },
    {
      "cell_type": "code",
      "source": [
        "df.info()"
      ],
      "metadata": {
        "colab": {
          "base_uri": "https://localhost:8080/"
        },
        "id": "kG-aZU7Fz0fO",
        "outputId": "00623ff3-272c-4d62-e5c5-a8426e897361"
      },
      "id": "kG-aZU7Fz0fO",
      "execution_count": 57,
      "outputs": [
        {
          "output_type": "stream",
          "name": "stdout",
          "text": [
            "<class 'pandas.core.frame.DataFrame'>\n",
            "RangeIndex: 3252950 entries, 0 to 3252949\n",
            "Data columns (total 7 columns):\n",
            " #   Column     Dtype  \n",
            "---  ------     -----  \n",
            " 0   event_id   int64  \n",
            " 1   device_id  float64\n",
            " 2   timestamp  object \n",
            " 3   longitude  float64\n",
            " 4   latitude   float64\n",
            " 5   city       object \n",
            " 6   state      object \n",
            "dtypes: float64(3), int64(1), object(3)\n",
            "memory usage: 173.7+ MB\n"
          ]
        }
      ]
    },
    {
      "cell_type": "code",
      "source": [
        "df.isna().sum()"
      ],
      "metadata": {
        "colab": {
          "base_uri": "https://localhost:8080/"
        },
        "id": "xs3vFYTjz2t-",
        "outputId": "c6b23149-2f15-49bc-d46b-c8d5063a5a6d"
      },
      "id": "xs3vFYTjz2t-",
      "execution_count": 58,
      "outputs": [
        {
          "output_type": "execute_result",
          "data": {
            "text/plain": [
              "event_id     0\n",
              "device_id    0\n",
              "timestamp    0\n",
              "longitude    0\n",
              "latitude     0\n",
              "city         0\n",
              "state        0\n",
              "dtype: int64"
            ]
          },
          "metadata": {},
          "execution_count": 58
        }
      ]
    },
    {
      "cell_type": "markdown",
      "source": [
        "## Observations\n",
        "\n",
        "Missing Values filled"
      ],
      "metadata": {
        "id": "7qC8VlmB0Rj9"
      },
      "id": "7qC8VlmB0Rj9"
    },
    {
      "cell_type": "markdown",
      "source": [
        "# Connect all datasets"
      ],
      "metadata": {
        "id": "lPGph4dw0dAs"
      },
      "id": "lPGph4dw0dAs"
    },
    {
      "cell_type": "markdown",
      "source": [
        "## Data adjustments"
      ],
      "metadata": {
        "id": "unUzwWjF0gh8"
      },
      "id": "unUzwWjF0gh8"
    },
    {
      "cell_type": "code",
      "source": [
        "df['device_id'] = df['device_id'].apply(lambda x: abs(x))\n",
        "df2['device_id'] = df2['device_id'].apply(lambda x: abs(x))\n",
        "df3['device_id'] = df3['device_id'].apply(lambda x: abs(x))"
      ],
      "metadata": {
        "id": "rkH6UvkFnHHq"
      },
      "id": "rkH6UvkFnHHq",
      "execution_count": 60,
      "outputs": []
    },
    {
      "cell_type": "markdown",
      "source": [
        "## Merge Datasets 1 and 2 left Join"
      ],
      "metadata": {
        "id": "REz1Tj_g0liF"
      },
      "id": "REz1Tj_g0liF"
    },
    {
      "cell_type": "code",
      "source": [
        "merged_1 = df.merge(df2, how = \"left\", on = \"device_id\")"
      ],
      "metadata": {
        "id": "oIBUNdbm490a"
      },
      "id": "oIBUNdbm490a",
      "execution_count": 75,
      "outputs": []
    },
    {
      "cell_type": "code",
      "source": [
        "merged_1.head()"
      ],
      "metadata": {
        "id": "FM6tW_Jt7oar",
        "outputId": "179de731-485b-4faf-b459-bbc25c41a1bd",
        "colab": {
          "base_uri": "https://localhost:8080/",
          "height": 206
        }
      },
      "id": "FM6tW_Jt7oar",
      "execution_count": 76,
      "outputs": [
        {
          "output_type": "execute_result",
          "data": {
            "text/plain": [
              "   event_id     device_id            timestamp  longitude   latitude  \\\n",
              "0   2765368  2.973348e+18  2016-05-07 22:52:05  77.225676  28.730140   \n",
              "1   2955066  4.734221e+18  2016-05-01 20:44:16  88.388361  22.660325   \n",
              "2    605968  3.264500e+18  2016-05-02 14:23:04  77.256809  28.757906   \n",
              "3    448114  5.731369e+18  2016-05-03 13:21:16  80.343613  13.153332   \n",
              "4    665740  3.388880e+17  2016-05-06 03:51:05  85.997745  23.842609   \n",
              "\n",
              "       city       state gender   age   group  \n",
              "0     Delhi       Delhi      M  35.0  M32-38  \n",
              "1  Calcutta  WestBengal    NaN   NaN     NaN  \n",
              "2     Delhi       Delhi    NaN   NaN     NaN  \n",
              "3   Chennai   TamilNadu    NaN   NaN     NaN  \n",
              "4    Bokaro   Jharkhand    NaN   NaN     NaN  "
            ],
            "text/html": [
              "\n",
              "  <div id=\"df-49a0a409-bb4b-4230-9ea9-809543939e23\">\n",
              "    <div class=\"colab-df-container\">\n",
              "      <div>\n",
              "<style scoped>\n",
              "    .dataframe tbody tr th:only-of-type {\n",
              "        vertical-align: middle;\n",
              "    }\n",
              "\n",
              "    .dataframe tbody tr th {\n",
              "        vertical-align: top;\n",
              "    }\n",
              "\n",
              "    .dataframe thead th {\n",
              "        text-align: right;\n",
              "    }\n",
              "</style>\n",
              "<table border=\"1\" class=\"dataframe\">\n",
              "  <thead>\n",
              "    <tr style=\"text-align: right;\">\n",
              "      <th></th>\n",
              "      <th>event_id</th>\n",
              "      <th>device_id</th>\n",
              "      <th>timestamp</th>\n",
              "      <th>longitude</th>\n",
              "      <th>latitude</th>\n",
              "      <th>city</th>\n",
              "      <th>state</th>\n",
              "      <th>gender</th>\n",
              "      <th>age</th>\n",
              "      <th>group</th>\n",
              "    </tr>\n",
              "  </thead>\n",
              "  <tbody>\n",
              "    <tr>\n",
              "      <th>0</th>\n",
              "      <td>2765368</td>\n",
              "      <td>2.973348e+18</td>\n",
              "      <td>2016-05-07 22:52:05</td>\n",
              "      <td>77.225676</td>\n",
              "      <td>28.730140</td>\n",
              "      <td>Delhi</td>\n",
              "      <td>Delhi</td>\n",
              "      <td>M</td>\n",
              "      <td>35.0</td>\n",
              "      <td>M32-38</td>\n",
              "    </tr>\n",
              "    <tr>\n",
              "      <th>1</th>\n",
              "      <td>2955066</td>\n",
              "      <td>4.734221e+18</td>\n",
              "      <td>2016-05-01 20:44:16</td>\n",
              "      <td>88.388361</td>\n",
              "      <td>22.660325</td>\n",
              "      <td>Calcutta</td>\n",
              "      <td>WestBengal</td>\n",
              "      <td>NaN</td>\n",
              "      <td>NaN</td>\n",
              "      <td>NaN</td>\n",
              "    </tr>\n",
              "    <tr>\n",
              "      <th>2</th>\n",
              "      <td>605968</td>\n",
              "      <td>3.264500e+18</td>\n",
              "      <td>2016-05-02 14:23:04</td>\n",
              "      <td>77.256809</td>\n",
              "      <td>28.757906</td>\n",
              "      <td>Delhi</td>\n",
              "      <td>Delhi</td>\n",
              "      <td>NaN</td>\n",
              "      <td>NaN</td>\n",
              "      <td>NaN</td>\n",
              "    </tr>\n",
              "    <tr>\n",
              "      <th>3</th>\n",
              "      <td>448114</td>\n",
              "      <td>5.731369e+18</td>\n",
              "      <td>2016-05-03 13:21:16</td>\n",
              "      <td>80.343613</td>\n",
              "      <td>13.153332</td>\n",
              "      <td>Chennai</td>\n",
              "      <td>TamilNadu</td>\n",
              "      <td>NaN</td>\n",
              "      <td>NaN</td>\n",
              "      <td>NaN</td>\n",
              "    </tr>\n",
              "    <tr>\n",
              "      <th>4</th>\n",
              "      <td>665740</td>\n",
              "      <td>3.388880e+17</td>\n",
              "      <td>2016-05-06 03:51:05</td>\n",
              "      <td>85.997745</td>\n",
              "      <td>23.842609</td>\n",
              "      <td>Bokaro</td>\n",
              "      <td>Jharkhand</td>\n",
              "      <td>NaN</td>\n",
              "      <td>NaN</td>\n",
              "      <td>NaN</td>\n",
              "    </tr>\n",
              "  </tbody>\n",
              "</table>\n",
              "</div>\n",
              "      <button class=\"colab-df-convert\" onclick=\"convertToInteractive('df-49a0a409-bb4b-4230-9ea9-809543939e23')\"\n",
              "              title=\"Convert this dataframe to an interactive table.\"\n",
              "              style=\"display:none;\">\n",
              "        \n",
              "  <svg xmlns=\"http://www.w3.org/2000/svg\" height=\"24px\"viewBox=\"0 0 24 24\"\n",
              "       width=\"24px\">\n",
              "    <path d=\"M0 0h24v24H0V0z\" fill=\"none\"/>\n",
              "    <path d=\"M18.56 5.44l.94 2.06.94-2.06 2.06-.94-2.06-.94-.94-2.06-.94 2.06-2.06.94zm-11 1L8.5 8.5l.94-2.06 2.06-.94-2.06-.94L8.5 2.5l-.94 2.06-2.06.94zm10 10l.94 2.06.94-2.06 2.06-.94-2.06-.94-.94-2.06-.94 2.06-2.06.94z\"/><path d=\"M17.41 7.96l-1.37-1.37c-.4-.4-.92-.59-1.43-.59-.52 0-1.04.2-1.43.59L10.3 9.45l-7.72 7.72c-.78.78-.78 2.05 0 2.83L4 21.41c.39.39.9.59 1.41.59.51 0 1.02-.2 1.41-.59l7.78-7.78 2.81-2.81c.8-.78.8-2.07 0-2.86zM5.41 20L4 18.59l7.72-7.72 1.47 1.35L5.41 20z\"/>\n",
              "  </svg>\n",
              "      </button>\n",
              "      \n",
              "  <style>\n",
              "    .colab-df-container {\n",
              "      display:flex;\n",
              "      flex-wrap:wrap;\n",
              "      gap: 12px;\n",
              "    }\n",
              "\n",
              "    .colab-df-convert {\n",
              "      background-color: #E8F0FE;\n",
              "      border: none;\n",
              "      border-radius: 50%;\n",
              "      cursor: pointer;\n",
              "      display: none;\n",
              "      fill: #1967D2;\n",
              "      height: 32px;\n",
              "      padding: 0 0 0 0;\n",
              "      width: 32px;\n",
              "    }\n",
              "\n",
              "    .colab-df-convert:hover {\n",
              "      background-color: #E2EBFA;\n",
              "      box-shadow: 0px 1px 2px rgba(60, 64, 67, 0.3), 0px 1px 3px 1px rgba(60, 64, 67, 0.15);\n",
              "      fill: #174EA6;\n",
              "    }\n",
              "\n",
              "    [theme=dark] .colab-df-convert {\n",
              "      background-color: #3B4455;\n",
              "      fill: #D2E3FC;\n",
              "    }\n",
              "\n",
              "    [theme=dark] .colab-df-convert:hover {\n",
              "      background-color: #434B5C;\n",
              "      box-shadow: 0px 1px 3px 1px rgba(0, 0, 0, 0.15);\n",
              "      filter: drop-shadow(0px 1px 2px rgba(0, 0, 0, 0.3));\n",
              "      fill: #FFFFFF;\n",
              "    }\n",
              "  </style>\n",
              "\n",
              "      <script>\n",
              "        const buttonEl =\n",
              "          document.querySelector('#df-49a0a409-bb4b-4230-9ea9-809543939e23 button.colab-df-convert');\n",
              "        buttonEl.style.display =\n",
              "          google.colab.kernel.accessAllowed ? 'block' : 'none';\n",
              "\n",
              "        async function convertToInteractive(key) {\n",
              "          const element = document.querySelector('#df-49a0a409-bb4b-4230-9ea9-809543939e23');\n",
              "          const dataTable =\n",
              "            await google.colab.kernel.invokeFunction('convertToInteractive',\n",
              "                                                     [key], {});\n",
              "          if (!dataTable) return;\n",
              "\n",
              "          const docLinkHtml = 'Like what you see? Visit the ' +\n",
              "            '<a target=\"_blank\" href=https://colab.research.google.com/notebooks/data_table.ipynb>data table notebook</a>'\n",
              "            + ' to learn more about interactive tables.';\n",
              "          element.innerHTML = '';\n",
              "          dataTable['output_type'] = 'display_data';\n",
              "          await google.colab.output.renderOutput(dataTable, element);\n",
              "          const docLink = document.createElement('div');\n",
              "          docLink.innerHTML = docLinkHtml;\n",
              "          element.appendChild(docLink);\n",
              "        }\n",
              "      </script>\n",
              "    </div>\n",
              "  </div>\n",
              "  "
            ]
          },
          "metadata": {},
          "execution_count": 76
        }
      ]
    },
    {
      "cell_type": "code",
      "source": [
        "merged_1.shape"
      ],
      "metadata": {
        "id": "DupLwWv-7qwb",
        "outputId": "ea7b98db-e57b-4167-bf38-e42b2b18bebc",
        "colab": {
          "base_uri": "https://localhost:8080/"
        }
      },
      "id": "DupLwWv-7qwb",
      "execution_count": 77,
      "outputs": [
        {
          "output_type": "execute_result",
          "data": {
            "text/plain": [
              "(3252950, 10)"
            ]
          },
          "metadata": {},
          "execution_count": 77
        }
      ]
    },
    {
      "cell_type": "code",
      "source": [
        "merged_1.isna().sum()"
      ],
      "metadata": {
        "id": "yHfPEQGn-fka",
        "outputId": "a2296d99-2630-44ab-a5b7-30be05a29e8f",
        "colab": {
          "base_uri": "https://localhost:8080/"
        }
      },
      "id": "yHfPEQGn-fka",
      "execution_count": 78,
      "outputs": [
        {
          "output_type": "execute_result",
          "data": {
            "text/plain": [
              "event_id           0\n",
              "device_id          0\n",
              "timestamp          0\n",
              "longitude          0\n",
              "latitude           0\n",
              "city               0\n",
              "state              0\n",
              "gender       3235968\n",
              "age          3235968\n",
              "group        3235968\n",
              "dtype: int64"
            ]
          },
          "metadata": {},
          "execution_count": 78
        }
      ]
    },
    {
      "cell_type": "code",
      "source": [
        "device_id_list_merged_1 = merged_1[(merged_1['gender'].isna()==False)&(merged_1['age'].isna()==False)&(merged_1['group'].isna()==False)]['device_id'].unique()"
      ],
      "metadata": {
        "id": "ZdAkgdgR88hS"
      },
      "id": "ZdAkgdgR88hS",
      "execution_count": 79,
      "outputs": []
    },
    {
      "cell_type": "code",
      "source": [
        "len(device_id_list_merged_1)"
      ],
      "metadata": {
        "colab": {
          "base_uri": "https://localhost:8080/"
        },
        "id": "4bc6Rce0pNz1",
        "outputId": "a754deaa-e2c0-4386-b8f5-2422827bb190"
      },
      "id": "4bc6Rce0pNz1",
      "execution_count": 80,
      "outputs": [
        {
          "output_type": "execute_result",
          "data": {
            "text/plain": [
              "406"
            ]
          },
          "metadata": {},
          "execution_count": 80
        }
      ]
    },
    {
      "cell_type": "code",
      "source": [
        "merged_1.nunique()"
      ],
      "metadata": {
        "id": "lLZ3HoMy8rt-",
        "outputId": "34f61eea-0702-4cda-d030-bed4937475eb",
        "colab": {
          "base_uri": "https://localhost:8080/"
        }
      },
      "id": "lLZ3HoMy8rt-",
      "execution_count": 81,
      "outputs": [
        {
          "output_type": "execute_result",
          "data": {
            "text/plain": [
              "event_id     3252950\n",
              "device_id      60865\n",
              "timestamp     588126\n",
              "longitude      60095\n",
              "latitude       60177\n",
              "city             933\n",
              "state             32\n",
              "gender             2\n",
              "age               51\n",
              "group             12\n",
              "dtype: int64"
            ]
          },
          "metadata": {},
          "execution_count": 81
        }
      ]
    },
    {
      "cell_type": "markdown",
      "source": [
        "## Merge dataset 1 and 3 Left join"
      ],
      "metadata": {
        "id": "pEBUt0_ipX5V"
      },
      "id": "pEBUt0_ipX5V"
    },
    {
      "cell_type": "code",
      "source": [
        "merged_2 = df.merge(df3, how = \"left\", on = \"device_id\")"
      ],
      "metadata": {
        "id": "8vSKG5vy8YMa"
      },
      "id": "8vSKG5vy8YMa",
      "execution_count": 82,
      "outputs": []
    },
    {
      "cell_type": "code",
      "source": [
        "merged_2.nunique()"
      ],
      "metadata": {
        "id": "8pbWvm3aAL32",
        "outputId": "a18c58d9-4b94-4d42-edbe-0e58ec93cb16",
        "colab": {
          "base_uri": "https://localhost:8080/"
        }
      },
      "id": "8pbWvm3aAL32",
      "execution_count": 83,
      "outputs": [
        {
          "output_type": "execute_result",
          "data": {
            "text/plain": [
              "event_id        3252950\n",
              "device_id         60865\n",
              "timestamp        588126\n",
              "longitude         60095\n",
              "latitude          60177\n",
              "city                933\n",
              "state                32\n",
              "phone_brand          26\n",
              "device_model        191\n",
              "dtype: int64"
            ]
          },
          "metadata": {},
          "execution_count": 83
        }
      ]
    },
    {
      "cell_type": "code",
      "source": [
        "merged_2.isna().sum()"
      ],
      "metadata": {
        "id": "SXQkz5bbAO1t",
        "outputId": "8df321b1-d44c-4fd1-a98d-a02b7bd02e50",
        "colab": {
          "base_uri": "https://localhost:8080/"
        }
      },
      "id": "SXQkz5bbAO1t",
      "execution_count": 84,
      "outputs": [
        {
          "output_type": "execute_result",
          "data": {
            "text/plain": [
              "event_id              0\n",
              "device_id             0\n",
              "timestamp             0\n",
              "longitude             0\n",
              "latitude              0\n",
              "city                  0\n",
              "state                 0\n",
              "phone_brand     3235968\n",
              "device_model    3235968\n",
              "dtype: int64"
            ]
          },
          "metadata": {},
          "execution_count": 84
        }
      ]
    },
    {
      "cell_type": "code",
      "source": [
        "device_id_list_merged_2 = merged_2[(merged_2['phone_brand'].isna()==False)&(merged_2['device_model'].isna()==False)]['device_id'].unique()"
      ],
      "metadata": {
        "id": "yxAVh7EDE8nW"
      },
      "id": "yxAVh7EDE8nW",
      "execution_count": 85,
      "outputs": []
    },
    {
      "cell_type": "code",
      "source": [
        "len(device_id_list_merged_2)"
      ],
      "metadata": {
        "colab": {
          "base_uri": "https://localhost:8080/"
        },
        "id": "TXs9ELxGp63Z",
        "outputId": "049f354f-fc41-42c1-baa5-a65a133a11da"
      },
      "id": "TXs9ELxGp63Z",
      "execution_count": 86,
      "outputs": [
        {
          "output_type": "execute_result",
          "data": {
            "text/plain": [
              "406"
            ]
          },
          "metadata": {},
          "execution_count": 86
        }
      ]
    },
    {
      "cell_type": "code",
      "source": [
        "device_id_list_merged_2 == device_id_list_merged_1"
      ],
      "metadata": {
        "id": "ZwQr6EQLJWYc",
        "outputId": "58e5848d-6e65-4d94-ca4b-3b49dd422d33",
        "colab": {
          "base_uri": "https://localhost:8080/"
        }
      },
      "id": "ZwQr6EQLJWYc",
      "execution_count": 89,
      "outputs": [
        {
          "output_type": "execute_result",
          "data": {
            "text/plain": [
              "array([ True,  True,  True,  True,  True,  True,  True,  True,  True,\n",
              "        True,  True,  True,  True,  True,  True,  True,  True,  True,\n",
              "        True,  True,  True,  True,  True,  True,  True,  True,  True,\n",
              "        True,  True,  True,  True,  True,  True,  True,  True,  True,\n",
              "        True,  True,  True,  True,  True,  True,  True,  True,  True,\n",
              "        True,  True,  True,  True,  True,  True,  True,  True,  True,\n",
              "        True,  True,  True,  True,  True,  True,  True,  True,  True,\n",
              "        True,  True,  True,  True,  True,  True,  True,  True,  True,\n",
              "        True,  True,  True,  True,  True,  True,  True,  True,  True,\n",
              "        True,  True,  True,  True,  True,  True,  True,  True,  True,\n",
              "        True,  True,  True,  True,  True,  True,  True,  True,  True,\n",
              "        True,  True,  True,  True,  True,  True,  True,  True,  True,\n",
              "        True,  True,  True,  True,  True,  True,  True,  True,  True,\n",
              "        True,  True,  True,  True,  True,  True,  True,  True,  True,\n",
              "        True,  True,  True,  True,  True,  True,  True,  True,  True,\n",
              "        True,  True,  True,  True,  True,  True,  True,  True,  True,\n",
              "        True,  True,  True,  True,  True,  True,  True,  True,  True,\n",
              "        True,  True,  True,  True,  True,  True,  True,  True,  True,\n",
              "        True,  True,  True,  True,  True,  True,  True,  True,  True,\n",
              "        True,  True,  True,  True,  True,  True,  True,  True,  True,\n",
              "        True,  True,  True,  True,  True,  True,  True,  True,  True,\n",
              "        True,  True,  True,  True,  True,  True,  True,  True,  True,\n",
              "        True,  True,  True,  True,  True,  True,  True,  True,  True,\n",
              "        True,  True,  True,  True,  True,  True,  True,  True,  True,\n",
              "        True,  True,  True,  True,  True,  True,  True,  True,  True,\n",
              "        True,  True,  True,  True,  True,  True,  True,  True,  True,\n",
              "        True,  True,  True,  True,  True,  True,  True,  True,  True,\n",
              "        True,  True,  True,  True,  True,  True,  True,  True,  True,\n",
              "        True,  True,  True,  True,  True,  True,  True,  True,  True,\n",
              "        True,  True,  True,  True,  True,  True,  True,  True,  True,\n",
              "        True,  True,  True,  True,  True,  True,  True,  True,  True,\n",
              "        True,  True,  True,  True,  True,  True,  True,  True,  True,\n",
              "        True,  True,  True,  True,  True,  True,  True,  True,  True,\n",
              "        True,  True,  True,  True,  True,  True,  True,  True,  True,\n",
              "        True,  True,  True,  True,  True,  True,  True,  True,  True,\n",
              "        True,  True,  True,  True,  True,  True,  True,  True,  True,\n",
              "        True,  True,  True,  True,  True,  True,  True,  True,  True,\n",
              "        True,  True,  True,  True,  True,  True,  True,  True,  True,\n",
              "        True,  True,  True,  True,  True,  True,  True,  True,  True,\n",
              "        True,  True,  True,  True,  True,  True,  True,  True,  True,\n",
              "        True,  True,  True,  True,  True,  True,  True,  True,  True,\n",
              "        True,  True,  True,  True,  True,  True,  True,  True,  True,\n",
              "        True,  True,  True,  True,  True,  True,  True,  True,  True,\n",
              "        True,  True,  True,  True,  True,  True,  True,  True,  True,\n",
              "        True,  True,  True,  True,  True,  True,  True,  True,  True,\n",
              "        True])"
            ]
          },
          "metadata": {},
          "execution_count": 89
        }
      ]
    },
    {
      "cell_type": "code",
      "source": [
        "sum = 0\n",
        "for i in device_id_list_merged_1:\n",
        "  sum = sum + df[df['device_id']==i]['device_id'].value_counts().values"
      ],
      "metadata": {
        "id": "rdHhzRGhJY75"
      },
      "id": "rdHhzRGhJY75",
      "execution_count": 91,
      "outputs": []
    },
    {
      "cell_type": "code",
      "source": [
        "sum"
      ],
      "metadata": {
        "colab": {
          "base_uri": "https://localhost:8080/"
        },
        "id": "61YzQovctAcK",
        "outputId": "d7b96566-3008-4e3e-a78f-48f578a24739"
      },
      "id": "61YzQovctAcK",
      "execution_count": 92,
      "outputs": [
        {
          "output_type": "execute_result",
          "data": {
            "text/plain": [
              "array([16982])"
            ]
          },
          "metadata": {},
          "execution_count": 92
        }
      ]
    },
    {
      "cell_type": "markdown",
      "source": [
        "# Merge datasets inner join"
      ],
      "metadata": {
        "id": "1sJ_gXHx10TB"
      },
      "id": "1sJ_gXHx10TB"
    },
    {
      "cell_type": "code",
      "source": [
        "test_merge_1 = df.merge(df2, how = \"inner\", on = \"device_id\")\n",
        "test_merge_2 = df.merge(df3, how = \"inner\", on = \"device_id\")"
      ],
      "metadata": {
        "id": "T5texcRnu05y"
      },
      "id": "T5texcRnu05y",
      "execution_count": 93,
      "outputs": []
    },
    {
      "cell_type": "code",
      "source": [
        "test_merge_2.info()"
      ],
      "metadata": {
        "colab": {
          "base_uri": "https://localhost:8080/"
        },
        "id": "Ul3cisY3vpKh",
        "outputId": "05979bc0-e858-4a95-ff29-d489c1923fd7"
      },
      "id": "Ul3cisY3vpKh",
      "execution_count": 94,
      "outputs": [
        {
          "output_type": "stream",
          "name": "stdout",
          "text": [
            "<class 'pandas.core.frame.DataFrame'>\n",
            "Int64Index: 16982 entries, 0 to 16981\n",
            "Data columns (total 9 columns):\n",
            " #   Column        Non-Null Count  Dtype  \n",
            "---  ------        --------------  -----  \n",
            " 0   event_id      16982 non-null  int64  \n",
            " 1   device_id     16982 non-null  float64\n",
            " 2   timestamp     16982 non-null  object \n",
            " 3   longitude     16982 non-null  float64\n",
            " 4   latitude      16982 non-null  float64\n",
            " 5   city          16982 non-null  object \n",
            " 6   state         16982 non-null  object \n",
            " 7   phone_brand   16982 non-null  object \n",
            " 8   device_model  16982 non-null  object \n",
            "dtypes: float64(3), int64(1), object(5)\n",
            "memory usage: 1.3+ MB\n"
          ]
        }
      ]
    },
    {
      "cell_type": "code",
      "source": [
        "test_merge_1.info()"
      ],
      "metadata": {
        "colab": {
          "base_uri": "https://localhost:8080/"
        },
        "id": "nXjYrE-wvYBZ",
        "outputId": "04089c84-6847-41e1-facb-3a965825dcb5"
      },
      "id": "nXjYrE-wvYBZ",
      "execution_count": 95,
      "outputs": [
        {
          "output_type": "stream",
          "name": "stdout",
          "text": [
            "<class 'pandas.core.frame.DataFrame'>\n",
            "Int64Index: 16982 entries, 0 to 16981\n",
            "Data columns (total 10 columns):\n",
            " #   Column     Non-Null Count  Dtype  \n",
            "---  ------     --------------  -----  \n",
            " 0   event_id   16982 non-null  int64  \n",
            " 1   device_id  16982 non-null  float64\n",
            " 2   timestamp  16982 non-null  object \n",
            " 3   longitude  16982 non-null  float64\n",
            " 4   latitude   16982 non-null  float64\n",
            " 5   city       16982 non-null  object \n",
            " 6   state      16982 non-null  object \n",
            " 7   gender     16982 non-null  object \n",
            " 8   age        16982 non-null  int64  \n",
            " 9   group      16982 non-null  object \n",
            "dtypes: float64(3), int64(2), object(5)\n",
            "memory usage: 1.4+ MB\n"
          ]
        }
      ]
    },
    {
      "cell_type": "code",
      "source": [
        "test_merge_3 = test_merge_1.merge(test_merge_2[['device_id','phone_brand', 'device_model']], how = \"left\", on = \"device_id\")"
      ],
      "metadata": {
        "id": "PhoIpqZtJm9L"
      },
      "id": "PhoIpqZtJm9L",
      "execution_count": 96,
      "outputs": []
    },
    {
      "cell_type": "code",
      "source": [
        "test_merge_3.shape"
      ],
      "metadata": {
        "colab": {
          "base_uri": "https://localhost:8080/"
        },
        "id": "GMXVtSwhwXG9",
        "outputId": "7950103a-32cf-4029-e529-579ab0581f8e"
      },
      "id": "GMXVtSwhwXG9",
      "execution_count": 98,
      "outputs": [
        {
          "output_type": "execute_result",
          "data": {
            "text/plain": [
              "(3640706, 12)"
            ]
          },
          "metadata": {},
          "execution_count": 98
        }
      ]
    },
    {
      "cell_type": "markdown",
      "source": [
        "The shape seems odd"
      ],
      "metadata": {
        "id": "GHy7poPa2WaU"
      },
      "id": "GHy7poPa2WaU"
    },
    {
      "cell_type": "markdown",
      "source": [
        "Lets understand merged dataset"
      ],
      "metadata": {
        "id": "PRu-LEThPEXP"
      },
      "id": "PRu-LEThPEXP"
    },
    {
      "cell_type": "code",
      "source": [
        "test_merge_3.info()"
      ],
      "metadata": {
        "id": "2kaH5L3PJ2kr",
        "outputId": "f12e8d1f-9cc3-4ac9-ad7a-75d478c6a8f4",
        "colab": {
          "base_uri": "https://localhost:8080/"
        }
      },
      "id": "2kaH5L3PJ2kr",
      "execution_count": 97,
      "outputs": [
        {
          "output_type": "stream",
          "name": "stdout",
          "text": [
            "<class 'pandas.core.frame.DataFrame'>\n",
            "Int64Index: 3640706 entries, 0 to 3640705\n",
            "Data columns (total 12 columns):\n",
            " #   Column        Dtype  \n",
            "---  ------        -----  \n",
            " 0   event_id      int64  \n",
            " 1   device_id     float64\n",
            " 2   timestamp     object \n",
            " 3   longitude     float64\n",
            " 4   latitude      float64\n",
            " 5   city          object \n",
            " 6   state         object \n",
            " 7   gender        object \n",
            " 8   age           int64  \n",
            " 9   group         object \n",
            " 10  phone_brand   object \n",
            " 11  device_model  object \n",
            "dtypes: float64(3), int64(2), object(7)\n",
            "memory usage: 361.1+ MB\n"
          ]
        }
      ]
    },
    {
      "cell_type": "code",
      "source": [
        "test_merge_3.isna().sum()"
      ],
      "metadata": {
        "colab": {
          "base_uri": "https://localhost:8080/"
        },
        "id": "ERHhhebeweLM",
        "outputId": "09bd8199-5118-4f07-8a92-ec3368d3a824"
      },
      "id": "ERHhhebeweLM",
      "execution_count": 99,
      "outputs": [
        {
          "output_type": "execute_result",
          "data": {
            "text/plain": [
              "event_id        0\n",
              "device_id       0\n",
              "timestamp       0\n",
              "longitude       0\n",
              "latitude        0\n",
              "city            0\n",
              "state           0\n",
              "gender          0\n",
              "age             0\n",
              "group           0\n",
              "phone_brand     0\n",
              "device_model    0\n",
              "dtype: int64"
            ]
          },
          "metadata": {},
          "execution_count": 99
        }
      ]
    },
    {
      "cell_type": "code",
      "source": [
        "duplicated_df = test_merge_3.duplicated()"
      ],
      "metadata": {
        "id": "PpJSbA7YKs1d"
      },
      "id": "PpJSbA7YKs1d",
      "execution_count": 100,
      "outputs": []
    },
    {
      "cell_type": "code",
      "source": [
        "duplicated_df.value_counts()"
      ],
      "metadata": {
        "colab": {
          "base_uri": "https://localhost:8080/"
        },
        "id": "fplLhAqcyiQ2",
        "outputId": "0d067143-097c-4f13-94eb-f35ef2d937c9"
      },
      "id": "fplLhAqcyiQ2",
      "execution_count": 101,
      "outputs": [
        {
          "output_type": "execute_result",
          "data": {
            "text/plain": [
              "True     3623724\n",
              "False      16982\n",
              "dtype: int64"
            ]
          },
          "metadata": {},
          "execution_count": 101
        }
      ]
    },
    {
      "cell_type": "markdown",
      "source": [
        "**There are lot of duplicate values. Let's drop them**"
      ],
      "metadata": {
        "id": "U1tD315RPJ5T"
      },
      "id": "U1tD315RPJ5T"
    },
    {
      "cell_type": "code",
      "source": [
        "test_merge_3.drop_duplicates(inplace=True)"
      ],
      "metadata": {
        "id": "0M5fuPViyjtD"
      },
      "id": "0M5fuPViyjtD",
      "execution_count": 102,
      "outputs": []
    },
    {
      "cell_type": "code",
      "source": [
        "test_merge_3.info()"
      ],
      "metadata": {
        "colab": {
          "base_uri": "https://localhost:8080/"
        },
        "id": "FLD-Y1yQzRI_",
        "outputId": "bc04350e-0774-47d9-c33f-6dd7dc959276"
      },
      "id": "FLD-Y1yQzRI_",
      "execution_count": 103,
      "outputs": [
        {
          "output_type": "stream",
          "name": "stdout",
          "text": [
            "<class 'pandas.core.frame.DataFrame'>\n",
            "Int64Index: 16982 entries, 0 to 3640705\n",
            "Data columns (total 12 columns):\n",
            " #   Column        Non-Null Count  Dtype  \n",
            "---  ------        --------------  -----  \n",
            " 0   event_id      16982 non-null  int64  \n",
            " 1   device_id     16982 non-null  float64\n",
            " 2   timestamp     16982 non-null  object \n",
            " 3   longitude     16982 non-null  float64\n",
            " 4   latitude      16982 non-null  float64\n",
            " 5   city          16982 non-null  object \n",
            " 6   state         16982 non-null  object \n",
            " 7   gender        16982 non-null  object \n",
            " 8   age           16982 non-null  int64  \n",
            " 9   group         16982 non-null  object \n",
            " 10  phone_brand   16982 non-null  object \n",
            " 11  device_model  16982 non-null  object \n",
            "dtypes: float64(3), int64(2), object(7)\n",
            "memory usage: 1.7+ MB\n"
          ]
        }
      ]
    },
    {
      "cell_type": "code",
      "source": [
        "test_merge_3.nunique()"
      ],
      "metadata": {
        "id": "hldpeswPzVXP"
      },
      "id": "hldpeswPzVXP",
      "execution_count": null,
      "outputs": []
    },
    {
      "cell_type": "markdown",
      "source": [
        "# Data mining"
      ],
      "metadata": {
        "id": "38LfffHMPSIe"
      },
      "id": "38LfffHMPSIe"
    },
    {
      "cell_type": "markdown",
      "source": [
        "## year month day hour Extraction"
      ],
      "metadata": {
        "id": "49q3pe5eRtGo"
      },
      "id": "49q3pe5eRtGo"
    },
    {
      "cell_type": "code",
      "source": [
        "import calendar\n",
        "\n",
        "test_merge_3['timestamp'] = pd.to_datetime(test_merge_3['timestamp'])\n",
        "test_merge_3['year'] = pd.DatetimeIndex(test_merge_3['timestamp']).year\n",
        "test_merge_3['month'] = pd.DatetimeIndex(test_merge_3['timestamp']).month\n",
        "\n",
        "test_merge_3['month_name'] = test_merge_3['month'].apply(lambda x: calendar.month_abbr[x])\n",
        "test_merge_3['day_of_week'] = test_merge_3['timestamp'].dt.day_name()\n",
        "test_merge_3['hour'] = test_merge_3['timestamp'].dt.hour"
      ],
      "metadata": {
        "id": "QRgI8taXzV4z"
      },
      "id": "QRgI8taXzV4z",
      "execution_count": null,
      "outputs": []
    },
    {
      "cell_type": "markdown",
      "source": [
        "## Phone Brand names in English"
      ],
      "metadata": {
        "id": "SBseKoNzR6Sh"
      },
      "id": "SBseKoNzR6Sh"
    },
    {
      "cell_type": "code",
      "source": [
        "dict = {'华为':'Huawei',\n",
        "'小米':'Xiaomi',\n",
        "'三星':'Samsung',\n",
        "'vivo':'vivo',\n",
        "'OPPO': 'OPPO',\n",
        "'魅族': 'Meizu',\n",
        "'酷派': 'Coolpad',\n",
        "'乐视':'LeEco',\n",
        "'联想 ': 'Lenovo',\n",
        "'HTC': 'HTC'}"
      ],
      "metadata": {
        "id": "zJWe36wE2V6J"
      },
      "id": "zJWe36wE2V6J",
      "execution_count": null,
      "outputs": []
    },
    {
      "cell_type": "code",
      "source": [
        "test_merge_3.replace({'phone_brand':dict},inplace=True)"
      ],
      "metadata": {
        "id": "dMr-O27W2WoL"
      },
      "id": "dMr-O27W2WoL",
      "execution_count": null,
      "outputs": []
    },
    {
      "cell_type": "code",
      "source": [
        "test_merge_3.head()"
      ],
      "metadata": {
        "id": "MoOls-qT2cYA"
      },
      "id": "MoOls-qT2cYA",
      "execution_count": null,
      "outputs": []
    },
    {
      "cell_type": "markdown",
      "source": [
        "# Save the dataset"
      ],
      "metadata": {
        "id": "kzqs6DyJSGIM"
      },
      "id": "kzqs6DyJSGIM"
    },
    {
      "cell_type": "code",
      "source": [
        "test_merge_3.to_csv('Final_Dataset.csv')"
      ],
      "metadata": {
        "id": "kDY23mZKSIdk"
      },
      "id": "kDY23mZKSIdk",
      "execution_count": null,
      "outputs": []
    },
    {
      "cell_type": "markdown",
      "source": [
        "# EDA"
      ],
      "metadata": {
        "id": "K0im4qLWShAo"
      },
      "id": "K0im4qLWShAo"
    },
    {
      "cell_type": "code",
      "source": [
        "import pandas as pd\n",
        "import numpy as np\n",
        "import matplotlib.pyplot as plt\n",
        "import seaborn as sns\n",
        "import folium\n",
        "\n",
        "%matplotlib inline\n",
        "df = pd.read_csv('https://raw.githubusercontent.com/ShubhamCJagtap/Capstone_Project_1_EDA/master/Final_Dataset.csv')"
      ],
      "metadata": {
        "id": "fnvL0ny3SiPo"
      },
      "id": "fnvL0ny3SiPo",
      "execution_count": 104,
      "outputs": []
    },
    {
      "cell_type": "markdown",
      "source": [
        "## 1. Distribution of Users(device_id) across States."
      ],
      "metadata": {
        "id": "pCvBcl0cSyCS"
      },
      "id": "pCvBcl0cSyCS"
    },
    {
      "cell_type": "code",
      "source": [
        "locations = (df[['latitude','longitude']].value_counts().index).tolist()\n",
        "mapit = None\n",
        "mapit = folium.Map( location=[22.00, 75.00], zoom_start=6 )\n",
        "for coord in locations:\n",
        "    folium.Marker( location=[ coord[0], coord[1] ], fill_color='#43d9de', radius=8 ).add_to( mapit )\n",
        "\n",
        "mapit\n"
      ],
      "metadata": {
        "colab": {
          "base_uri": "https://localhost:8080/",
          "height": 915
        },
        "id": "L_d1X5bhS0a5",
        "outputId": "9ad23fda-c3b6-43f4-b734-c076b3c6178d"
      },
      "id": "L_d1X5bhS0a5",
      "execution_count": 105,
      "outputs": [
        {
          "output_type": "execute_result",
          "data": {
            "text/plain": [
              "<folium.folium.Map at 0x7f52e154e650>"
            ],
            "text/html": [
              "<div style=\"width:100%;\"><div style=\"position:relative;width:100%;height:0;padding-bottom:60%;\"><span style=\"color:#565656\">Make this Notebook Trusted to load map: File -> Trust Notebook</span><iframe srcdoc=\"&lt;!DOCTYPE html&gt;\n",
              "&lt;head&gt;    \n",
              "    &lt;meta http-equiv=&quot;content-type&quot; content=&quot;text/html; charset=UTF-8&quot; /&gt;\n",
              "    \n",
              "        &lt;script&gt;\n",
              "            L_NO_TOUCH = false;\n",
              "            L_DISABLE_3D = false;\n",
              "        &lt;/script&gt;\n",
              "    \n",
              "    &lt;style&gt;html, body {width: 100%;height: 100%;margin: 0;padding: 0;}&lt;/style&gt;\n",
              "    &lt;style&gt;#map {position:absolute;top:0;bottom:0;right:0;left:0;}&lt;/style&gt;\n",
              "    &lt;script src=&quot;https://cdn.jsdelivr.net/npm/leaflet@1.6.0/dist/leaflet.js&quot;&gt;&lt;/script&gt;\n",
              "    &lt;script src=&quot;https://code.jquery.com/jquery-1.12.4.min.js&quot;&gt;&lt;/script&gt;\n",
              "    &lt;script src=&quot;https://maxcdn.bootstrapcdn.com/bootstrap/3.2.0/js/bootstrap.min.js&quot;&gt;&lt;/script&gt;\n",
              "    &lt;script src=&quot;https://cdnjs.cloudflare.com/ajax/libs/Leaflet.awesome-markers/2.0.2/leaflet.awesome-markers.js&quot;&gt;&lt;/script&gt;\n",
              "    &lt;link rel=&quot;stylesheet&quot; href=&quot;https://cdn.jsdelivr.net/npm/leaflet@1.6.0/dist/leaflet.css&quot;/&gt;\n",
              "    &lt;link rel=&quot;stylesheet&quot; href=&quot;https://maxcdn.bootstrapcdn.com/bootstrap/3.2.0/css/bootstrap.min.css&quot;/&gt;\n",
              "    &lt;link rel=&quot;stylesheet&quot; href=&quot;https://maxcdn.bootstrapcdn.com/bootstrap/3.2.0/css/bootstrap-theme.min.css&quot;/&gt;\n",
              "    &lt;link rel=&quot;stylesheet&quot; href=&quot;https://maxcdn.bootstrapcdn.com/font-awesome/4.6.3/css/font-awesome.min.css&quot;/&gt;\n",
              "    &lt;link rel=&quot;stylesheet&quot; href=&quot;https://cdnjs.cloudflare.com/ajax/libs/Leaflet.awesome-markers/2.0.2/leaflet.awesome-markers.css&quot;/&gt;\n",
              "    &lt;link rel=&quot;stylesheet&quot; href=&quot;https://cdn.jsdelivr.net/gh/python-visualization/folium/folium/templates/leaflet.awesome.rotate.min.css&quot;/&gt;\n",
              "    \n",
              "            &lt;meta name=&quot;viewport&quot; content=&quot;width=device-width,\n",
              "                initial-scale=1.0, maximum-scale=1.0, user-scalable=no&quot; /&gt;\n",
              "            &lt;style&gt;\n",
              "                #map_3fbfa88a9850fb238e55999b2349d486 {\n",
              "                    position: relative;\n",
              "                    width: 100.0%;\n",
              "                    height: 100.0%;\n",
              "                    left: 0.0%;\n",
              "                    top: 0.0%;\n",
              "                }\n",
              "            &lt;/style&gt;\n",
              "        \n",
              "&lt;/head&gt;\n",
              "&lt;body&gt;    \n",
              "    \n",
              "            &lt;div class=&quot;folium-map&quot; id=&quot;map_3fbfa88a9850fb238e55999b2349d486&quot; &gt;&lt;/div&gt;\n",
              "        \n",
              "&lt;/body&gt;\n",
              "&lt;script&gt;    \n",
              "    \n",
              "            var map_3fbfa88a9850fb238e55999b2349d486 = L.map(\n",
              "                &quot;map_3fbfa88a9850fb238e55999b2349d486&quot;,\n",
              "                {\n",
              "                    center: [22.0, 75.0],\n",
              "                    crs: L.CRS.EPSG3857,\n",
              "                    zoom: 6,\n",
              "                    zoomControl: true,\n",
              "                    preferCanvas: false,\n",
              "                }\n",
              "            );\n",
              "\n",
              "            \n",
              "\n",
              "        \n",
              "    \n",
              "            var tile_layer_0ac34b444bf0569f98909de350d7fd20 = L.tileLayer(\n",
              "                &quot;https://{s}.tile.openstreetmap.org/{z}/{x}/{y}.png&quot;,\n",
              "                {&quot;attribution&quot;: &quot;Data by \\u0026copy; \\u003ca href=\\&quot;http://openstreetmap.org\\&quot;\\u003eOpenStreetMap\\u003c/a\\u003e, under \\u003ca href=\\&quot;http://www.openstreetmap.org/copyright\\&quot;\\u003eODbL\\u003c/a\\u003e.&quot;, &quot;detectRetina&quot;: false, &quot;maxNativeZoom&quot;: 18, &quot;maxZoom&quot;: 18, &quot;minZoom&quot;: 0, &quot;noWrap&quot;: false, &quot;opacity&quot;: 1, &quot;subdomains&quot;: &quot;abc&quot;, &quot;tms&quot;: false}\n",
              "            ).addTo(map_3fbfa88a9850fb238e55999b2349d486);\n",
              "        \n",
              "    \n",
              "            var marker_7c3cd09e9d5dfb981495ab1aa01287a1 = L.marker(\n",
              "                [13.168106, 80.360389],\n",
              "                {&quot;fillColor&quot;: &quot;#43d9de&quot;, &quot;radius&quot;: 8}\n",
              "            ).addTo(map_3fbfa88a9850fb238e55999b2349d486);\n",
              "        \n",
              "    \n",
              "            var marker_83dec8f7aa5b53d9f67d29032d331a19 = L.marker(\n",
              "                [22.802167, 75.930756],\n",
              "                {&quot;fillColor&quot;: &quot;#43d9de&quot;, &quot;radius&quot;: 8}\n",
              "            ).addTo(map_3fbfa88a9850fb238e55999b2349d486);\n",
              "        \n",
              "    \n",
              "            var marker_059925e07932b978c92a75021a2fab54 = L.marker(\n",
              "                [22.787895, 75.947327],\n",
              "                {&quot;fillColor&quot;: &quot;#43d9de&quot;, &quot;radius&quot;: 8}\n",
              "            ).addTo(map_3fbfa88a9850fb238e55999b2349d486);\n",
              "        \n",
              "    \n",
              "            var marker_721f4a9cad00a2126add76a144826059 = L.marker(\n",
              "                [18.581989, 73.92591900000002],\n",
              "                {&quot;fillColor&quot;: &quot;#43d9de&quot;, &quot;radius&quot;: 8}\n",
              "            ).addTo(map_3fbfa88a9850fb238e55999b2349d486);\n",
              "        \n",
              "    \n",
              "            var marker_d4452cc471b2645f9bb302517ab51e54 = L.marker(\n",
              "                [19.048552, 72.88949299999999],\n",
              "                {&quot;fillColor&quot;: &quot;#43d9de&quot;, &quot;radius&quot;: 8}\n",
              "            ).addTo(map_3fbfa88a9850fb238e55999b2349d486);\n",
              "        \n",
              "    \n",
              "            var marker_0925f3a9e0818ef19dff1001dadf6672 = L.marker(\n",
              "                [28.714736, 77.29105799999998],\n",
              "                {&quot;fillColor&quot;: &quot;#43d9de&quot;, &quot;radius&quot;: 8}\n",
              "            ).addTo(map_3fbfa88a9850fb238e55999b2349d486);\n",
              "        \n",
              "    \n",
              "            var marker_940b181fe1ec9d587572452e379aad8f = L.marker(\n",
              "                [13.176652, 80.317379],\n",
              "                {&quot;fillColor&quot;: &quot;#43d9de&quot;, &quot;radius&quot;: 8}\n",
              "            ).addTo(map_3fbfa88a9850fb238e55999b2349d486);\n",
              "        \n",
              "    \n",
              "            var marker_30420bf436c86c208123572ceb62d3d4 = L.marker(\n",
              "                [28.721299, 77.25139499999997],\n",
              "                {&quot;fillColor&quot;: &quot;#43d9de&quot;, &quot;radius&quot;: 8}\n",
              "            ).addTo(map_3fbfa88a9850fb238e55999b2349d486);\n",
              "        \n",
              "    \n",
              "            var marker_b1a4f937d67ea96ab5af21de4e525180 = L.marker(\n",
              "                [22.806684, 75.87469300000002],\n",
              "                {&quot;fillColor&quot;: &quot;#43d9de&quot;, &quot;radius&quot;: 8}\n",
              "            ).addTo(map_3fbfa88a9850fb238e55999b2349d486);\n",
              "        \n",
              "    \n",
              "            var marker_cb8eb0e8bc17ea2d787c12f33a6b0706 = L.marker(\n",
              "                [22.790444, 75.946201],\n",
              "                {&quot;fillColor&quot;: &quot;#43d9de&quot;, &quot;radius&quot;: 8}\n",
              "            ).addTo(map_3fbfa88a9850fb238e55999b2349d486);\n",
              "        \n",
              "    \n",
              "            var marker_b941a8425a2dc6f9b03f5a6ece654c2d = L.marker(\n",
              "                [21.172943, 73.139842],\n",
              "                {&quot;fillColor&quot;: &quot;#43d9de&quot;, &quot;radius&quot;: 8}\n",
              "            ).addTo(map_3fbfa88a9850fb238e55999b2349d486);\n",
              "        \n",
              "    \n",
              "            var marker_51e57d8d08170e836460a93ea1f0b8ad = L.marker(\n",
              "                [22.794318, 75.91728],\n",
              "                {&quot;fillColor&quot;: &quot;#43d9de&quot;, &quot;radius&quot;: 8}\n",
              "            ).addTo(map_3fbfa88a9850fb238e55999b2349d486);\n",
              "        \n",
              "    \n",
              "            var marker_f6aec07098a4ee78f93edf9522f99f66 = L.marker(\n",
              "                [21.72991, 69.67754799999999],\n",
              "                {&quot;fillColor&quot;: &quot;#43d9de&quot;, &quot;radius&quot;: 8}\n",
              "            ).addTo(map_3fbfa88a9850fb238e55999b2349d486);\n",
              "        \n",
              "    \n",
              "            var marker_3ec8ac9eb6f1c8f6280b8e2d9d7aa468 = L.marker(\n",
              "                [22.731945, 75.9122],\n",
              "                {&quot;fillColor&quot;: &quot;#43d9de&quot;, &quot;radius&quot;: 8}\n",
              "            ).addTo(map_3fbfa88a9850fb238e55999b2349d486);\n",
              "        \n",
              "    \n",
              "            var marker_2d0fac5a35003586314d8adcad28d5e6 = L.marker(\n",
              "                [13.107005, 80.285741],\n",
              "                {&quot;fillColor&quot;: &quot;#43d9de&quot;, &quot;radius&quot;: 8}\n",
              "            ).addTo(map_3fbfa88a9850fb238e55999b2349d486);\n",
              "        \n",
              "    \n",
              "            var marker_e3f1b141ee4e7bb3b5792a2d80c98577 = L.marker(\n",
              "                [28.725134000000004, 77.307486],\n",
              "                {&quot;fillColor&quot;: &quot;#43d9de&quot;, &quot;radius&quot;: 8}\n",
              "            ).addTo(map_3fbfa88a9850fb238e55999b2349d486);\n",
              "        \n",
              "    \n",
              "            var marker_a2e5ce8a4d6789d2e10b40e3a5bed1e7 = L.marker(\n",
              "                [28.243589, 77.37672599999998],\n",
              "                {&quot;fillColor&quot;: &quot;#43d9de&quot;, &quot;radius&quot;: 8}\n",
              "            ).addTo(map_3fbfa88a9850fb238e55999b2349d486);\n",
              "        \n",
              "    \n",
              "            var marker_04422b159a7657e996b11eab29f7682b = L.marker(\n",
              "                [28.73014, 77.22567599999998],\n",
              "                {&quot;fillColor&quot;: &quot;#43d9de&quot;, &quot;radius&quot;: 8}\n",
              "            ).addTo(map_3fbfa88a9850fb238e55999b2349d486);\n",
              "        \n",
              "    \n",
              "            var marker_bddcc019c45decc310c392cfb497fb64 = L.marker(\n",
              "                [19.02751300000001, 72.84987],\n",
              "                {&quot;fillColor&quot;: &quot;#43d9de&quot;, &quot;radius&quot;: 8}\n",
              "            ).addTo(map_3fbfa88a9850fb238e55999b2349d486);\n",
              "        \n",
              "    \n",
              "            var marker_e7e5088d76bbefb7e0b8f54133ced07e = L.marker(\n",
              "                [13.106138, 80.33546799999998],\n",
              "                {&quot;fillColor&quot;: &quot;#43d9de&quot;, &quot;radius&quot;: 8}\n",
              "            ).addTo(map_3fbfa88a9850fb238e55999b2349d486);\n",
              "        \n",
              "    \n",
              "            var marker_aa1c47491d0e5752715aed54733a462f = L.marker(\n",
              "                [22.743242, 75.95711],\n",
              "                {&quot;fillColor&quot;: &quot;#43d9de&quot;, &quot;radius&quot;: 8}\n",
              "            ).addTo(map_3fbfa88a9850fb238e55999b2349d486);\n",
              "        \n",
              "    \n",
              "            var marker_47dd26e3f99d24399bb217a14f3246c1 = L.marker(\n",
              "                [26.960508, 75.84022399999998],\n",
              "                {&quot;fillColor&quot;: &quot;#43d9de&quot;, &quot;radius&quot;: 8}\n",
              "            ).addTo(map_3fbfa88a9850fb238e55999b2349d486);\n",
              "        \n",
              "    \n",
              "            var marker_12c1b16b6d4a65f41e0475bfb2ed2e5f = L.marker(\n",
              "                [28.719447, 77.27735],\n",
              "                {&quot;fillColor&quot;: &quot;#43d9de&quot;, &quot;radius&quot;: 8}\n",
              "            ).addTo(map_3fbfa88a9850fb238e55999b2349d486);\n",
              "        \n",
              "    \n",
              "            var marker_91c3653cb804e748fa4b925a8f076bf7 = L.marker(\n",
              "                [18.973144, 72.849357],\n",
              "                {&quot;fillColor&quot;: &quot;#43d9de&quot;, &quot;radius&quot;: 8}\n",
              "            ).addTo(map_3fbfa88a9850fb238e55999b2349d486);\n",
              "        \n",
              "    \n",
              "            var marker_5df635d52bc89480eda7189dc003ca9a = L.marker(\n",
              "                [13.173924, 80.36281699999998],\n",
              "                {&quot;fillColor&quot;: &quot;#43d9de&quot;, &quot;radius&quot;: 8}\n",
              "            ).addTo(map_3fbfa88a9850fb238e55999b2349d486);\n",
              "        \n",
              "    \n",
              "            var marker_73eceb43eae4fc882b7ecc86eaedb0c3 = L.marker(\n",
              "                [18.974597, 72.89165],\n",
              "                {&quot;fillColor&quot;: &quot;#43d9de&quot;, &quot;radius&quot;: 8}\n",
              "            ).addTo(map_3fbfa88a9850fb238e55999b2349d486);\n",
              "        \n",
              "    \n",
              "            var marker_ad3d9f653cdea09abe27533fe9a1b1af = L.marker(\n",
              "                [25.97546, 86.635746],\n",
              "                {&quot;fillColor&quot;: &quot;#43d9de&quot;, &quot;radius&quot;: 8}\n",
              "            ).addTo(map_3fbfa88a9850fb238e55999b2349d486);\n",
              "        \n",
              "    \n",
              "            var marker_289fda26f4fd36706cbcc93299b18d1f = L.marker(\n",
              "                [18.994862, 72.837595],\n",
              "                {&quot;fillColor&quot;: &quot;#43d9de&quot;, &quot;radius&quot;: 8}\n",
              "            ).addTo(map_3fbfa88a9850fb238e55999b2349d486);\n",
              "        \n",
              "    \n",
              "            var marker_9656cf061556db272d30e5c5fd18bd66 = L.marker(\n",
              "                [26.982180000000003, 75.84398],\n",
              "                {&quot;fillColor&quot;: &quot;#43d9de&quot;, &quot;radius&quot;: 8}\n",
              "            ).addTo(map_3fbfa88a9850fb238e55999b2349d486);\n",
              "        \n",
              "    \n",
              "            var marker_956a7ed23cb657ea94a8835675df1f9a = L.marker(\n",
              "                [22.749997, 75.921014],\n",
              "                {&quot;fillColor&quot;: &quot;#43d9de&quot;, &quot;radius&quot;: 8}\n",
              "            ).addTo(map_3fbfa88a9850fb238e55999b2349d486);\n",
              "        \n",
              "    \n",
              "            var marker_87530a537baf30f70d7d5b7ded45891b = L.marker(\n",
              "                [28.702655, 77.29743599999998],\n",
              "                {&quot;fillColor&quot;: &quot;#43d9de&quot;, &quot;radius&quot;: 8}\n",
              "            ).addTo(map_3fbfa88a9850fb238e55999b2349d486);\n",
              "        \n",
              "    \n",
              "            var marker_b2d4eecf7091a5ae3502bf551e90b459 = L.marker(\n",
              "                [22.770707, 75.937352],\n",
              "                {&quot;fillColor&quot;: &quot;#43d9de&quot;, &quot;radius&quot;: 8}\n",
              "            ).addTo(map_3fbfa88a9850fb238e55999b2349d486);\n",
              "        \n",
              "    \n",
              "            var marker_33b3b709b094efd03764fdd4604de630 = L.marker(\n",
              "                [10.420043, 77.078352],\n",
              "                {&quot;fillColor&quot;: &quot;#43d9de&quot;, &quot;radius&quot;: 8}\n",
              "            ).addTo(map_3fbfa88a9850fb238e55999b2349d486);\n",
              "        \n",
              "    \n",
              "            var marker_ae7cb086142db020db1f6b6d61cf40d5 = L.marker(\n",
              "                [28.713172, 77.301035],\n",
              "                {&quot;fillColor&quot;: &quot;#43d9de&quot;, &quot;radius&quot;: 8}\n",
              "            ).addTo(map_3fbfa88a9850fb238e55999b2349d486);\n",
              "        \n",
              "    \n",
              "            var marker_5bbc2f7ed8ded38f62a91d52fa7d2729 = L.marker(\n",
              "                [18.582829, 73.899939],\n",
              "                {&quot;fillColor&quot;: &quot;#43d9de&quot;, &quot;radius&quot;: 8}\n",
              "            ).addTo(map_3fbfa88a9850fb238e55999b2349d486);\n",
              "        \n",
              "    \n",
              "            var marker_8b335ea9c16a330792773b66a1603e47 = L.marker(\n",
              "                [14.755911, 76.934556],\n",
              "                {&quot;fillColor&quot;: &quot;#43d9de&quot;, &quot;radius&quot;: 8}\n",
              "            ).addTo(map_3fbfa88a9850fb238e55999b2349d486);\n",
              "        \n",
              "    \n",
              "            var marker_7985d6e3634f1b2bbcea1415b5eaf860 = L.marker(\n",
              "                [28.725042, 77.22086599999999],\n",
              "                {&quot;fillColor&quot;: &quot;#43d9de&quot;, &quot;radius&quot;: 8}\n",
              "            ).addTo(map_3fbfa88a9850fb238e55999b2349d486);\n",
              "        \n",
              "    \n",
              "            var marker_0269c4e829598594d4d1b48c7fb0d479 = L.marker(\n",
              "                [27.220364, 93.693305],\n",
              "                {&quot;fillColor&quot;: &quot;#43d9de&quot;, &quot;radius&quot;: 8}\n",
              "            ).addTo(map_3fbfa88a9850fb238e55999b2349d486);\n",
              "        \n",
              "    \n",
              "            var marker_2149b568f0810916dd740c70874c4df9 = L.marker(\n",
              "                [28.714417, 77.222831],\n",
              "                {&quot;fillColor&quot;: &quot;#43d9de&quot;, &quot;radius&quot;: 8}\n",
              "            ).addTo(map_3fbfa88a9850fb238e55999b2349d486);\n",
              "        \n",
              "    \n",
              "            var marker_8484128e2207495db218f6639d095ed1 = L.marker(\n",
              "                [18.99716, 72.856499],\n",
              "                {&quot;fillColor&quot;: &quot;#43d9de&quot;, &quot;radius&quot;: 8}\n",
              "            ).addTo(map_3fbfa88a9850fb238e55999b2349d486);\n",
              "        \n",
              "    \n",
              "            var marker_0139a5e7fcbefacb211613ac8fb07965 = L.marker(\n",
              "                [28.720776, 77.24874299999998],\n",
              "                {&quot;fillColor&quot;: &quot;#43d9de&quot;, &quot;radius&quot;: 8}\n",
              "            ).addTo(map_3fbfa88a9850fb238e55999b2349d486);\n",
              "        \n",
              "    \n",
              "            var marker_8f27b4ba7d4c55996fe8145774292199 = L.marker(\n",
              "                [26.96379300000001, 75.86479399999997],\n",
              "                {&quot;fillColor&quot;: &quot;#43d9de&quot;, &quot;radius&quot;: 8}\n",
              "            ).addTo(map_3fbfa88a9850fb238e55999b2349d486);\n",
              "        \n",
              "    \n",
              "            var marker_d5991df97704d11e381ea53f07b64771 = L.marker(\n",
              "                [22.74392000000001, 75.891763],\n",
              "                {&quot;fillColor&quot;: &quot;#43d9de&quot;, &quot;radius&quot;: 8}\n",
              "            ).addTo(map_3fbfa88a9850fb238e55999b2349d486);\n",
              "        \n",
              "    \n",
              "            var marker_c2f1edf2d6c985a18441e879668e0429 = L.marker(\n",
              "                [28.730801000000003, 77.230149],\n",
              "                {&quot;fillColor&quot;: &quot;#43d9de&quot;, &quot;radius&quot;: 8}\n",
              "            ).addTo(map_3fbfa88a9850fb238e55999b2349d486);\n",
              "        \n",
              "    \n",
              "            var marker_56e96ff45a38335b64df4d919b9cf5e2 = L.marker(\n",
              "                [24.108457, 75.09673799999999],\n",
              "                {&quot;fillColor&quot;: &quot;#43d9de&quot;, &quot;radius&quot;: 8}\n",
              "            ).addTo(map_3fbfa88a9850fb238e55999b2349d486);\n",
              "        \n",
              "    \n",
              "            var marker_e37f8688fc0d9d9d8487c71d1c9294a8 = L.marker(\n",
              "                [18.561131, 73.88929399999998],\n",
              "                {&quot;fillColor&quot;: &quot;#43d9de&quot;, &quot;radius&quot;: 8}\n",
              "            ).addTo(map_3fbfa88a9850fb238e55999b2349d486);\n",
              "        \n",
              "    \n",
              "            var marker_46b3fbc546bcb2e0bc2b8a4558b16148 = L.marker(\n",
              "                [29.631228000000004, 74.357556],\n",
              "                {&quot;fillColor&quot;: &quot;#43d9de&quot;, &quot;radius&quot;: 8}\n",
              "            ).addTo(map_3fbfa88a9850fb238e55999b2349d486);\n",
              "        \n",
              "    \n",
              "            var marker_f7b0bf62f79cdee0020fa522eaabb63d = L.marker(\n",
              "                [19.043364, 72.88967899999999],\n",
              "                {&quot;fillColor&quot;: &quot;#43d9de&quot;, &quot;radius&quot;: 8}\n",
              "            ).addTo(map_3fbfa88a9850fb238e55999b2349d486);\n",
              "        \n",
              "    \n",
              "            var marker_fdeb9c82b12984fdcc6bfaa1cb99bda9 = L.marker(\n",
              "                [17.811331, 83.31573399999998],\n",
              "                {&quot;fillColor&quot;: &quot;#43d9de&quot;, &quot;radius&quot;: 8}\n",
              "            ).addTo(map_3fbfa88a9850fb238e55999b2349d486);\n",
              "        \n",
              "    \n",
              "            var marker_49b39b064f778ec7e9ddc6aaaf314712 = L.marker(\n",
              "                [25.446868, 77.747175],\n",
              "                {&quot;fillColor&quot;: &quot;#43d9de&quot;, &quot;radius&quot;: 8}\n",
              "            ).addTo(map_3fbfa88a9850fb238e55999b2349d486);\n",
              "        \n",
              "    \n",
              "            var marker_9bf46131f666829113c8392411c18f88 = L.marker(\n",
              "                [27.003850000000003, 75.850319],\n",
              "                {&quot;fillColor&quot;: &quot;#43d9de&quot;, &quot;radius&quot;: 8}\n",
              "            ).addTo(map_3fbfa88a9850fb238e55999b2349d486);\n",
              "        \n",
              "    \n",
              "            var marker_8411af7ea3197e9e891b080524e74e39 = L.marker(\n",
              "                [28.69804700000001, 77.30511299999998],\n",
              "                {&quot;fillColor&quot;: &quot;#43d9de&quot;, &quot;radius&quot;: 8}\n",
              "            ).addTo(map_3fbfa88a9850fb238e55999b2349d486);\n",
              "        \n",
              "    \n",
              "            var marker_a5ccf81dbb4f8a5299877fe617f8f02d = L.marker(\n",
              "                [22.613523, 88.458629],\n",
              "                {&quot;fillColor&quot;: &quot;#43d9de&quot;, &quot;radius&quot;: 8}\n",
              "            ).addTo(map_3fbfa88a9850fb238e55999b2349d486);\n",
              "        \n",
              "    \n",
              "            var marker_e55c74ed4b669bebd2d6b40907e2c5c9 = L.marker(\n",
              "                [27.46417000000001, 82.21526700000003],\n",
              "                {&quot;fillColor&quot;: &quot;#43d9de&quot;, &quot;radius&quot;: 8}\n",
              "            ).addTo(map_3fbfa88a9850fb238e55999b2349d486);\n",
              "        \n",
              "    \n",
              "            var marker_4a7b75862bed92f97813da06ee739935 = L.marker(\n",
              "                [13.366088, 77.594507],\n",
              "                {&quot;fillColor&quot;: &quot;#43d9de&quot;, &quot;radius&quot;: 8}\n",
              "            ).addTo(map_3fbfa88a9850fb238e55999b2349d486);\n",
              "        \n",
              "    \n",
              "            var marker_46cd2f6aebcb0316601e5eab0c398b42 = L.marker(\n",
              "                [19.031783, 72.859096],\n",
              "                {&quot;fillColor&quot;: &quot;#43d9de&quot;, &quot;radius&quot;: 8}\n",
              "            ).addTo(map_3fbfa88a9850fb238e55999b2349d486);\n",
              "        \n",
              "    \n",
              "            var marker_5c68610ac65c32fb557b51a826293cf9 = L.marker(\n",
              "                [17.544241, 78.62444599999998],\n",
              "                {&quot;fillColor&quot;: &quot;#43d9de&quot;, &quot;radius&quot;: 8}\n",
              "            ).addTo(map_3fbfa88a9850fb238e55999b2349d486);\n",
              "        \n",
              "    \n",
              "            var marker_b60df318018f40aa2b5281e5c0d291bb = L.marker(\n",
              "                [13.016346, 79.16964300000002],\n",
              "                {&quot;fillColor&quot;: &quot;#43d9de&quot;, &quot;radius&quot;: 8}\n",
              "            ).addTo(map_3fbfa88a9850fb238e55999b2349d486);\n",
              "        \n",
              "    \n",
              "            var marker_799c41106ba79ee1ec5c61d99ccb5823 = L.marker(\n",
              "                [26.982275, 75.837197],\n",
              "                {&quot;fillColor&quot;: &quot;#43d9de&quot;, &quot;radius&quot;: 8}\n",
              "            ).addTo(map_3fbfa88a9850fb238e55999b2349d486);\n",
              "        \n",
              "    \n",
              "            var marker_2c81712baa719640e5cd65cbcecd2183 = L.marker(\n",
              "                [19.05524, 72.85632299999997],\n",
              "                {&quot;fillColor&quot;: &quot;#43d9de&quot;, &quot;radius&quot;: 8}\n",
              "            ).addTo(map_3fbfa88a9850fb238e55999b2349d486);\n",
              "        \n",
              "    \n",
              "            var marker_1b2428561610c8a071624d33d373c543 = L.marker(\n",
              "                [22.605248, 88.397726],\n",
              "                {&quot;fillColor&quot;: &quot;#43d9de&quot;, &quot;radius&quot;: 8}\n",
              "            ).addTo(map_3fbfa88a9850fb238e55999b2349d486);\n",
              "        \n",
              "    \n",
              "            var marker_9756e6aab36964d2114fd16f2e038d47 = L.marker(\n",
              "                [28.721406, 77.23920899999997],\n",
              "                {&quot;fillColor&quot;: &quot;#43d9de&quot;, &quot;radius&quot;: 8}\n",
              "            ).addTo(map_3fbfa88a9850fb238e55999b2349d486);\n",
              "        \n",
              "    \n",
              "            var marker_c8d41949079a369193a2b54b1c8e7668 = L.marker(\n",
              "                [19.019585, 72.84044499999997],\n",
              "                {&quot;fillColor&quot;: &quot;#43d9de&quot;, &quot;radius&quot;: 8}\n",
              "            ).addTo(map_3fbfa88a9850fb238e55999b2349d486);\n",
              "        \n",
              "    \n",
              "            var marker_36d81a72e3a85de4ef2acfbc107faff1 = L.marker(\n",
              "                [18.970121, 72.84996199999998],\n",
              "                {&quot;fillColor&quot;: &quot;#43d9de&quot;, &quot;radius&quot;: 8}\n",
              "            ).addTo(map_3fbfa88a9850fb238e55999b2349d486);\n",
              "        \n",
              "    \n",
              "            var marker_c1a2f14e8f0c707f53212d542846f190 = L.marker(\n",
              "                [21.661309, 71.294802],\n",
              "                {&quot;fillColor&quot;: &quot;#43d9de&quot;, &quot;radius&quot;: 8}\n",
              "            ).addTo(map_3fbfa88a9850fb238e55999b2349d486);\n",
              "        \n",
              "    \n",
              "            var marker_1977f4d51312bafab41297f19ac4da64 = L.marker(\n",
              "                [22.605519, 88.383117],\n",
              "                {&quot;fillColor&quot;: &quot;#43d9de&quot;, &quot;radius&quot;: 8}\n",
              "            ).addTo(map_3fbfa88a9850fb238e55999b2349d486);\n",
              "        \n",
              "    \n",
              "            var marker_d1d5c0f5f81738cbe196dcbb30c146b3 = L.marker(\n",
              "                [19.045159, 72.90147099999999],\n",
              "                {&quot;fillColor&quot;: &quot;#43d9de&quot;, &quot;radius&quot;: 8}\n",
              "            ).addTo(map_3fbfa88a9850fb238e55999b2349d486);\n",
              "        \n",
              "    \n",
              "            var marker_94568bef4cc347e0001e20c33ccbe593 = L.marker(\n",
              "                [22.810867, 75.915643],\n",
              "                {&quot;fillColor&quot;: &quot;#43d9de&quot;, &quot;radius&quot;: 8}\n",
              "            ).addTo(map_3fbfa88a9850fb238e55999b2349d486);\n",
              "        \n",
              "    \n",
              "            var marker_fbf094dc9a889f27877c43eba9e78051 = L.marker(\n",
              "                [28.70665300000001, 77.27436800000002],\n",
              "                {&quot;fillColor&quot;: &quot;#43d9de&quot;, &quot;radius&quot;: 8}\n",
              "            ).addTo(map_3fbfa88a9850fb238e55999b2349d486);\n",
              "        \n",
              "    \n",
              "            var marker_68c44f9a979ddb5d8577b2bfed9c2ee9 = L.marker(\n",
              "                [22.799558, 75.88427],\n",
              "                {&quot;fillColor&quot;: &quot;#43d9de&quot;, &quot;radius&quot;: 8}\n",
              "            ).addTo(map_3fbfa88a9850fb238e55999b2349d486);\n",
              "        \n",
              "    \n",
              "            var marker_c39c1983b750482ce254f3c87d4cb432 = L.marker(\n",
              "                [32.439865000000005, 75.61836600000002],\n",
              "                {&quot;fillColor&quot;: &quot;#43d9de&quot;, &quot;radius&quot;: 8}\n",
              "            ).addTo(map_3fbfa88a9850fb238e55999b2349d486);\n",
              "        \n",
              "    \n",
              "            var marker_05a3f9d8a672d2fe55c0be8b2fff562c = L.marker(\n",
              "                [18.984758, 72.90768],\n",
              "                {&quot;fillColor&quot;: &quot;#43d9de&quot;, &quot;radius&quot;: 8}\n",
              "            ).addTo(map_3fbfa88a9850fb238e55999b2349d486);\n",
              "        \n",
              "    \n",
              "            var marker_c58ca4f3e7f8e1299cb62787c3b69e31 = L.marker(\n",
              "                [28.75504, 77.286305],\n",
              "                {&quot;fillColor&quot;: &quot;#43d9de&quot;, &quot;radius&quot;: 8}\n",
              "            ).addTo(map_3fbfa88a9850fb238e55999b2349d486);\n",
              "        \n",
              "    \n",
              "            var marker_be2edc3979fdd2a3a1a9353d67cb1971 = L.marker(\n",
              "                [18.997404, 72.850652],\n",
              "                {&quot;fillColor&quot;: &quot;#43d9de&quot;, &quot;radius&quot;: 8}\n",
              "            ).addTo(map_3fbfa88a9850fb238e55999b2349d486);\n",
              "        \n",
              "    \n",
              "            var marker_1364fee50e808bb6c53c98aa396d5df2 = L.marker(\n",
              "                [26.959949, 75.899023],\n",
              "                {&quot;fillColor&quot;: &quot;#43d9de&quot;, &quot;radius&quot;: 8}\n",
              "            ).addTo(map_3fbfa88a9850fb238e55999b2349d486);\n",
              "        \n",
              "    \n",
              "            var marker_30d4f545b4a7f5afd1b493e14e7d68e8 = L.marker(\n",
              "                [19.010811, 72.830007],\n",
              "                {&quot;fillColor&quot;: &quot;#43d9de&quot;, &quot;radius&quot;: 8}\n",
              "            ).addTo(map_3fbfa88a9850fb238e55999b2349d486);\n",
              "        \n",
              "    \n",
              "            var marker_e91d0640907b86c3064dfd8a1edf2b82 = L.marker(\n",
              "                [22.642348, 88.41445],\n",
              "                {&quot;fillColor&quot;: &quot;#43d9de&quot;, &quot;radius&quot;: 8}\n",
              "            ).addTo(map_3fbfa88a9850fb238e55999b2349d486);\n",
              "        \n",
              "    \n",
              "            var marker_4d8180645f0e21b95c7be7df949cbc7f = L.marker(\n",
              "                [18.997876, 72.91795699999999],\n",
              "                {&quot;fillColor&quot;: &quot;#43d9de&quot;, &quot;radius&quot;: 8}\n",
              "            ).addTo(map_3fbfa88a9850fb238e55999b2349d486);\n",
              "        \n",
              "    \n",
              "            var marker_c8d79ee5ad1748e4bc28a2e55566f091 = L.marker(\n",
              "                [17.809973, 83.336929],\n",
              "                {&quot;fillColor&quot;: &quot;#43d9de&quot;, &quot;radius&quot;: 8}\n",
              "            ).addTo(map_3fbfa88a9850fb238e55999b2349d486);\n",
              "        \n",
              "    \n",
              "            var marker_4107f908b591640acb1fbbaf2e3f6aca = L.marker(\n",
              "                [26.952797, 75.819181],\n",
              "                {&quot;fillColor&quot;: &quot;#43d9de&quot;, &quot;radius&quot;: 8}\n",
              "            ).addTo(map_3fbfa88a9850fb238e55999b2349d486);\n",
              "        \n",
              "    \n",
              "            var marker_347a3d29cdbfe883989e0cacebc6702a = L.marker(\n",
              "                [22.626918, 88.40621999999998],\n",
              "                {&quot;fillColor&quot;: &quot;#43d9de&quot;, &quot;radius&quot;: 8}\n",
              "            ).addTo(map_3fbfa88a9850fb238e55999b2349d486);\n",
              "        \n",
              "    \n",
              "            var marker_7e9f1e4f82ba9655c61416574dffe2a6 = L.marker(\n",
              "                [19.027604, 72.85134000000002],\n",
              "                {&quot;fillColor&quot;: &quot;#43d9de&quot;, &quot;radius&quot;: 8}\n",
              "            ).addTo(map_3fbfa88a9850fb238e55999b2349d486);\n",
              "        \n",
              "    \n",
              "            var marker_1fa67373b167fabe2d39cd45e7c2075f = L.marker(\n",
              "                [19.012112, 72.90422199999998],\n",
              "                {&quot;fillColor&quot;: &quot;#43d9de&quot;, &quot;radius&quot;: 8}\n",
              "            ).addTo(map_3fbfa88a9850fb238e55999b2349d486);\n",
              "        \n",
              "    \n",
              "            var marker_d6e3aea9540e95e0849afc0381d2f7f8 = L.marker(\n",
              "                [19.073155, 79.5127],\n",
              "                {&quot;fillColor&quot;: &quot;#43d9de&quot;, &quot;radius&quot;: 8}\n",
              "            ).addTo(map_3fbfa88a9850fb238e55999b2349d486);\n",
              "        \n",
              "    \n",
              "            var marker_1d9d8c05898eea12f65dac90935587e7 = L.marker(\n",
              "                [18.889229, 82.613618],\n",
              "                {&quot;fillColor&quot;: &quot;#43d9de&quot;, &quot;radius&quot;: 8}\n",
              "            ).addTo(map_3fbfa88a9850fb238e55999b2349d486);\n",
              "        \n",
              "    \n",
              "            var marker_bfdae31f18e3b9040e2b7f333023c60d = L.marker(\n",
              "                [17.790249, 83.379038],\n",
              "                {&quot;fillColor&quot;: &quot;#43d9de&quot;, &quot;radius&quot;: 8}\n",
              "            ).addTo(map_3fbfa88a9850fb238e55999b2349d486);\n",
              "        \n",
              "    \n",
              "            var marker_d0f1fd315edbc930b58cb3326e2d34e9 = L.marker(\n",
              "                [28.113622, 80.562952],\n",
              "                {&quot;fillColor&quot;: &quot;#43d9de&quot;, &quot;radius&quot;: 8}\n",
              "            ).addTo(map_3fbfa88a9850fb238e55999b2349d486);\n",
              "        \n",
              "    \n",
              "            var marker_3a5758ef62c3ae27fcd896484d6860dd = L.marker(\n",
              "                [26.990456, 75.887711],\n",
              "                {&quot;fillColor&quot;: &quot;#43d9de&quot;, &quot;radius&quot;: 8}\n",
              "            ).addTo(map_3fbfa88a9850fb238e55999b2349d486);\n",
              "        \n",
              "    \n",
              "            var marker_2463d6fcd50faaf4a68cb66820417b95 = L.marker(\n",
              "                [18.990689, 72.90773100000001],\n",
              "                {&quot;fillColor&quot;: &quot;#43d9de&quot;, &quot;radius&quot;: 8}\n",
              "            ).addTo(map_3fbfa88a9850fb238e55999b2349d486);\n",
              "        \n",
              "    \n",
              "            var marker_26680cf5a300a2cd405a30ee7a59d756 = L.marker(\n",
              "                [22.768653, 75.89107800000002],\n",
              "                {&quot;fillColor&quot;: &quot;#43d9de&quot;, &quot;radius&quot;: 8}\n",
              "            ).addTo(map_3fbfa88a9850fb238e55999b2349d486);\n",
              "        \n",
              "    \n",
              "            var marker_84cd85482973edd95a05002d55b31d74 = L.marker(\n",
              "                [28.694918, 77.302714],\n",
              "                {&quot;fillColor&quot;: &quot;#43d9de&quot;, &quot;radius&quot;: 8}\n",
              "            ).addTo(map_3fbfa88a9850fb238e55999b2349d486);\n",
              "        \n",
              "    \n",
              "            var marker_33c1b68b9a80b947b4e761d63ec176e7 = L.marker(\n",
              "                [21.799351, 70.663832],\n",
              "                {&quot;fillColor&quot;: &quot;#43d9de&quot;, &quot;radius&quot;: 8}\n",
              "            ).addTo(map_3fbfa88a9850fb238e55999b2349d486);\n",
              "        \n",
              "    \n",
              "            var marker_97436424ee57f7f9a139dc07b722172a = L.marker(\n",
              "                [10.837001, 79.17324099999998],\n",
              "                {&quot;fillColor&quot;: &quot;#43d9de&quot;, &quot;radius&quot;: 8}\n",
              "            ).addTo(map_3fbfa88a9850fb238e55999b2349d486);\n",
              "        \n",
              "    \n",
              "            var marker_d41fb650c70825795aa9efba51b5d8d0 = L.marker(\n",
              "                [23.568091, 87.360187],\n",
              "                {&quot;fillColor&quot;: &quot;#43d9de&quot;, &quot;radius&quot;: 8}\n",
              "            ).addTo(map_3fbfa88a9850fb238e55999b2349d486);\n",
              "        \n",
              "    \n",
              "            var marker_49eba01cb199c18d289d3d2f2213413c = L.marker(\n",
              "                [28.739023000000003, 77.29312499999997],\n",
              "                {&quot;fillColor&quot;: &quot;#43d9de&quot;, &quot;radius&quot;: 8}\n",
              "            ).addTo(map_3fbfa88a9850fb238e55999b2349d486);\n",
              "        \n",
              "    \n",
              "            var marker_01649b62e2b49829659da298fd1178ac = L.marker(\n",
              "                [17.127412, 74.304305],\n",
              "                {&quot;fillColor&quot;: &quot;#43d9de&quot;, &quot;radius&quot;: 8}\n",
              "            ).addTo(map_3fbfa88a9850fb238e55999b2349d486);\n",
              "        \n",
              "    \n",
              "            var marker_f0050fc4e4a98a75a95acab3d6c34334 = L.marker(\n",
              "                [25.765812, 94.131362],\n",
              "                {&quot;fillColor&quot;: &quot;#43d9de&quot;, &quot;radius&quot;: 8}\n",
              "            ).addTo(map_3fbfa88a9850fb238e55999b2349d486);\n",
              "        \n",
              "    \n",
              "            var marker_077d169e2fc34fa7ed7e9b8b0e04288b = L.marker(\n",
              "                [9.551846, 78.14106000000002],\n",
              "                {&quot;fillColor&quot;: &quot;#43d9de&quot;, &quot;radius&quot;: 8}\n",
              "            ).addTo(map_3fbfa88a9850fb238e55999b2349d486);\n",
              "        \n",
              "    \n",
              "            var marker_d640a903faca11ce51fe3facc5b88e02 = L.marker(\n",
              "                [19.027528, 72.88210199999997],\n",
              "                {&quot;fillColor&quot;: &quot;#43d9de&quot;, &quot;radius&quot;: 8}\n",
              "            ).addTo(map_3fbfa88a9850fb238e55999b2349d486);\n",
              "        \n",
              "    \n",
              "            var marker_52049a48d30553f5753c6947f862e6f3 = L.marker(\n",
              "                [13.76885, 76.914361],\n",
              "                {&quot;fillColor&quot;: &quot;#43d9de&quot;, &quot;radius&quot;: 8}\n",
              "            ).addTo(map_3fbfa88a9850fb238e55999b2349d486);\n",
              "        \n",
              "    \n",
              "            var marker_bc7c2afc45eea9cd0a5c91487e595ed3 = L.marker(\n",
              "                [28.685333, 77.229586],\n",
              "                {&quot;fillColor&quot;: &quot;#43d9de&quot;, &quot;radius&quot;: 8}\n",
              "            ).addTo(map_3fbfa88a9850fb238e55999b2349d486);\n",
              "        \n",
              "    \n",
              "            var marker_6406f8353871b8b9b888df9580b5d73f = L.marker(\n",
              "                [17.338946999999994, 78.487472],\n",
              "                {&quot;fillColor&quot;: &quot;#43d9de&quot;, &quot;radius&quot;: 8}\n",
              "            ).addTo(map_3fbfa88a9850fb238e55999b2349d486);\n",
              "        \n",
              "    \n",
              "            var marker_98bce297eb2bf68434a96fb532c17a62 = L.marker(\n",
              "                [22.66652, 88.41986299999998],\n",
              "                {&quot;fillColor&quot;: &quot;#43d9de&quot;, &quot;radius&quot;: 8}\n",
              "            ).addTo(map_3fbfa88a9850fb238e55999b2349d486);\n",
              "        \n",
              "    \n",
              "            var marker_f3a68bc092992a47ea720ee2bf514d71 = L.marker(\n",
              "                [19.019013, 72.840848],\n",
              "                {&quot;fillColor&quot;: &quot;#43d9de&quot;, &quot;radius&quot;: 8}\n",
              "            ).addTo(map_3fbfa88a9850fb238e55999b2349d486);\n",
              "        \n",
              "    \n",
              "            var marker_faccf376679b5cff2883643815c502ac = L.marker(\n",
              "                [18.204352, 74.59020100000002],\n",
              "                {&quot;fillColor&quot;: &quot;#43d9de&quot;, &quot;radius&quot;: 8}\n",
              "            ).addTo(map_3fbfa88a9850fb238e55999b2349d486);\n",
              "        \n",
              "    \n",
              "            var marker_8f7acaf01a532c353ffae38707b0e7eb = L.marker(\n",
              "                [13.112314, 77.67197900000002],\n",
              "                {&quot;fillColor&quot;: &quot;#43d9de&quot;, &quot;radius&quot;: 8}\n",
              "            ).addTo(map_3fbfa88a9850fb238e55999b2349d486);\n",
              "        \n",
              "    \n",
              "            var marker_e18484b38959d741105e134692fbf970 = L.marker(\n",
              "                [22.42189500000001, 87.395537],\n",
              "                {&quot;fillColor&quot;: &quot;#43d9de&quot;, &quot;radius&quot;: 8}\n",
              "            ).addTo(map_3fbfa88a9850fb238e55999b2349d486);\n",
              "        \n",
              "    \n",
              "            var marker_182ade331262b0b437095aac816bf49c = L.marker(\n",
              "                [19.00917, 72.88384599999998],\n",
              "                {&quot;fillColor&quot;: &quot;#43d9de&quot;, &quot;radius&quot;: 8}\n",
              "            ).addTo(map_3fbfa88a9850fb238e55999b2349d486);\n",
              "        \n",
              "    \n",
              "            var marker_b190bdc70ab0387f05623c08324b72d2 = L.marker(\n",
              "                [22.666834, 88.40626400000002],\n",
              "                {&quot;fillColor&quot;: &quot;#43d9de&quot;, &quot;radius&quot;: 8}\n",
              "            ).addTo(map_3fbfa88a9850fb238e55999b2349d486);\n",
              "        \n",
              "    \n",
              "            var marker_1a991e54516ac924619a5567993dd3e9 = L.marker(\n",
              "                [25.302311000000003, 87.01869500000002],\n",
              "                {&quot;fillColor&quot;: &quot;#43d9de&quot;, &quot;radius&quot;: 8}\n",
              "            ).addTo(map_3fbfa88a9850fb238e55999b2349d486);\n",
              "        \n",
              "    \n",
              "            var marker_1c1f316126a5879beac4c7458d06d177 = L.marker(\n",
              "                [29.088915000000004, 77.776861],\n",
              "                {&quot;fillColor&quot;: &quot;#43d9de&quot;, &quot;radius&quot;: 8}\n",
              "            ).addTo(map_3fbfa88a9850fb238e55999b2349d486);\n",
              "        \n",
              "    \n",
              "            var marker_69baa69b69b8a6ab424e28cf16c116fd = L.marker(\n",
              "                [27.839851, 77.489192],\n",
              "                {&quot;fillColor&quot;: &quot;#43d9de&quot;, &quot;radius&quot;: 8}\n",
              "            ).addTo(map_3fbfa88a9850fb238e55999b2349d486);\n",
              "        \n",
              "    \n",
              "            var marker_ad361ae979e943f58367dabea4e41916 = L.marker(\n",
              "                [27.227874, 78.45769200000002],\n",
              "                {&quot;fillColor&quot;: &quot;#43d9de&quot;, &quot;radius&quot;: 8}\n",
              "            ).addTo(map_3fbfa88a9850fb238e55999b2349d486);\n",
              "        \n",
              "    \n",
              "            var marker_e5de3578eb730dd0e4d05320c85bf65b = L.marker(\n",
              "                [26.582177, 80.540122],\n",
              "                {&quot;fillColor&quot;: &quot;#43d9de&quot;, &quot;radius&quot;: 8}\n",
              "            ).addTo(map_3fbfa88a9850fb238e55999b2349d486);\n",
              "        \n",
              "    \n",
              "            var marker_a972d6ad537f24ccb62bc13703134a41 = L.marker(\n",
              "                [11.017761, 77.05536099999998],\n",
              "                {&quot;fillColor&quot;: &quot;#43d9de&quot;, &quot;radius&quot;: 8}\n",
              "            ).addTo(map_3fbfa88a9850fb238e55999b2349d486);\n",
              "        \n",
              "    \n",
              "            var marker_5fbe3dfc88ce91c953119d05bf4f7908 = L.marker(\n",
              "                [22.79534, 75.88079],\n",
              "                {&quot;fillColor&quot;: &quot;#43d9de&quot;, &quot;radius&quot;: 8}\n",
              "            ).addTo(map_3fbfa88a9850fb238e55999b2349d486);\n",
              "        \n",
              "    \n",
              "            var marker_716c290113b7bd61570ebf30f5bff840 = L.marker(\n",
              "                [27.509541, 80.143569],\n",
              "                {&quot;fillColor&quot;: &quot;#43d9de&quot;, &quot;radius&quot;: 8}\n",
              "            ).addTo(map_3fbfa88a9850fb238e55999b2349d486);\n",
              "        \n",
              "    \n",
              "            var marker_62ed5e983e1a36e7efb747740c75bff9 = L.marker(\n",
              "                [26.968204, 75.87277399999998],\n",
              "                {&quot;fillColor&quot;: &quot;#43d9de&quot;, &quot;radius&quot;: 8}\n",
              "            ).addTo(map_3fbfa88a9850fb238e55999b2349d486);\n",
              "        \n",
              "    \n",
              "            var marker_6b24cba9a05191888634fff5295578c0 = L.marker(\n",
              "                [22.636272, 88.395612],\n",
              "                {&quot;fillColor&quot;: &quot;#43d9de&quot;, &quot;radius&quot;: 8}\n",
              "            ).addTo(map_3fbfa88a9850fb238e55999b2349d486);\n",
              "        \n",
              "    \n",
              "            var marker_9d18f6e4d5ded2ec03acb0bb406a4383 = L.marker(\n",
              "                [21.226964, 81.414423],\n",
              "                {&quot;fillColor&quot;: &quot;#43d9de&quot;, &quot;radius&quot;: 8}\n",
              "            ).addTo(map_3fbfa88a9850fb238e55999b2349d486);\n",
              "        \n",
              "    \n",
              "            var marker_04a90d6602ad16743dbd3a805113d4f2 = L.marker(\n",
              "                [21.118441, 75.096649],\n",
              "                {&quot;fillColor&quot;: &quot;#43d9de&quot;, &quot;radius&quot;: 8}\n",
              "            ).addTo(map_3fbfa88a9850fb238e55999b2349d486);\n",
              "        \n",
              "    \n",
              "            var marker_d4935cc757c05520a6bbb54b77042ee9 = L.marker(\n",
              "                [22.632748, 88.43758000000004],\n",
              "                {&quot;fillColor&quot;: &quot;#43d9de&quot;, &quot;radius&quot;: 8}\n",
              "            ).addTo(map_3fbfa88a9850fb238e55999b2349d486);\n",
              "        \n",
              "    \n",
              "            var marker_c70a1195f6a26ddc4f0b2045fc1368c9 = L.marker(\n",
              "                [18.815172, 73.392101],\n",
              "                {&quot;fillColor&quot;: &quot;#43d9de&quot;, &quot;radius&quot;: 8}\n",
              "            ).addTo(map_3fbfa88a9850fb238e55999b2349d486);\n",
              "        \n",
              "    \n",
              "            var marker_aeea645e12463542324fb71e38e6d6ce = L.marker(\n",
              "                [23.704229, 85.46767600000003],\n",
              "                {&quot;fillColor&quot;: &quot;#43d9de&quot;, &quot;radius&quot;: 8}\n",
              "            ).addTo(map_3fbfa88a9850fb238e55999b2349d486);\n",
              "        \n",
              "    \n",
              "            var marker_4f44f4aa3088342dd41aad1bc122a9d0 = L.marker(\n",
              "                [29.732545, 75.991348],\n",
              "                {&quot;fillColor&quot;: &quot;#43d9de&quot;, &quot;radius&quot;: 8}\n",
              "            ).addTo(map_3fbfa88a9850fb238e55999b2349d486);\n",
              "        \n",
              "    \n",
              "            var marker_ca98b693d6bd0dcad03222ae0f646b6e = L.marker(\n",
              "                [25.414019, 83.03527199999998],\n",
              "                {&quot;fillColor&quot;: &quot;#43d9de&quot;, &quot;radius&quot;: 8}\n",
              "            ).addTo(map_3fbfa88a9850fb238e55999b2349d486);\n",
              "        \n",
              "    \n",
              "            var marker_960fac9012800d7899d1a92a025c6040 = L.marker(\n",
              "                [19.020057, 72.833405],\n",
              "                {&quot;fillColor&quot;: &quot;#43d9de&quot;, &quot;radius&quot;: 8}\n",
              "            ).addTo(map_3fbfa88a9850fb238e55999b2349d486);\n",
              "        \n",
              "    \n",
              "            var marker_5a238589d03787b67d03d99e2926e430 = L.marker(\n",
              "                [19.058393, 72.856966],\n",
              "                {&quot;fillColor&quot;: &quot;#43d9de&quot;, &quot;radius&quot;: 8}\n",
              "            ).addTo(map_3fbfa88a9850fb238e55999b2349d486);\n",
              "        \n",
              "    \n",
              "            var marker_f34410437e396c15245edf4e0e56dd28 = L.marker(\n",
              "                [22.746819, 75.952169],\n",
              "                {&quot;fillColor&quot;: &quot;#43d9de&quot;, &quot;radius&quot;: 8}\n",
              "            ).addTo(map_3fbfa88a9850fb238e55999b2349d486);\n",
              "        \n",
              "    \n",
              "            var marker_2bfb37a8cea67f818e1be673af653cd5 = L.marker(\n",
              "                [23.969764, 72.43693499999998],\n",
              "                {&quot;fillColor&quot;: &quot;#43d9de&quot;, &quot;radius&quot;: 8}\n",
              "            ).addTo(map_3fbfa88a9850fb238e55999b2349d486);\n",
              "        \n",
              "    \n",
              "            var marker_0dcce2554034932a91740ce79b299900 = L.marker(\n",
              "                [12.851041, 75.287918],\n",
              "                {&quot;fillColor&quot;: &quot;#43d9de&quot;, &quot;radius&quot;: 8}\n",
              "            ).addTo(map_3fbfa88a9850fb238e55999b2349d486);\n",
              "        \n",
              "    \n",
              "            var marker_3bcddb18773949374033c5313fee031d = L.marker(\n",
              "                [12.20661, 78.176022],\n",
              "                {&quot;fillColor&quot;: &quot;#43d9de&quot;, &quot;radius&quot;: 8}\n",
              "            ).addTo(map_3fbfa88a9850fb238e55999b2349d486);\n",
              "        \n",
              "    \n",
              "            var marker_3210e67442dac1e238d23ff742d5c396 = L.marker(\n",
              "                [10.996744, 76.99762899999998],\n",
              "                {&quot;fillColor&quot;: &quot;#43d9de&quot;, &quot;radius&quot;: 8}\n",
              "            ).addTo(map_3fbfa88a9850fb238e55999b2349d486);\n",
              "        \n",
              "    \n",
              "            var marker_2546a0d361966a563c2b2f01e456baf4 = L.marker(\n",
              "                [22.608716, 88.424996],\n",
              "                {&quot;fillColor&quot;: &quot;#43d9de&quot;, &quot;radius&quot;: 8}\n",
              "            ).addTo(map_3fbfa88a9850fb238e55999b2349d486);\n",
              "        \n",
              "    \n",
              "            var marker_468107dacdd566218ee9b1de59444ea7 = L.marker(\n",
              "                [17.753248000000006, 83.310946],\n",
              "                {&quot;fillColor&quot;: &quot;#43d9de&quot;, &quot;radius&quot;: 8}\n",
              "            ).addTo(map_3fbfa88a9850fb238e55999b2349d486);\n",
              "        \n",
              "    \n",
              "            var marker_0572ef705c11d500b4b8f1b855eb9a98 = L.marker(\n",
              "                [10.764882, 77.031554],\n",
              "                {&quot;fillColor&quot;: &quot;#43d9de&quot;, &quot;radius&quot;: 8}\n",
              "            ).addTo(map_3fbfa88a9850fb238e55999b2349d486);\n",
              "        \n",
              "    \n",
              "            var marker_f445ed190de3a043b6f5101e3994ee75 = L.marker(\n",
              "                [17.044614000000006, 80.02744399999997],\n",
              "                {&quot;fillColor&quot;: &quot;#43d9de&quot;, &quot;radius&quot;: 8}\n",
              "            ).addTo(map_3fbfa88a9850fb238e55999b2349d486);\n",
              "        \n",
              "    \n",
              "            var marker_2209cb170be032e4ba15c5f09001118f = L.marker(\n",
              "                [22.700336, 87.750916],\n",
              "                {&quot;fillColor&quot;: &quot;#43d9de&quot;, &quot;radius&quot;: 8}\n",
              "            ).addTo(map_3fbfa88a9850fb238e55999b2349d486);\n",
              "        \n",
              "    \n",
              "            var marker_51eba3ca3008a636e0f34fa5c5f684c6 = L.marker(\n",
              "                [12.576466, 78.237077],\n",
              "                {&quot;fillColor&quot;: &quot;#43d9de&quot;, &quot;radius&quot;: 8}\n",
              "            ).addTo(map_3fbfa88a9850fb238e55999b2349d486);\n",
              "        \n",
              "    \n",
              "            var marker_7437c401182954136b62e9b36e93df9e = L.marker(\n",
              "                [17.759207, 83.37774499999998],\n",
              "                {&quot;fillColor&quot;: &quot;#43d9de&quot;, &quot;radius&quot;: 8}\n",
              "            ).addTo(map_3fbfa88a9850fb238e55999b2349d486);\n",
              "        \n",
              "    \n",
              "            var marker_7f191c89b1e9d7bfff31fd771dbe2440 = L.marker(\n",
              "                [13.006084, 77.63558],\n",
              "                {&quot;fillColor&quot;: &quot;#43d9de&quot;, &quot;radius&quot;: 8}\n",
              "            ).addTo(map_3fbfa88a9850fb238e55999b2349d486);\n",
              "        \n",
              "    \n",
              "            var marker_3b6e6d8f69f5e53b0f3f9f1740379306 = L.marker(\n",
              "                [26.202617, 86.66720500000002],\n",
              "                {&quot;fillColor&quot;: &quot;#43d9de&quot;, &quot;radius&quot;: 8}\n",
              "            ).addTo(map_3fbfa88a9850fb238e55999b2349d486);\n",
              "        \n",
              "    \n",
              "            var marker_41b6f62c27a99e3a1c3eafce3d12436e = L.marker(\n",
              "                [22.583343, 88.41598499999998],\n",
              "                {&quot;fillColor&quot;: &quot;#43d9de&quot;, &quot;radius&quot;: 8}\n",
              "            ).addTo(map_3fbfa88a9850fb238e55999b2349d486);\n",
              "        \n",
              "    \n",
              "            var marker_1e8fdfadda2884f5fd93dc7b3fdd35d2 = L.marker(\n",
              "                [11.300097, 75.841352],\n",
              "                {&quot;fillColor&quot;: &quot;#43d9de&quot;, &quot;radius&quot;: 8}\n",
              "            ).addTo(map_3fbfa88a9850fb238e55999b2349d486);\n",
              "        \n",
              "    \n",
              "            var marker_40b9aad76d77b45bb0aa828553390ca3 = L.marker(\n",
              "                [26.987264000000003, 75.846789],\n",
              "                {&quot;fillColor&quot;: &quot;#43d9de&quot;, &quot;radius&quot;: 8}\n",
              "            ).addTo(map_3fbfa88a9850fb238e55999b2349d486);\n",
              "        \n",
              "    \n",
              "            var marker_e71e9b59a0ed5e1fa214789c7a43d15b = L.marker(\n",
              "                [11.46318, 77.739789],\n",
              "                {&quot;fillColor&quot;: &quot;#43d9de&quot;, &quot;radius&quot;: 8}\n",
              "            ).addTo(map_3fbfa88a9850fb238e55999b2349d486);\n",
              "        \n",
              "    \n",
              "            var marker_fa22db05f238d882cace1ee25187b5ef = L.marker(\n",
              "                [22.788127, 77.74765099999998],\n",
              "                {&quot;fillColor&quot;: &quot;#43d9de&quot;, &quot;radius&quot;: 8}\n",
              "            ).addTo(map_3fbfa88a9850fb238e55999b2349d486);\n",
              "        \n",
              "    \n",
              "            var marker_4ac350c31bbddf9dfe898a768518df56 = L.marker(\n",
              "                [18.506788, 79.22026199999998],\n",
              "                {&quot;fillColor&quot;: &quot;#43d9de&quot;, &quot;radius&quot;: 8}\n",
              "            ).addTo(map_3fbfa88a9850fb238e55999b2349d486);\n",
              "        \n",
              "    \n",
              "            var marker_f1dc284718cdbbeec007c6fa3051974f = L.marker(\n",
              "                [17.788899, 74.043769],\n",
              "                {&quot;fillColor&quot;: &quot;#43d9de&quot;, &quot;radius&quot;: 8}\n",
              "            ).addTo(map_3fbfa88a9850fb238e55999b2349d486);\n",
              "        \n",
              "    \n",
              "            var marker_af7554a11e4e2b841313b9c3f20e154b = L.marker(\n",
              "                [17.591186999999998, 80.701047],\n",
              "                {&quot;fillColor&quot;: &quot;#43d9de&quot;, &quot;radius&quot;: 8}\n",
              "            ).addTo(map_3fbfa88a9850fb238e55999b2349d486);\n",
              "        \n",
              "    \n",
              "            var marker_2e87cc0f22f4b1330d5c34b22621f1a7 = L.marker(\n",
              "                [19.008323, 72.9156],\n",
              "                {&quot;fillColor&quot;: &quot;#43d9de&quot;, &quot;radius&quot;: 8}\n",
              "            ).addTo(map_3fbfa88a9850fb238e55999b2349d486);\n",
              "        \n",
              "    \n",
              "            var marker_536e626c53fb9f3c164a8965f2bd6636 = L.marker(\n",
              "                [26.985873, 75.859352],\n",
              "                {&quot;fillColor&quot;: &quot;#43d9de&quot;, &quot;radius&quot;: 8}\n",
              "            ).addTo(map_3fbfa88a9850fb238e55999b2349d486);\n",
              "        \n",
              "    \n",
              "            var marker_05eae778f9ec2f5cdaf40a6a27ce7573 = L.marker(\n",
              "                [13.021293, 77.601329],\n",
              "                {&quot;fillColor&quot;: &quot;#43d9de&quot;, &quot;radius&quot;: 8}\n",
              "            ).addTo(map_3fbfa88a9850fb238e55999b2349d486);\n",
              "        \n",
              "    \n",
              "            var marker_d4d6218c84576343fe3870aedbd36f05 = L.marker(\n",
              "                [18.971306, 72.906089],\n",
              "                {&quot;fillColor&quot;: &quot;#43d9de&quot;, &quot;radius&quot;: 8}\n",
              "            ).addTo(map_3fbfa88a9850fb238e55999b2349d486);\n",
              "        \n",
              "    \n",
              "            var marker_859e83d90ab6c82b33f1cab745096216 = L.marker(\n",
              "                [29.436384000000004, 77.03106],\n",
              "                {&quot;fillColor&quot;: &quot;#43d9de&quot;, &quot;radius&quot;: 8}\n",
              "            ).addTo(map_3fbfa88a9850fb238e55999b2349d486);\n",
              "        \n",
              "    \n",
              "            var marker_05414d3ee2fc560baeb259209f696b88 = L.marker(\n",
              "                [13.09055, 80.27526300000002],\n",
              "                {&quot;fillColor&quot;: &quot;#43d9de&quot;, &quot;radius&quot;: 8}\n",
              "            ).addTo(map_3fbfa88a9850fb238e55999b2349d486);\n",
              "        \n",
              "    \n",
              "            var marker_e63e6e9edd44360b3c9394410f3565b4 = L.marker(\n",
              "                [11.281981, 75.870742],\n",
              "                {&quot;fillColor&quot;: &quot;#43d9de&quot;, &quot;radius&quot;: 8}\n",
              "            ).addTo(map_3fbfa88a9850fb238e55999b2349d486);\n",
              "        \n",
              "    \n",
              "            var marker_b2b51451bd6a8c96c86d0afb3fc737ae = L.marker(\n",
              "                [22.630769, 88.383535],\n",
              "                {&quot;fillColor&quot;: &quot;#43d9de&quot;, &quot;radius&quot;: 8}\n",
              "            ).addTo(map_3fbfa88a9850fb238e55999b2349d486);\n",
              "        \n",
              "    \n",
              "            var marker_35f16d2f1442a981890e447475bbf0b8 = L.marker(\n",
              "                [22.63001, 88.43369100000002],\n",
              "                {&quot;fillColor&quot;: &quot;#43d9de&quot;, &quot;radius&quot;: 8}\n",
              "            ).addTo(map_3fbfa88a9850fb238e55999b2349d486);\n",
              "        \n",
              "    \n",
              "            var marker_e9d5447175aefe76cb8ca45d1f201ce5 = L.marker(\n",
              "                [26.981071000000004, 75.89810200000002],\n",
              "                {&quot;fillColor&quot;: &quot;#43d9de&quot;, &quot;radius&quot;: 8}\n",
              "            ).addTo(map_3fbfa88a9850fb238e55999b2349d486);\n",
              "        \n",
              "    \n",
              "            var marker_ed516fe85165a6790894d7f6eb03073a = L.marker(\n",
              "                [23.605951, 77.824467],\n",
              "                {&quot;fillColor&quot;: &quot;#43d9de&quot;, &quot;radius&quot;: 8}\n",
              "            ).addTo(map_3fbfa88a9850fb238e55999b2349d486);\n",
              "        \n",
              "    \n",
              "            var marker_d4cb2ed35711897517217f7092bb6e37 = L.marker(\n",
              "                [13.065839, 77.596414],\n",
              "                {&quot;fillColor&quot;: &quot;#43d9de&quot;, &quot;radius&quot;: 8}\n",
              "            ).addTo(map_3fbfa88a9850fb238e55999b2349d486);\n",
              "        \n",
              "    \n",
              "            var marker_7c663d2348f35d193560907dffaaf811 = L.marker(\n",
              "                [21.234193, 72.87057399999998],\n",
              "                {&quot;fillColor&quot;: &quot;#43d9de&quot;, &quot;radius&quot;: 8}\n",
              "            ).addTo(map_3fbfa88a9850fb238e55999b2349d486);\n",
              "        \n",
              "    \n",
              "            var marker_bdf4dc92356123fcef2e232d4a37f52a = L.marker(\n",
              "                [25.416015, 86.54131699999998],\n",
              "                {&quot;fillColor&quot;: &quot;#43d9de&quot;, &quot;radius&quot;: 8}\n",
              "            ).addTo(map_3fbfa88a9850fb238e55999b2349d486);\n",
              "        \n",
              "    \n",
              "            var marker_ee8fd39e55d42adbc3896bc0520513f8 = L.marker(\n",
              "                [13.033248, 77.641865],\n",
              "                {&quot;fillColor&quot;: &quot;#43d9de&quot;, &quot;radius&quot;: 8}\n",
              "            ).addTo(map_3fbfa88a9850fb238e55999b2349d486);\n",
              "        \n",
              "    \n",
              "            var marker_511a5941a4af8979b231611b009a7617 = L.marker(\n",
              "                [20.315466, 85.93482900000002],\n",
              "                {&quot;fillColor&quot;: &quot;#43d9de&quot;, &quot;radius&quot;: 8}\n",
              "            ).addTo(map_3fbfa88a9850fb238e55999b2349d486);\n",
              "        \n",
              "    \n",
              "            var marker_64548e1956cb1fca9debb9f1b61a785c = L.marker(\n",
              "                [28.057463, 75.017945],\n",
              "                {&quot;fillColor&quot;: &quot;#43d9de&quot;, &quot;radius&quot;: 8}\n",
              "            ).addTo(map_3fbfa88a9850fb238e55999b2349d486);\n",
              "        \n",
              "    \n",
              "            var marker_c25d338d58a833f5e4091ebafe151d23 = L.marker(\n",
              "                [22.595452, 88.449577],\n",
              "                {&quot;fillColor&quot;: &quot;#43d9de&quot;, &quot;radius&quot;: 8}\n",
              "            ).addTo(map_3fbfa88a9850fb238e55999b2349d486);\n",
              "        \n",
              "    \n",
              "            var marker_b20283eebb3b34e2750755e6b2306ecf = L.marker(\n",
              "                [13.354271, 77.14533999999998],\n",
              "                {&quot;fillColor&quot;: &quot;#43d9de&quot;, &quot;radius&quot;: 8}\n",
              "            ).addTo(map_3fbfa88a9850fb238e55999b2349d486);\n",
              "        \n",
              "    \n",
              "            var marker_732468ea013dc087b34071fb6cb4d403 = L.marker(\n",
              "                [26.666756, 78.79294499999997],\n",
              "                {&quot;fillColor&quot;: &quot;#43d9de&quot;, &quot;radius&quot;: 8}\n",
              "            ).addTo(map_3fbfa88a9850fb238e55999b2349d486);\n",
              "        \n",
              "    \n",
              "            var marker_a0f93aa44fd7bdf2964119e14a5dd3f2 = L.marker(\n",
              "                [8.978064000000002, 77.369649],\n",
              "                {&quot;fillColor&quot;: &quot;#43d9de&quot;, &quot;radius&quot;: 8}\n",
              "            ).addTo(map_3fbfa88a9850fb238e55999b2349d486);\n",
              "        \n",
              "    \n",
              "            var marker_691a7ac2728f8d58fb338166b3af160b = L.marker(\n",
              "                [13.013832, 77.588068],\n",
              "                {&quot;fillColor&quot;: &quot;#43d9de&quot;, &quot;radius&quot;: 8}\n",
              "            ).addTo(map_3fbfa88a9850fb238e55999b2349d486);\n",
              "        \n",
              "    \n",
              "            var marker_dd8c39867873f3dc10ec3fc9be474e90 = L.marker(\n",
              "                [25.66568800000001, 85.20201],\n",
              "                {&quot;fillColor&quot;: &quot;#43d9de&quot;, &quot;radius&quot;: 8}\n",
              "            ).addTo(map_3fbfa88a9850fb238e55999b2349d486);\n",
              "        \n",
              "    \n",
              "            var marker_025ef1f1eae3b9a079d20becf84d5409 = L.marker(\n",
              "                [22.66452, 88.45636999999998],\n",
              "                {&quot;fillColor&quot;: &quot;#43d9de&quot;, &quot;radius&quot;: 8}\n",
              "            ).addTo(map_3fbfa88a9850fb238e55999b2349d486);\n",
              "        \n",
              "    \n",
              "            var marker_e7b0b1dfea4e7ab07d59e48cbd6e92f7 = L.marker(\n",
              "                [22.608837, 88.44309399999999],\n",
              "                {&quot;fillColor&quot;: &quot;#43d9de&quot;, &quot;radius&quot;: 8}\n",
              "            ).addTo(map_3fbfa88a9850fb238e55999b2349d486);\n",
              "        \n",
              "    \n",
              "            var marker_2f2428309bd52cc6aac3a7ca5b226c80 = L.marker(\n",
              "                [18.97890300000001, 72.84795199999998],\n",
              "                {&quot;fillColor&quot;: &quot;#43d9de&quot;, &quot;radius&quot;: 8}\n",
              "            ).addTo(map_3fbfa88a9850fb238e55999b2349d486);\n",
              "        \n",
              "    \n",
              "            var marker_ee7328aced061a68a51b641e59bf29f0 = L.marker(\n",
              "                [13.067912, 77.62343],\n",
              "                {&quot;fillColor&quot;: &quot;#43d9de&quot;, &quot;radius&quot;: 8}\n",
              "            ).addTo(map_3fbfa88a9850fb238e55999b2349d486);\n",
              "        \n",
              "    \n",
              "            var marker_f5b33ce57bb651eae022b4f4b3c16a5d = L.marker(\n",
              "                [22.638871, 88.42473000000004],\n",
              "                {&quot;fillColor&quot;: &quot;#43d9de&quot;, &quot;radius&quot;: 8}\n",
              "            ).addTo(map_3fbfa88a9850fb238e55999b2349d486);\n",
              "        \n",
              "    \n",
              "            var marker_61d783b0642ad414820ca56d31faff87 = L.marker(\n",
              "                [17.607547, 78.908951],\n",
              "                {&quot;fillColor&quot;: &quot;#43d9de&quot;, &quot;radius&quot;: 8}\n",
              "            ).addTo(map_3fbfa88a9850fb238e55999b2349d486);\n",
              "        \n",
              "    \n",
              "            var marker_89186d5bd096d16457bb8ea7706e9694 = L.marker(\n",
              "                [22.611418, 88.459745],\n",
              "                {&quot;fillColor&quot;: &quot;#43d9de&quot;, &quot;radius&quot;: 8}\n",
              "            ).addTo(map_3fbfa88a9850fb238e55999b2349d486);\n",
              "        \n",
              "    \n",
              "            var marker_88b9c129c9163db38901d6edf82ddf78 = L.marker(\n",
              "                [19.034147, 72.840598],\n",
              "                {&quot;fillColor&quot;: &quot;#43d9de&quot;, &quot;radius&quot;: 8}\n",
              "            ).addTo(map_3fbfa88a9850fb238e55999b2349d486);\n",
              "        \n",
              "    \n",
              "            var marker_9fbf09457f26bff9855ac612b9319a14 = L.marker(\n",
              "                [21.753957, 70.514309],\n",
              "                {&quot;fillColor&quot;: &quot;#43d9de&quot;, &quot;radius&quot;: 8}\n",
              "            ).addTo(map_3fbfa88a9850fb238e55999b2349d486);\n",
              "        \n",
              "    \n",
              "            var marker_7ae7d8801beeafda92da0dbdb6cca91c = L.marker(\n",
              "                [10.086939, 77.382515],\n",
              "                {&quot;fillColor&quot;: &quot;#43d9de&quot;, &quot;radius&quot;: 8}\n",
              "            ).addTo(map_3fbfa88a9850fb238e55999b2349d486);\n",
              "        \n",
              "    \n",
              "            var marker_61628b3360844360fccc176a2a714cfd = L.marker(\n",
              "                [20.211081, 80.058825],\n",
              "                {&quot;fillColor&quot;: &quot;#43d9de&quot;, &quot;radius&quot;: 8}\n",
              "            ).addTo(map_3fbfa88a9850fb238e55999b2349d486);\n",
              "        \n",
              "    \n",
              "            var marker_8da58f6a1693de1bcbee0790326a748c = L.marker(\n",
              "                [11.72142, 78.239038],\n",
              "                {&quot;fillColor&quot;: &quot;#43d9de&quot;, &quot;radius&quot;: 8}\n",
              "            ).addTo(map_3fbfa88a9850fb238e55999b2349d486);\n",
              "        \n",
              "    \n",
              "            var marker_330667fe7adf31d98ee9576914cfe489 = L.marker(\n",
              "                [13.005744, 77.603925],\n",
              "                {&quot;fillColor&quot;: &quot;#43d9de&quot;, &quot;radius&quot;: 8}\n",
              "            ).addTo(map_3fbfa88a9850fb238e55999b2349d486);\n",
              "        \n",
              "    \n",
              "            var marker_420701390b002a14ee58b279dc474eaf = L.marker(\n",
              "                [13.052378, 77.57424],\n",
              "                {&quot;fillColor&quot;: &quot;#43d9de&quot;, &quot;radius&quot;: 8}\n",
              "            ).addTo(map_3fbfa88a9850fb238e55999b2349d486);\n",
              "        \n",
              "    \n",
              "            var marker_dfdbeea6725de85d1a379b624b2be3ad = L.marker(\n",
              "                [13.085361, 80.198939],\n",
              "                {&quot;fillColor&quot;: &quot;#43d9de&quot;, &quot;radius&quot;: 8}\n",
              "            ).addTo(map_3fbfa88a9850fb238e55999b2349d486);\n",
              "        \n",
              "    \n",
              "            var marker_0dbc9a64798f707e4ebc41f47bf3e1e7 = L.marker(\n",
              "                [17.546913, 78.608026],\n",
              "                {&quot;fillColor&quot;: &quot;#43d9de&quot;, &quot;radius&quot;: 8}\n",
              "            ).addTo(map_3fbfa88a9850fb238e55999b2349d486);\n",
              "        \n",
              "    \n",
              "            var marker_0b573524d9fde5e98e762285ee0fb0fe = L.marker(\n",
              "                [19.03346100000001, 72.869187],\n",
              "                {&quot;fillColor&quot;: &quot;#43d9de&quot;, &quot;radius&quot;: 8}\n",
              "            ).addTo(map_3fbfa88a9850fb238e55999b2349d486);\n",
              "        \n",
              "    \n",
              "            var marker_306da0a7fef0cc22d9b01fa988c69fb4 = L.marker(\n",
              "                [13.012461, 77.625912],\n",
              "                {&quot;fillColor&quot;: &quot;#43d9de&quot;, &quot;radius&quot;: 8}\n",
              "            ).addTo(map_3fbfa88a9850fb238e55999b2349d486);\n",
              "        \n",
              "    \n",
              "            var marker_312349bde2bf0617f89b47755a4d241b = L.marker(\n",
              "                [13.054941, 77.602627],\n",
              "                {&quot;fillColor&quot;: &quot;#43d9de&quot;, &quot;radius&quot;: 8}\n",
              "            ).addTo(map_3fbfa88a9850fb238e55999b2349d486);\n",
              "        \n",
              "    \n",
              "            var marker_bf37e102c202cce47052ddb716f5b7ef = L.marker(\n",
              "                [18.620153, 73.862852],\n",
              "                {&quot;fillColor&quot;: &quot;#43d9de&quot;, &quot;radius&quot;: 8}\n",
              "            ).addTo(map_3fbfa88a9850fb238e55999b2349d486);\n",
              "        \n",
              "    \n",
              "            var marker_4378cb1b30cb034af66b224515f84a6b = L.marker(\n",
              "                [26.940566, 75.866871],\n",
              "                {&quot;fillColor&quot;: &quot;#43d9de&quot;, &quot;radius&quot;: 8}\n",
              "            ).addTo(map_3fbfa88a9850fb238e55999b2349d486);\n",
              "        \n",
              "    \n",
              "            var marker_bdabf41c6c8e0adafa52ff936db83311 = L.marker(\n",
              "                [26.470796000000004, 78.469854],\n",
              "                {&quot;fillColor&quot;: &quot;#43d9de&quot;, &quot;radius&quot;: 8}\n",
              "            ).addTo(map_3fbfa88a9850fb238e55999b2349d486);\n",
              "        \n",
              "    \n",
              "            var marker_4e94fa70c9fbef4b4528fb7047ea23b0 = L.marker(\n",
              "                [24.03094, 85.41103299999997],\n",
              "                {&quot;fillColor&quot;: &quot;#43d9de&quot;, &quot;radius&quot;: 8}\n",
              "            ).addTo(map_3fbfa88a9850fb238e55999b2349d486);\n",
              "        \n",
              "    \n",
              "            var marker_cc5ac577e4a7ae722f66778ec1d5493e = L.marker(\n",
              "                [9.446648, 78.87490199999998],\n",
              "                {&quot;fillColor&quot;: &quot;#43d9de&quot;, &quot;radius&quot;: 8}\n",
              "            ).addTo(map_3fbfa88a9850fb238e55999b2349d486);\n",
              "        \n",
              "    \n",
              "            var marker_4aa5b0b5aa495b5e2f915ea7ba7c2e78 = L.marker(\n",
              "                [20.057189, 72.762445],\n",
              "                {&quot;fillColor&quot;: &quot;#43d9de&quot;, &quot;radius&quot;: 8}\n",
              "            ).addTo(map_3fbfa88a9850fb238e55999b2349d486);\n",
              "        \n",
              "    \n",
              "            var marker_2e12f222893ad62ce2f0f589ef05ebcc = L.marker(\n",
              "                [22.634299, 88.44726800000002],\n",
              "                {&quot;fillColor&quot;: &quot;#43d9de&quot;, &quot;radius&quot;: 8}\n",
              "            ).addTo(map_3fbfa88a9850fb238e55999b2349d486);\n",
              "        \n",
              "    \n",
              "            var marker_b1ab6f8fbc2ab4905ae2fb364c82ff56 = L.marker(\n",
              "                [20.928312, 74.801476],\n",
              "                {&quot;fillColor&quot;: &quot;#43d9de&quot;, &quot;radius&quot;: 8}\n",
              "            ).addTo(map_3fbfa88a9850fb238e55999b2349d486);\n",
              "        \n",
              "    \n",
              "            var marker_62be08640579beced2c5835658eb8d12 = L.marker(\n",
              "                [18.491825, 79.20311],\n",
              "                {&quot;fillColor&quot;: &quot;#43d9de&quot;, &quot;radius&quot;: 8}\n",
              "            ).addTo(map_3fbfa88a9850fb238e55999b2349d486);\n",
              "        \n",
              "    \n",
              "            var marker_e49b061e91819c51112f4379677ef7ff = L.marker(\n",
              "                [22.645306, 88.381672],\n",
              "                {&quot;fillColor&quot;: &quot;#43d9de&quot;, &quot;radius&quot;: 8}\n",
              "            ).addTo(map_3fbfa88a9850fb238e55999b2349d486);\n",
              "        \n",
              "    \n",
              "            var marker_ac0799436a88c9efd32e3d2a7d9bba7e = L.marker(\n",
              "                [17.139592, 82.23372800000001],\n",
              "                {&quot;fillColor&quot;: &quot;#43d9de&quot;, &quot;radius&quot;: 8}\n",
              "            ).addTo(map_3fbfa88a9850fb238e55999b2349d486);\n",
              "        \n",
              "    \n",
              "            var marker_df74ebb0022eab938d037faff5043e2f = L.marker(\n",
              "                [16.275593, 77.849358],\n",
              "                {&quot;fillColor&quot;: &quot;#43d9de&quot;, &quot;radius&quot;: 8}\n",
              "            ).addTo(map_3fbfa88a9850fb238e55999b2349d486);\n",
              "        \n",
              "    \n",
              "            var marker_aefbe689c7a4072fdb06019dd3eb4062 = L.marker(\n",
              "                [14.665445000000002, 74.892043],\n",
              "                {&quot;fillColor&quot;: &quot;#43d9de&quot;, &quot;radius&quot;: 8}\n",
              "            ).addTo(map_3fbfa88a9850fb238e55999b2349d486);\n",
              "        \n",
              "    \n",
              "            var marker_3a8d6c7315efed898508df147d631dce = L.marker(\n",
              "                [13.1741, 80.36785499999998],\n",
              "                {&quot;fillColor&quot;: &quot;#43d9de&quot;, &quot;radius&quot;: 8}\n",
              "            ).addTo(map_3fbfa88a9850fb238e55999b2349d486);\n",
              "        \n",
              "    \n",
              "            var marker_99c47b271cbe9291d25371d5f38a14ec = L.marker(\n",
              "                [13.080917, 80.298468],\n",
              "                {&quot;fillColor&quot;: &quot;#43d9de&quot;, &quot;radius&quot;: 8}\n",
              "            ).addTo(map_3fbfa88a9850fb238e55999b2349d486);\n",
              "        \n",
              "    \n",
              "            var marker_a32c82f4a287568c713a79c537c26918 = L.marker(\n",
              "                [13.000586, 77.583315],\n",
              "                {&quot;fillColor&quot;: &quot;#43d9de&quot;, &quot;radius&quot;: 8}\n",
              "            ).addTo(map_3fbfa88a9850fb238e55999b2349d486);\n",
              "        \n",
              "    \n",
              "            var marker_e8fc485e978e9d56d91c051a4c3f0b94 = L.marker(\n",
              "                [12.834382000000002, 78.804098],\n",
              "                {&quot;fillColor&quot;: &quot;#43d9de&quot;, &quot;radius&quot;: 8}\n",
              "            ).addTo(map_3fbfa88a9850fb238e55999b2349d486);\n",
              "        \n",
              "    \n",
              "            var marker_0746dbffe5342df2398bfc03330ba1fc = L.marker(\n",
              "                [28.756544, 77.28495],\n",
              "                {&quot;fillColor&quot;: &quot;#43d9de&quot;, &quot;radius&quot;: 8}\n",
              "            ).addTo(map_3fbfa88a9850fb238e55999b2349d486);\n",
              "        \n",
              "    \n",
              "            var marker_bd940246dbdfa40145c925549368ee81 = L.marker(\n",
              "                [10.817131, 75.93565500000003],\n",
              "                {&quot;fillColor&quot;: &quot;#43d9de&quot;, &quot;radius&quot;: 8}\n",
              "            ).addTo(map_3fbfa88a9850fb238e55999b2349d486);\n",
              "        \n",
              "    \n",
              "            var marker_a8161c164b4a51a57d07b61da415fb2b = L.marker(\n",
              "                [22.019532, 86.786052],\n",
              "                {&quot;fillColor&quot;: &quot;#43d9de&quot;, &quot;radius&quot;: 8}\n",
              "            ).addTo(map_3fbfa88a9850fb238e55999b2349d486);\n",
              "        \n",
              "    \n",
              "            var marker_5aaf55e6a1f9215a020750a76203742d = L.marker(\n",
              "                [21.955042, 83.450629],\n",
              "                {&quot;fillColor&quot;: &quot;#43d9de&quot;, &quot;radius&quot;: 8}\n",
              "            ).addTo(map_3fbfa88a9850fb238e55999b2349d486);\n",
              "        \n",
              "    \n",
              "            var marker_a55aabd4c81c0f0f5e37dc97e74e9d04 = L.marker(\n",
              "                [33.749655999999995, 75.188573],\n",
              "                {&quot;fillColor&quot;: &quot;#43d9de&quot;, &quot;radius&quot;: 8}\n",
              "            ).addTo(map_3fbfa88a9850fb238e55999b2349d486);\n",
              "        \n",
              "    \n",
              "            var marker_ca617612a09081e902786e9e5de8af51 = L.marker(\n",
              "                [13.019147, 77.59503199999997],\n",
              "                {&quot;fillColor&quot;: &quot;#43d9de&quot;, &quot;radius&quot;: 8}\n",
              "            ).addTo(map_3fbfa88a9850fb238e55999b2349d486);\n",
              "        \n",
              "    \n",
              "            var marker_9d89ec9c61bda4566279fcb19803e9a3 = L.marker(\n",
              "                [19.054907, 72.90256099999998],\n",
              "                {&quot;fillColor&quot;: &quot;#43d9de&quot;, &quot;radius&quot;: 8}\n",
              "            ).addTo(map_3fbfa88a9850fb238e55999b2349d486);\n",
              "        \n",
              "    \n",
              "            var marker_40b04090d3c8e33b323bb86016b2720f = L.marker(\n",
              "                [17.472023999999998, 78.50537],\n",
              "                {&quot;fillColor&quot;: &quot;#43d9de&quot;, &quot;radius&quot;: 8}\n",
              "            ).addTo(map_3fbfa88a9850fb238e55999b2349d486);\n",
              "        \n",
              "    \n",
              "            var marker_b73733d9a7b55c7451625cb44caba4a2 = L.marker(\n",
              "                [12.99903, 77.60904500000002],\n",
              "                {&quot;fillColor&quot;: &quot;#43d9de&quot;, &quot;radius&quot;: 8}\n",
              "            ).addTo(map_3fbfa88a9850fb238e55999b2349d486);\n",
              "        \n",
              "    \n",
              "            var marker_116505cc45fda85d0c56035a70071ded = L.marker(\n",
              "                [24.687205, 76.17831600000002],\n",
              "                {&quot;fillColor&quot;: &quot;#43d9de&quot;, &quot;radius&quot;: 8}\n",
              "            ).addTo(map_3fbfa88a9850fb238e55999b2349d486);\n",
              "        \n",
              "    \n",
              "            var marker_3c2cf137d8d4b747884641351e2dabde = L.marker(\n",
              "                [22.648584, 88.451657],\n",
              "                {&quot;fillColor&quot;: &quot;#43d9de&quot;, &quot;radius&quot;: 8}\n",
              "            ).addTo(map_3fbfa88a9850fb238e55999b2349d486);\n",
              "        \n",
              "    \n",
              "            var marker_7c2c58b840a2e7fc4a7280bffa4ac0d1 = L.marker(\n",
              "                [22.616353, 88.431063],\n",
              "                {&quot;fillColor&quot;: &quot;#43d9de&quot;, &quot;radius&quot;: 8}\n",
              "            ).addTo(map_3fbfa88a9850fb238e55999b2349d486);\n",
              "        \n",
              "    \n",
              "            var marker_8fdfb21aef15ff10af9a8826b264401a = L.marker(\n",
              "                [26.950218000000003, 75.887739],\n",
              "                {&quot;fillColor&quot;: &quot;#43d9de&quot;, &quot;radius&quot;: 8}\n",
              "            ).addTo(map_3fbfa88a9850fb238e55999b2349d486);\n",
              "        \n",
              "    \n",
              "            var marker_7ce112173944b2eb6e974759c8d35493 = L.marker(\n",
              "                [17.416697, 78.55574800000002],\n",
              "                {&quot;fillColor&quot;: &quot;#43d9de&quot;, &quot;radius&quot;: 8}\n",
              "            ).addTo(map_3fbfa88a9850fb238e55999b2349d486);\n",
              "        \n",
              "    \n",
              "            var marker_c3d94d34379cf846b316521b813fb825 = L.marker(\n",
              "                [31.715439, 74.94241600000002],\n",
              "                {&quot;fillColor&quot;: &quot;#43d9de&quot;, &quot;radius&quot;: 8}\n",
              "            ).addTo(map_3fbfa88a9850fb238e55999b2349d486);\n",
              "        \n",
              "    \n",
              "            var marker_7454013861aa79c97075a626821edc68 = L.marker(\n",
              "                [23.962112, 88.114373],\n",
              "                {&quot;fillColor&quot;: &quot;#43d9de&quot;, &quot;radius&quot;: 8}\n",
              "            ).addTo(map_3fbfa88a9850fb238e55999b2349d486);\n",
              "        \n",
              "    \n",
              "            var marker_5b0a3dbb4adbaedbb3d98fbc7fd19967 = L.marker(\n",
              "                [17.105757999999998, 82.21298200000003],\n",
              "                {&quot;fillColor&quot;: &quot;#43d9de&quot;, &quot;radius&quot;: 8}\n",
              "            ).addTo(map_3fbfa88a9850fb238e55999b2349d486);\n",
              "        \n",
              "    \n",
              "            var marker_7a8f1d72004684b0f5706a416194d3b0 = L.marker(\n",
              "                [29.155417, 77.97421800000002],\n",
              "                {&quot;fillColor&quot;: &quot;#43d9de&quot;, &quot;radius&quot;: 8}\n",
              "            ).addTo(map_3fbfa88a9850fb238e55999b2349d486);\n",
              "        \n",
              "    \n",
              "            var marker_31c5a4eb46ac57ca557a44974a35f2b4 = L.marker(\n",
              "                [13.063104, 77.643704],\n",
              "                {&quot;fillColor&quot;: &quot;#43d9de&quot;, &quot;radius&quot;: 8}\n",
              "            ).addTo(map_3fbfa88a9850fb238e55999b2349d486);\n",
              "        \n",
              "    \n",
              "            var marker_4293964e77a6c21df6b3b61dcdbfcd37 = L.marker(\n",
              "                [13.029946, 77.62139],\n",
              "                {&quot;fillColor&quot;: &quot;#43d9de&quot;, &quot;radius&quot;: 8}\n",
              "            ).addTo(map_3fbfa88a9850fb238e55999b2349d486);\n",
              "        \n",
              "    \n",
              "            var marker_26c361791a9ecd13b358c789c9c4e239 = L.marker(\n",
              "                [22.622617, 88.45451700000002],\n",
              "                {&quot;fillColor&quot;: &quot;#43d9de&quot;, &quot;radius&quot;: 8}\n",
              "            ).addTo(map_3fbfa88a9850fb238e55999b2349d486);\n",
              "        \n",
              "    \n",
              "            var marker_def2512f4133eaf537328e2fc998374f = L.marker(\n",
              "                [18.733161, 78.136015],\n",
              "                {&quot;fillColor&quot;: &quot;#43d9de&quot;, &quot;radius&quot;: 8}\n",
              "            ).addTo(map_3fbfa88a9850fb238e55999b2349d486);\n",
              "        \n",
              "    \n",
              "            var marker_02ac31d4f15a2910de688c66535945f5 = L.marker(\n",
              "                [17.496648, 78.54416599999998],\n",
              "                {&quot;fillColor&quot;: &quot;#43d9de&quot;, &quot;radius&quot;: 8}\n",
              "            ).addTo(map_3fbfa88a9850fb238e55999b2349d486);\n",
              "        \n",
              "    \n",
              "            var marker_0b2d413d7eb378f8819e3bc94bf82c01 = L.marker(\n",
              "                [12.983841, 77.624849],\n",
              "                {&quot;fillColor&quot;: &quot;#43d9de&quot;, &quot;radius&quot;: 8}\n",
              "            ).addTo(map_3fbfa88a9850fb238e55999b2349d486);\n",
              "        \n",
              "    \n",
              "            var marker_243dba246c3129ab22ed70e613c482b7 = L.marker(\n",
              "                [26.217722, 86.665353],\n",
              "                {&quot;fillColor&quot;: &quot;#43d9de&quot;, &quot;radius&quot;: 8}\n",
              "            ).addTo(map_3fbfa88a9850fb238e55999b2349d486);\n",
              "        \n",
              "    \n",
              "            var marker_d7cfadbd68edf634a6f2b9138b21acaa = L.marker(\n",
              "                [22.658261, 88.415146],\n",
              "                {&quot;fillColor&quot;: &quot;#43d9de&quot;, &quot;radius&quot;: 8}\n",
              "            ).addTo(map_3fbfa88a9850fb238e55999b2349d486);\n",
              "        \n",
              "    \n",
              "            var marker_47a2e816a9758be63a6a281b121f6645 = L.marker(\n",
              "                [28.472731000000003, 78.136365],\n",
              "                {&quot;fillColor&quot;: &quot;#43d9de&quot;, &quot;radius&quot;: 8}\n",
              "            ).addTo(map_3fbfa88a9850fb238e55999b2349d486);\n",
              "        \n",
              "    \n",
              "            var marker_d7477239ca969ed4c00a5bb21d11fcb9 = L.marker(\n",
              "                [22.655201, 88.442674],\n",
              "                {&quot;fillColor&quot;: &quot;#43d9de&quot;, &quot;radius&quot;: 8}\n",
              "            ).addTo(map_3fbfa88a9850fb238e55999b2349d486);\n",
              "        \n",
              "    \n",
              "            var marker_b314606663f92744e017c6e535c9f9a9 = L.marker(\n",
              "                [26.154415, 88.00743],\n",
              "                {&quot;fillColor&quot;: &quot;#43d9de&quot;, &quot;radius&quot;: 8}\n",
              "            ).addTo(map_3fbfa88a9850fb238e55999b2349d486);\n",
              "        \n",
              "    \n",
              "            var marker_c2c9ca00ad90d037a24c4bdf16ce2340 = L.marker(\n",
              "                [17.467232, 78.59070799999998],\n",
              "                {&quot;fillColor&quot;: &quot;#43d9de&quot;, &quot;radius&quot;: 8}\n",
              "            ).addTo(map_3fbfa88a9850fb238e55999b2349d486);\n",
              "        \n",
              "    \n",
              "            var marker_cf52ff0910303ff77fd6a02018bf8dbc = L.marker(\n",
              "                [24.538882, 86.754986],\n",
              "                {&quot;fillColor&quot;: &quot;#43d9de&quot;, &quot;radius&quot;: 8}\n",
              "            ).addTo(map_3fbfa88a9850fb238e55999b2349d486);\n",
              "        \n",
              "    \n",
              "            var marker_0007b65a6ff06e08fbe1bbf7677dedf6 = L.marker(\n",
              "                [17.491065, 78.511055],\n",
              "                {&quot;fillColor&quot;: &quot;#43d9de&quot;, &quot;radius&quot;: 8}\n",
              "            ).addTo(map_3fbfa88a9850fb238e55999b2349d486);\n",
              "        \n",
              "    \n",
              "            var marker_3500835184ce66000c37d7f6dca74d72 = L.marker(\n",
              "                [27.655146, 80.729454],\n",
              "                {&quot;fillColor&quot;: &quot;#43d9de&quot;, &quot;radius&quot;: 8}\n",
              "            ).addTo(map_3fbfa88a9850fb238e55999b2349d486);\n",
              "        \n",
              "    \n",
              "            var marker_24508865c83323deab371feada07909a = L.marker(\n",
              "                [18.994798, 72.85691999999997],\n",
              "                {&quot;fillColor&quot;: &quot;#43d9de&quot;, &quot;radius&quot;: 8}\n",
              "            ).addTo(map_3fbfa88a9850fb238e55999b2349d486);\n",
              "        \n",
              "    \n",
              "            var marker_9a731d444ea2993096ddaa7d8c8c2067 = L.marker(\n",
              "                [13.047718, 77.640524],\n",
              "                {&quot;fillColor&quot;: &quot;#43d9de&quot;, &quot;radius&quot;: 8}\n",
              "            ).addTo(map_3fbfa88a9850fb238e55999b2349d486);\n",
              "        \n",
              "    \n",
              "            var marker_8867822afebb5e5e8112db283ceab051 = L.marker(\n",
              "                [12.855066, 79.794985],\n",
              "                {&quot;fillColor&quot;: &quot;#43d9de&quot;, &quot;radius&quot;: 8}\n",
              "            ).addTo(map_3fbfa88a9850fb238e55999b2349d486);\n",
              "        \n",
              "    \n",
              "            var marker_f17ab495baa7068c3c67a3c231fd96df = L.marker(\n",
              "                [12.983788, 77.649361],\n",
              "                {&quot;fillColor&quot;: &quot;#43d9de&quot;, &quot;radius&quot;: 8}\n",
              "            ).addTo(map_3fbfa88a9850fb238e55999b2349d486);\n",
              "        \n",
              "    \n",
              "            var marker_63ff95cd7ff9ab99c7022058563ddaf9 = L.marker(\n",
              "                [23.256959, 88.459079],\n",
              "                {&quot;fillColor&quot;: &quot;#43d9de&quot;, &quot;radius&quot;: 8}\n",
              "            ).addTo(map_3fbfa88a9850fb238e55999b2349d486);\n",
              "        \n",
              "    \n",
              "            var marker_f8e35ad05345cbeb0a1ec461c8feab7d = L.marker(\n",
              "                [13.82915, 76.990864],\n",
              "                {&quot;fillColor&quot;: &quot;#43d9de&quot;, &quot;radius&quot;: 8}\n",
              "            ).addTo(map_3fbfa88a9850fb238e55999b2349d486);\n",
              "        \n",
              "    \n",
              "            var marker_450fac87efeffacff0d2f827f34edc79 = L.marker(\n",
              "                [10.561827, 76.22030600000002],\n",
              "                {&quot;fillColor&quot;: &quot;#43d9de&quot;, &quot;radius&quot;: 8}\n",
              "            ).addTo(map_3fbfa88a9850fb238e55999b2349d486);\n",
              "        \n",
              "    \n",
              "            var marker_eb8123423ece5252f98b1132da6a8adb = L.marker(\n",
              "                [17.467964000000002, 78.53652000000002],\n",
              "                {&quot;fillColor&quot;: &quot;#43d9de&quot;, &quot;radius&quot;: 8}\n",
              "            ).addTo(map_3fbfa88a9850fb238e55999b2349d486);\n",
              "        \n",
              "    \n",
              "            var marker_703b013967fc0795a5014d6f982d4ada = L.marker(\n",
              "                [22.620992, 88.41198299999998],\n",
              "                {&quot;fillColor&quot;: &quot;#43d9de&quot;, &quot;radius&quot;: 8}\n",
              "            ).addTo(map_3fbfa88a9850fb238e55999b2349d486);\n",
              "        \n",
              "    \n",
              "            var marker_d88e777ec220639cb490d2f90537df5f = L.marker(\n",
              "                [30.713434000000003, 76.923949],\n",
              "                {&quot;fillColor&quot;: &quot;#43d9de&quot;, &quot;radius&quot;: 8}\n",
              "            ).addTo(map_3fbfa88a9850fb238e55999b2349d486);\n",
              "        \n",
              "    \n",
              "            var marker_2926357dc60c55506b9cd2466b7ddb91 = L.marker(\n",
              "                [20.020904, 79.361351],\n",
              "                {&quot;fillColor&quot;: &quot;#43d9de&quot;, &quot;radius&quot;: 8}\n",
              "            ).addTo(map_3fbfa88a9850fb238e55999b2349d486);\n",
              "        \n",
              "    \n",
              "            var marker_74091f3a77f8192cdcb92604c7054b82 = L.marker(\n",
              "                [26.685772, 85.563804],\n",
              "                {&quot;fillColor&quot;: &quot;#43d9de&quot;, &quot;radius&quot;: 8}\n",
              "            ).addTo(map_3fbfa88a9850fb238e55999b2349d486);\n",
              "        \n",
              "    \n",
              "            var marker_c1f8c668a3eedf5865894c8cfdc21bae = L.marker(\n",
              "                [19.161054, 74.797754],\n",
              "                {&quot;fillColor&quot;: &quot;#43d9de&quot;, &quot;radius&quot;: 8}\n",
              "            ).addTo(map_3fbfa88a9850fb238e55999b2349d486);\n",
              "        \n",
              "    \n",
              "            var marker_854566af885ae53cea6144d3e6f3d0c6 = L.marker(\n",
              "                [22.666644, 88.44488100000002],\n",
              "                {&quot;fillColor&quot;: &quot;#43d9de&quot;, &quot;radius&quot;: 8}\n",
              "            ).addTo(map_3fbfa88a9850fb238e55999b2349d486);\n",
              "        \n",
              "    \n",
              "            var marker_6f2e77b6c99a2515fc1f535c0a91932d = L.marker(\n",
              "                [14.391157000000002, 76.744504],\n",
              "                {&quot;fillColor&quot;: &quot;#43d9de&quot;, &quot;radius&quot;: 8}\n",
              "            ).addTo(map_3fbfa88a9850fb238e55999b2349d486);\n",
              "        \n",
              "    \n",
              "            var marker_e68f87193295d3085b3b2ee02b64b147 = L.marker(\n",
              "                [13.010638, 77.606202],\n",
              "                {&quot;fillColor&quot;: &quot;#43d9de&quot;, &quot;radius&quot;: 8}\n",
              "            ).addTo(map_3fbfa88a9850fb238e55999b2349d486);\n",
              "        \n",
              "    \n",
              "            var marker_68b993b80f226b0db2efb2435759ba29 = L.marker(\n",
              "                [13.017163, 77.64009800000002],\n",
              "                {&quot;fillColor&quot;: &quot;#43d9de&quot;, &quot;radius&quot;: 8}\n",
              "            ).addTo(map_3fbfa88a9850fb238e55999b2349d486);\n",
              "        \n",
              "    \n",
              "            var marker_039afa8135158aa4e4730ffb55584c4f = L.marker(\n",
              "                [25.276975, 75.84409699999998],\n",
              "                {&quot;fillColor&quot;: &quot;#43d9de&quot;, &quot;radius&quot;: 8}\n",
              "            ).addTo(map_3fbfa88a9850fb238e55999b2349d486);\n",
              "        \n",
              "    \n",
              "            var marker_ec8c522955a7324608c59fec6de4e1c4 = L.marker(\n",
              "                [15.548266, 73.866551],\n",
              "                {&quot;fillColor&quot;: &quot;#43d9de&quot;, &quot;radius&quot;: 8}\n",
              "            ).addTo(map_3fbfa88a9850fb238e55999b2349d486);\n",
              "        \n",
              "    \n",
              "            var marker_2ff3c301661a55da0a14a83a6e648ef0 = L.marker(\n",
              "                [24.537876, 74.963796],\n",
              "                {&quot;fillColor&quot;: &quot;#43d9de&quot;, &quot;radius&quot;: 8}\n",
              "            ).addTo(map_3fbfa88a9850fb238e55999b2349d486);\n",
              "        \n",
              "    \n",
              "            var marker_2e532a04c055d20661805d054367466a = L.marker(\n",
              "                [26.14898, 74.357632],\n",
              "                {&quot;fillColor&quot;: &quot;#43d9de&quot;, &quot;radius&quot;: 8}\n",
              "            ).addTo(map_3fbfa88a9850fb238e55999b2349d486);\n",
              "        \n",
              "    \n",
              "            var marker_41b7d1f3507a73c79f5b3ccd12b6d2fc = L.marker(\n",
              "                [13.018703, 77.658452],\n",
              "                {&quot;fillColor&quot;: &quot;#43d9de&quot;, &quot;radius&quot;: 8}\n",
              "            ).addTo(map_3fbfa88a9850fb238e55999b2349d486);\n",
              "        \n",
              "    \n",
              "            var marker_840c80480d35369672f0881dd0037a37 = L.marker(\n",
              "                [25.26429, 85.060091],\n",
              "                {&quot;fillColor&quot;: &quot;#43d9de&quot;, &quot;radius&quot;: 8}\n",
              "            ).addTo(map_3fbfa88a9850fb238e55999b2349d486);\n",
              "        \n",
              "    \n",
              "            var marker_12a1204aec89e3438d92881d98af51b1 = L.marker(\n",
              "                [25.885334, 93.459795],\n",
              "                {&quot;fillColor&quot;: &quot;#43d9de&quot;, &quot;radius&quot;: 8}\n",
              "            ).addTo(map_3fbfa88a9850fb238e55999b2349d486);\n",
              "        \n",
              "    \n",
              "            var marker_53388c0fdddc1a54cb90cc65b07ff8be = L.marker(\n",
              "                [17.444739000000002, 78.535054],\n",
              "                {&quot;fillColor&quot;: &quot;#43d9de&quot;, &quot;radius&quot;: 8}\n",
              "            ).addTo(map_3fbfa88a9850fb238e55999b2349d486);\n",
              "        \n",
              "    \n",
              "            var marker_23df071e81c3ab723f3f52b83060b0c8 = L.marker(\n",
              "                [17.453049, 78.552063],\n",
              "                {&quot;fillColor&quot;: &quot;#43d9de&quot;, &quot;radius&quot;: 8}\n",
              "            ).addTo(map_3fbfa88a9850fb238e55999b2349d486);\n",
              "        \n",
              "    \n",
              "            var marker_9ebede9ffd1ea051963de67efb21d6c8 = L.marker(\n",
              "                [30.836256, 75.252899],\n",
              "                {&quot;fillColor&quot;: &quot;#43d9de&quot;, &quot;radius&quot;: 8}\n",
              "            ).addTo(map_3fbfa88a9850fb238e55999b2349d486);\n",
              "        \n",
              "    \n",
              "            var marker_7e98f9c0d4a581cd87f7a5b9abe7f042 = L.marker(\n",
              "                [17.438872999999994, 78.570227],\n",
              "                {&quot;fillColor&quot;: &quot;#43d9de&quot;, &quot;radius&quot;: 8}\n",
              "            ).addTo(map_3fbfa88a9850fb238e55999b2349d486);\n",
              "        \n",
              "    \n",
              "            var marker_58a2e8aa5bda410234854c951a1355eb = L.marker(\n",
              "                [10.94968, 79.909801],\n",
              "                {&quot;fillColor&quot;: &quot;#43d9de&quot;, &quot;radius&quot;: 8}\n",
              "            ).addTo(map_3fbfa88a9850fb238e55999b2349d486);\n",
              "        \n",
              "    \n",
              "            var marker_fbcee82368448e5f5af976bd14e5af45 = L.marker(\n",
              "                [17.421062, 78.550112],\n",
              "                {&quot;fillColor&quot;: &quot;#43d9de&quot;, &quot;radius&quot;: 8}\n",
              "            ).addTo(map_3fbfa88a9850fb238e55999b2349d486);\n",
              "        \n",
              "    \n",
              "            var marker_811629da3b244977ccadc7decf97169d = L.marker(\n",
              "                [10.71767, 77.032212],\n",
              "                {&quot;fillColor&quot;: &quot;#43d9de&quot;, &quot;radius&quot;: 8}\n",
              "            ).addTo(map_3fbfa88a9850fb238e55999b2349d486);\n",
              "        \n",
              "    \n",
              "            var marker_03b2f65c44c97fb2e4a11a4356b4827b = L.marker(\n",
              "                [28.77745800000001, 77.001926],\n",
              "                {&quot;fillColor&quot;: &quot;#43d9de&quot;, &quot;radius&quot;: 8}\n",
              "            ).addTo(map_3fbfa88a9850fb238e55999b2349d486);\n",
              "        \n",
              "    \n",
              "            var marker_9b7a9fc1be35d1e3bcc2da72470b2bde = L.marker(\n",
              "                [13.050909, 77.636718],\n",
              "                {&quot;fillColor&quot;: &quot;#43d9de&quot;, &quot;radius&quot;: 8}\n",
              "            ).addTo(map_3fbfa88a9850fb238e55999b2349d486);\n",
              "        \n",
              "    \n",
              "            var marker_0e4d2ef28b42f3f1ae3aa4ab9ad842e0 = L.marker(\n",
              "                [28.246058, 79.54173399999998],\n",
              "                {&quot;fillColor&quot;: &quot;#43d9de&quot;, &quot;radius&quot;: 8}\n",
              "            ).addTo(map_3fbfa88a9850fb238e55999b2349d486);\n",
              "        \n",
              "    \n",
              "            var marker_6155e16d76b0f6c8f67f08093e56de2c = L.marker(\n",
              "                [13.255346, 79.126138],\n",
              "                {&quot;fillColor&quot;: &quot;#43d9de&quot;, &quot;radius&quot;: 8}\n",
              "            ).addTo(map_3fbfa88a9850fb238e55999b2349d486);\n",
              "        \n",
              "    \n",
              "            var marker_4ab9962649becb91d7c8b41abd55dc3a = L.marker(\n",
              "                [27.225122, 78.054488],\n",
              "                {&quot;fillColor&quot;: &quot;#43d9de&quot;, &quot;radius&quot;: 8}\n",
              "            ).addTo(map_3fbfa88a9850fb238e55999b2349d486);\n",
              "        \n",
              "    \n",
              "            var marker_e65062e1b9836296ea1fcf22bfe9e833 = L.marker(\n",
              "                [23.426655, 86.39967800000002],\n",
              "                {&quot;fillColor&quot;: &quot;#43d9de&quot;, &quot;radius&quot;: 8}\n",
              "            ).addTo(map_3fbfa88a9850fb238e55999b2349d486);\n",
              "        \n",
              "    \n",
              "            var marker_b72297fb8c6ade5937f1e8af294c70f0 = L.marker(\n",
              "                [21.828305, 87.80514000000002],\n",
              "                {&quot;fillColor&quot;: &quot;#43d9de&quot;, &quot;radius&quot;: 8}\n",
              "            ).addTo(map_3fbfa88a9850fb238e55999b2349d486);\n",
              "        \n",
              "    \n",
              "            var marker_258f98ee4f28d321b2c841e27a51dcdb = L.marker(\n",
              "                [22.804291, 75.918584],\n",
              "                {&quot;fillColor&quot;: &quot;#43d9de&quot;, &quot;radius&quot;: 8}\n",
              "            ).addTo(map_3fbfa88a9850fb238e55999b2349d486);\n",
              "        \n",
              "    \n",
              "            var marker_ee52d07f3ee599dc70049b77a6c34f34 = L.marker(\n",
              "                [19.992531, 79.317228],\n",
              "                {&quot;fillColor&quot;: &quot;#43d9de&quot;, &quot;radius&quot;: 8}\n",
              "            ).addTo(map_3fbfa88a9850fb238e55999b2349d486);\n",
              "        \n",
              "    \n",
              "            var marker_734d3d5a22b50ef6ee23eb91927bbf1e = L.marker(\n",
              "                [18.98095, 72.84429300000002],\n",
              "                {&quot;fillColor&quot;: &quot;#43d9de&quot;, &quot;radius&quot;: 8}\n",
              "            ).addTo(map_3fbfa88a9850fb238e55999b2349d486);\n",
              "        \n",
              "    \n",
              "            var marker_56152924d3713010d6d92c655266e154 = L.marker(\n",
              "                [19.741445, 78.56195699999998],\n",
              "                {&quot;fillColor&quot;: &quot;#43d9de&quot;, &quot;radius&quot;: 8}\n",
              "            ).addTo(map_3fbfa88a9850fb238e55999b2349d486);\n",
              "        \n",
              "    \n",
              "            var marker_bc8c35adb968100830473cb85e6c4e45 = L.marker(\n",
              "                [22.496087, 88.184697],\n",
              "                {&quot;fillColor&quot;: &quot;#43d9de&quot;, &quot;radius&quot;: 8}\n",
              "            ).addTo(map_3fbfa88a9850fb238e55999b2349d486);\n",
              "        \n",
              "    \n",
              "            var marker_708bd004246d5e6fc3bea6e050cb4789 = L.marker(\n",
              "                [22.609879, 88.39366],\n",
              "                {&quot;fillColor&quot;: &quot;#43d9de&quot;, &quot;radius&quot;: 8}\n",
              "            ).addTo(map_3fbfa88a9850fb238e55999b2349d486);\n",
              "        \n",
              "    \n",
              "            var marker_db5151d035a43ed8dc8821df71ee6023 = L.marker(\n",
              "                [13.026864, 77.599907],\n",
              "                {&quot;fillColor&quot;: &quot;#43d9de&quot;, &quot;radius&quot;: 8}\n",
              "            ).addTo(map_3fbfa88a9850fb238e55999b2349d486);\n",
              "        \n",
              "    \n",
              "            var marker_9253f5ecf6b6c32fb6b7de0b536c7272 = L.marker(\n",
              "                [13.059957, 77.6587],\n",
              "                {&quot;fillColor&quot;: &quot;#43d9de&quot;, &quot;radius&quot;: 8}\n",
              "            ).addTo(map_3fbfa88a9850fb238e55999b2349d486);\n",
              "        \n",
              "    \n",
              "            var marker_551716efe330c751c2e3e04fdd70533c = L.marker(\n",
              "                [30.600776, 74.818561],\n",
              "                {&quot;fillColor&quot;: &quot;#43d9de&quot;, &quot;radius&quot;: 8}\n",
              "            ).addTo(map_3fbfa88a9850fb238e55999b2349d486);\n",
              "        \n",
              "    \n",
              "            var marker_08b590cd00ddc5f67c58a47a656d9469 = L.marker(\n",
              "                [25.94612200000001, 93.824987],\n",
              "                {&quot;fillColor&quot;: &quot;#43d9de&quot;, &quot;radius&quot;: 8}\n",
              "            ).addTo(map_3fbfa88a9850fb238e55999b2349d486);\n",
              "        \n",
              "    \n",
              "            var marker_2baac116ef738edf12307a925700eba1 = L.marker(\n",
              "                [17.455761, 78.57070900000002],\n",
              "                {&quot;fillColor&quot;: &quot;#43d9de&quot;, &quot;radius&quot;: 8}\n",
              "            ).addTo(map_3fbfa88a9850fb238e55999b2349d486);\n",
              "        \n",
              "    \n",
              "            var marker_5127df9d8453d9f3b5c1c70313723488 = L.marker(\n",
              "                [25.763434, 78.49956],\n",
              "                {&quot;fillColor&quot;: &quot;#43d9de&quot;, &quot;radius&quot;: 8}\n",
              "            ).addTo(map_3fbfa88a9850fb238e55999b2349d486);\n",
              "        \n",
              "    \n",
              "            var marker_f9ae4d7fa49eb0699db883b531f1dfb7 = L.marker(\n",
              "                [30.273474, 74.519307],\n",
              "                {&quot;fillColor&quot;: &quot;#43d9de&quot;, &quot;radius&quot;: 8}\n",
              "            ).addTo(map_3fbfa88a9850fb238e55999b2349d486);\n",
              "        \n",
              "    \n",
              "            var marker_d7f330ae4ad95c2388e4179e89d254cc = L.marker(\n",
              "                [22.717193, 77.77758],\n",
              "                {&quot;fillColor&quot;: &quot;#43d9de&quot;, &quot;radius&quot;: 8}\n",
              "            ).addTo(map_3fbfa88a9850fb238e55999b2349d486);\n",
              "        \n",
              "    \n",
              "            var marker_ccc8545e092ce14ce7e2a65120892e16 = L.marker(\n",
              "                [17.420029, 78.545824],\n",
              "                {&quot;fillColor&quot;: &quot;#43d9de&quot;, &quot;radius&quot;: 8}\n",
              "            ).addTo(map_3fbfa88a9850fb238e55999b2349d486);\n",
              "        \n",
              "    \n",
              "            var marker_6393aba4674d9b16b4050f95dd540903 = L.marker(\n",
              "                [17.493394, 78.543127],\n",
              "                {&quot;fillColor&quot;: &quot;#43d9de&quot;, &quot;radius&quot;: 8}\n",
              "            ).addTo(map_3fbfa88a9850fb238e55999b2349d486);\n",
              "        \n",
              "    \n",
              "            var marker_2c966f66c480caccb21188acc6f34bd9 = L.marker(\n",
              "                [17.48043, 78.51575100000002],\n",
              "                {&quot;fillColor&quot;: &quot;#43d9de&quot;, &quot;radius&quot;: 8}\n",
              "            ).addTo(map_3fbfa88a9850fb238e55999b2349d486);\n",
              "        \n",
              "    \n",
              "            var marker_c46fed2bb527e9f31a96d068dcac9592 = L.marker(\n",
              "                [28.100721000000004, 74.65314799999999],\n",
              "                {&quot;fillColor&quot;: &quot;#43d9de&quot;, &quot;radius&quot;: 8}\n",
              "            ).addTo(map_3fbfa88a9850fb238e55999b2349d486);\n",
              "        \n",
              "    \n",
              "            var marker_61ec0e0572925d8b90892aac88c23708 = L.marker(\n",
              "                [29.997099, 73.905103],\n",
              "                {&quot;fillColor&quot;: &quot;#43d9de&quot;, &quot;radius&quot;: 8}\n",
              "            ).addTo(map_3fbfa88a9850fb238e55999b2349d486);\n",
              "        \n",
              "    \n",
              "            var marker_3e943d2adade99d2df34c95cf833c5f6 = L.marker(\n",
              "                [22.587805, 88.40439599999998],\n",
              "                {&quot;fillColor&quot;: &quot;#43d9de&quot;, &quot;radius&quot;: 8}\n",
              "            ).addTo(map_3fbfa88a9850fb238e55999b2349d486);\n",
              "        \n",
              "    \n",
              "            var marker_ca0244913a2a41f44d0be02d4f246d91 = L.marker(\n",
              "                [23.87717300000001, 91.28895],\n",
              "                {&quot;fillColor&quot;: &quot;#43d9de&quot;, &quot;radius&quot;: 8}\n",
              "            ).addTo(map_3fbfa88a9850fb238e55999b2349d486);\n",
              "        \n",
              "    \n",
              "            var marker_9943f4b58417227dd64c68e3a8174177 = L.marker(\n",
              "                [13.003489, 77.645639],\n",
              "                {&quot;fillColor&quot;: &quot;#43d9de&quot;, &quot;radius&quot;: 8}\n",
              "            ).addTo(map_3fbfa88a9850fb238e55999b2349d486);\n",
              "        \n",
              "    \n",
              "            var marker_997bfc74ab78ba97b062b074ce81ecbf = L.marker(\n",
              "                [26.599128000000004, 82.72568700000002],\n",
              "                {&quot;fillColor&quot;: &quot;#43d9de&quot;, &quot;radius&quot;: 8}\n",
              "            ).addTo(map_3fbfa88a9850fb238e55999b2349d486);\n",
              "        \n",
              "    \n",
              "            var marker_b0f1fbcf05cf37cc2ce791c7fc819f3d = L.marker(\n",
              "                [17.478968, 78.57707400000002],\n",
              "                {&quot;fillColor&quot;: &quot;#43d9de&quot;, &quot;radius&quot;: 8}\n",
              "            ).addTo(map_3fbfa88a9850fb238e55999b2349d486);\n",
              "        \n",
              "    \n",
              "            var marker_123ea0f990723ad2d192fed11b6a650b = L.marker(\n",
              "                [22.916982, 88.44698600000002],\n",
              "                {&quot;fillColor&quot;: &quot;#43d9de&quot;, &quot;radius&quot;: 8}\n",
              "            ).addTo(map_3fbfa88a9850fb238e55999b2349d486);\n",
              "        \n",
              "    \n",
              "            var marker_002794f7332994894b8d280e05fad98a = L.marker(\n",
              "                [17.428779000000002, 78.49306999999997],\n",
              "                {&quot;fillColor&quot;: &quot;#43d9de&quot;, &quot;radius&quot;: 8}\n",
              "            ).addTo(map_3fbfa88a9850fb238e55999b2349d486);\n",
              "        \n",
              "    \n",
              "            var marker_30a840f563ce0e711414e87ccb57a554 = L.marker(\n",
              "                [13.176832999999998, 80.31115299999998],\n",
              "                {&quot;fillColor&quot;: &quot;#43d9de&quot;, &quot;radius&quot;: 8}\n",
              "            ).addTo(map_3fbfa88a9850fb238e55999b2349d486);\n",
              "        \n",
              "    \n",
              "            var marker_220d1303ea50f8503503d35dc85e626d = L.marker(\n",
              "                [22.75502, 72.521047],\n",
              "                {&quot;fillColor&quot;: &quot;#43d9de&quot;, &quot;radius&quot;: 8}\n",
              "            ).addTo(map_3fbfa88a9850fb238e55999b2349d486);\n",
              "        \n",
              "    \n",
              "            var marker_05452d11ebfd68eff866d7cd1bfa33eb = L.marker(\n",
              "                [17.43836, 78.504046],\n",
              "                {&quot;fillColor&quot;: &quot;#43d9de&quot;, &quot;radius&quot;: 8}\n",
              "            ).addTo(map_3fbfa88a9850fb238e55999b2349d486);\n",
              "        \n",
              "    \n",
              "            var marker_45fff4c5226445543a29ca3117a109a2 = L.marker(\n",
              "                [21.90598, 75.64041599999999],\n",
              "                {&quot;fillColor&quot;: &quot;#43d9de&quot;, &quot;radius&quot;: 8}\n",
              "            ).addTo(map_3fbfa88a9850fb238e55999b2349d486);\n",
              "        \n",
              "    \n",
              "            var marker_b881017b8076b29d760f86e72c25ca33 = L.marker(\n",
              "                [17.455668, 78.575182],\n",
              "                {&quot;fillColor&quot;: &quot;#43d9de&quot;, &quot;radius&quot;: 8}\n",
              "            ).addTo(map_3fbfa88a9850fb238e55999b2349d486);\n",
              "        \n",
              "    \n",
              "            var marker_d9be34a69439125becd28e7f346295d3 = L.marker(\n",
              "                [17.423043, 78.534355],\n",
              "                {&quot;fillColor&quot;: &quot;#43d9de&quot;, &quot;radius&quot;: 8}\n",
              "            ).addTo(map_3fbfa88a9850fb238e55999b2349d486);\n",
              "        \n",
              "    \n",
              "            var marker_bf603a058e5c225c0c17af6fd8e1ec6f = L.marker(\n",
              "                [30.608495, 75.89890600000003],\n",
              "                {&quot;fillColor&quot;: &quot;#43d9de&quot;, &quot;radius&quot;: 8}\n",
              "            ).addTo(map_3fbfa88a9850fb238e55999b2349d486);\n",
              "        \n",
              "    \n",
              "            var marker_9be0efbc7a5aab0742b1ec302c7dfba6 = L.marker(\n",
              "                [14.7868, 77.66311400000002],\n",
              "                {&quot;fillColor&quot;: &quot;#43d9de&quot;, &quot;radius&quot;: 8}\n",
              "            ).addTo(map_3fbfa88a9850fb238e55999b2349d486);\n",
              "        \n",
              "    \n",
              "            var marker_a24ae116066bedeb9a1dcaa62e8145c1 = L.marker(\n",
              "                [10.909061, 78.7307],\n",
              "                {&quot;fillColor&quot;: &quot;#43d9de&quot;, &quot;radius&quot;: 8}\n",
              "            ).addTo(map_3fbfa88a9850fb238e55999b2349d486);\n",
              "        \n",
              "    \n",
              "            var marker_55bcc9047beb8f6b1c38cd8ff1748cf9 = L.marker(\n",
              "                [17.49713, 78.531637],\n",
              "                {&quot;fillColor&quot;: &quot;#43d9de&quot;, &quot;radius&quot;: 8}\n",
              "            ).addTo(map_3fbfa88a9850fb238e55999b2349d486);\n",
              "        \n",
              "    \n",
              "            var marker_79464d0aa7bb97f09d91b23c56e0ac8c = L.marker(\n",
              "                [16.135120999999998, 80.586061],\n",
              "                {&quot;fillColor&quot;: &quot;#43d9de&quot;, &quot;radius&quot;: 8}\n",
              "            ).addTo(map_3fbfa88a9850fb238e55999b2349d486);\n",
              "        \n",
              "    \n",
              "            var marker_18853314d973026043b9be992db4e055 = L.marker(\n",
              "                [28.841433, 77.542287],\n",
              "                {&quot;fillColor&quot;: &quot;#43d9de&quot;, &quot;radius&quot;: 8}\n",
              "            ).addTo(map_3fbfa88a9850fb238e55999b2349d486);\n",
              "        \n",
              "    \n",
              "            var marker_33a2be67db4fe398fb691bf0f5cd3c4c = L.marker(\n",
              "                [29.04205300000001, 77.722087],\n",
              "                {&quot;fillColor&quot;: &quot;#43d9de&quot;, &quot;radius&quot;: 8}\n",
              "            ).addTo(map_3fbfa88a9850fb238e55999b2349d486);\n",
              "        \n",
              "    \n",
              "            var marker_0bcfab9a7ac0ba782fcc3b5043c8a866 = L.marker(\n",
              "                [16.477484999999998, 81.77383400000002],\n",
              "                {&quot;fillColor&quot;: &quot;#43d9de&quot;, &quot;radius&quot;: 8}\n",
              "            ).addTo(map_3fbfa88a9850fb238e55999b2349d486);\n",
              "        \n",
              "    \n",
              "            var marker_9229928440a8666abea1254a030de559 = L.marker(\n",
              "                [27.177623, 84.187234],\n",
              "                {&quot;fillColor&quot;: &quot;#43d9de&quot;, &quot;radius&quot;: 8}\n",
              "            ).addTo(map_3fbfa88a9850fb238e55999b2349d486);\n",
              "        \n",
              "    \n",
              "            var marker_b0da1af6099512ee460cd497f568c25c = L.marker(\n",
              "                [25.83537500000001, 84.17029000000002],\n",
              "                {&quot;fillColor&quot;: &quot;#43d9de&quot;, &quot;radius&quot;: 8}\n",
              "            ).addTo(map_3fbfa88a9850fb238e55999b2349d486);\n",
              "        \n",
              "    \n",
              "            var marker_8be4cc59100a277c8eb53fbaaf866a47 = L.marker(\n",
              "                [17.574925, 78.94792699999998],\n",
              "                {&quot;fillColor&quot;: &quot;#43d9de&quot;, &quot;radius&quot;: 8}\n",
              "            ).addTo(map_3fbfa88a9850fb238e55999b2349d486);\n",
              "        \n",
              "    \n",
              "            var marker_7c52d25ead0778086b5673993bf1c23e = L.marker(\n",
              "                [25.639726, 85.061174],\n",
              "                {&quot;fillColor&quot;: &quot;#43d9de&quot;, &quot;radius&quot;: 8}\n",
              "            ).addTo(map_3fbfa88a9850fb238e55999b2349d486);\n",
              "        \n",
              "    \n",
              "            var marker_b62dbb5f2ed77e5bd57ed25e725e3b1c = L.marker(\n",
              "                [22.608332, 88.45038199999998],\n",
              "                {&quot;fillColor&quot;: &quot;#43d9de&quot;, &quot;radius&quot;: 8}\n",
              "            ).addTo(map_3fbfa88a9850fb238e55999b2349d486);\n",
              "        \n",
              "    \n",
              "            var marker_5c989072a23ef663a621f4585bcafca5 = L.marker(\n",
              "                [17.440412, 78.56654499999998],\n",
              "                {&quot;fillColor&quot;: &quot;#43d9de&quot;, &quot;radius&quot;: 8}\n",
              "            ).addTo(map_3fbfa88a9850fb238e55999b2349d486);\n",
              "        \n",
              "    \n",
              "            var marker_f2d73a0a96fbf80ddf0681fceb9cc322 = L.marker(\n",
              "                [13.041935, 77.596727],\n",
              "                {&quot;fillColor&quot;: &quot;#43d9de&quot;, &quot;radius&quot;: 8}\n",
              "            ).addTo(map_3fbfa88a9850fb238e55999b2349d486);\n",
              "        \n",
              "    \n",
              "            var marker_1e0764dc12df1e0c9bd1446b7aea0344 = L.marker(\n",
              "                [30.786873, 76.797161],\n",
              "                {&quot;fillColor&quot;: &quot;#43d9de&quot;, &quot;radius&quot;: 8}\n",
              "            ).addTo(map_3fbfa88a9850fb238e55999b2349d486);\n",
              "        \n",
              "    \n",
              "            var marker_eb21dd11630ffd43f68f296469646dfc = L.marker(\n",
              "                [17.418232, 78.545817],\n",
              "                {&quot;fillColor&quot;: &quot;#43d9de&quot;, &quot;radius&quot;: 8}\n",
              "            ).addTo(map_3fbfa88a9850fb238e55999b2349d486);\n",
              "        \n",
              "    \n",
              "            var marker_4b176c5873f6f58c7e814fdd7a0034b3 = L.marker(\n",
              "                [21.079247, 75.63121899999999],\n",
              "                {&quot;fillColor&quot;: &quot;#43d9de&quot;, &quot;radius&quot;: 8}\n",
              "            ).addTo(map_3fbfa88a9850fb238e55999b2349d486);\n",
              "        \n",
              "    \n",
              "            var marker_1c71974048e06e7a8e785d965d2daf7f = L.marker(\n",
              "                [21.899551, 83.94900200000002],\n",
              "                {&quot;fillColor&quot;: &quot;#43d9de&quot;, &quot;radius&quot;: 8}\n",
              "            ).addTo(map_3fbfa88a9850fb238e55999b2349d486);\n",
              "        \n",
              "    \n",
              "            var marker_6684b3c7551123d0bdcbafc899e9a4ed = L.marker(\n",
              "                [25.855511, 73.38251299999997],\n",
              "                {&quot;fillColor&quot;: &quot;#43d9de&quot;, &quot;radius&quot;: 8}\n",
              "            ).addTo(map_3fbfa88a9850fb238e55999b2349d486);\n",
              "        \n",
              "    \n",
              "            var marker_ab57384d31d82ba7612edf5e2ad49474 = L.marker(\n",
              "                [22.561318, 88.413496],\n",
              "                {&quot;fillColor&quot;: &quot;#43d9de&quot;, &quot;radius&quot;: 8}\n",
              "            ).addTo(map_3fbfa88a9850fb238e55999b2349d486);\n",
              "        \n",
              "    \n",
              "            var marker_39e923cc10929c207f1030a2587dde0a = L.marker(\n",
              "                [29.786127, 77.01828],\n",
              "                {&quot;fillColor&quot;: &quot;#43d9de&quot;, &quot;radius&quot;: 8}\n",
              "            ).addTo(map_3fbfa88a9850fb238e55999b2349d486);\n",
              "        \n",
              "    \n",
              "            var marker_c8128fa9d3220a0c36382fb1c3be8d20 = L.marker(\n",
              "                [19.166978, 74.78288599999998],\n",
              "                {&quot;fillColor&quot;: &quot;#43d9de&quot;, &quot;radius&quot;: 8}\n",
              "            ).addTo(map_3fbfa88a9850fb238e55999b2349d486);\n",
              "        \n",
              "    \n",
              "            var marker_6aea73954d654612cd38e9820f39295e = L.marker(\n",
              "                [29.027276, 77.055014],\n",
              "                {&quot;fillColor&quot;: &quot;#43d9de&quot;, &quot;radius&quot;: 8}\n",
              "            ).addTo(map_3fbfa88a9850fb238e55999b2349d486);\n",
              "        \n",
              "    \n",
              "            var marker_c8d7b58441ae60fafb2e24eb846f8736 = L.marker(\n",
              "                [22.528178, 88.162124],\n",
              "                {&quot;fillColor&quot;: &quot;#43d9de&quot;, &quot;radius&quot;: 8}\n",
              "            ).addTo(map_3fbfa88a9850fb238e55999b2349d486);\n",
              "        \n",
              "    \n",
              "            var marker_0ee39acb64c47834f815bcc7ea617303 = L.marker(\n",
              "                [29.372506, 78.649953],\n",
              "                {&quot;fillColor&quot;: &quot;#43d9de&quot;, &quot;radius&quot;: 8}\n",
              "            ).addTo(map_3fbfa88a9850fb238e55999b2349d486);\n",
              "        \n",
              "    \n",
              "            var marker_ecd86267378ca4e85292b4ea12ed6bd2 = L.marker(\n",
              "                [13.159297, 80.29903900000002],\n",
              "                {&quot;fillColor&quot;: &quot;#43d9de&quot;, &quot;radius&quot;: 8}\n",
              "            ).addTo(map_3fbfa88a9850fb238e55999b2349d486);\n",
              "        \n",
              "    \n",
              "            var marker_619425d7a1c8c2ee940dcb899f3c76dc = L.marker(\n",
              "                [20.460355, 72.98130800000001],\n",
              "                {&quot;fillColor&quot;: &quot;#43d9de&quot;, &quot;radius&quot;: 8}\n",
              "            ).addTo(map_3fbfa88a9850fb238e55999b2349d486);\n",
              "        \n",
              "    \n",
              "            var marker_b8d614b4b9512ea5007c9276243354f0 = L.marker(\n",
              "                [12.996943, 77.632712],\n",
              "                {&quot;fillColor&quot;: &quot;#43d9de&quot;, &quot;radius&quot;: 8}\n",
              "            ).addTo(map_3fbfa88a9850fb238e55999b2349d486);\n",
              "        \n",
              "    \n",
              "            var marker_bac0dc93f51b985de6208b723e978624 = L.marker(\n",
              "                [9.602507, 78.137528],\n",
              "                {&quot;fillColor&quot;: &quot;#43d9de&quot;, &quot;radius&quot;: 8}\n",
              "            ).addTo(map_3fbfa88a9850fb238e55999b2349d486);\n",
              "        \n",
              "    \n",
              "            var marker_bc99c61f5e916819071261cb2b5448bf = L.marker(\n",
              "                [13.145338, 80.33618100000002],\n",
              "                {&quot;fillColor&quot;: &quot;#43d9de&quot;, &quot;radius&quot;: 8}\n",
              "            ).addTo(map_3fbfa88a9850fb238e55999b2349d486);\n",
              "        \n",
              "    \n",
              "            var marker_50d10f91ad6af0c8441cbbec40792cba = L.marker(\n",
              "                [13.172235999999998, 80.28193399999998],\n",
              "                {&quot;fillColor&quot;: &quot;#43d9de&quot;, &quot;radius&quot;: 8}\n",
              "            ).addTo(map_3fbfa88a9850fb238e55999b2349d486);\n",
              "        \n",
              "    \n",
              "            var marker_f95479c1a3ee2df0730ab3a726014628 = L.marker(\n",
              "                [17.467098999999994, 78.56664599999998],\n",
              "                {&quot;fillColor&quot;: &quot;#43d9de&quot;, &quot;radius&quot;: 8}\n",
              "            ).addTo(map_3fbfa88a9850fb238e55999b2349d486);\n",
              "        \n",
              "    \n",
              "            var marker_43a0f71e24d2767439d2f8be8372bb48 = L.marker(\n",
              "                [22.997221, 88.443954],\n",
              "                {&quot;fillColor&quot;: &quot;#43d9de&quot;, &quot;radius&quot;: 8}\n",
              "            ).addTo(map_3fbfa88a9850fb238e55999b2349d486);\n",
              "        \n",
              "    \n",
              "            var marker_32829a077c8d35a04760f7c1d0169d0e = L.marker(\n",
              "                [9.527481, 78.102329],\n",
              "                {&quot;fillColor&quot;: &quot;#43d9de&quot;, &quot;radius&quot;: 8}\n",
              "            ).addTo(map_3fbfa88a9850fb238e55999b2349d486);\n",
              "        \n",
              "    \n",
              "            var marker_82163f8a9fb12ffb0524640eb02796c2 = L.marker(\n",
              "                [23.707264, 85.55273100000002],\n",
              "                {&quot;fillColor&quot;: &quot;#43d9de&quot;, &quot;radius&quot;: 8}\n",
              "            ).addTo(map_3fbfa88a9850fb238e55999b2349d486);\n",
              "        \n",
              "    \n",
              "            var marker_24657e48603a180addce728140a26864 = L.marker(\n",
              "                [32.421465999999995, 75.61934199999997],\n",
              "                {&quot;fillColor&quot;: &quot;#43d9de&quot;, &quot;radius&quot;: 8}\n",
              "            ).addTo(map_3fbfa88a9850fb238e55999b2349d486);\n",
              "        \n",
              "    \n",
              "            var marker_292ff0853bb1f929034504d82513935f = L.marker(\n",
              "                [23.775209, 85.922589],\n",
              "                {&quot;fillColor&quot;: &quot;#43d9de&quot;, &quot;radius&quot;: 8}\n",
              "            ).addTo(map_3fbfa88a9850fb238e55999b2349d486);\n",
              "        \n",
              "    \n",
              "            var marker_1c02afec9028596452a637e121bce9c8 = L.marker(\n",
              "                [17.431012, 78.567133],\n",
              "                {&quot;fillColor&quot;: &quot;#43d9de&quot;, &quot;radius&quot;: 8}\n",
              "            ).addTo(map_3fbfa88a9850fb238e55999b2349d486);\n",
              "        \n",
              "    \n",
              "            var marker_53d01449914e50242f8ec76d7a5c14eb = L.marker(\n",
              "                [22.858492, 88.67546899999998],\n",
              "                {&quot;fillColor&quot;: &quot;#43d9de&quot;, &quot;radius&quot;: 8}\n",
              "            ).addTo(map_3fbfa88a9850fb238e55999b2349d486);\n",
              "        \n",
              "    \n",
              "            var marker_c4eed7e65da5d09f6c45eb3d420432fd = L.marker(\n",
              "                [17.444369000000002, 78.49083800000002],\n",
              "                {&quot;fillColor&quot;: &quot;#43d9de&quot;, &quot;radius&quot;: 8}\n",
              "            ).addTo(map_3fbfa88a9850fb238e55999b2349d486);\n",
              "        \n",
              "    \n",
              "            var marker_3143231e38975925332d4cf0f7315e79 = L.marker(\n",
              "                [17.417427, 78.524843],\n",
              "                {&quot;fillColor&quot;: &quot;#43d9de&quot;, &quot;radius&quot;: 8}\n",
              "            ).addTo(map_3fbfa88a9850fb238e55999b2349d486);\n",
              "        \n",
              "    \n",
              "            var marker_7d1f85f9f524e9bf7db75ba44c3c7b81 = L.marker(\n",
              "                [25.728123, 94.190182],\n",
              "                {&quot;fillColor&quot;: &quot;#43d9de&quot;, &quot;radius&quot;: 8}\n",
              "            ).addTo(map_3fbfa88a9850fb238e55999b2349d486);\n",
              "        \n",
              "    \n",
              "            var marker_f3f6f84c61bf926ee008ff4f08af7381 = L.marker(\n",
              "                [30.019446, 76.89513000000002],\n",
              "                {&quot;fillColor&quot;: &quot;#43d9de&quot;, &quot;radius&quot;: 8}\n",
              "            ).addTo(map_3fbfa88a9850fb238e55999b2349d486);\n",
              "        \n",
              "    \n",
              "            var marker_4d01117096355d315302b6f8252aac45 = L.marker(\n",
              "                [25.897486, 93.514008],\n",
              "                {&quot;fillColor&quot;: &quot;#43d9de&quot;, &quot;radius&quot;: 8}\n",
              "            ).addTo(map_3fbfa88a9850fb238e55999b2349d486);\n",
              "        \n",
              "    \n",
              "            var marker_6e800cdd3771d4fe9c958e5dff6e8b50 = L.marker(\n",
              "                [17.469735999999994, 78.534766],\n",
              "                {&quot;fillColor&quot;: &quot;#43d9de&quot;, &quot;radius&quot;: 8}\n",
              "            ).addTo(map_3fbfa88a9850fb238e55999b2349d486);\n",
              "        \n",
              "    \n",
              "            var marker_d5d00d76389969cc86308bbb065a4cda = L.marker(\n",
              "                [16.727519, 74.51425499999998],\n",
              "                {&quot;fillColor&quot;: &quot;#43d9de&quot;, &quot;radius&quot;: 8}\n",
              "            ).addTo(map_3fbfa88a9850fb238e55999b2349d486);\n",
              "        \n",
              "    \n",
              "            var marker_8b2c88ddc68643b071292e750c260193 = L.marker(\n",
              "                [17.493281999999994, 78.55881600000002],\n",
              "                {&quot;fillColor&quot;: &quot;#43d9de&quot;, &quot;radius&quot;: 8}\n",
              "            ).addTo(map_3fbfa88a9850fb238e55999b2349d486);\n",
              "        \n",
              "    \n",
              "            var marker_08160298a4c698eeba96153a3ca1cbde = L.marker(\n",
              "                [14.779413, 77.647278],\n",
              "                {&quot;fillColor&quot;: &quot;#43d9de&quot;, &quot;radius&quot;: 8}\n",
              "            ).addTo(map_3fbfa88a9850fb238e55999b2349d486);\n",
              "        \n",
              "    \n",
              "            var marker_6e13758e4a5299c8db4dd83aadaf2e36 = L.marker(\n",
              "                [26.727641, 84.975499],\n",
              "                {&quot;fillColor&quot;: &quot;#43d9de&quot;, &quot;radius&quot;: 8}\n",
              "            ).addTo(map_3fbfa88a9850fb238e55999b2349d486);\n",
              "        \n",
              "    \n",
              "            var marker_4578d45f5c300616fb7a69870d074b0f = L.marker(\n",
              "                [26.30938, 82.09871600000002],\n",
              "                {&quot;fillColor&quot;: &quot;#43d9de&quot;, &quot;radius&quot;: 8}\n",
              "            ).addTo(map_3fbfa88a9850fb238e55999b2349d486);\n",
              "        \n",
              "    \n",
              "            var marker_1135a6d8b20cbd13feaa1729446f349b = L.marker(\n",
              "                [17.471493, 78.50054800000002],\n",
              "                {&quot;fillColor&quot;: &quot;#43d9de&quot;, &quot;radius&quot;: 8}\n",
              "            ).addTo(map_3fbfa88a9850fb238e55999b2349d486);\n",
              "        \n",
              "    \n",
              "            var marker_2a7c4c0bda52ce1207c5f4ea88aaf2c0 = L.marker(\n",
              "                [12.986248, 77.64348000000003],\n",
              "                {&quot;fillColor&quot;: &quot;#43d9de&quot;, &quot;radius&quot;: 8}\n",
              "            ).addTo(map_3fbfa88a9850fb238e55999b2349d486);\n",
              "        \n",
              "    \n",
              "            var marker_b1eccb3a68b0adf49b24425d06ebc437 = L.marker(\n",
              "                [21.794952, 70.342199],\n",
              "                {&quot;fillColor&quot;: &quot;#43d9de&quot;, &quot;radius&quot;: 8}\n",
              "            ).addTo(map_3fbfa88a9850fb238e55999b2349d486);\n",
              "        \n",
              "    \n",
              "            var marker_0f33a8fac50ce67038cea90103b62ba3 = L.marker(\n",
              "                [20.742026, 77.040939],\n",
              "                {&quot;fillColor&quot;: &quot;#43d9de&quot;, &quot;radius&quot;: 8}\n",
              "            ).addTo(map_3fbfa88a9850fb238e55999b2349d486);\n",
              "        \n",
              "    \n",
              "            var marker_1304a43621d11584f68bca5597c0ec91 = L.marker(\n",
              "                [12.984553, 77.63865899999998],\n",
              "                {&quot;fillColor&quot;: &quot;#43d9de&quot;, &quot;radius&quot;: 8}\n",
              "            ).addTo(map_3fbfa88a9850fb238e55999b2349d486);\n",
              "        \n",
              "    \n",
              "            var marker_d214c3ca48aeec5d060bb84f45f21902 = L.marker(\n",
              "                [31.549717, 75.99472899999998],\n",
              "                {&quot;fillColor&quot;: &quot;#43d9de&quot;, &quot;radius&quot;: 8}\n",
              "            ).addTo(map_3fbfa88a9850fb238e55999b2349d486);\n",
              "        \n",
              "    \n",
              "            var marker_26ce0af2305ffa1b5f5cad878d431a75 = L.marker(\n",
              "                [30.048521, 74.81469399999997],\n",
              "                {&quot;fillColor&quot;: &quot;#43d9de&quot;, &quot;radius&quot;: 8}\n",
              "            ).addTo(map_3fbfa88a9850fb238e55999b2349d486);\n",
              "        \n",
              "    \n",
              "            var marker_633d9b218e8ab0aaa389f090c4e0e097 = L.marker(\n",
              "                [10.866224, 79.174448],\n",
              "                {&quot;fillColor&quot;: &quot;#43d9de&quot;, &quot;radius&quot;: 8}\n",
              "            ).addTo(map_3fbfa88a9850fb238e55999b2349d486);\n",
              "        \n",
              "    \n",
              "            var marker_b14ea3d07066dc66651987b0d316b948 = L.marker(\n",
              "                [11.017874, 77.022503],\n",
              "                {&quot;fillColor&quot;: &quot;#43d9de&quot;, &quot;radius&quot;: 8}\n",
              "            ).addTo(map_3fbfa88a9850fb238e55999b2349d486);\n",
              "        \n",
              "    \n",
              "            var marker_0443ab4cf61e0880325d430cdb5d76f8 = L.marker(\n",
              "                [22.440439, 82.70409699999998],\n",
              "                {&quot;fillColor&quot;: &quot;#43d9de&quot;, &quot;radius&quot;: 8}\n",
              "            ).addTo(map_3fbfa88a9850fb238e55999b2349d486);\n",
              "        \n",
              "    \n",
              "            var marker_17844f4c12361cce27f3ec61f73073cf = L.marker(\n",
              "                [20.921171, 76.265348],\n",
              "                {&quot;fillColor&quot;: &quot;#43d9de&quot;, &quot;radius&quot;: 8}\n",
              "            ).addTo(map_3fbfa88a9850fb238e55999b2349d486);\n",
              "        \n",
              "    \n",
              "            var marker_325b1fba5bba37238d63a1927028edf6 = L.marker(\n",
              "                [23.224663, 82.422504],\n",
              "                {&quot;fillColor&quot;: &quot;#43d9de&quot;, &quot;radius&quot;: 8}\n",
              "            ).addTo(map_3fbfa88a9850fb238e55999b2349d486);\n",
              "        \n",
              "    \n",
              "            var marker_55583d1456d8135af2601751d60543a7 = L.marker(\n",
              "                [28.716205, 77.270747],\n",
              "                {&quot;fillColor&quot;: &quot;#43d9de&quot;, &quot;radius&quot;: 8}\n",
              "            ).addTo(map_3fbfa88a9850fb238e55999b2349d486);\n",
              "        \n",
              "    \n",
              "            var marker_f898a2cf8ca57a634892c0dc6ab1361f = L.marker(\n",
              "                [13.169339, 80.310762],\n",
              "                {&quot;fillColor&quot;: &quot;#43d9de&quot;, &quot;radius&quot;: 8}\n",
              "            ).addTo(map_3fbfa88a9850fb238e55999b2349d486);\n",
              "        \n",
              "    \n",
              "            var marker_dc12af23449a4fa25ee4c78e40c60938 = L.marker(\n",
              "                [17.435893, 78.523852],\n",
              "                {&quot;fillColor&quot;: &quot;#43d9de&quot;, &quot;radius&quot;: 8}\n",
              "            ).addTo(map_3fbfa88a9850fb238e55999b2349d486);\n",
              "        \n",
              "    \n",
              "            var marker_1ad70ae99ed98e0f10674658fefcb7c1 = L.marker(\n",
              "                [23.76338100000001, 72.60735000000003],\n",
              "                {&quot;fillColor&quot;: &quot;#43d9de&quot;, &quot;radius&quot;: 8}\n",
              "            ).addTo(map_3fbfa88a9850fb238e55999b2349d486);\n",
              "        \n",
              "    \n",
              "            var marker_431c388fe7a97a5e49667cc82d3073cd = L.marker(\n",
              "                [22.872394, 70.861036],\n",
              "                {&quot;fillColor&quot;: &quot;#43d9de&quot;, &quot;radius&quot;: 8}\n",
              "            ).addTo(map_3fbfa88a9850fb238e55999b2349d486);\n",
              "        \n",
              "    \n",
              "            var marker_42dab28676cb6feb084b0d2b1e2a537a = L.marker(\n",
              "                [17.429869, 78.524405],\n",
              "                {&quot;fillColor&quot;: &quot;#43d9de&quot;, &quot;radius&quot;: 8}\n",
              "            ).addTo(map_3fbfa88a9850fb238e55999b2349d486);\n",
              "        \n",
              "    \n",
              "            var marker_f915afadce06ec494034e2f12735e4fd = L.marker(\n",
              "                [24.891077, 85.06654],\n",
              "                {&quot;fillColor&quot;: &quot;#43d9de&quot;, &quot;radius&quot;: 8}\n",
              "            ).addTo(map_3fbfa88a9850fb238e55999b2349d486);\n",
              "        \n",
              "    \n",
              "            var marker_ff64d7ca3e708add2fb028402689948c = L.marker(\n",
              "                [24.950938, 86.311201],\n",
              "                {&quot;fillColor&quot;: &quot;#43d9de&quot;, &quot;radius&quot;: 8}\n",
              "            ).addTo(map_3fbfa88a9850fb238e55999b2349d486);\n",
              "        \n",
              "    \n",
              "            var marker_b22a2664a0525882c7918a099b0ba4da = L.marker(\n",
              "                [25.190418, 76.531216],\n",
              "                {&quot;fillColor&quot;: &quot;#43d9de&quot;, &quot;radius&quot;: 8}\n",
              "            ).addTo(map_3fbfa88a9850fb238e55999b2349d486);\n",
              "        \n",
              "    \n",
              "            var marker_cc14c02446e8d3811073a8a95d0bdcf2 = L.marker(\n",
              "                [17.447606999999998, 78.602627],\n",
              "                {&quot;fillColor&quot;: &quot;#43d9de&quot;, &quot;radius&quot;: 8}\n",
              "            ).addTo(map_3fbfa88a9850fb238e55999b2349d486);\n",
              "        \n",
              "    \n",
              "            var marker_f41088bf143e24a9d541df7fa1b35536 = L.marker(\n",
              "                [26.522963, 80.30125799999998],\n",
              "                {&quot;fillColor&quot;: &quot;#43d9de&quot;, &quot;radius&quot;: 8}\n",
              "            ).addTo(map_3fbfa88a9850fb238e55999b2349d486);\n",
              "        \n",
              "    \n",
              "            var marker_e647a2225b288b6b372b9b2b42245258 = L.marker(\n",
              "                [26.75884000000001, 88.481555],\n",
              "                {&quot;fillColor&quot;: &quot;#43d9de&quot;, &quot;radius&quot;: 8}\n",
              "            ).addTo(map_3fbfa88a9850fb238e55999b2349d486);\n",
              "        \n",
              "    \n",
              "            var marker_6ee280265dcbe8590ac302a3657f9d8e = L.marker(\n",
              "                [15.299991, 76.448886],\n",
              "                {&quot;fillColor&quot;: &quot;#43d9de&quot;, &quot;radius&quot;: 8}\n",
              "            ).addTo(map_3fbfa88a9850fb238e55999b2349d486);\n",
              "        \n",
              "    \n",
              "            var marker_89e623ae81a569085329de86023c8d92 = L.marker(\n",
              "                [13.176682, 80.366346],\n",
              "                {&quot;fillColor&quot;: &quot;#43d9de&quot;, &quot;radius&quot;: 8}\n",
              "            ).addTo(map_3fbfa88a9850fb238e55999b2349d486);\n",
              "        \n",
              "    \n",
              "            var marker_bcfe1eaad3a3b5930a82baa10b7b8913 = L.marker(\n",
              "                [13.176413, 80.32056399999998],\n",
              "                {&quot;fillColor&quot;: &quot;#43d9de&quot;, &quot;radius&quot;: 8}\n",
              "            ).addTo(map_3fbfa88a9850fb238e55999b2349d486);\n",
              "        \n",
              "    \n",
              "            var marker_a4860f1d399afd304d8341827be2c4b3 = L.marker(\n",
              "                [23.056911, 72.616658],\n",
              "                {&quot;fillColor&quot;: &quot;#43d9de&quot;, &quot;radius&quot;: 8}\n",
              "            ).addTo(map_3fbfa88a9850fb238e55999b2349d486);\n",
              "        \n",
              "    \n",
              "            var marker_6c9b49d0b9e9779398c9ae231fe5e14d = L.marker(\n",
              "                [19.963602, 74.56735900000002],\n",
              "                {&quot;fillColor&quot;: &quot;#43d9de&quot;, &quot;radius&quot;: 8}\n",
              "            ).addTo(map_3fbfa88a9850fb238e55999b2349d486);\n",
              "        \n",
              "    \n",
              "            var marker_882a406ffc65d465d89498e853baf95f = L.marker(\n",
              "                [13.133273999999998, 80.35834100000002],\n",
              "                {&quot;fillColor&quot;: &quot;#43d9de&quot;, &quot;radius&quot;: 8}\n",
              "            ).addTo(map_3fbfa88a9850fb238e55999b2349d486);\n",
              "        \n",
              "    \n",
              "            var marker_bc65c62a134a6a4dfc8373cdffadd029 = L.marker(\n",
              "                [22.662182, 88.386448],\n",
              "                {&quot;fillColor&quot;: &quot;#43d9de&quot;, &quot;radius&quot;: 8}\n",
              "            ).addTo(map_3fbfa88a9850fb238e55999b2349d486);\n",
              "        \n",
              "    \n",
              "            var marker_2000086895edb1e5cdc5b054be91ec93 = L.marker(\n",
              "                [13.121491, 80.305561],\n",
              "                {&quot;fillColor&quot;: &quot;#43d9de&quot;, &quot;radius&quot;: 8}\n",
              "            ).addTo(map_3fbfa88a9850fb238e55999b2349d486);\n",
              "        \n",
              "    \n",
              "            var marker_518bd77e5d7df29dae26a28d295b19de = L.marker(\n",
              "                [13.116214, 80.281319],\n",
              "                {&quot;fillColor&quot;: &quot;#43d9de&quot;, &quot;radius&quot;: 8}\n",
              "            ).addTo(map_3fbfa88a9850fb238e55999b2349d486);\n",
              "        \n",
              "    \n",
              "            var marker_c974dfb1237cdc84686d157bcb56ab95 = L.marker(\n",
              "                [13.106385, 80.310259],\n",
              "                {&quot;fillColor&quot;: &quot;#43d9de&quot;, &quot;radius&quot;: 8}\n",
              "            ).addTo(map_3fbfa88a9850fb238e55999b2349d486);\n",
              "        \n",
              "    \n",
              "            var marker_4d47625442a08a7d7e083c74efc66751 = L.marker(\n",
              "                [17.520456, 78.378908],\n",
              "                {&quot;fillColor&quot;: &quot;#43d9de&quot;, &quot;radius&quot;: 8}\n",
              "            ).addTo(map_3fbfa88a9850fb238e55999b2349d486);\n",
              "        \n",
              "    \n",
              "            var marker_b963e271e8758a28fd21f3f13c620f4e = L.marker(\n",
              "                [13.102865, 80.34563],\n",
              "                {&quot;fillColor&quot;: &quot;#43d9de&quot;, &quot;radius&quot;: 8}\n",
              "            ).addTo(map_3fbfa88a9850fb238e55999b2349d486);\n",
              "        \n",
              "    \n",
              "            var marker_38f563e69e2173a5d7e9e460ad808e77 = L.marker(\n",
              "                [28.042016, 79.10398699999998],\n",
              "                {&quot;fillColor&quot;: &quot;#43d9de&quot;, &quot;radius&quot;: 8}\n",
              "            ).addTo(map_3fbfa88a9850fb238e55999b2349d486);\n",
              "        \n",
              "    \n",
              "            var marker_26f13fcd6f2fc67deb7b26452f686cd2 = L.marker(\n",
              "                [17.705705000000005, 83.05425100000002],\n",
              "                {&quot;fillColor&quot;: &quot;#43d9de&quot;, &quot;radius&quot;: 8}\n",
              "            ).addTo(map_3fbfa88a9850fb238e55999b2349d486);\n",
              "        \n",
              "    \n",
              "            var marker_8097bb49dd67114c8b7ee05960638f88 = L.marker(\n",
              "                [18.151226, 78.883696],\n",
              "                {&quot;fillColor&quot;: &quot;#43d9de&quot;, &quot;radius&quot;: 8}\n",
              "            ).addTo(map_3fbfa88a9850fb238e55999b2349d486);\n",
              "        \n",
              "    \n",
              "            var marker_72c224a976c14ee75bc332adb58fd0e1 = L.marker(\n",
              "                [28.430634, 78.18368000000002],\n",
              "                {&quot;fillColor&quot;: &quot;#43d9de&quot;, &quot;radius&quot;: 8}\n",
              "            ).addTo(map_3fbfa88a9850fb238e55999b2349d486);\n",
              "        \n",
              "    \n",
              "            var marker_9fec441e31956acd799810e5cff92f1f = L.marker(\n",
              "                [28.503088, 77.88371199999997],\n",
              "                {&quot;fillColor&quot;: &quot;#43d9de&quot;, &quot;radius&quot;: 8}\n",
              "            ).addTo(map_3fbfa88a9850fb238e55999b2349d486);\n",
              "        \n",
              "    \n",
              "            var marker_0da5f17470998283a63064a786dc0364 = L.marker(\n",
              "                [19.411107, 79.548604],\n",
              "                {&quot;fillColor&quot;: &quot;#43d9de&quot;, &quot;radius&quot;: 8}\n",
              "            ).addTo(map_3fbfa88a9850fb238e55999b2349d486);\n",
              "        \n",
              "    \n",
              "            var marker_300da46890d767c1568216ce5f4050ca = L.marker(\n",
              "                [8.883911999999997, 78.220617],\n",
              "                {&quot;fillColor&quot;: &quot;#43d9de&quot;, &quot;radius&quot;: 8}\n",
              "            ).addTo(map_3fbfa88a9850fb238e55999b2349d486);\n",
              "        \n",
              "&lt;/script&gt;\" style=\"position:absolute;width:100%;height:100%;left:0;top:0;border:none !important;\" allowfullscreen webkitallowfullscreen mozallowfullscreen></iframe></div></div>"
            ]
          },
          "metadata": {},
          "execution_count": 105
        }
      ]
    },
    {
      "cell_type": "code",
      "source": [
        "df.groupby('state')['device_id'].agg('count').sort_values(ascending=False).reset_index().plot.bar(x= 'state', y = 'device_id', figsize = (20, 10), color=sns.color_palette('pastel'))\n",
        "plt.title('Unique Device ID of States',fontdict={'fontsize':20})\n",
        "plt.xlabel('States',fontdict={'fontsize':15})\n",
        "plt.ylabel('unique Device ID',fontdict={'fontsize':15})\n",
        "plt.show()"
      ],
      "metadata": {
        "colab": {
          "base_uri": "https://localhost:8080/",
          "height": 716
        },
        "id": "RlzGjR63TK02",
        "outputId": "e312f8a4-cbd2-465f-8d33-bfddb524706a"
      },
      "id": "RlzGjR63TK02",
      "execution_count": 111,
      "outputs": [
        {
          "output_type": "display_data",
          "data": {
            "text/plain": [
              "<Figure size 1440x720 with 1 Axes>"
            ],
            "image/png": "[encoded data removed]"
          },
          "metadata": {
            "needs_background": "light"
          }
        }
      ]
    },
    {
      "cell_type": "markdown",
      "source": [
        "## 2. Distribution of Users across Phone Brands(Consider only 10 Most used Phone Brands)."
      ],
      "metadata": {
        "id": "KPxE0Dd1X4I6"
      },
      "id": "KPxE0Dd1X4I6"
    },
    {
      "cell_type": "code",
      "source": [
        "df_phone_brand= df.groupby('phone_brand')['device_id'].agg('count').reset_index().sort_values(by='device_id',ascending=False)\n",
        "df_phone_brand.loc[(df_phone_brand['device_id'] > 100)].plot.bar(x= 'phone_brand', y = 'device_id', figsize = (20, 10), color=sns.color_palette('pastel'))\n",
        "plt.title('Phone Brand vs Unique Device ID',fontdict={'fontsize':20})\n",
        "plt.xlabel('Phone Brands',fontdict={'fontsize':15})\n",
        "plt.ylabel('unique Device ID',fontdict={'fontsize':15})\n",
        "plt.show()"
      ],
      "metadata": {
        "colab": {
          "base_uri": "https://localhost:8080/",
          "height": 668
        },
        "id": "x74kEBGaX7Ao",
        "outputId": "b29084e0-ebfa-49ca-bfb8-636869a98453"
      },
      "id": "x74kEBGaX7Ao",
      "execution_count": 113,
      "outputs": [
        {
          "output_type": "display_data",
          "data": {
            "text/plain": [
              "<Figure size 1440x720 with 1 Axes>"
            ],
            "image/png": "[encoded data removed]"
          },
          "metadata": {
            "needs_background": "light"
          }
        }
      ]
    },
    {
      "cell_type": "markdown",
      "source": [
        "## 3. Distribution of Users across Gender. "
      ],
      "metadata": {
        "id": "NZOP2ioVZMPT"
      },
      "id": "NZOP2ioVZMPT"
    },
    {
      "cell_type": "code",
      "source": [
        "df.groupby('gender')['device_id'].agg('count').reset_index().plot.bar(x= 'gender', y = 'device_id', color=sns.color_palette('pastel'))\n",
        "plt.title('Gender Vs Unique Device Id',fontdict={'fontsize':20})\n",
        "plt.xlabel('Gender',fontdict={'fontsize':15})\n",
        "plt.ylabel('unique Device ID',fontdict={'fontsize':15})\n",
        "plt.show()"
      ],
      "metadata": {
        "colab": {
          "base_uri": "https://localhost:8080/",
          "height": 304
        },
        "id": "ioMuD0ntY8lo",
        "outputId": "324f2021-ef77-4c1b-b402-132514ba1bdd"
      },
      "id": "ioMuD0ntY8lo",
      "execution_count": 114,
      "outputs": [
        {
          "output_type": "display_data",
          "data": {
            "text/plain": [
              "<Figure size 432x288 with 1 Axes>"
            ],
            "image/png": "[encoded data removed]"
          },
          "metadata": {
            "needs_background": "light"
          }
        }
      ]
    },
    {
      "cell_type": "markdown",
      "source": [
        "## 4. Distribution of Users across Age Segments"
      ],
      "metadata": {
        "id": "gQZp9RdtZ3cM"
      },
      "id": "gQZp9RdtZ3cM"
    },
    {
      "cell_type": "code",
      "source": [
        "df[df['gender']=='M'].groupby('group')['device_id'].agg('count').reset_index().sort_values(by = 'device_id', ascending = False).plot.bar(x= 'group', y = 'device_id', figsize = (20, 10), color=sns.color_palette('pastel'))\n",
        "plt.title('Age Group Vs Unique Device Id',fontdict={'fontsize':20})\n",
        "plt.xlabel('Male Age Group',fontdict={'fontsize':15})\n",
        "plt.ylabel('unique Device ID',fontdict={'fontsize':15})\n",
        "plt.show()\n",
        "print('-'*100)\n",
        "\n",
        "df[df['gender']=='F'].groupby('group')['device_id'].agg('count').reset_index().sort_values(by = 'device_id', ascending = False).plot.bar(x= 'group', y = 'device_id', figsize = (20, 10), color=sns.color_palette('pastel'))\n",
        "plt.title('Age Group Vs Unique Device Id',fontdict={'fontsize':20})\n",
        "plt.xlabel('Female Age Group',fontdict={'fontsize':15})\n",
        "plt.ylabel('unique Device ID',fontdict={'fontsize':15})\n",
        "plt.show()"
      ],
      "metadata": {
        "colab": {
          "base_uri": "https://localhost:8080/",
          "height": 1000
        },
        "id": "W9USOL44Zz_4",
        "outputId": "0ef52271-3f36-4a74-a0d5-16e70835f508"
      },
      "id": "W9USOL44Zz_4",
      "execution_count": 119,
      "outputs": [
        {
          "output_type": "display_data",
          "data": {
            "text/plain": [
              "<Figure size 1440x720 with 1 Axes>"
            ],
            "image/png": "[encoded data removed]"
          },
          "metadata": {
            "needs_background": "light"
          }
        },
        {
          "output_type": "stream",
          "name": "stdout",
          "text": [
            "----------------------------------------------------------------------------------------------------\n"
          ]
        },
        {
          "output_type": "display_data",
          "data": {
            "text/plain": [
              "<Figure size 1440x720 with 1 Axes>"
            ],
            "image/png": "[encoded data removed]"
          },
          "metadata": {
            "needs_background": "light"
          }
        }
      ]
    },
    {
      "cell_type": "markdown",
      "source": [
        "## 5. Distribution of Phone Brands(Consider only the 10 Most used Phone Brands) for each Age Segment, State, and Gender"
      ],
      "metadata": {
        "id": "dObbVyZUa16R"
      },
      "id": "dObbVyZUa16R"
    },
    {
      "cell_type": "code",
      "source": [
        "phone_brand_gender = pd.crosstab(df.phone_brand,df.gender).loc['Coolpad':'yōu mǐ'].sort_values(by='M',ascending=False)\n",
        "phone_brand_gender.plot(kind = 'bar',figsize=(20,10))\n",
        "plt.title('Phone Brand vs Device ID',fontdict={'fontsize':20})\n",
        "plt.xlabel('Brand',fontdict={'fontsize':15})\n",
        "plt.ylabel('unique Device ID',fontdict={'fontsize':15})\n",
        "plt.show()"
      ],
      "metadata": {
        "colab": {
          "base_uri": "https://localhost:8080/",
          "height": 668
        },
        "id": "Z_KPAMc_aNwY",
        "outputId": "9addb632-fbbd-45d8-f8f4-d450787e0f7f"
      },
      "id": "Z_KPAMc_aNwY",
      "execution_count": 121,
      "outputs": [
        {
          "output_type": "display_data",
          "data": {
            "text/plain": [
              "<Figure size 1440x720 with 1 Axes>"
            ],
            "image/png": "[encoded data removed]"
          },
          "metadata": {
            "needs_background": "light"
          }
        }
      ]
    },
    {
      "cell_type": "code",
      "source": [
        "phone_brand_group = pd.crosstab(df.phone_brand,df.group)\n",
        "phone_brand_group.loc['Coolpad':'yōu mǐ'].plot(kind = 'bar', figsize = (20, 10))\n",
        "plt.title('Phone Brand vs Device ID',fontdict={'fontsize':20})\n",
        "plt.xlabel('Brand',fontdict={'fontsize':15})\n",
        "plt.ylabel('unique Device ID',fontdict={'fontsize':15})\n",
        "plt.show()"
      ],
      "metadata": {
        "colab": {
          "base_uri": "https://localhost:8080/",
          "height": 668
        },
        "id": "D-t-h81wcIMp",
        "outputId": "11f344be-ce80-41c7-bb86-7226c7d109c3"
      },
      "id": "D-t-h81wcIMp",
      "execution_count": 122,
      "outputs": [
        {
          "output_type": "display_data",
          "data": {
            "text/plain": [
              "<Figure size 1440x720 with 1 Axes>"
            ],
            "image/png": "[encoded data removed]"
          },
          "metadata": {
            "needs_background": "light"
          }
        }
      ]
    },
    {
      "cell_type": "markdown",
      "source": [
        "## 6. Distribution of gender for state"
      ],
      "metadata": {
        "id": "wizgsQ8Tc3DE"
      },
      "id": "wizgsQ8Tc3DE"
    },
    {
      "cell_type": "code",
      "source": [
        "gender_state = pd.crosstab(df.state,df.gender).sort_values(by='M',ascending=False).plot(kind = 'bar', figsize = (15, 10))\n",
        "plt.title('States vs Device ID',fontdict={'fontsize':20})\n",
        "plt.xlabel('States',fontdict={'fontsize':15})\n",
        "plt.ylabel('unique Device ID',fontdict={'fontsize':15})\n",
        "plt.show()"
      ],
      "metadata": {
        "colab": {
          "base_uri": "https://localhost:8080/",
          "height": 716
        },
        "id": "Wy6_k8dockyJ",
        "outputId": "c493e332-31c7-42c1-ffb8-6b41e464f66e"
      },
      "id": "Wy6_k8dockyJ",
      "execution_count": 127,
      "outputs": [
        {
          "output_type": "display_data",
          "data": {
            "text/plain": [
              "<Figure size 1080x720 with 1 Axes>"
            ],
            "image/png": "[encoded data removed]"
          },
          "metadata": {
            "needs_background": "light"
          }
        }
      ]
    },
    {
      "cell_type": "markdown",
      "source": [
        "## 7. Distribution of gender for group"
      ],
      "metadata": {
        "id": "h4uolmIAfF9g"
      },
      "id": "h4uolmIAfF9g"
    },
    {
      "cell_type": "code",
      "source": [
        "gender_group = pd.crosstab(df.group,df.gender)\n",
        "gender_group.plot(kind = 'bar', figsize = (15, 10))\n",
        "plt.title('Age Group vs Device ID',fontdict={'fontsize':20})\n",
        "plt.xlabel('Age Group',fontdict={'fontsize':15})\n",
        "plt.ylabel('unique Device ID',fontdict={'fontsize':15})\n",
        "plt.show()"
      ],
      "metadata": {
        "colab": {
          "base_uri": "https://localhost:8080/",
          "height": 659
        },
        "id": "V6laB4ajfK-Z",
        "outputId": "8d320a1e-789c-4d1d-f651-562b8ab21b7d"
      },
      "id": "V6laB4ajfK-Z",
      "execution_count": 129,
      "outputs": [
        {
          "output_type": "display_data",
          "data": {
            "text/plain": [
              "<Figure size 1080x720 with 1 Axes>"
            ],
            "image/png": "[encoded data removed]"
          },
          "metadata": {
            "needs_background": "light"
          }
        }
      ]
    },
    {
      "cell_type": "markdown",
      "source": [
        "## 8. Distribution of gender for group"
      ],
      "metadata": {
        "id": "Y4CvQNqKfn2d"
      },
      "id": "Y4CvQNqKfn2d"
    },
    {
      "cell_type": "code",
      "source": [
        "gender_age = pd.crosstab(df.age,df.gender)\n",
        "gender_age.plot(kind = 'bar', figsize = (15, 10))\n",
        "plt.title('Age vs Device ID',fontdict={'fontsize':20})\n",
        "plt.xlabel('Age',fontdict={'fontsize':15})\n",
        "plt.ylabel('unique Device ID',fontdict={'fontsize':15})\n",
        "plt.show()"
      ],
      "metadata": {
        "colab": {
          "base_uri": "https://localhost:8080/",
          "height": 634
        },
        "id": "z7c3t3-afgma",
        "outputId": "1ce65ac3-16d3-41e2-b074-d2634308f501"
      },
      "id": "z7c3t3-afgma",
      "execution_count": 130,
      "outputs": [
        {
          "output_type": "display_data",
          "data": {
            "text/plain": [
              "<Figure size 1080x720 with 1 Axes>"
            ],
            "image/png": "[encoded data removed]"
          },
          "metadata": {
            "needs_background": "light"
          }
        }
      ]
    },
    {
      "cell_type": "markdown",
      "source": [
        "## 9. Hours vs Event ID"
      ],
      "metadata": {
        "id": "XqYd436NgMIS"
      },
      "id": "XqYd436NgMIS"
    },
    {
      "cell_type": "code",
      "source": [
        "fig,ax = plt.subplots(figsize=[15,8])\n",
        "df_calls = df.groupby('hour').agg({'event_id':'count'}).reset_index()\n",
        "sns.barplot(x='hour',y='event_id',data=df_calls)\n",
        "plt.title('Number of calls per Hour')\n",
        "plt.show()"
      ],
      "metadata": {
        "colab": {
          "base_uri": "https://localhost:8080/",
          "height": 513
        },
        "id": "FaklmXaUf9fa",
        "outputId": "22620987-ddf3-499f-d27f-c86dd37763fd"
      },
      "id": "FaklmXaUf9fa",
      "execution_count": 132,
      "outputs": [
        {
          "output_type": "display_data",
          "data": {
            "text/plain": [
              "<Figure size 1080x576 with 1 Axes>"
            ],
            "image/png": "[encoded data removed]"
          },
          "metadata": {
            "needs_background": "light"
          }
        }
      ]
    },
    {
      "cell_type": "markdown",
      "source": [
        "## 10. Days vs Event ID"
      ],
      "metadata": {
        "id": "p7tKc5vQhozp"
      },
      "id": "p7tKc5vQhozp"
    },
    {
      "cell_type": "code",
      "source": [
        "fig,ax = plt.subplots(figsize=[15,8])\n",
        "df_calls = df.groupby('day_of_week').agg({'event_id':'count'}).reset_index()\n",
        "sns.barplot(x='day_of_week',y='event_id',data=df_calls)\n",
        "plt.title('Number of calls per Day')\n",
        "plt.show()"
      ],
      "metadata": {
        "colab": {
          "base_uri": "https://localhost:8080/",
          "height": 514
        },
        "id": "Zz7fLDUJgTH6",
        "outputId": "c92ac99d-2c1f-4abf-d510-e447c207ac1c"
      },
      "id": "Zz7fLDUJgTH6",
      "execution_count": 137,
      "outputs": [
        {
          "output_type": "display_data",
          "data": {
            "text/plain": [
              "<Figure size 1080x576 with 1 Axes>"
            ],
            "image/png": "[encoded data removed]"
          },
          "metadata": {
            "needs_background": "light"
          }
        }
      ]
    },
    {
      "cell_type": "markdown",
      "source": [
        "# Conclusion"
      ],
      "metadata": {
        "id": "45wIL4e6h-am"
      },
      "id": "45wIL4e6h-am"
    },
    {
      "cell_type": "code",
      "source": [],
      "metadata": {
        "id": "iA7-rPvhiBTI"
      },
      "id": "iA7-rPvhiBTI",
      "execution_count": null,
      "outputs": []
    }
  ],
  "metadata": {
    "kernelspec": {
      "display_name": "Python 3 (ipykernel)",
      "language": "python",
      "name": "python3"
    },
    "language_info": {
      "codemirror_mode": {
        "name": "ipython",
        "version": 3
      },
      "file_extension": ".py",
      "mimetype": "text/x-python",
      "name": "python",
      "nbconvert_exporter": "python",
      "pygments_lexer": "ipython3",
      "version": "3.8.5"
    },
    "colab": {
      "name": "Primary Data Collection from server.ipynb",
      "provenance": [],
      "toc_visible": true,
      "include_colab_link": true
    }
  },
  "nbformat": 4,
  "nbformat_minor": 5
}