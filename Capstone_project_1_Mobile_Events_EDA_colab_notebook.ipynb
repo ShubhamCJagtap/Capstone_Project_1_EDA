{
  "cells": [
    {
      "cell_type": "markdown",
      "metadata": {
        "id": "view-in-github",
        "colab_type": "text"
      },
      "source": [
        "<a href=\"https://colab.research.google.com/github/ShubhamCJagtap/Capstone_Project_1_EDA/blob/master/Capstone_project_1_Mobile_Events_EDA_colab_notebook.ipynb\" target=\"_parent\"><img src=\"https://colab.research.google.com/assets/colab-badge.svg\" alt=\"Open In Colab\"/></a>"
      ]
    },
    {
      "cell_type": "markdown",
      "id": "755ca927",
      "metadata": {
        "id": "755ca927"
      },
      "source": [
        " ## EDA steps to follow\n",
        " \n",
        "**1.** [**Introduction**](#Section1)<br>\n",
        "**2.** [**Problem Statement**](#Section2)<br>\n",
        "**3.** [**Installing & Importing Libraries**](#Section3)<br>\n",
        "  - **3.1** [**Installing Libraries**](#Section31)\n",
        "  - **3.2** [**Upgrading Libraries**](#Section32)\n",
        "  - **3.3** [**Importing Libraries**](#Section33)\n",
        "\n",
        "**4.** [**Data Acquisition & Description**](#Section4)<br>\n",
        "  - **4.1** [**Data Description**](#Section41)\n",
        "  - **4.2** [**Data Information**](#Section42)\n",
        "\n",
        "**5.** [**Data Pre-profiling**](#Section5)<br>\n",
        "**6.** [**Data Cleaning**](#Section6)<br>\n",
        "**7.** [**Data Post-profiling**](#Section7)<br>\n",
        "**8.** [**Exploratory Data Analysis**](#Section8)<br>\n",
        "  - **8.1** [**Outlet Metrics-based Analysis**](#Section81)\n",
        "  - **8.2** [**Nutritional Value-based Analysis**](#Section82)\n",
        "  - **8.3** [**Geographical Information-based Analysis**](#Section83)\n",
        "  - **8.4** [**Outlet Metrics-based & Nutritional Value-based Analysis**](#Section84)\n",
        "  - **8.5** [**Outlet Metrics-based & Geographical Information-based Analysis**](#Section85)\n",
        "  - **8.6** [**Nutritional Value-based & Geographical Information-based Analysis**](#Section86)\n",
        "  - **8.7** [**Outlet Metric-based, Menu Items & Geographical Information-based Analysis**](#Section87)\n",
        "\n",
        "**9.** [**Summarization**](#Section9)<br>"
      ]
    },
    {
      "cell_type": "markdown",
      "id": "7e5a158a",
      "metadata": {
        "id": "7e5a158a"
      },
      "source": [
        "# Introduction"
      ]
    },
    {
      "cell_type": "markdown",
      "id": "905f5b9a",
      "metadata": {
        "id": "905f5b9a"
      },
      "source": [
        "### Company Introduction\n",
        "Your company for this project is InsaidTelecom.<br>\n",
        "\n",
        "InsaidTelecom, one of the leading telecom players, understands that customizing offerings is very important for its business to stay competitive.<br>\n",
        "Currently, InsaidTelecom is seeking to leverage behavioural data from more than 60% of the 50 million mobile devices active daily in India<br>\n",
        "They are doing this to help their clients better understand and interact with their audiences.<br>\n"
      ]
    },
    {
      "cell_type": "markdown",
      "id": "71704b63",
      "metadata": {
        "id": "71704b63"
      },
      "source": [
        "# problem Statement\n",
        "\n",
        "## Current Scenario\n",
        "In this consulting assignment, Insaidians are expected to build a dashboard.<br>\n",
        "This dashboard will help us to understand a user's demographic characteristics based on their mobile usage, geolocation, and mobile device properties<br>\n",
        "Doing so will help millions of developers and brand advertisers around the world pursue data-driven marketing efforts.\n",
        "These efforts are relevant to their users and cater to their preferences.<br>\n",
        "\n",
        "### Expected output\n",
        "\n",
        "- EDA observations\n",
        "- Dashboard"
      ]
    },
    {
      "cell_type": "markdown",
      "id": "2245c342",
      "metadata": {
        "id": "2245c342"
      },
      "source": [
        "# Role\n",
        "\n",
        "## Your Role\n",
        "- To help the customer the consultants are expected to have depth of clarity in the underlying data.\n",
        "- How much effort has been put into cleansing and purifying the data will decide how closely have you looked at the data..\n",
        "- How detailed is the observation stated in the submission report and finally, how well a group presents their consulting journey.\n",
        "- Please remember that this is an analytics consulting firm. Hence, your efforts in terms of finding user behaviour are going to directly impact the company's offerings.\n",
        "- Do help the company understand what is the right way forward and suggest actionable insights from marketing and product terms.\n"
      ]
    },
    {
      "cell_type": "markdown",
      "id": "744cb91c",
      "metadata": {
        "id": "744cb91c"
      },
      "source": [
        "### State to focus\n",
        "- Delhi"
      ]
    },
    {
      "cell_type": "markdown",
      "id": "0f34c8e2",
      "metadata": {
        "id": "0f34c8e2"
      },
      "source": [
        "### Provided Instructions"
      ]
    },
    {
      "cell_type": "markdown",
      "id": "6c8afe57",
      "metadata": {
        "id": "6c8afe57"
      },
      "source": [
        "#### Dataset Description\n",
        "- In this assignment, you are going to study the demographics of a user (gender and age) based on their app download and usage behaviours.\n",
        "- The Data is collected from mobile apps that use Inside Telecom services. Full recognition and consent from an individual user of those apps have been obtained,and appropriate anonymization has been performed to protect privacy. Due to confidentiality, we won't provide details on how the gender and age data were obtained.\n",
        "- Please treat them as accurate ground truth for prediction.\n"
      ]
    },
    {
      "cell_type": "markdown",
      "id": "c021bc02",
      "metadata": {
        "id": "c021bc02"
      },
      "source": [
        "## Week 1 Task\n",
        "\n",
        "- Fetch the data on to the notebook and ponder upon the challenges present in the data\n",
        "- All observations supposed to be listed in observation sheet"
      ]
    },
    {
      "cell_type": "markdown",
      "id": "059c98d9",
      "metadata": {
        "id": "059c98d9"
      },
      "source": [
        "# Import Libraries"
      ]
    },
    {
      "cell_type": "code",
      "source": [
        "!pip install mysql.connector"
      ],
      "metadata": {
        "id": "QzK9CSkZg9gA",
        "outputId": "d167333f-06de-4d69-ce6c-b7f2cf1f8fee",
        "colab": {
          "base_uri": "https://localhost:8080/"
        }
      },
      "id": "QzK9CSkZg9gA",
      "execution_count": 8,
      "outputs": [
        {
          "output_type": "stream",
          "name": "stdout",
          "text": [
            "Looking in indexes: https://pypi.org/simple, https://us-python.pkg.dev/colab-wheels/public/simple/\n",
            "Requirement already satisfied: mysql.connector in /usr/local/lib/python3.7/dist-packages (2.2.9)\n"
          ]
        }
      ]
    },
    {
      "cell_type": "code",
      "execution_count": 9,
      "id": "fc2827d5",
      "metadata": {
        "id": "fc2827d5"
      },
      "outputs": [],
      "source": [
        "import pandas as pd\n",
        "import numpy as np\n",
        "import mysql.connector as connection # install !pip install mysql.connector\n",
        "import matplotlib.pyplot as plt\n",
        "import seaborn as sns\n",
        "import warnings\n",
        "warnings.filterwarnings('ignore')\n",
        "\n",
        "pd.set_option('display.max_columns',None)\n",
        "pd.set_option('display.max_rows',None)\n",
        "pd.set_option('display.max_colwidth',None)\n",
        "pd.set_option('mode.chained_assignment',None)"
      ]
    },
    {
      "cell_type": "code",
      "execution_count": 10,
      "id": "f9dfd48c",
      "metadata": {
        "id": "f9dfd48c"
      },
      "outputs": [],
      "source": [
        "Google_drive_link = 'https://drive.google.com/file/d/1Ir3rW0YTKmk7MSjVjCU_UGMQevhe1v9W/view'"
      ]
    },
    {
      "cell_type": "markdown",
      "id": "cef7d323",
      "metadata": {
        "id": "cef7d323"
      },
      "source": [
        "# Collect Events Data"
      ]
    },
    {
      "cell_type": "code",
      "execution_count": 11,
      "id": "aedb447e",
      "metadata": {
        "scrolled": true,
        "id": "aedb447e"
      },
      "outputs": [],
      "source": [
        "df = pd.read_csv('/content/drive/MyDrive/Capstone 1 Insaid/Database/events_data.csv')   #read csv file"
      ]
    },
    {
      "cell_type": "code",
      "execution_count": 12,
      "id": "4e77fc9a",
      "metadata": {
        "id": "4e77fc9a",
        "outputId": "89b839b8-2eb1-4b46-fd85-5c4c2bdb29d5",
        "colab": {
          "base_uri": "https://localhost:8080/",
          "height": 363
        }
      },
      "outputs": [
        {
          "output_type": "execute_result",
          "data": {
            "text/plain": [
              "   event_id     device_id            timestamp  longitude   latitude  \\\n",
              "0   2765368  2.973348e+18  2016-05-07 22:52:05  77.225676  28.730140   \n",
              "1   2955066  4.734221e+18  2016-05-01 20:44:16  88.388361  22.660325   \n",
              "2    605968 -3.264500e+18  2016-05-02 14:23:04  77.256809  28.757906   \n",
              "3    448114  5.731369e+18  2016-05-03 13:21:16  80.343613  13.153332   \n",
              "4    665740  3.388880e+17  2016-05-06 03:51:05  85.997745  23.842609   \n",
              "5   1078723 -5.124242e+17  2016-05-02 02:21:20  83.398244  17.768149   \n",
              "6   2948755  5.536513e+18  2016-05-03 16:20:14  80.359796  13.128174   \n",
              "7    280014 -8.879644e+18  2016-05-05 13:06:01  78.155397  16.390327   \n",
              "8   2309828  3.020769e+18  2016-05-04 09:24:50  77.263922  28.757914   \n",
              "9    720049  4.928556e+18  2016-05-06 19:00:52  72.844795  18.974929   \n",
              "\n",
              "            city          state  \n",
              "0          Delhi          Delhi  \n",
              "1       Calcutta     WestBengal  \n",
              "2          Delhi          Delhi  \n",
              "3        Chennai      TamilNadu  \n",
              "4         Bokaro      Jharkhand  \n",
              "5  Visakhapatnam  AndhraPradesh  \n",
              "6        Chennai      TamilNadu  \n",
              "7       Wanparti  AndhraPradesh  \n",
              "8          Delhi          Delhi  \n",
              "9         Mumbai    Maharashtra  "
            ],
            "text/html": [
              "\n",
              "  <div id=\"df-7f4339c2-045a-42f6-a220-6aaf81fc2dba\">\n",
              "    <div class=\"colab-df-container\">\n",
              "      <div>\n",
              "<style scoped>\n",
              "    .dataframe tbody tr th:only-of-type {\n",
              "        vertical-align: middle;\n",
              "    }\n",
              "\n",
              "    .dataframe tbody tr th {\n",
              "        vertical-align: top;\n",
              "    }\n",
              "\n",
              "    .dataframe thead th {\n",
              "        text-align: right;\n",
              "    }\n",
              "</style>\n",
              "<table border=\"1\" class=\"dataframe\">\n",
              "  <thead>\n",
              "    <tr style=\"text-align: right;\">\n",
              "      <th></th>\n",
              "      <th>event_id</th>\n",
              "      <th>device_id</th>\n",
              "      <th>timestamp</th>\n",
              "      <th>longitude</th>\n",
              "      <th>latitude</th>\n",
              "      <th>city</th>\n",
              "      <th>state</th>\n",
              "    </tr>\n",
              "  </thead>\n",
              "  <tbody>\n",
              "    <tr>\n",
              "      <th>0</th>\n",
              "      <td>2765368</td>\n",
              "      <td>2.973348e+18</td>\n",
              "      <td>2016-05-07 22:52:05</td>\n",
              "      <td>77.225676</td>\n",
              "      <td>28.730140</td>\n",
              "      <td>Delhi</td>\n",
              "      <td>Delhi</td>\n",
              "    </tr>\n",
              "    <tr>\n",
              "      <th>1</th>\n",
              "      <td>2955066</td>\n",
              "      <td>4.734221e+18</td>\n",
              "      <td>2016-05-01 20:44:16</td>\n",
              "      <td>88.388361</td>\n",
              "      <td>22.660325</td>\n",
              "      <td>Calcutta</td>\n",
              "      <td>WestBengal</td>\n",
              "    </tr>\n",
              "    <tr>\n",
              "      <th>2</th>\n",
              "      <td>605968</td>\n",
              "      <td>-3.264500e+18</td>\n",
              "      <td>2016-05-02 14:23:04</td>\n",
              "      <td>77.256809</td>\n",
              "      <td>28.757906</td>\n",
              "      <td>Delhi</td>\n",
              "      <td>Delhi</td>\n",
              "    </tr>\n",
              "    <tr>\n",
              "      <th>3</th>\n",
              "      <td>448114</td>\n",
              "      <td>5.731369e+18</td>\n",
              "      <td>2016-05-03 13:21:16</td>\n",
              "      <td>80.343613</td>\n",
              "      <td>13.153332</td>\n",
              "      <td>Chennai</td>\n",
              "      <td>TamilNadu</td>\n",
              "    </tr>\n",
              "    <tr>\n",
              "      <th>4</th>\n",
              "      <td>665740</td>\n",
              "      <td>3.388880e+17</td>\n",
              "      <td>2016-05-06 03:51:05</td>\n",
              "      <td>85.997745</td>\n",
              "      <td>23.842609</td>\n",
              "      <td>Bokaro</td>\n",
              "      <td>Jharkhand</td>\n",
              "    </tr>\n",
              "    <tr>\n",
              "      <th>5</th>\n",
              "      <td>1078723</td>\n",
              "      <td>-5.124242e+17</td>\n",
              "      <td>2016-05-02 02:21:20</td>\n",
              "      <td>83.398244</td>\n",
              "      <td>17.768149</td>\n",
              "      <td>Visakhapatnam</td>\n",
              "      <td>AndhraPradesh</td>\n",
              "    </tr>\n",
              "    <tr>\n",
              "      <th>6</th>\n",
              "      <td>2948755</td>\n",
              "      <td>5.536513e+18</td>\n",
              "      <td>2016-05-03 16:20:14</td>\n",
              "      <td>80.359796</td>\n",
              "      <td>13.128174</td>\n",
              "      <td>Chennai</td>\n",
              "      <td>TamilNadu</td>\n",
              "    </tr>\n",
              "    <tr>\n",
              "      <th>7</th>\n",
              "      <td>280014</td>\n",
              "      <td>-8.879644e+18</td>\n",
              "      <td>2016-05-05 13:06:01</td>\n",
              "      <td>78.155397</td>\n",
              "      <td>16.390327</td>\n",
              "      <td>Wanparti</td>\n",
              "      <td>AndhraPradesh</td>\n",
              "    </tr>\n",
              "    <tr>\n",
              "      <th>8</th>\n",
              "      <td>2309828</td>\n",
              "      <td>3.020769e+18</td>\n",
              "      <td>2016-05-04 09:24:50</td>\n",
              "      <td>77.263922</td>\n",
              "      <td>28.757914</td>\n",
              "      <td>Delhi</td>\n",
              "      <td>Delhi</td>\n",
              "    </tr>\n",
              "    <tr>\n",
              "      <th>9</th>\n",
              "      <td>720049</td>\n",
              "      <td>4.928556e+18</td>\n",
              "      <td>2016-05-06 19:00:52</td>\n",
              "      <td>72.844795</td>\n",
              "      <td>18.974929</td>\n",
              "      <td>Mumbai</td>\n",
              "      <td>Maharashtra</td>\n",
              "    </tr>\n",
              "  </tbody>\n",
              "</table>\n",
              "</div>\n",
              "      <button class=\"colab-df-convert\" onclick=\"convertToInteractive('df-7f4339c2-045a-42f6-a220-6aaf81fc2dba')\"\n",
              "              title=\"Convert this dataframe to an interactive table.\"\n",
              "              style=\"display:none;\">\n",
              "        \n",
              "  <svg xmlns=\"http://www.w3.org/2000/svg\" height=\"24px\"viewBox=\"0 0 24 24\"\n",
              "       width=\"24px\">\n",
              "    <path d=\"M0 0h24v24H0V0z\" fill=\"none\"/>\n",
              "    <path d=\"M18.56 5.44l.94 2.06.94-2.06 2.06-.94-2.06-.94-.94-2.06-.94 2.06-2.06.94zm-11 1L8.5 8.5l.94-2.06 2.06-.94-2.06-.94L8.5 2.5l-.94 2.06-2.06.94zm10 10l.94 2.06.94-2.06 2.06-.94-2.06-.94-.94-2.06-.94 2.06-2.06.94z\"/><path d=\"M17.41 7.96l-1.37-1.37c-.4-.4-.92-.59-1.43-.59-.52 0-1.04.2-1.43.59L10.3 9.45l-7.72 7.72c-.78.78-.78 2.05 0 2.83L4 21.41c.39.39.9.59 1.41.59.51 0 1.02-.2 1.41-.59l7.78-7.78 2.81-2.81c.8-.78.8-2.07 0-2.86zM5.41 20L4 18.59l7.72-7.72 1.47 1.35L5.41 20z\"/>\n",
              "  </svg>\n",
              "      </button>\n",
              "      \n",
              "  <style>\n",
              "    .colab-df-container {\n",
              "      display:flex;\n",
              "      flex-wrap:wrap;\n",
              "      gap: 12px;\n",
              "    }\n",
              "\n",
              "    .colab-df-convert {\n",
              "      background-color: #E8F0FE;\n",
              "      border: none;\n",
              "      border-radius: 50%;\n",
              "      cursor: pointer;\n",
              "      display: none;\n",
              "      fill: #1967D2;\n",
              "      height: 32px;\n",
              "      padding: 0 0 0 0;\n",
              "      width: 32px;\n",
              "    }\n",
              "\n",
              "    .colab-df-convert:hover {\n",
              "      background-color: #E2EBFA;\n",
              "      box-shadow: 0px 1px 2px rgba(60, 64, 67, 0.3), 0px 1px 3px 1px rgba(60, 64, 67, 0.15);\n",
              "      fill: #174EA6;\n",
              "    }\n",
              "\n",
              "    [theme=dark] .colab-df-convert {\n",
              "      background-color: #3B4455;\n",
              "      fill: #D2E3FC;\n",
              "    }\n",
              "\n",
              "    [theme=dark] .colab-df-convert:hover {\n",
              "      background-color: #434B5C;\n",
              "      box-shadow: 0px 1px 3px 1px rgba(0, 0, 0, 0.15);\n",
              "      filter: drop-shadow(0px 1px 2px rgba(0, 0, 0, 0.3));\n",
              "      fill: #FFFFFF;\n",
              "    }\n",
              "  </style>\n",
              "\n",
              "      <script>\n",
              "        const buttonEl =\n",
              "          document.querySelector('#df-7f4339c2-045a-42f6-a220-6aaf81fc2dba button.colab-df-convert');\n",
              "        buttonEl.style.display =\n",
              "          google.colab.kernel.accessAllowed ? 'block' : 'none';\n",
              "\n",
              "        async function convertToInteractive(key) {\n",
              "          const element = document.querySelector('#df-7f4339c2-045a-42f6-a220-6aaf81fc2dba');\n",
              "          const dataTable =\n",
              "            await google.colab.kernel.invokeFunction('convertToInteractive',\n",
              "                                                     [key], {});\n",
              "          if (!dataTable) return;\n",
              "\n",
              "          const docLinkHtml = 'Like what you see? Visit the ' +\n",
              "            '<a target=\"_blank\" href=https://colab.research.google.com/notebooks/data_table.ipynb>data table notebook</a>'\n",
              "            + ' to learn more about interactive tables.';\n",
              "          element.innerHTML = '';\n",
              "          dataTable['output_type'] = 'display_data';\n",
              "          await google.colab.output.renderOutput(dataTable, element);\n",
              "          const docLink = document.createElement('div');\n",
              "          docLink.innerHTML = docLinkHtml;\n",
              "          element.appendChild(docLink);\n",
              "        }\n",
              "      </script>\n",
              "    </div>\n",
              "  </div>\n",
              "  "
            ]
          },
          "metadata": {},
          "execution_count": 12
        }
      ],
      "source": [
        "df.head(10)"
      ]
    },
    {
      "cell_type": "code",
      "execution_count": 13,
      "id": "a9b4f09f",
      "metadata": {
        "id": "a9b4f09f",
        "outputId": "74e49540-5803-4b91-fe47-7505f760f932",
        "colab": {
          "base_uri": "https://localhost:8080/"
        }
      },
      "outputs": [
        {
          "output_type": "stream",
          "name": "stdout",
          "text": [
            "<class 'pandas.core.frame.DataFrame'>\n",
            "RangeIndex: 3252950 entries, 0 to 3252949\n",
            "Data columns (total 7 columns):\n",
            " #   Column     Dtype  \n",
            "---  ------     -----  \n",
            " 0   event_id   int64  \n",
            " 1   device_id  float64\n",
            " 2   timestamp  object \n",
            " 3   longitude  float64\n",
            " 4   latitude   float64\n",
            " 5   city       object \n",
            " 6   state      object \n",
            "dtypes: float64(3), int64(1), object(3)\n",
            "memory usage: 173.7+ MB\n"
          ]
        }
      ],
      "source": [
        "df.info()"
      ]
    },
    {
      "cell_type": "markdown",
      "id": "b1cc1297",
      "metadata": {
        "id": "b1cc1297"
      },
      "source": [
        "## Observations (data.info())\n",
        "\n",
        "- Total Entries  3252950\n",
        "- timestamp type object ## need to change in datetime dtype"
      ]
    },
    {
      "cell_type": "code",
      "source": [
        "df.describe()"
      ],
      "metadata": {
        "id": "lyxfKZwNhokh",
        "outputId": "cf177b6e-fb21-4b92-e759-b90ffcd69955",
        "colab": {
          "base_uri": "https://localhost:8080/",
          "height": 300
        }
      },
      "id": "lyxfKZwNhokh",
      "execution_count": 14,
      "outputs": [
        {
          "output_type": "execute_result",
          "data": {
            "text/plain": [
              "           event_id     device_id     longitude      latitude\n",
              "count  3.252950e+06  3.252497e+06  3.252527e+06  3.252527e+06\n",
              "mean   1.626476e+06  1.012200e+17  7.815868e+01  2.168851e+01\n",
              "std    9.390459e+05  5.316758e+18  4.235570e+00  5.789111e+00\n",
              "min    1.000000e+00 -9.222957e+18  1.256700e+01  8.190110e+00\n",
              "25%    8.132382e+05 -4.540611e+18  7.583543e+01  1.780171e+01\n",
              "50%    1.626476e+06  1.726820e+17  7.726814e+01  2.216454e+01\n",
              "75%    2.439713e+06  4.861813e+18  8.031916e+01  2.868278e+01\n",
              "max    3.252950e+06  9.222849e+18  9.545946e+01  4.187190e+01"
            ],
            "text/html": [
              "\n",
              "  <div id=\"df-3c5191d0-5eb4-465d-8362-e62f7aaeb4e3\">\n",
              "    <div class=\"colab-df-container\">\n",
              "      <div>\n",
              "<style scoped>\n",
              "    .dataframe tbody tr th:only-of-type {\n",
              "        vertical-align: middle;\n",
              "    }\n",
              "\n",
              "    .dataframe tbody tr th {\n",
              "        vertical-align: top;\n",
              "    }\n",
              "\n",
              "    .dataframe thead th {\n",
              "        text-align: right;\n",
              "    }\n",
              "</style>\n",
              "<table border=\"1\" class=\"dataframe\">\n",
              "  <thead>\n",
              "    <tr style=\"text-align: right;\">\n",
              "      <th></th>\n",
              "      <th>event_id</th>\n",
              "      <th>device_id</th>\n",
              "      <th>longitude</th>\n",
              "      <th>latitude</th>\n",
              "    </tr>\n",
              "  </thead>\n",
              "  <tbody>\n",
              "    <tr>\n",
              "      <th>count</th>\n",
              "      <td>3.252950e+06</td>\n",
              "      <td>3.252497e+06</td>\n",
              "      <td>3.252527e+06</td>\n",
              "      <td>3.252527e+06</td>\n",
              "    </tr>\n",
              "    <tr>\n",
              "      <th>mean</th>\n",
              "      <td>1.626476e+06</td>\n",
              "      <td>1.012200e+17</td>\n",
              "      <td>7.815868e+01</td>\n",
              "      <td>2.168851e+01</td>\n",
              "    </tr>\n",
              "    <tr>\n",
              "      <th>std</th>\n",
              "      <td>9.390459e+05</td>\n",
              "      <td>5.316758e+18</td>\n",
              "      <td>4.235570e+00</td>\n",
              "      <td>5.789111e+00</td>\n",
              "    </tr>\n",
              "    <tr>\n",
              "      <th>min</th>\n",
              "      <td>1.000000e+00</td>\n",
              "      <td>-9.222957e+18</td>\n",
              "      <td>1.256700e+01</td>\n",
              "      <td>8.190110e+00</td>\n",
              "    </tr>\n",
              "    <tr>\n",
              "      <th>25%</th>\n",
              "      <td>8.132382e+05</td>\n",
              "      <td>-4.540611e+18</td>\n",
              "      <td>7.583543e+01</td>\n",
              "      <td>1.780171e+01</td>\n",
              "    </tr>\n",
              "    <tr>\n",
              "      <th>50%</th>\n",
              "      <td>1.626476e+06</td>\n",
              "      <td>1.726820e+17</td>\n",
              "      <td>7.726814e+01</td>\n",
              "      <td>2.216454e+01</td>\n",
              "    </tr>\n",
              "    <tr>\n",
              "      <th>75%</th>\n",
              "      <td>2.439713e+06</td>\n",
              "      <td>4.861813e+18</td>\n",
              "      <td>8.031916e+01</td>\n",
              "      <td>2.868278e+01</td>\n",
              "    </tr>\n",
              "    <tr>\n",
              "      <th>max</th>\n",
              "      <td>3.252950e+06</td>\n",
              "      <td>9.222849e+18</td>\n",
              "      <td>9.545946e+01</td>\n",
              "      <td>4.187190e+01</td>\n",
              "    </tr>\n",
              "  </tbody>\n",
              "</table>\n",
              "</div>\n",
              "      <button class=\"colab-df-convert\" onclick=\"convertToInteractive('df-3c5191d0-5eb4-465d-8362-e62f7aaeb4e3')\"\n",
              "              title=\"Convert this dataframe to an interactive table.\"\n",
              "              style=\"display:none;\">\n",
              "        \n",
              "  <svg xmlns=\"http://www.w3.org/2000/svg\" height=\"24px\"viewBox=\"0 0 24 24\"\n",
              "       width=\"24px\">\n",
              "    <path d=\"M0 0h24v24H0V0z\" fill=\"none\"/>\n",
              "    <path d=\"M18.56 5.44l.94 2.06.94-2.06 2.06-.94-2.06-.94-.94-2.06-.94 2.06-2.06.94zm-11 1L8.5 8.5l.94-2.06 2.06-.94-2.06-.94L8.5 2.5l-.94 2.06-2.06.94zm10 10l.94 2.06.94-2.06 2.06-.94-2.06-.94-.94-2.06-.94 2.06-2.06.94z\"/><path d=\"M17.41 7.96l-1.37-1.37c-.4-.4-.92-.59-1.43-.59-.52 0-1.04.2-1.43.59L10.3 9.45l-7.72 7.72c-.78.78-.78 2.05 0 2.83L4 21.41c.39.39.9.59 1.41.59.51 0 1.02-.2 1.41-.59l7.78-7.78 2.81-2.81c.8-.78.8-2.07 0-2.86zM5.41 20L4 18.59l7.72-7.72 1.47 1.35L5.41 20z\"/>\n",
              "  </svg>\n",
              "      </button>\n",
              "      \n",
              "  <style>\n",
              "    .colab-df-container {\n",
              "      display:flex;\n",
              "      flex-wrap:wrap;\n",
              "      gap: 12px;\n",
              "    }\n",
              "\n",
              "    .colab-df-convert {\n",
              "      background-color: #E8F0FE;\n",
              "      border: none;\n",
              "      border-radius: 50%;\n",
              "      cursor: pointer;\n",
              "      display: none;\n",
              "      fill: #1967D2;\n",
              "      height: 32px;\n",
              "      padding: 0 0 0 0;\n",
              "      width: 32px;\n",
              "    }\n",
              "\n",
              "    .colab-df-convert:hover {\n",
              "      background-color: #E2EBFA;\n",
              "      box-shadow: 0px 1px 2px rgba(60, 64, 67, 0.3), 0px 1px 3px 1px rgba(60, 64, 67, 0.15);\n",
              "      fill: #174EA6;\n",
              "    }\n",
              "\n",
              "    [theme=dark] .colab-df-convert {\n",
              "      background-color: #3B4455;\n",
              "      fill: #D2E3FC;\n",
              "    }\n",
              "\n",
              "    [theme=dark] .colab-df-convert:hover {\n",
              "      background-color: #434B5C;\n",
              "      box-shadow: 0px 1px 3px 1px rgba(0, 0, 0, 0.15);\n",
              "      filter: drop-shadow(0px 1px 2px rgba(0, 0, 0, 0.3));\n",
              "      fill: #FFFFFF;\n",
              "    }\n",
              "  </style>\n",
              "\n",
              "      <script>\n",
              "        const buttonEl =\n",
              "          document.querySelector('#df-3c5191d0-5eb4-465d-8362-e62f7aaeb4e3 button.colab-df-convert');\n",
              "        buttonEl.style.display =\n",
              "          google.colab.kernel.accessAllowed ? 'block' : 'none';\n",
              "\n",
              "        async function convertToInteractive(key) {\n",
              "          const element = document.querySelector('#df-3c5191d0-5eb4-465d-8362-e62f7aaeb4e3');\n",
              "          const dataTable =\n",
              "            await google.colab.kernel.invokeFunction('convertToInteractive',\n",
              "                                                     [key], {});\n",
              "          if (!dataTable) return;\n",
              "\n",
              "          const docLinkHtml = 'Like what you see? Visit the ' +\n",
              "            '<a target=\"_blank\" href=https://colab.research.google.com/notebooks/data_table.ipynb>data table notebook</a>'\n",
              "            + ' to learn more about interactive tables.';\n",
              "          element.innerHTML = '';\n",
              "          dataTable['output_type'] = 'display_data';\n",
              "          await google.colab.output.renderOutput(dataTable, element);\n",
              "          const docLink = document.createElement('div');\n",
              "          docLink.innerHTML = docLinkHtml;\n",
              "          element.appendChild(docLink);\n",
              "        }\n",
              "      </script>\n",
              "    </div>\n",
              "  </div>\n",
              "  "
            ]
          },
          "metadata": {},
          "execution_count": 14
        }
      ]
    },
    {
      "cell_type": "code",
      "execution_count": 15,
      "id": "2aa2cecc",
      "metadata": {
        "id": "2aa2cecc"
      },
      "outputs": [],
      "source": [
        "describe_df = df.describe()"
      ]
    },
    {
      "cell_type": "code",
      "execution_count": 16,
      "id": "ef409750",
      "metadata": {
        "id": "ef409750",
        "outputId": "0e25c1ed-7567-44ac-d118-cb864ade93d1",
        "colab": {
          "base_uri": "https://localhost:8080/",
          "height": 81
        }
      },
      "outputs": [
        {
          "output_type": "execute_result",
          "data": {
            "text/plain": [
              "        event_id  device_id  longitude   latitude\n",
              "count  3252950.0  3252497.0  3252527.0  3252527.0"
            ],
            "text/html": [
              "\n",
              "  <div id=\"df-2f0237a3-c3ea-4ce5-8641-51ee9b56b6e9\">\n",
              "    <div class=\"colab-df-container\">\n",
              "      <div>\n",
              "<style scoped>\n",
              "    .dataframe tbody tr th:only-of-type {\n",
              "        vertical-align: middle;\n",
              "    }\n",
              "\n",
              "    .dataframe tbody tr th {\n",
              "        vertical-align: top;\n",
              "    }\n",
              "\n",
              "    .dataframe thead th {\n",
              "        text-align: right;\n",
              "    }\n",
              "</style>\n",
              "<table border=\"1\" class=\"dataframe\">\n",
              "  <thead>\n",
              "    <tr style=\"text-align: right;\">\n",
              "      <th></th>\n",
              "      <th>event_id</th>\n",
              "      <th>device_id</th>\n",
              "      <th>longitude</th>\n",
              "      <th>latitude</th>\n",
              "    </tr>\n",
              "  </thead>\n",
              "  <tbody>\n",
              "    <tr>\n",
              "      <th>count</th>\n",
              "      <td>3252950.0</td>\n",
              "      <td>3252497.0</td>\n",
              "      <td>3252527.0</td>\n",
              "      <td>3252527.0</td>\n",
              "    </tr>\n",
              "  </tbody>\n",
              "</table>\n",
              "</div>\n",
              "      <button class=\"colab-df-convert\" onclick=\"convertToInteractive('df-2f0237a3-c3ea-4ce5-8641-51ee9b56b6e9')\"\n",
              "              title=\"Convert this dataframe to an interactive table.\"\n",
              "              style=\"display:none;\">\n",
              "        \n",
              "  <svg xmlns=\"http://www.w3.org/2000/svg\" height=\"24px\"viewBox=\"0 0 24 24\"\n",
              "       width=\"24px\">\n",
              "    <path d=\"M0 0h24v24H0V0z\" fill=\"none\"/>\n",
              "    <path d=\"M18.56 5.44l.94 2.06.94-2.06 2.06-.94-2.06-.94-.94-2.06-.94 2.06-2.06.94zm-11 1L8.5 8.5l.94-2.06 2.06-.94-2.06-.94L8.5 2.5l-.94 2.06-2.06.94zm10 10l.94 2.06.94-2.06 2.06-.94-2.06-.94-.94-2.06-.94 2.06-2.06.94z\"/><path d=\"M17.41 7.96l-1.37-1.37c-.4-.4-.92-.59-1.43-.59-.52 0-1.04.2-1.43.59L10.3 9.45l-7.72 7.72c-.78.78-.78 2.05 0 2.83L4 21.41c.39.39.9.59 1.41.59.51 0 1.02-.2 1.41-.59l7.78-7.78 2.81-2.81c.8-.78.8-2.07 0-2.86zM5.41 20L4 18.59l7.72-7.72 1.47 1.35L5.41 20z\"/>\n",
              "  </svg>\n",
              "      </button>\n",
              "      \n",
              "  <style>\n",
              "    .colab-df-container {\n",
              "      display:flex;\n",
              "      flex-wrap:wrap;\n",
              "      gap: 12px;\n",
              "    }\n",
              "\n",
              "    .colab-df-convert {\n",
              "      background-color: #E8F0FE;\n",
              "      border: none;\n",
              "      border-radius: 50%;\n",
              "      cursor: pointer;\n",
              "      display: none;\n",
              "      fill: #1967D2;\n",
              "      height: 32px;\n",
              "      padding: 0 0 0 0;\n",
              "      width: 32px;\n",
              "    }\n",
              "\n",
              "    .colab-df-convert:hover {\n",
              "      background-color: #E2EBFA;\n",
              "      box-shadow: 0px 1px 2px rgba(60, 64, 67, 0.3), 0px 1px 3px 1px rgba(60, 64, 67, 0.15);\n",
              "      fill: #174EA6;\n",
              "    }\n",
              "\n",
              "    [theme=dark] .colab-df-convert {\n",
              "      background-color: #3B4455;\n",
              "      fill: #D2E3FC;\n",
              "    }\n",
              "\n",
              "    [theme=dark] .colab-df-convert:hover {\n",
              "      background-color: #434B5C;\n",
              "      box-shadow: 0px 1px 3px 1px rgba(0, 0, 0, 0.15);\n",
              "      filter: drop-shadow(0px 1px 2px rgba(0, 0, 0, 0.3));\n",
              "      fill: #FFFFFF;\n",
              "    }\n",
              "  </style>\n",
              "\n",
              "      <script>\n",
              "        const buttonEl =\n",
              "          document.querySelector('#df-2f0237a3-c3ea-4ce5-8641-51ee9b56b6e9 button.colab-df-convert');\n",
              "        buttonEl.style.display =\n",
              "          google.colab.kernel.accessAllowed ? 'block' : 'none';\n",
              "\n",
              "        async function convertToInteractive(key) {\n",
              "          const element = document.querySelector('#df-2f0237a3-c3ea-4ce5-8641-51ee9b56b6e9');\n",
              "          const dataTable =\n",
              "            await google.colab.kernel.invokeFunction('convertToInteractive',\n",
              "                                                     [key], {});\n",
              "          if (!dataTable) return;\n",
              "\n",
              "          const docLinkHtml = 'Like what you see? Visit the ' +\n",
              "            '<a target=\"_blank\" href=https://colab.research.google.com/notebooks/data_table.ipynb>data table notebook</a>'\n",
              "            + ' to learn more about interactive tables.';\n",
              "          element.innerHTML = '';\n",
              "          dataTable['output_type'] = 'display_data';\n",
              "          await google.colab.output.renderOutput(dataTable, element);\n",
              "          const docLink = document.createElement('div');\n",
              "          docLink.innerHTML = docLinkHtml;\n",
              "          element.appendChild(docLink);\n",
              "        }\n",
              "      </script>\n",
              "    </div>\n",
              "  </div>\n",
              "  "
            ]
          },
          "metadata": {},
          "execution_count": 16
        }
      ],
      "source": [
        "describe_df[describe_df.index=='count']"
      ]
    },
    {
      "cell_type": "code",
      "execution_count": 17,
      "id": "47bd9134",
      "metadata": {
        "id": "47bd9134",
        "outputId": "de8c255f-5bca-49ac-a6af-f75f5f20fe1a",
        "colab": {
          "base_uri": "https://localhost:8080/",
          "height": 300
        }
      },
      "outputs": [
        {
          "output_type": "execute_result",
          "data": {
            "text/plain": [
              "           event_id     device_id     longitude      latitude\n",
              "count  3.252950e+06  3.252497e+06  3.252527e+06  3.252527e+06\n",
              "mean   1.626476e+06  1.012200e+17  7.815868e+01  2.168851e+01\n",
              "std    9.390459e+05  5.316758e+18  4.235570e+00  5.789111e+00\n",
              "min    1.000000e+00 -9.222957e+18  1.256700e+01  8.190110e+00\n",
              "25%    8.132382e+05 -4.540611e+18  7.583543e+01  1.780171e+01\n",
              "50%    1.626476e+06  1.726820e+17  7.726814e+01  2.216454e+01\n",
              "75%    2.439713e+06  4.861813e+18  8.031916e+01  2.868278e+01\n",
              "max    3.252950e+06  9.222849e+18  9.545946e+01  4.187190e+01"
            ],
            "text/html": [
              "\n",
              "  <div id=\"df-d119ce3d-7459-473f-acc8-c9c1dc4accc4\">\n",
              "    <div class=\"colab-df-container\">\n",
              "      <div>\n",
              "<style scoped>\n",
              "    .dataframe tbody tr th:only-of-type {\n",
              "        vertical-align: middle;\n",
              "    }\n",
              "\n",
              "    .dataframe tbody tr th {\n",
              "        vertical-align: top;\n",
              "    }\n",
              "\n",
              "    .dataframe thead th {\n",
              "        text-align: right;\n",
              "    }\n",
              "</style>\n",
              "<table border=\"1\" class=\"dataframe\">\n",
              "  <thead>\n",
              "    <tr style=\"text-align: right;\">\n",
              "      <th></th>\n",
              "      <th>event_id</th>\n",
              "      <th>device_id</th>\n",
              "      <th>longitude</th>\n",
              "      <th>latitude</th>\n",
              "    </tr>\n",
              "  </thead>\n",
              "  <tbody>\n",
              "    <tr>\n",
              "      <th>count</th>\n",
              "      <td>3.252950e+06</td>\n",
              "      <td>3.252497e+06</td>\n",
              "      <td>3.252527e+06</td>\n",
              "      <td>3.252527e+06</td>\n",
              "    </tr>\n",
              "    <tr>\n",
              "      <th>mean</th>\n",
              "      <td>1.626476e+06</td>\n",
              "      <td>1.012200e+17</td>\n",
              "      <td>7.815868e+01</td>\n",
              "      <td>2.168851e+01</td>\n",
              "    </tr>\n",
              "    <tr>\n",
              "      <th>std</th>\n",
              "      <td>9.390459e+05</td>\n",
              "      <td>5.316758e+18</td>\n",
              "      <td>4.235570e+00</td>\n",
              "      <td>5.789111e+00</td>\n",
              "    </tr>\n",
              "    <tr>\n",
              "      <th>min</th>\n",
              "      <td>1.000000e+00</td>\n",
              "      <td>-9.222957e+18</td>\n",
              "      <td>1.256700e+01</td>\n",
              "      <td>8.190110e+00</td>\n",
              "    </tr>\n",
              "    <tr>\n",
              "      <th>25%</th>\n",
              "      <td>8.132382e+05</td>\n",
              "      <td>-4.540611e+18</td>\n",
              "      <td>7.583543e+01</td>\n",
              "      <td>1.780171e+01</td>\n",
              "    </tr>\n",
              "    <tr>\n",
              "      <th>50%</th>\n",
              "      <td>1.626476e+06</td>\n",
              "      <td>1.726820e+17</td>\n",
              "      <td>7.726814e+01</td>\n",
              "      <td>2.216454e+01</td>\n",
              "    </tr>\n",
              "    <tr>\n",
              "      <th>75%</th>\n",
              "      <td>2.439713e+06</td>\n",
              "      <td>4.861813e+18</td>\n",
              "      <td>8.031916e+01</td>\n",
              "      <td>2.868278e+01</td>\n",
              "    </tr>\n",
              "    <tr>\n",
              "      <th>max</th>\n",
              "      <td>3.252950e+06</td>\n",
              "      <td>9.222849e+18</td>\n",
              "      <td>9.545946e+01</td>\n",
              "      <td>4.187190e+01</td>\n",
              "    </tr>\n",
              "  </tbody>\n",
              "</table>\n",
              "</div>\n",
              "      <button class=\"colab-df-convert\" onclick=\"convertToInteractive('df-d119ce3d-7459-473f-acc8-c9c1dc4accc4')\"\n",
              "              title=\"Convert this dataframe to an interactive table.\"\n",
              "              style=\"display:none;\">\n",
              "        \n",
              "  <svg xmlns=\"http://www.w3.org/2000/svg\" height=\"24px\"viewBox=\"0 0 24 24\"\n",
              "       width=\"24px\">\n",
              "    <path d=\"M0 0h24v24H0V0z\" fill=\"none\"/>\n",
              "    <path d=\"M18.56 5.44l.94 2.06.94-2.06 2.06-.94-2.06-.94-.94-2.06-.94 2.06-2.06.94zm-11 1L8.5 8.5l.94-2.06 2.06-.94-2.06-.94L8.5 2.5l-.94 2.06-2.06.94zm10 10l.94 2.06.94-2.06 2.06-.94-2.06-.94-.94-2.06-.94 2.06-2.06.94z\"/><path d=\"M17.41 7.96l-1.37-1.37c-.4-.4-.92-.59-1.43-.59-.52 0-1.04.2-1.43.59L10.3 9.45l-7.72 7.72c-.78.78-.78 2.05 0 2.83L4 21.41c.39.39.9.59 1.41.59.51 0 1.02-.2 1.41-.59l7.78-7.78 2.81-2.81c.8-.78.8-2.07 0-2.86zM5.41 20L4 18.59l7.72-7.72 1.47 1.35L5.41 20z\"/>\n",
              "  </svg>\n",
              "      </button>\n",
              "      \n",
              "  <style>\n",
              "    .colab-df-container {\n",
              "      display:flex;\n",
              "      flex-wrap:wrap;\n",
              "      gap: 12px;\n",
              "    }\n",
              "\n",
              "    .colab-df-convert {\n",
              "      background-color: #E8F0FE;\n",
              "      border: none;\n",
              "      border-radius: 50%;\n",
              "      cursor: pointer;\n",
              "      display: none;\n",
              "      fill: #1967D2;\n",
              "      height: 32px;\n",
              "      padding: 0 0 0 0;\n",
              "      width: 32px;\n",
              "    }\n",
              "\n",
              "    .colab-df-convert:hover {\n",
              "      background-color: #E2EBFA;\n",
              "      box-shadow: 0px 1px 2px rgba(60, 64, 67, 0.3), 0px 1px 3px 1px rgba(60, 64, 67, 0.15);\n",
              "      fill: #174EA6;\n",
              "    }\n",
              "\n",
              "    [theme=dark] .colab-df-convert {\n",
              "      background-color: #3B4455;\n",
              "      fill: #D2E3FC;\n",
              "    }\n",
              "\n",
              "    [theme=dark] .colab-df-convert:hover {\n",
              "      background-color: #434B5C;\n",
              "      box-shadow: 0px 1px 3px 1px rgba(0, 0, 0, 0.15);\n",
              "      filter: drop-shadow(0px 1px 2px rgba(0, 0, 0, 0.3));\n",
              "      fill: #FFFFFF;\n",
              "    }\n",
              "  </style>\n",
              "\n",
              "      <script>\n",
              "        const buttonEl =\n",
              "          document.querySelector('#df-d119ce3d-7459-473f-acc8-c9c1dc4accc4 button.colab-df-convert');\n",
              "        buttonEl.style.display =\n",
              "          google.colab.kernel.accessAllowed ? 'block' : 'none';\n",
              "\n",
              "        async function convertToInteractive(key) {\n",
              "          const element = document.querySelector('#df-d119ce3d-7459-473f-acc8-c9c1dc4accc4');\n",
              "          const dataTable =\n",
              "            await google.colab.kernel.invokeFunction('convertToInteractive',\n",
              "                                                     [key], {});\n",
              "          if (!dataTable) return;\n",
              "\n",
              "          const docLinkHtml = 'Like what you see? Visit the ' +\n",
              "            '<a target=\"_blank\" href=https://colab.research.google.com/notebooks/data_table.ipynb>data table notebook</a>'\n",
              "            + ' to learn more about interactive tables.';\n",
              "          element.innerHTML = '';\n",
              "          dataTable['output_type'] = 'display_data';\n",
              "          await google.colab.output.renderOutput(dataTable, element);\n",
              "          const docLink = document.createElement('div');\n",
              "          docLink.innerHTML = docLinkHtml;\n",
              "          element.appendChild(docLink);\n",
              "        }\n",
              "      </script>\n",
              "    </div>\n",
              "  </div>\n",
              "  "
            ]
          },
          "metadata": {},
          "execution_count": 17
        }
      ],
      "source": [
        "describe_df"
      ]
    },
    {
      "cell_type": "code",
      "execution_count": 18,
      "id": "9757a3b9",
      "metadata": {
        "id": "9757a3b9",
        "outputId": "a1d7bcbe-3bfa-4d86-a75e-961a7678614c",
        "colab": {
          "base_uri": "https://localhost:8080/"
        }
      },
      "outputs": [
        {
          "output_type": "stream",
          "name": "stdout",
          "text": [
            "Missing Values in event_id are count    0.0\n",
            "Name: event_id, dtype: float64\n",
            "Missing Values in device_id are count    453.0\n",
            "dtype: float64\n",
            "Missing Values in longitude are count    423.0\n",
            "dtype: float64\n",
            "Missing Values in latitude are count    423.0\n",
            "dtype: float64\n"
          ]
        }
      ],
      "source": [
        "a = describe_df[describe_df.index=='count']['event_id']\n",
        "for i in describe_df[describe_df.index=='count'].columns:\n",
        "    print(\"Missing Values in {} are {}\".format(i,a - describe_df[describe_df.index=='count'][i]))"
      ]
    },
    {
      "cell_type": "markdown",
      "id": "96a864a4",
      "metadata": {
        "id": "96a864a4"
      },
      "source": [
        "## Observations (data.describe()\n",
        "\n",
        "- Missing values in device_id = 453\n",
        "- Missing values in longitude = 423\n",
        "- Missing values in latitude = 423"
      ]
    },
    {
      "cell_type": "markdown",
      "source": [
        "## Analysis of object data state city"
      ],
      "metadata": {
        "id": "T4eMVHRAiGIo"
      },
      "id": "T4eMVHRAiGIo"
    },
    {
      "cell_type": "code",
      "source": [
        "df[['state','city']].nunique()"
      ],
      "metadata": {
        "id": "pXCuH9BSiFLS",
        "outputId": "de004c98-6041-4620-ef17-219c9afb13e7",
        "colab": {
          "base_uri": "https://localhost:8080/"
        }
      },
      "id": "pXCuH9BSiFLS",
      "execution_count": 19,
      "outputs": [
        {
          "output_type": "execute_result",
          "data": {
            "text/plain": [
              "state     32\n",
              "city     933\n",
              "dtype: int64"
            ]
          },
          "metadata": {},
          "execution_count": 19
        }
      ]
    },
    {
      "cell_type": "markdown",
      "source": [
        "## Observations\n",
        "Unique states present - 32<br>\n",
        "Unique City present - 933"
      ],
      "metadata": {
        "id": "RcU1WXYKivpH"
      },
      "id": "RcU1WXYKivpH"
    },
    {
      "cell_type": "code",
      "source": [
        "df[['state','city']].isna().sum()"
      ],
      "metadata": {
        "id": "6CETmWLIi-Y_",
        "outputId": "c53d9e8d-9c32-4d92-9b00-2053392a5ce3",
        "colab": {
          "base_uri": "https://localhost:8080/"
        }
      },
      "id": "6CETmWLIi-Y_",
      "execution_count": 20,
      "outputs": [
        {
          "output_type": "execute_result",
          "data": {
            "text/plain": [
              "state    377\n",
              "city       0\n",
              "dtype: int64"
            ]
          },
          "metadata": {},
          "execution_count": 20
        }
      ]
    },
    {
      "cell_type": "code",
      "source": [
        "df['state'].value_counts()"
      ],
      "metadata": {
        "id": "OCeXBOaMHeTZ",
        "outputId": "2f62b817-dd8e-4821-e33a-583db182e39e",
        "colab": {
          "base_uri": "https://localhost:8080/"
        }
      },
      "id": "OCeXBOaMHeTZ",
      "execution_count": 70,
      "outputs": [
        {
          "output_type": "execute_result",
          "data": {
            "text/plain": [
              "Delhi                       751733\n",
              "Maharashtra                 677105\n",
              "TamilNadu                   436282\n",
              "AndhraPradesh               321332\n",
              "MadhyaPradesh               232690\n",
              "Rajasthan                   196361\n",
              "WestBengal                  196161\n",
              "Karnataka                    99058\n",
              "UttarPradesh                 94750\n",
              "Gujarat                      42881\n",
              "Bihar                        35472\n",
              "Punjab                       26195\n",
              "Kerala                       23148\n",
              "Haryana                      21053\n",
              "Jharkhand                    18060\n",
              "Orissa                       15904\n",
              "Telangana                    12784\n",
              "Assam                        12021\n",
              "Chhattisgarh                  9754\n",
              "Uttaranchal                   7720\n",
              "JammuandKashmir               5385\n",
              "Goa                           3250\n",
              "Nagaland                      2298\n",
              "Pondicherry                   1741\n",
              "Mizoram                       1613\n",
              "Meghalaya                     1515\n",
              "AndamanandNicobarIslands      1515\n",
              "HimachalPradesh               1409\n",
              "Manipur                        989\n",
              "Chandigarh                     894\n",
              "Tripura                        892\n",
              "ArunachalPradesh               608\n",
              "Name: state, dtype: int64"
            ]
          },
          "metadata": {},
          "execution_count": 70
        }
      ]
    },
    {
      "cell_type": "markdown",
      "source": [
        "Missing values present in state column - 377"
      ],
      "metadata": {
        "id": "JwzTsCEPjFkI"
      },
      "id": "JwzTsCEPjFkI"
    },
    {
      "cell_type": "code",
      "source": [
        "#counting the unique values\n",
        "for columns in df:\n",
        "  print (\"The unique entries in {} is {}\". format (columns, df[columns].nunique()))\n"
      ],
      "metadata": {
        "colab": {
          "base_uri": "https://localhost:8080/"
        },
        "id": "aqepZYVmttXk",
        "outputId": "b5ba7c60-bcaa-47e2-a066-04b0a80e956d"
      },
      "id": "aqepZYVmttXk",
      "execution_count": 21,
      "outputs": [
        {
          "output_type": "stream",
          "name": "stdout",
          "text": [
            "The unique entries in event_id is 3252950\n",
            "The unique entries in device_id is 60865\n",
            "The unique entries in timestamp is 588126\n",
            "The unique entries in longitude is 60095\n",
            "The unique entries in latitude is 60177\n",
            "The unique entries in city is 933\n",
            "The unique entries in state is 32\n"
          ]
        }
      ]
    },
    {
      "cell_type": "code",
      "source": [
        "#counting the null values\n",
        "for columns in df:\n",
        "  print(\"The null values in {} is {}\".format(columns, df[columns].isnull().sum()))\n"
      ],
      "metadata": {
        "colab": {
          "base_uri": "https://localhost:8080/"
        },
        "id": "tUkZHZ6ot18R",
        "outputId": "36c62121-2c61-4e9b-e6b7-a15ac847f676"
      },
      "id": "tUkZHZ6ot18R",
      "execution_count": 22,
      "outputs": [
        {
          "output_type": "stream",
          "name": "stdout",
          "text": [
            "The null values in event_id is 0\n",
            "The null values in device_id is 453\n",
            "The null values in timestamp is 0\n",
            "The null values in longitude is 423\n",
            "The null values in latitude is 423\n",
            "The null values in city is 0\n",
            "The null values in state is 377\n"
          ]
        }
      ]
    },
    {
      "cell_type": "markdown",
      "id": "b33bae45",
      "metadata": {
        "id": "b33bae45"
      },
      "source": [
        "# Gender Age data from Mysql Server"
      ]
    },
    {
      "cell_type": "code",
      "execution_count": 23,
      "id": "f48a47ba",
      "metadata": {
        "id": "f48a47ba"
      },
      "outputs": [],
      "source": [
        "# try:\n",
        "#     mydb = connection.connect(host=\"cpanel.insaid.co\", database = 'Capstone1',user=\"student\", passwd=\"student\",use_pure=True)\n",
        "#     query = \"Select * from gender_age_train;\"\n",
        "#     result_dataFrame = pd.read_sql(query,mydb)\n",
        "#     mydb.close() #close the connection\n",
        "# except Exception as e:\n",
        "#     mydb.close()\n",
        "#     print(str(e))"
      ]
    },
    {
      "cell_type": "code",
      "execution_count": 24,
      "id": "9c1103f6",
      "metadata": {
        "id": "9c1103f6"
      },
      "outputs": [],
      "source": [
        "# result_dataFrame.to_csv('gender_age.csv')"
      ]
    },
    {
      "cell_type": "code",
      "execution_count": 25,
      "id": "f512fd4d",
      "metadata": {
        "id": "f512fd4d"
      },
      "outputs": [],
      "source": [
        "# df1 = pd.read_csv('gender_age.csv')"
      ]
    },
    {
      "cell_type": "markdown",
      "id": "faa7c3c0",
      "metadata": {
        "id": "faa7c3c0"
      },
      "source": [
        "# Phone brand device model data from Mysql Server"
      ]
    },
    {
      "cell_type": "code",
      "execution_count": 26,
      "id": "a4abe94b",
      "metadata": {
        "id": "a4abe94b"
      },
      "outputs": [],
      "source": [
        "# try:\n",
        "#     mydb = connection.connect(host=\"cpanel.insaid.co\", database = 'Capstone1',user=\"student\", passwd=\"student\",use_pure=True)\n",
        "#     query = \"Select * from phone_brand_device_model;\"\n",
        "#     result_dataFrame = pd.read_sql(query,mydb)\n",
        "#     mydb.close() #close the connection\n",
        "# except Exception as e:\n",
        "#     mydb.close()\n",
        "#     print(str(e))"
      ]
    },
    {
      "cell_type": "code",
      "execution_count": 27,
      "id": "712beca6",
      "metadata": {
        "id": "712beca6"
      },
      "outputs": [],
      "source": [
        "# result_dataFrame.to_csv('phone_brand_device_model.csv')"
      ]
    },
    {
      "cell_type": "code",
      "execution_count": 28,
      "id": "017b6f16",
      "metadata": {
        "id": "017b6f16"
      },
      "outputs": [],
      "source": [
        "# df2 = pd.read_csv('phone_brand_device_model.csv')"
      ]
    },
    {
      "cell_type": "code",
      "execution_count": 29,
      "id": "acd0c575",
      "metadata": {
        "id": "acd0c575"
      },
      "outputs": [],
      "source": [
        "# for column in df.columns:\n",
        "#   print(df[column].unique())\n",
        "duplicated_list = df.duplicated()"
      ]
    },
    {
      "cell_type": "code",
      "source": [
        "df[duplicated_list]"
      ],
      "metadata": {
        "id": "sE1t5WJ2k1LP",
        "outputId": "b68b7a39-3504-4955-f9d1-86edb768254b",
        "colab": {
          "base_uri": "https://localhost:8080/",
          "height": 49
        }
      },
      "id": "sE1t5WJ2k1LP",
      "execution_count": 30,
      "outputs": [
        {
          "output_type": "execute_result",
          "data": {
            "text/plain": [
              "Empty DataFrame\n",
              "Columns: [event_id, device_id, timestamp, longitude, latitude, city, state]\n",
              "Index: []"
            ],
            "text/html": [
              "\n",
              "  <div id=\"df-b216e22a-934b-4454-8abc-447eca09fa23\">\n",
              "    <div class=\"colab-df-container\">\n",
              "      <div>\n",
              "<style scoped>\n",
              "    .dataframe tbody tr th:only-of-type {\n",
              "        vertical-align: middle;\n",
              "    }\n",
              "\n",
              "    .dataframe tbody tr th {\n",
              "        vertical-align: top;\n",
              "    }\n",
              "\n",
              "    .dataframe thead th {\n",
              "        text-align: right;\n",
              "    }\n",
              "</style>\n",
              "<table border=\"1\" class=\"dataframe\">\n",
              "  <thead>\n",
              "    <tr style=\"text-align: right;\">\n",
              "      <th></th>\n",
              "      <th>event_id</th>\n",
              "      <th>device_id</th>\n",
              "      <th>timestamp</th>\n",
              "      <th>longitude</th>\n",
              "      <th>latitude</th>\n",
              "      <th>city</th>\n",
              "      <th>state</th>\n",
              "    </tr>\n",
              "  </thead>\n",
              "  <tbody>\n",
              "  </tbody>\n",
              "</table>\n",
              "</div>\n",
              "      <button class=\"colab-df-convert\" onclick=\"convertToInteractive('df-b216e22a-934b-4454-8abc-447eca09fa23')\"\n",
              "              title=\"Convert this dataframe to an interactive table.\"\n",
              "              style=\"display:none;\">\n",
              "        \n",
              "  <svg xmlns=\"http://www.w3.org/2000/svg\" height=\"24px\"viewBox=\"0 0 24 24\"\n",
              "       width=\"24px\">\n",
              "    <path d=\"M0 0h24v24H0V0z\" fill=\"none\"/>\n",
              "    <path d=\"M18.56 5.44l.94 2.06.94-2.06 2.06-.94-2.06-.94-.94-2.06-.94 2.06-2.06.94zm-11 1L8.5 8.5l.94-2.06 2.06-.94-2.06-.94L8.5 2.5l-.94 2.06-2.06.94zm10 10l.94 2.06.94-2.06 2.06-.94-2.06-.94-.94-2.06-.94 2.06-2.06.94z\"/><path d=\"M17.41 7.96l-1.37-1.37c-.4-.4-.92-.59-1.43-.59-.52 0-1.04.2-1.43.59L10.3 9.45l-7.72 7.72c-.78.78-.78 2.05 0 2.83L4 21.41c.39.39.9.59 1.41.59.51 0 1.02-.2 1.41-.59l7.78-7.78 2.81-2.81c.8-.78.8-2.07 0-2.86zM5.41 20L4 18.59l7.72-7.72 1.47 1.35L5.41 20z\"/>\n",
              "  </svg>\n",
              "      </button>\n",
              "      \n",
              "  <style>\n",
              "    .colab-df-container {\n",
              "      display:flex;\n",
              "      flex-wrap:wrap;\n",
              "      gap: 12px;\n",
              "    }\n",
              "\n",
              "    .colab-df-convert {\n",
              "      background-color: #E8F0FE;\n",
              "      border: none;\n",
              "      border-radius: 50%;\n",
              "      cursor: pointer;\n",
              "      display: none;\n",
              "      fill: #1967D2;\n",
              "      height: 32px;\n",
              "      padding: 0 0 0 0;\n",
              "      width: 32px;\n",
              "    }\n",
              "\n",
              "    .colab-df-convert:hover {\n",
              "      background-color: #E2EBFA;\n",
              "      box-shadow: 0px 1px 2px rgba(60, 64, 67, 0.3), 0px 1px 3px 1px rgba(60, 64, 67, 0.15);\n",
              "      fill: #174EA6;\n",
              "    }\n",
              "\n",
              "    [theme=dark] .colab-df-convert {\n",
              "      background-color: #3B4455;\n",
              "      fill: #D2E3FC;\n",
              "    }\n",
              "\n",
              "    [theme=dark] .colab-df-convert:hover {\n",
              "      background-color: #434B5C;\n",
              "      box-shadow: 0px 1px 3px 1px rgba(0, 0, 0, 0.15);\n",
              "      filter: drop-shadow(0px 1px 2px rgba(0, 0, 0, 0.3));\n",
              "      fill: #FFFFFF;\n",
              "    }\n",
              "  </style>\n",
              "\n",
              "      <script>\n",
              "        const buttonEl =\n",
              "          document.querySelector('#df-b216e22a-934b-4454-8abc-447eca09fa23 button.colab-df-convert');\n",
              "        buttonEl.style.display =\n",
              "          google.colab.kernel.accessAllowed ? 'block' : 'none';\n",
              "\n",
              "        async function convertToInteractive(key) {\n",
              "          const element = document.querySelector('#df-b216e22a-934b-4454-8abc-447eca09fa23');\n",
              "          const dataTable =\n",
              "            await google.colab.kernel.invokeFunction('convertToInteractive',\n",
              "                                                     [key], {});\n",
              "          if (!dataTable) return;\n",
              "\n",
              "          const docLinkHtml = 'Like what you see? Visit the ' +\n",
              "            '<a target=\"_blank\" href=https://colab.research.google.com/notebooks/data_table.ipynb>data table notebook</a>'\n",
              "            + ' to learn more about interactive tables.';\n",
              "          element.innerHTML = '';\n",
              "          dataTable['output_type'] = 'display_data';\n",
              "          await google.colab.output.renderOutput(dataTable, element);\n",
              "          const docLink = document.createElement('div');\n",
              "          docLink.innerHTML = docLinkHtml;\n",
              "          element.appendChild(docLink);\n",
              "        }\n",
              "      </script>\n",
              "    </div>\n",
              "  </div>\n",
              "  "
            ]
          },
          "metadata": {},
          "execution_count": 30
        }
      ]
    },
    {
      "cell_type": "markdown",
      "source": [
        "## Observations\n",
        "No duplicate entries present in the dataset"
      ],
      "metadata": {
        "id": "gNQceUCYmuPq"
      },
      "id": "gNQceUCYmuPq"
    },
    {
      "cell_type": "markdown",
      "source": [
        "# Same analysis for dataset 2 Gender_age.csv"
      ],
      "metadata": {
        "id": "4ePDgzUznCaS"
      },
      "id": "4ePDgzUznCaS"
    },
    {
      "cell_type": "code",
      "source": [
        "df2 = pd.read_csv('https://raw.githubusercontent.com/ShubhamCJagtap/Capstone_Project_1_EDA/master/gender_age.csv')"
      ],
      "metadata": {
        "id": "uh17B538l-cB"
      },
      "id": "uh17B538l-cB",
      "execution_count": 58,
      "outputs": []
    },
    {
      "cell_type": "code",
      "source": [
        "df2.head()"
      ],
      "metadata": {
        "id": "Hh3j2AwUnRGP",
        "outputId": "46208a63-a2b1-4d99-91fc-e878765c4857",
        "colab": {
          "base_uri": "https://localhost:8080/",
          "height": 206
        }
      },
      "id": "Hh3j2AwUnRGP",
      "execution_count": 32,
      "outputs": [
        {
          "output_type": "execute_result",
          "data": {
            "text/plain": [
              "   Unnamed: 0            device_id gender  age   group\n",
              "0           0 -8076087639492063270      M   35  M32-38\n",
              "1           1 -2897161552818060146      M   35  M32-38\n",
              "2           2 -8260683887967679142      M   35  M32-38\n",
              "3           3 -4938849341048082022      M   30  M29-31\n",
              "4           4   245133531816851882      M   30  M29-31"
            ],
            "text/html": [
              "\n",
              "  <div id=\"df-7bc90ac7-04f1-4414-96ad-d7de590b2a75\">\n",
              "    <div class=\"colab-df-container\">\n",
              "      <div>\n",
              "<style scoped>\n",
              "    .dataframe tbody tr th:only-of-type {\n",
              "        vertical-align: middle;\n",
              "    }\n",
              "\n",
              "    .dataframe tbody tr th {\n",
              "        vertical-align: top;\n",
              "    }\n",
              "\n",
              "    .dataframe thead th {\n",
              "        text-align: right;\n",
              "    }\n",
              "</style>\n",
              "<table border=\"1\" class=\"dataframe\">\n",
              "  <thead>\n",
              "    <tr style=\"text-align: right;\">\n",
              "      <th></th>\n",
              "      <th>Unnamed: 0</th>\n",
              "      <th>device_id</th>\n",
              "      <th>gender</th>\n",
              "      <th>age</th>\n",
              "      <th>group</th>\n",
              "    </tr>\n",
              "  </thead>\n",
              "  <tbody>\n",
              "    <tr>\n",
              "      <th>0</th>\n",
              "      <td>0</td>\n",
              "      <td>-8076087639492063270</td>\n",
              "      <td>M</td>\n",
              "      <td>35</td>\n",
              "      <td>M32-38</td>\n",
              "    </tr>\n",
              "    <tr>\n",
              "      <th>1</th>\n",
              "      <td>1</td>\n",
              "      <td>-2897161552818060146</td>\n",
              "      <td>M</td>\n",
              "      <td>35</td>\n",
              "      <td>M32-38</td>\n",
              "    </tr>\n",
              "    <tr>\n",
              "      <th>2</th>\n",
              "      <td>2</td>\n",
              "      <td>-8260683887967679142</td>\n",
              "      <td>M</td>\n",
              "      <td>35</td>\n",
              "      <td>M32-38</td>\n",
              "    </tr>\n",
              "    <tr>\n",
              "      <th>3</th>\n",
              "      <td>3</td>\n",
              "      <td>-4938849341048082022</td>\n",
              "      <td>M</td>\n",
              "      <td>30</td>\n",
              "      <td>M29-31</td>\n",
              "    </tr>\n",
              "    <tr>\n",
              "      <th>4</th>\n",
              "      <td>4</td>\n",
              "      <td>245133531816851882</td>\n",
              "      <td>M</td>\n",
              "      <td>30</td>\n",
              "      <td>M29-31</td>\n",
              "    </tr>\n",
              "  </tbody>\n",
              "</table>\n",
              "</div>\n",
              "      <button class=\"colab-df-convert\" onclick=\"convertToInteractive('df-7bc90ac7-04f1-4414-96ad-d7de590b2a75')\"\n",
              "              title=\"Convert this dataframe to an interactive table.\"\n",
              "              style=\"display:none;\">\n",
              "        \n",
              "  <svg xmlns=\"http://www.w3.org/2000/svg\" height=\"24px\"viewBox=\"0 0 24 24\"\n",
              "       width=\"24px\">\n",
              "    <path d=\"M0 0h24v24H0V0z\" fill=\"none\"/>\n",
              "    <path d=\"M18.56 5.44l.94 2.06.94-2.06 2.06-.94-2.06-.94-.94-2.06-.94 2.06-2.06.94zm-11 1L8.5 8.5l.94-2.06 2.06-.94-2.06-.94L8.5 2.5l-.94 2.06-2.06.94zm10 10l.94 2.06.94-2.06 2.06-.94-2.06-.94-.94-2.06-.94 2.06-2.06.94z\"/><path d=\"M17.41 7.96l-1.37-1.37c-.4-.4-.92-.59-1.43-.59-.52 0-1.04.2-1.43.59L10.3 9.45l-7.72 7.72c-.78.78-.78 2.05 0 2.83L4 21.41c.39.39.9.59 1.41.59.51 0 1.02-.2 1.41-.59l7.78-7.78 2.81-2.81c.8-.78.8-2.07 0-2.86zM5.41 20L4 18.59l7.72-7.72 1.47 1.35L5.41 20z\"/>\n",
              "  </svg>\n",
              "      </button>\n",
              "      \n",
              "  <style>\n",
              "    .colab-df-container {\n",
              "      display:flex;\n",
              "      flex-wrap:wrap;\n",
              "      gap: 12px;\n",
              "    }\n",
              "\n",
              "    .colab-df-convert {\n",
              "      background-color: #E8F0FE;\n",
              "      border: none;\n",
              "      border-radius: 50%;\n",
              "      cursor: pointer;\n",
              "      display: none;\n",
              "      fill: #1967D2;\n",
              "      height: 32px;\n",
              "      padding: 0 0 0 0;\n",
              "      width: 32px;\n",
              "    }\n",
              "\n",
              "    .colab-df-convert:hover {\n",
              "      background-color: #E2EBFA;\n",
              "      box-shadow: 0px 1px 2px rgba(60, 64, 67, 0.3), 0px 1px 3px 1px rgba(60, 64, 67, 0.15);\n",
              "      fill: #174EA6;\n",
              "    }\n",
              "\n",
              "    [theme=dark] .colab-df-convert {\n",
              "      background-color: #3B4455;\n",
              "      fill: #D2E3FC;\n",
              "    }\n",
              "\n",
              "    [theme=dark] .colab-df-convert:hover {\n",
              "      background-color: #434B5C;\n",
              "      box-shadow: 0px 1px 3px 1px rgba(0, 0, 0, 0.15);\n",
              "      filter: drop-shadow(0px 1px 2px rgba(0, 0, 0, 0.3));\n",
              "      fill: #FFFFFF;\n",
              "    }\n",
              "  </style>\n",
              "\n",
              "      <script>\n",
              "        const buttonEl =\n",
              "          document.querySelector('#df-7bc90ac7-04f1-4414-96ad-d7de590b2a75 button.colab-df-convert');\n",
              "        buttonEl.style.display =\n",
              "          google.colab.kernel.accessAllowed ? 'block' : 'none';\n",
              "\n",
              "        async function convertToInteractive(key) {\n",
              "          const element = document.querySelector('#df-7bc90ac7-04f1-4414-96ad-d7de590b2a75');\n",
              "          const dataTable =\n",
              "            await google.colab.kernel.invokeFunction('convertToInteractive',\n",
              "                                                     [key], {});\n",
              "          if (!dataTable) return;\n",
              "\n",
              "          const docLinkHtml = 'Like what you see? Visit the ' +\n",
              "            '<a target=\"_blank\" href=https://colab.research.google.com/notebooks/data_table.ipynb>data table notebook</a>'\n",
              "            + ' to learn more about interactive tables.';\n",
              "          element.innerHTML = '';\n",
              "          dataTable['output_type'] = 'display_data';\n",
              "          await google.colab.output.renderOutput(dataTable, element);\n",
              "          const docLink = document.createElement('div');\n",
              "          docLink.innerHTML = docLinkHtml;\n",
              "          element.appendChild(docLink);\n",
              "        }\n",
              "      </script>\n",
              "    </div>\n",
              "  </div>\n",
              "  "
            ]
          },
          "metadata": {},
          "execution_count": 32
        }
      ]
    },
    {
      "cell_type": "code",
      "source": [
        "df2.info()"
      ],
      "metadata": {
        "id": "x4hqzFj1nS0v",
        "outputId": "d48a39ba-e30e-4999-e9fb-a4316453138d",
        "colab": {
          "base_uri": "https://localhost:8080/"
        }
      },
      "id": "x4hqzFj1nS0v",
      "execution_count": 33,
      "outputs": [
        {
          "output_type": "stream",
          "name": "stdout",
          "text": [
            "<class 'pandas.core.frame.DataFrame'>\n",
            "RangeIndex: 74645 entries, 0 to 74644\n",
            "Data columns (total 5 columns):\n",
            " #   Column      Non-Null Count  Dtype \n",
            "---  ------      --------------  ----- \n",
            " 0   Unnamed: 0  74645 non-null  int64 \n",
            " 1   device_id   74645 non-null  int64 \n",
            " 2   gender      74645 non-null  object\n",
            " 3   age         74645 non-null  int64 \n",
            " 4   group       74645 non-null  object\n",
            "dtypes: int64(3), object(2)\n",
            "memory usage: 2.8+ MB\n"
          ]
        }
      ]
    },
    {
      "cell_type": "markdown",
      "source": [
        "# Observations\n",
        "\n",
        "Total Entries - 74646<br>\n",
        "No Null values detected<br>\n",
        "More analysis required for group column"
      ],
      "metadata": {
        "id": "-9Et3WwUnaBA"
      },
      "id": "-9Et3WwUnaBA"
    },
    {
      "cell_type": "code",
      "source": [
        "df2.describe()"
      ],
      "metadata": {
        "id": "VsPq0oDdnX3w",
        "outputId": "7e7aa47f-d6b5-4c1c-e18a-86dd079fedc8",
        "colab": {
          "base_uri": "https://localhost:8080/",
          "height": 300
        }
      },
      "id": "VsPq0oDdnX3w",
      "execution_count": 34,
      "outputs": [
        {
          "output_type": "execute_result",
          "data": {
            "text/plain": [
              "         Unnamed: 0     device_id           age\n",
              "count  74645.000000  7.464500e+04  74645.000000\n",
              "mean   37322.000000 -7.491354e+14     31.410342\n",
              "std    21548.299759  5.327150e+18      9.868735\n",
              "min        0.000000 -9.223067e+18      1.000000\n",
              "25%    18661.000000 -4.617367e+18     25.000000\n",
              "50%    37322.000000 -1.841362e+16     29.000000\n",
              "75%    55983.000000  4.636656e+18     36.000000\n",
              "max    74644.000000  9.222849e+18     96.000000"
            ],
            "text/html": [
              "\n",
              "  <div id=\"df-0b6eccaa-b843-4d62-8611-1c0a02cd1363\">\n",
              "    <div class=\"colab-df-container\">\n",
              "      <div>\n",
              "<style scoped>\n",
              "    .dataframe tbody tr th:only-of-type {\n",
              "        vertical-align: middle;\n",
              "    }\n",
              "\n",
              "    .dataframe tbody tr th {\n",
              "        vertical-align: top;\n",
              "    }\n",
              "\n",
              "    .dataframe thead th {\n",
              "        text-align: right;\n",
              "    }\n",
              "</style>\n",
              "<table border=\"1\" class=\"dataframe\">\n",
              "  <thead>\n",
              "    <tr style=\"text-align: right;\">\n",
              "      <th></th>\n",
              "      <th>Unnamed: 0</th>\n",
              "      <th>device_id</th>\n",
              "      <th>age</th>\n",
              "    </tr>\n",
              "  </thead>\n",
              "  <tbody>\n",
              "    <tr>\n",
              "      <th>count</th>\n",
              "      <td>74645.000000</td>\n",
              "      <td>7.464500e+04</td>\n",
              "      <td>74645.000000</td>\n",
              "    </tr>\n",
              "    <tr>\n",
              "      <th>mean</th>\n",
              "      <td>37322.000000</td>\n",
              "      <td>-7.491354e+14</td>\n",
              "      <td>31.410342</td>\n",
              "    </tr>\n",
              "    <tr>\n",
              "      <th>std</th>\n",
              "      <td>21548.299759</td>\n",
              "      <td>5.327150e+18</td>\n",
              "      <td>9.868735</td>\n",
              "    </tr>\n",
              "    <tr>\n",
              "      <th>min</th>\n",
              "      <td>0.000000</td>\n",
              "      <td>-9.223067e+18</td>\n",
              "      <td>1.000000</td>\n",
              "    </tr>\n",
              "    <tr>\n",
              "      <th>25%</th>\n",
              "      <td>18661.000000</td>\n",
              "      <td>-4.617367e+18</td>\n",
              "      <td>25.000000</td>\n",
              "    </tr>\n",
              "    <tr>\n",
              "      <th>50%</th>\n",
              "      <td>37322.000000</td>\n",
              "      <td>-1.841362e+16</td>\n",
              "      <td>29.000000</td>\n",
              "    </tr>\n",
              "    <tr>\n",
              "      <th>75%</th>\n",
              "      <td>55983.000000</td>\n",
              "      <td>4.636656e+18</td>\n",
              "      <td>36.000000</td>\n",
              "    </tr>\n",
              "    <tr>\n",
              "      <th>max</th>\n",
              "      <td>74644.000000</td>\n",
              "      <td>9.222849e+18</td>\n",
              "      <td>96.000000</td>\n",
              "    </tr>\n",
              "  </tbody>\n",
              "</table>\n",
              "</div>\n",
              "      <button class=\"colab-df-convert\" onclick=\"convertToInteractive('df-0b6eccaa-b843-4d62-8611-1c0a02cd1363')\"\n",
              "              title=\"Convert this dataframe to an interactive table.\"\n",
              "              style=\"display:none;\">\n",
              "        \n",
              "  <svg xmlns=\"http://www.w3.org/2000/svg\" height=\"24px\"viewBox=\"0 0 24 24\"\n",
              "       width=\"24px\">\n",
              "    <path d=\"M0 0h24v24H0V0z\" fill=\"none\"/>\n",
              "    <path d=\"M18.56 5.44l.94 2.06.94-2.06 2.06-.94-2.06-.94-.94-2.06-.94 2.06-2.06.94zm-11 1L8.5 8.5l.94-2.06 2.06-.94-2.06-.94L8.5 2.5l-.94 2.06-2.06.94zm10 10l.94 2.06.94-2.06 2.06-.94-2.06-.94-.94-2.06-.94 2.06-2.06.94z\"/><path d=\"M17.41 7.96l-1.37-1.37c-.4-.4-.92-.59-1.43-.59-.52 0-1.04.2-1.43.59L10.3 9.45l-7.72 7.72c-.78.78-.78 2.05 0 2.83L4 21.41c.39.39.9.59 1.41.59.51 0 1.02-.2 1.41-.59l7.78-7.78 2.81-2.81c.8-.78.8-2.07 0-2.86zM5.41 20L4 18.59l7.72-7.72 1.47 1.35L5.41 20z\"/>\n",
              "  </svg>\n",
              "      </button>\n",
              "      \n",
              "  <style>\n",
              "    .colab-df-container {\n",
              "      display:flex;\n",
              "      flex-wrap:wrap;\n",
              "      gap: 12px;\n",
              "    }\n",
              "\n",
              "    .colab-df-convert {\n",
              "      background-color: #E8F0FE;\n",
              "      border: none;\n",
              "      border-radius: 50%;\n",
              "      cursor: pointer;\n",
              "      display: none;\n",
              "      fill: #1967D2;\n",
              "      height: 32px;\n",
              "      padding: 0 0 0 0;\n",
              "      width: 32px;\n",
              "    }\n",
              "\n",
              "    .colab-df-convert:hover {\n",
              "      background-color: #E2EBFA;\n",
              "      box-shadow: 0px 1px 2px rgba(60, 64, 67, 0.3), 0px 1px 3px 1px rgba(60, 64, 67, 0.15);\n",
              "      fill: #174EA6;\n",
              "    }\n",
              "\n",
              "    [theme=dark] .colab-df-convert {\n",
              "      background-color: #3B4455;\n",
              "      fill: #D2E3FC;\n",
              "    }\n",
              "\n",
              "    [theme=dark] .colab-df-convert:hover {\n",
              "      background-color: #434B5C;\n",
              "      box-shadow: 0px 1px 3px 1px rgba(0, 0, 0, 0.15);\n",
              "      filter: drop-shadow(0px 1px 2px rgba(0, 0, 0, 0.3));\n",
              "      fill: #FFFFFF;\n",
              "    }\n",
              "  </style>\n",
              "\n",
              "      <script>\n",
              "        const buttonEl =\n",
              "          document.querySelector('#df-0b6eccaa-b843-4d62-8611-1c0a02cd1363 button.colab-df-convert');\n",
              "        buttonEl.style.display =\n",
              "          google.colab.kernel.accessAllowed ? 'block' : 'none';\n",
              "\n",
              "        async function convertToInteractive(key) {\n",
              "          const element = document.querySelector('#df-0b6eccaa-b843-4d62-8611-1c0a02cd1363');\n",
              "          const dataTable =\n",
              "            await google.colab.kernel.invokeFunction('convertToInteractive',\n",
              "                                                     [key], {});\n",
              "          if (!dataTable) return;\n",
              "\n",
              "          const docLinkHtml = 'Like what you see? Visit the ' +\n",
              "            '<a target=\"_blank\" href=https://colab.research.google.com/notebooks/data_table.ipynb>data table notebook</a>'\n",
              "            + ' to learn more about interactive tables.';\n",
              "          element.innerHTML = '';\n",
              "          dataTable['output_type'] = 'display_data';\n",
              "          await google.colab.output.renderOutput(dataTable, element);\n",
              "          const docLink = document.createElement('div');\n",
              "          docLink.innerHTML = docLinkHtml;\n",
              "          element.appendChild(docLink);\n",
              "        }\n",
              "      </script>\n",
              "    </div>\n",
              "  </div>\n",
              "  "
            ]
          },
          "metadata": {},
          "execution_count": 34
        }
      ]
    },
    {
      "cell_type": "markdown",
      "source": [
        ""
      ],
      "metadata": {
        "id": "W4TqEYVEob3I"
      },
      "id": "W4TqEYVEob3I"
    },
    {
      "cell_type": "markdown",
      "source": [
        "## Observation gender_age\n",
        "age minimum - 1 , maximum - 96 and mean = 31.41 , median = 29<br>\n",
        "Mean and median don't have high difference <br>\n",
        "Assumption check - age is normally distributed ??"
      ],
      "metadata": {
        "id": "yeqWvxNgooU-"
      },
      "id": "yeqWvxNgooU-"
    },
    {
      "cell_type": "code",
      "source": [
        "df2['gender'].value_counts()"
      ],
      "metadata": {
        "id": "Bqu-MHuqvT7D",
        "outputId": "58be3e4e-4a3b-4d2b-b548-b0c6948a1344",
        "colab": {
          "base_uri": "https://localhost:8080/"
        }
      },
      "id": "Bqu-MHuqvT7D",
      "execution_count": 35,
      "outputs": [
        {
          "output_type": "execute_result",
          "data": {
            "text/plain": [
              "M    47904\n",
              "F    26741\n",
              "Name: gender, dtype: int64"
            ]
          },
          "metadata": {},
          "execution_count": 35
        }
      ]
    },
    {
      "cell_type": "markdown",
      "source": [
        "## Observation\n",
        "\n",
        "male entries are 47904<br>\n",
        "female entries are 26741<br>"
      ],
      "metadata": {
        "id": "pE5ctzBeve2W"
      },
      "id": "pE5ctzBeve2W"
    },
    {
      "cell_type": "code",
      "source": [
        "df2.nunique()"
      ],
      "metadata": {
        "id": "nPSBAV-cpDt_",
        "outputId": "5890bfc5-c8a2-429f-d870-cbeaee6d8fd9",
        "colab": {
          "base_uri": "https://localhost:8080/"
        }
      },
      "id": "nPSBAV-cpDt_",
      "execution_count": 36,
      "outputs": [
        {
          "output_type": "execute_result",
          "data": {
            "text/plain": [
              "Unnamed: 0    74645\n",
              "device_id     74645\n",
              "gender            2\n",
              "age              85\n",
              "group            12\n",
              "dtype: int64"
            ]
          },
          "metadata": {},
          "execution_count": 36
        }
      ]
    },
    {
      "cell_type": "code",
      "source": [
        "df2['group'].unique()"
      ],
      "metadata": {
        "id": "T5yLl77KpJ6P",
        "outputId": "1f36c6ba-d4c5-469a-ea84-1f4594f78189",
        "colab": {
          "base_uri": "https://localhost:8080/"
        }
      },
      "id": "T5yLl77KpJ6P",
      "execution_count": 37,
      "outputs": [
        {
          "output_type": "execute_result",
          "data": {
            "text/plain": [
              "array(['M32-38', 'M29-31', 'F24-26', 'F33-42', 'F27-28', 'M39+', 'M23-26',\n",
              "       'M27-28', 'M22-', 'F43+', 'F23-', 'F29-32'], dtype=object)"
            ]
          },
          "metadata": {},
          "execution_count": 37
        }
      ]
    },
    {
      "cell_type": "code",
      "source": [
        "print(\"Male above age 39 are {}\".format(df2[(df2['age']>39)&(df2['gender']=='M')]['age'].sum()))\n",
        "\n",
        "print(\"Female above age 43 are {}\".format(df2[(df2['age']>43)&(df2['gender']=='F')]['age'].sum()))\n"
      ],
      "metadata": {
        "id": "ROKK-xzTpSYv",
        "outputId": "78cf0878-599c-4e0c-b12f-4752d2d574e5",
        "colab": {
          "base_uri": "https://localhost:8080/"
        }
      },
      "id": "ROKK-xzTpSYv",
      "execution_count": 38,
      "outputs": [
        {
          "output_type": "stream",
          "name": "stdout",
          "text": [
            "Male above age 39 are 372416\n",
            "Female above age 43 are 199865\n"
          ]
        }
      ]
    },
    {
      "cell_type": "code",
      "source": [
        "print(\"Male below age 22 are {}\".format(df2[(df2['age']<22)&(df2['gender']=='M')]['age'].sum()))\n",
        "print(\"Female below age 23 are {}\".format(df2[(df2['age']<23)&(df2['gender']=='F')]['age'].sum()))"
      ],
      "metadata": {
        "id": "IAoFMx3-pp1R",
        "outputId": "43a3e3f3-7343-4f9d-a1fe-d36f4e455e8a",
        "colab": {
          "base_uri": "https://localhost:8080/"
        }
      },
      "id": "IAoFMx3-pp1R",
      "execution_count": 39,
      "outputs": [
        {
          "output_type": "stream",
          "name": "stdout",
          "text": [
            "Male below age 22 are 108781\n",
            "Female below age 23 are 80571\n"
          ]
        }
      ]
    },
    {
      "cell_type": "code",
      "source": [
        "print(\"Male below age 10 are {}\".format(df2[(df2['age']<10)&(df2['gender']=='M')]['age'].sum()))\n",
        "print(\"Female below age 10 are {}\".format(df2[(df2['age']<10)&(df2['gender']=='F')]['age'].sum()))"
      ],
      "metadata": {
        "id": "aEqxhyxVrhEv",
        "outputId": "39af98f3-7862-47c9-b95a-f4ab51301f2b",
        "colab": {
          "base_uri": "https://localhost:8080/"
        }
      },
      "id": "aEqxhyxVrhEv",
      "execution_count": 40,
      "outputs": [
        {
          "output_type": "stream",
          "name": "stdout",
          "text": [
            "Male below age 10 are 25\n",
            "Female below age 10 are 0\n"
          ]
        }
      ]
    },
    {
      "cell_type": "code",
      "source": [
        "print(\"Male below age 5 are {}\".format(df2[(df2['age']<5)&(df2['gender']=='M')]['age'].sum()))\n",
        "print(\"Female below age 5 are {}\".format(df2[(df2['age']<5)&(df2['gender']=='F')]['age'].sum()))"
      ],
      "metadata": {
        "id": "O5rtQdEur_Sg",
        "outputId": "d2ccedd3-853a-465f-f18e-7220330583d7",
        "colab": {
          "base_uri": "https://localhost:8080/"
        }
      },
      "id": "O5rtQdEur_Sg",
      "execution_count": 41,
      "outputs": [
        {
          "output_type": "stream",
          "name": "stdout",
          "text": [
            "Male below age 5 are 1\n",
            "Female below age 5 are 0\n"
          ]
        }
      ]
    },
    {
      "cell_type": "code",
      "source": [
        "df2.sort_values('age',ascending=True)[['age','group']].head(25)"
      ],
      "metadata": {
        "id": "0KW4rMGlsEzA",
        "outputId": "25806115-3102-419b-c36f-8bc9f9b3a83d",
        "colab": {
          "base_uri": "https://localhost:8080/",
          "height": 833
        }
      },
      "id": "0KW4rMGlsEzA",
      "execution_count": 42,
      "outputs": [
        {
          "output_type": "execute_result",
          "data": {
            "text/plain": [
              "       age group\n",
              "10385    1  M22-\n",
              "60833    6  M22-\n",
              "60832    6  M22-\n",
              "60779    6  M22-\n",
              "60831    6  M22-\n",
              "57703   10  M22-\n",
              "33595   10  M22-\n",
              "15107   10  M22-\n",
              "72936   10  F23-\n",
              "72935   10  F23-\n",
              "53296   11  F23-\n",
              "53282   11  F23-\n",
              "53994   11  F23-\n",
              "52335   11  F23-\n",
              "54609   12  M22-\n",
              "53603   12  M22-\n",
              "60527   12  M22-\n",
              "61136   12  F23-\n",
              "53642   12  F23-\n",
              "59192   12  F23-\n",
              "58421   12  M22-\n",
              "61398   12  M22-\n",
              "53136   12  F23-\n",
              "55195   12  M22-\n",
              "11510   12  M22-"
            ],
            "text/html": [
              "\n",
              "  <div id=\"df-76975c85-f904-40b5-9d6c-2693dcc1e3f2\">\n",
              "    <div class=\"colab-df-container\">\n",
              "      <div>\n",
              "<style scoped>\n",
              "    .dataframe tbody tr th:only-of-type {\n",
              "        vertical-align: middle;\n",
              "    }\n",
              "\n",
              "    .dataframe tbody tr th {\n",
              "        vertical-align: top;\n",
              "    }\n",
              "\n",
              "    .dataframe thead th {\n",
              "        text-align: right;\n",
              "    }\n",
              "</style>\n",
              "<table border=\"1\" class=\"dataframe\">\n",
              "  <thead>\n",
              "    <tr style=\"text-align: right;\">\n",
              "      <th></th>\n",
              "      <th>age</th>\n",
              "      <th>group</th>\n",
              "    </tr>\n",
              "  </thead>\n",
              "  <tbody>\n",
              "    <tr>\n",
              "      <th>10385</th>\n",
              "      <td>1</td>\n",
              "      <td>M22-</td>\n",
              "    </tr>\n",
              "    <tr>\n",
              "      <th>60833</th>\n",
              "      <td>6</td>\n",
              "      <td>M22-</td>\n",
              "    </tr>\n",
              "    <tr>\n",
              "      <th>60832</th>\n",
              "      <td>6</td>\n",
              "      <td>M22-</td>\n",
              "    </tr>\n",
              "    <tr>\n",
              "      <th>60779</th>\n",
              "      <td>6</td>\n",
              "      <td>M22-</td>\n",
              "    </tr>\n",
              "    <tr>\n",
              "      <th>60831</th>\n",
              "      <td>6</td>\n",
              "      <td>M22-</td>\n",
              "    </tr>\n",
              "    <tr>\n",
              "      <th>57703</th>\n",
              "      <td>10</td>\n",
              "      <td>M22-</td>\n",
              "    </tr>\n",
              "    <tr>\n",
              "      <th>33595</th>\n",
              "      <td>10</td>\n",
              "      <td>M22-</td>\n",
              "    </tr>\n",
              "    <tr>\n",
              "      <th>15107</th>\n",
              "      <td>10</td>\n",
              "      <td>M22-</td>\n",
              "    </tr>\n",
              "    <tr>\n",
              "      <th>72936</th>\n",
              "      <td>10</td>\n",
              "      <td>F23-</td>\n",
              "    </tr>\n",
              "    <tr>\n",
              "      <th>72935</th>\n",
              "      <td>10</td>\n",
              "      <td>F23-</td>\n",
              "    </tr>\n",
              "    <tr>\n",
              "      <th>53296</th>\n",
              "      <td>11</td>\n",
              "      <td>F23-</td>\n",
              "    </tr>\n",
              "    <tr>\n",
              "      <th>53282</th>\n",
              "      <td>11</td>\n",
              "      <td>F23-</td>\n",
              "    </tr>\n",
              "    <tr>\n",
              "      <th>53994</th>\n",
              "      <td>11</td>\n",
              "      <td>F23-</td>\n",
              "    </tr>\n",
              "    <tr>\n",
              "      <th>52335</th>\n",
              "      <td>11</td>\n",
              "      <td>F23-</td>\n",
              "    </tr>\n",
              "    <tr>\n",
              "      <th>54609</th>\n",
              "      <td>12</td>\n",
              "      <td>M22-</td>\n",
              "    </tr>\n",
              "    <tr>\n",
              "      <th>53603</th>\n",
              "      <td>12</td>\n",
              "      <td>M22-</td>\n",
              "    </tr>\n",
              "    <tr>\n",
              "      <th>60527</th>\n",
              "      <td>12</td>\n",
              "      <td>M22-</td>\n",
              "    </tr>\n",
              "    <tr>\n",
              "      <th>61136</th>\n",
              "      <td>12</td>\n",
              "      <td>F23-</td>\n",
              "    </tr>\n",
              "    <tr>\n",
              "      <th>53642</th>\n",
              "      <td>12</td>\n",
              "      <td>F23-</td>\n",
              "    </tr>\n",
              "    <tr>\n",
              "      <th>59192</th>\n",
              "      <td>12</td>\n",
              "      <td>F23-</td>\n",
              "    </tr>\n",
              "    <tr>\n",
              "      <th>58421</th>\n",
              "      <td>12</td>\n",
              "      <td>M22-</td>\n",
              "    </tr>\n",
              "    <tr>\n",
              "      <th>61398</th>\n",
              "      <td>12</td>\n",
              "      <td>M22-</td>\n",
              "    </tr>\n",
              "    <tr>\n",
              "      <th>53136</th>\n",
              "      <td>12</td>\n",
              "      <td>F23-</td>\n",
              "    </tr>\n",
              "    <tr>\n",
              "      <th>55195</th>\n",
              "      <td>12</td>\n",
              "      <td>M22-</td>\n",
              "    </tr>\n",
              "    <tr>\n",
              "      <th>11510</th>\n",
              "      <td>12</td>\n",
              "      <td>M22-</td>\n",
              "    </tr>\n",
              "  </tbody>\n",
              "</table>\n",
              "</div>\n",
              "      <button class=\"colab-df-convert\" onclick=\"convertToInteractive('df-76975c85-f904-40b5-9d6c-2693dcc1e3f2')\"\n",
              "              title=\"Convert this dataframe to an interactive table.\"\n",
              "              style=\"display:none;\">\n",
              "        \n",
              "  <svg xmlns=\"http://www.w3.org/2000/svg\" height=\"24px\"viewBox=\"0 0 24 24\"\n",
              "       width=\"24px\">\n",
              "    <path d=\"M0 0h24v24H0V0z\" fill=\"none\"/>\n",
              "    <path d=\"M18.56 5.44l.94 2.06.94-2.06 2.06-.94-2.06-.94-.94-2.06-.94 2.06-2.06.94zm-11 1L8.5 8.5l.94-2.06 2.06-.94-2.06-.94L8.5 2.5l-.94 2.06-2.06.94zm10 10l.94 2.06.94-2.06 2.06-.94-2.06-.94-.94-2.06-.94 2.06-2.06.94z\"/><path d=\"M17.41 7.96l-1.37-1.37c-.4-.4-.92-.59-1.43-.59-.52 0-1.04.2-1.43.59L10.3 9.45l-7.72 7.72c-.78.78-.78 2.05 0 2.83L4 21.41c.39.39.9.59 1.41.59.51 0 1.02-.2 1.41-.59l7.78-7.78 2.81-2.81c.8-.78.8-2.07 0-2.86zM5.41 20L4 18.59l7.72-7.72 1.47 1.35L5.41 20z\"/>\n",
              "  </svg>\n",
              "      </button>\n",
              "      \n",
              "  <style>\n",
              "    .colab-df-container {\n",
              "      display:flex;\n",
              "      flex-wrap:wrap;\n",
              "      gap: 12px;\n",
              "    }\n",
              "\n",
              "    .colab-df-convert {\n",
              "      background-color: #E8F0FE;\n",
              "      border: none;\n",
              "      border-radius: 50%;\n",
              "      cursor: pointer;\n",
              "      display: none;\n",
              "      fill: #1967D2;\n",
              "      height: 32px;\n",
              "      padding: 0 0 0 0;\n",
              "      width: 32px;\n",
              "    }\n",
              "\n",
              "    .colab-df-convert:hover {\n",
              "      background-color: #E2EBFA;\n",
              "      box-shadow: 0px 1px 2px rgba(60, 64, 67, 0.3), 0px 1px 3px 1px rgba(60, 64, 67, 0.15);\n",
              "      fill: #174EA6;\n",
              "    }\n",
              "\n",
              "    [theme=dark] .colab-df-convert {\n",
              "      background-color: #3B4455;\n",
              "      fill: #D2E3FC;\n",
              "    }\n",
              "\n",
              "    [theme=dark] .colab-df-convert:hover {\n",
              "      background-color: #434B5C;\n",
              "      box-shadow: 0px 1px 3px 1px rgba(0, 0, 0, 0.15);\n",
              "      filter: drop-shadow(0px 1px 2px rgba(0, 0, 0, 0.3));\n",
              "      fill: #FFFFFF;\n",
              "    }\n",
              "  </style>\n",
              "\n",
              "      <script>\n",
              "        const buttonEl =\n",
              "          document.querySelector('#df-76975c85-f904-40b5-9d6c-2693dcc1e3f2 button.colab-df-convert');\n",
              "        buttonEl.style.display =\n",
              "          google.colab.kernel.accessAllowed ? 'block' : 'none';\n",
              "\n",
              "        async function convertToInteractive(key) {\n",
              "          const element = document.querySelector('#df-76975c85-f904-40b5-9d6c-2693dcc1e3f2');\n",
              "          const dataTable =\n",
              "            await google.colab.kernel.invokeFunction('convertToInteractive',\n",
              "                                                     [key], {});\n",
              "          if (!dataTable) return;\n",
              "\n",
              "          const docLinkHtml = 'Like what you see? Visit the ' +\n",
              "            '<a target=\"_blank\" href=https://colab.research.google.com/notebooks/data_table.ipynb>data table notebook</a>'\n",
              "            + ' to learn more about interactive tables.';\n",
              "          element.innerHTML = '';\n",
              "          dataTable['output_type'] = 'display_data';\n",
              "          await google.colab.output.renderOutput(dataTable, element);\n",
              "          const docLink = document.createElement('div');\n",
              "          docLink.innerHTML = docLinkHtml;\n",
              "          element.appendChild(docLink);\n",
              "        }\n",
              "      </script>\n",
              "    </div>\n",
              "  </div>\n",
              "  "
            ]
          },
          "metadata": {},
          "execution_count": 42
        }
      ]
    },
    {
      "cell_type": "code",
      "source": [
        "df2.sort_values('age',ascending=False)[['age','group']].head(25)"
      ],
      "metadata": {
        "colab": {
          "base_uri": "https://localhost:8080/",
          "height": 833
        },
        "id": "ntAvcd82voP5",
        "outputId": "fd233d39-9dfd-4f38-bdf9-215d8ca36f31"
      },
      "id": "ntAvcd82voP5",
      "execution_count": 43,
      "outputs": [
        {
          "output_type": "execute_result",
          "data": {
            "text/plain": [
              "       age group\n",
              "5958    96  F43+\n",
              "60872   94  F43+\n",
              "3704    90  M39+\n",
              "32290   89  F43+\n",
              "2971    89  F43+\n",
              "32291   89  F43+\n",
              "3068    88  F43+\n",
              "3560    88  F43+\n",
              "19602   88  M39+\n",
              "3065    88  F43+\n",
              "3067    88  M39+\n",
              "2972    87  M39+\n",
              "49530   87  M39+\n",
              "2973    87  M39+\n",
              "43127   86  M39+\n",
              "43128   86  M39+\n",
              "60342   86  M39+\n",
              "60349   86  F43+\n",
              "27797   85  M39+\n",
              "60348   85  M39+\n",
              "37118   85  M39+\n",
              "3573    84  M39+\n",
              "2799    84  F43+\n",
              "9150    83  M39+\n",
              "9151    83  M39+"
            ],
            "text/html": [
              "\n",
              "  <div id=\"df-8e4ed326-8c94-4a08-a931-538894dd5c89\">\n",
              "    <div class=\"colab-df-container\">\n",
              "      <div>\n",
              "<style scoped>\n",
              "    .dataframe tbody tr th:only-of-type {\n",
              "        vertical-align: middle;\n",
              "    }\n",
              "\n",
              "    .dataframe tbody tr th {\n",
              "        vertical-align: top;\n",
              "    }\n",
              "\n",
              "    .dataframe thead th {\n",
              "        text-align: right;\n",
              "    }\n",
              "</style>\n",
              "<table border=\"1\" class=\"dataframe\">\n",
              "  <thead>\n",
              "    <tr style=\"text-align: right;\">\n",
              "      <th></th>\n",
              "      <th>age</th>\n",
              "      <th>group</th>\n",
              "    </tr>\n",
              "  </thead>\n",
              "  <tbody>\n",
              "    <tr>\n",
              "      <th>5958</th>\n",
              "      <td>96</td>\n",
              "      <td>F43+</td>\n",
              "    </tr>\n",
              "    <tr>\n",
              "      <th>60872</th>\n",
              "      <td>94</td>\n",
              "      <td>F43+</td>\n",
              "    </tr>\n",
              "    <tr>\n",
              "      <th>3704</th>\n",
              "      <td>90</td>\n",
              "      <td>M39+</td>\n",
              "    </tr>\n",
              "    <tr>\n",
              "      <th>32290</th>\n",
              "      <td>89</td>\n",
              "      <td>F43+</td>\n",
              "    </tr>\n",
              "    <tr>\n",
              "      <th>2971</th>\n",
              "      <td>89</td>\n",
              "      <td>F43+</td>\n",
              "    </tr>\n",
              "    <tr>\n",
              "      <th>32291</th>\n",
              "      <td>89</td>\n",
              "      <td>F43+</td>\n",
              "    </tr>\n",
              "    <tr>\n",
              "      <th>3068</th>\n",
              "      <td>88</td>\n",
              "      <td>F43+</td>\n",
              "    </tr>\n",
              "    <tr>\n",
              "      <th>3560</th>\n",
              "      <td>88</td>\n",
              "      <td>F43+</td>\n",
              "    </tr>\n",
              "    <tr>\n",
              "      <th>19602</th>\n",
              "      <td>88</td>\n",
              "      <td>M39+</td>\n",
              "    </tr>\n",
              "    <tr>\n",
              "      <th>3065</th>\n",
              "      <td>88</td>\n",
              "      <td>F43+</td>\n",
              "    </tr>\n",
              "    <tr>\n",
              "      <th>3067</th>\n",
              "      <td>88</td>\n",
              "      <td>M39+</td>\n",
              "    </tr>\n",
              "    <tr>\n",
              "      <th>2972</th>\n",
              "      <td>87</td>\n",
              "      <td>M39+</td>\n",
              "    </tr>\n",
              "    <tr>\n",
              "      <th>49530</th>\n",
              "      <td>87</td>\n",
              "      <td>M39+</td>\n",
              "    </tr>\n",
              "    <tr>\n",
              "      <th>2973</th>\n",
              "      <td>87</td>\n",
              "      <td>M39+</td>\n",
              "    </tr>\n",
              "    <tr>\n",
              "      <th>43127</th>\n",
              "      <td>86</td>\n",
              "      <td>M39+</td>\n",
              "    </tr>\n",
              "    <tr>\n",
              "      <th>43128</th>\n",
              "      <td>86</td>\n",
              "      <td>M39+</td>\n",
              "    </tr>\n",
              "    <tr>\n",
              "      <th>60342</th>\n",
              "      <td>86</td>\n",
              "      <td>M39+</td>\n",
              "    </tr>\n",
              "    <tr>\n",
              "      <th>60349</th>\n",
              "      <td>86</td>\n",
              "      <td>F43+</td>\n",
              "    </tr>\n",
              "    <tr>\n",
              "      <th>27797</th>\n",
              "      <td>85</td>\n",
              "      <td>M39+</td>\n",
              "    </tr>\n",
              "    <tr>\n",
              "      <th>60348</th>\n",
              "      <td>85</td>\n",
              "      <td>M39+</td>\n",
              "    </tr>\n",
              "    <tr>\n",
              "      <th>37118</th>\n",
              "      <td>85</td>\n",
              "      <td>M39+</td>\n",
              "    </tr>\n",
              "    <tr>\n",
              "      <th>3573</th>\n",
              "      <td>84</td>\n",
              "      <td>M39+</td>\n",
              "    </tr>\n",
              "    <tr>\n",
              "      <th>2799</th>\n",
              "      <td>84</td>\n",
              "      <td>F43+</td>\n",
              "    </tr>\n",
              "    <tr>\n",
              "      <th>9150</th>\n",
              "      <td>83</td>\n",
              "      <td>M39+</td>\n",
              "    </tr>\n",
              "    <tr>\n",
              "      <th>9151</th>\n",
              "      <td>83</td>\n",
              "      <td>M39+</td>\n",
              "    </tr>\n",
              "  </tbody>\n",
              "</table>\n",
              "</div>\n",
              "      <button class=\"colab-df-convert\" onclick=\"convertToInteractive('df-8e4ed326-8c94-4a08-a931-538894dd5c89')\"\n",
              "              title=\"Convert this dataframe to an interactive table.\"\n",
              "              style=\"display:none;\">\n",
              "        \n",
              "  <svg xmlns=\"http://www.w3.org/2000/svg\" height=\"24px\"viewBox=\"0 0 24 24\"\n",
              "       width=\"24px\">\n",
              "    <path d=\"M0 0h24v24H0V0z\" fill=\"none\"/>\n",
              "    <path d=\"M18.56 5.44l.94 2.06.94-2.06 2.06-.94-2.06-.94-.94-2.06-.94 2.06-2.06.94zm-11 1L8.5 8.5l.94-2.06 2.06-.94-2.06-.94L8.5 2.5l-.94 2.06-2.06.94zm10 10l.94 2.06.94-2.06 2.06-.94-2.06-.94-.94-2.06-.94 2.06-2.06.94z\"/><path d=\"M17.41 7.96l-1.37-1.37c-.4-.4-.92-.59-1.43-.59-.52 0-1.04.2-1.43.59L10.3 9.45l-7.72 7.72c-.78.78-.78 2.05 0 2.83L4 21.41c.39.39.9.59 1.41.59.51 0 1.02-.2 1.41-.59l7.78-7.78 2.81-2.81c.8-.78.8-2.07 0-2.86zM5.41 20L4 18.59l7.72-7.72 1.47 1.35L5.41 20z\"/>\n",
              "  </svg>\n",
              "      </button>\n",
              "      \n",
              "  <style>\n",
              "    .colab-df-container {\n",
              "      display:flex;\n",
              "      flex-wrap:wrap;\n",
              "      gap: 12px;\n",
              "    }\n",
              "\n",
              "    .colab-df-convert {\n",
              "      background-color: #E8F0FE;\n",
              "      border: none;\n",
              "      border-radius: 50%;\n",
              "      cursor: pointer;\n",
              "      display: none;\n",
              "      fill: #1967D2;\n",
              "      height: 32px;\n",
              "      padding: 0 0 0 0;\n",
              "      width: 32px;\n",
              "    }\n",
              "\n",
              "    .colab-df-convert:hover {\n",
              "      background-color: #E2EBFA;\n",
              "      box-shadow: 0px 1px 2px rgba(60, 64, 67, 0.3), 0px 1px 3px 1px rgba(60, 64, 67, 0.15);\n",
              "      fill: #174EA6;\n",
              "    }\n",
              "\n",
              "    [theme=dark] .colab-df-convert {\n",
              "      background-color: #3B4455;\n",
              "      fill: #D2E3FC;\n",
              "    }\n",
              "\n",
              "    [theme=dark] .colab-df-convert:hover {\n",
              "      background-color: #434B5C;\n",
              "      box-shadow: 0px 1px 3px 1px rgba(0, 0, 0, 0.15);\n",
              "      filter: drop-shadow(0px 1px 2px rgba(0, 0, 0, 0.3));\n",
              "      fill: #FFFFFF;\n",
              "    }\n",
              "  </style>\n",
              "\n",
              "      <script>\n",
              "        const buttonEl =\n",
              "          document.querySelector('#df-8e4ed326-8c94-4a08-a931-538894dd5c89 button.colab-df-convert');\n",
              "        buttonEl.style.display =\n",
              "          google.colab.kernel.accessAllowed ? 'block' : 'none';\n",
              "\n",
              "        async function convertToInteractive(key) {\n",
              "          const element = document.querySelector('#df-8e4ed326-8c94-4a08-a931-538894dd5c89');\n",
              "          const dataTable =\n",
              "            await google.colab.kernel.invokeFunction('convertToInteractive',\n",
              "                                                     [key], {});\n",
              "          if (!dataTable) return;\n",
              "\n",
              "          const docLinkHtml = 'Like what you see? Visit the ' +\n",
              "            '<a target=\"_blank\" href=https://colab.research.google.com/notebooks/data_table.ipynb>data table notebook</a>'\n",
              "            + ' to learn more about interactive tables.';\n",
              "          element.innerHTML = '';\n",
              "          dataTable['output_type'] = 'display_data';\n",
              "          await google.colab.output.renderOutput(dataTable, element);\n",
              "          const docLink = document.createElement('div');\n",
              "          docLink.innerHTML = docLinkHtml;\n",
              "          element.appendChild(docLink);\n",
              "        }\n",
              "      </script>\n",
              "    </div>\n",
              "  </div>\n",
              "  "
            ]
          },
          "metadata": {},
          "execution_count": 43
        }
      ]
    },
    {
      "cell_type": "markdown",
      "source": [
        "## identified Question\n",
        "What should be the age range to be considered in EDA? "
      ],
      "metadata": {
        "id": "GbfhQFPZs7lJ"
      },
      "id": "GbfhQFPZs7lJ"
    },
    {
      "cell_type": "markdown",
      "source": [
        "# Unique Values\n",
        "Gender - 2 (M,F)<br>\n",
        "age - 85<br>\n",
        "group - 12<br>\n",
        "\n",
        "#groups are present as per gender\n",
        "\n",
        "Male age group starts from M22- till M39+<br>\n",
        "Female age group starts from F23- till F43+<br>"
      ],
      "metadata": {
        "id": "cS_DuyBoucmy"
      },
      "id": "cS_DuyBoucmy"
    },
    {
      "cell_type": "code",
      "source": [
        "duplicated_list_df2 = df2.drop('Unnamed: 0',axis=1).duplicated()"
      ],
      "metadata": {
        "id": "efQ-F0eHwphB"
      },
      "id": "efQ-F0eHwphB",
      "execution_count": 44,
      "outputs": []
    },
    {
      "cell_type": "code",
      "source": [
        "df2.drop('Unnamed: 0',axis=1)[duplicated_list_df2]"
      ],
      "metadata": {
        "colab": {
          "base_uri": "https://localhost:8080/",
          "height": 49
        },
        "id": "GVPCk6jAwstB",
        "outputId": "b24ddd53-5fb6-4034-b1df-bddb0d51643c"
      },
      "id": "GVPCk6jAwstB",
      "execution_count": 45,
      "outputs": [
        {
          "output_type": "execute_result",
          "data": {
            "text/plain": [
              "Empty DataFrame\n",
              "Columns: [device_id, gender, age, group]\n",
              "Index: []"
            ],
            "text/html": [
              "\n",
              "  <div id=\"df-2d0bace5-cf9f-471d-a7fe-893842e58b79\">\n",
              "    <div class=\"colab-df-container\">\n",
              "      <div>\n",
              "<style scoped>\n",
              "    .dataframe tbody tr th:only-of-type {\n",
              "        vertical-align: middle;\n",
              "    }\n",
              "\n",
              "    .dataframe tbody tr th {\n",
              "        vertical-align: top;\n",
              "    }\n",
              "\n",
              "    .dataframe thead th {\n",
              "        text-align: right;\n",
              "    }\n",
              "</style>\n",
              "<table border=\"1\" class=\"dataframe\">\n",
              "  <thead>\n",
              "    <tr style=\"text-align: right;\">\n",
              "      <th></th>\n",
              "      <th>device_id</th>\n",
              "      <th>gender</th>\n",
              "      <th>age</th>\n",
              "      <th>group</th>\n",
              "    </tr>\n",
              "  </thead>\n",
              "  <tbody>\n",
              "  </tbody>\n",
              "</table>\n",
              "</div>\n",
              "      <button class=\"colab-df-convert\" onclick=\"convertToInteractive('df-2d0bace5-cf9f-471d-a7fe-893842e58b79')\"\n",
              "              title=\"Convert this dataframe to an interactive table.\"\n",
              "              style=\"display:none;\">\n",
              "        \n",
              "  <svg xmlns=\"http://www.w3.org/2000/svg\" height=\"24px\"viewBox=\"0 0 24 24\"\n",
              "       width=\"24px\">\n",
              "    <path d=\"M0 0h24v24H0V0z\" fill=\"none\"/>\n",
              "    <path d=\"M18.56 5.44l.94 2.06.94-2.06 2.06-.94-2.06-.94-.94-2.06-.94 2.06-2.06.94zm-11 1L8.5 8.5l.94-2.06 2.06-.94-2.06-.94L8.5 2.5l-.94 2.06-2.06.94zm10 10l.94 2.06.94-2.06 2.06-.94-2.06-.94-.94-2.06-.94 2.06-2.06.94z\"/><path d=\"M17.41 7.96l-1.37-1.37c-.4-.4-.92-.59-1.43-.59-.52 0-1.04.2-1.43.59L10.3 9.45l-7.72 7.72c-.78.78-.78 2.05 0 2.83L4 21.41c.39.39.9.59 1.41.59.51 0 1.02-.2 1.41-.59l7.78-7.78 2.81-2.81c.8-.78.8-2.07 0-2.86zM5.41 20L4 18.59l7.72-7.72 1.47 1.35L5.41 20z\"/>\n",
              "  </svg>\n",
              "      </button>\n",
              "      \n",
              "  <style>\n",
              "    .colab-df-container {\n",
              "      display:flex;\n",
              "      flex-wrap:wrap;\n",
              "      gap: 12px;\n",
              "    }\n",
              "\n",
              "    .colab-df-convert {\n",
              "      background-color: #E8F0FE;\n",
              "      border: none;\n",
              "      border-radius: 50%;\n",
              "      cursor: pointer;\n",
              "      display: none;\n",
              "      fill: #1967D2;\n",
              "      height: 32px;\n",
              "      padding: 0 0 0 0;\n",
              "      width: 32px;\n",
              "    }\n",
              "\n",
              "    .colab-df-convert:hover {\n",
              "      background-color: #E2EBFA;\n",
              "      box-shadow: 0px 1px 2px rgba(60, 64, 67, 0.3), 0px 1px 3px 1px rgba(60, 64, 67, 0.15);\n",
              "      fill: #174EA6;\n",
              "    }\n",
              "\n",
              "    [theme=dark] .colab-df-convert {\n",
              "      background-color: #3B4455;\n",
              "      fill: #D2E3FC;\n",
              "    }\n",
              "\n",
              "    [theme=dark] .colab-df-convert:hover {\n",
              "      background-color: #434B5C;\n",
              "      box-shadow: 0px 1px 3px 1px rgba(0, 0, 0, 0.15);\n",
              "      filter: drop-shadow(0px 1px 2px rgba(0, 0, 0, 0.3));\n",
              "      fill: #FFFFFF;\n",
              "    }\n",
              "  </style>\n",
              "\n",
              "      <script>\n",
              "        const buttonEl =\n",
              "          document.querySelector('#df-2d0bace5-cf9f-471d-a7fe-893842e58b79 button.colab-df-convert');\n",
              "        buttonEl.style.display =\n",
              "          google.colab.kernel.accessAllowed ? 'block' : 'none';\n",
              "\n",
              "        async function convertToInteractive(key) {\n",
              "          const element = document.querySelector('#df-2d0bace5-cf9f-471d-a7fe-893842e58b79');\n",
              "          const dataTable =\n",
              "            await google.colab.kernel.invokeFunction('convertToInteractive',\n",
              "                                                     [key], {});\n",
              "          if (!dataTable) return;\n",
              "\n",
              "          const docLinkHtml = 'Like what you see? Visit the ' +\n",
              "            '<a target=\"_blank\" href=https://colab.research.google.com/notebooks/data_table.ipynb>data table notebook</a>'\n",
              "            + ' to learn more about interactive tables.';\n",
              "          element.innerHTML = '';\n",
              "          dataTable['output_type'] = 'display_data';\n",
              "          await google.colab.output.renderOutput(dataTable, element);\n",
              "          const docLink = document.createElement('div');\n",
              "          docLink.innerHTML = docLinkHtml;\n",
              "          element.appendChild(docLink);\n",
              "        }\n",
              "      </script>\n",
              "    </div>\n",
              "  </div>\n",
              "  "
            ]
          },
          "metadata": {},
          "execution_count": 45
        }
      ]
    },
    {
      "cell_type": "markdown",
      "source": [
        "#Analysis of Phone_brand_dataset"
      ],
      "metadata": {
        "id": "qvCW1jDYv7UN"
      },
      "id": "qvCW1jDYv7UN"
    },
    {
      "cell_type": "code",
      "source": [
        "df3 = pd.read_csv('https://raw.githubusercontent.com/ShubhamCJagtap/Capstone_Project_1_EDA/master/phone_brand_device_model.csv')"
      ],
      "metadata": {
        "id": "zt9NyCZesaSP"
      },
      "id": "zt9NyCZesaSP",
      "execution_count": 46,
      "outputs": []
    },
    {
      "cell_type": "code",
      "source": [
        "df3.head(10)"
      ],
      "metadata": {
        "id": "EG99iIIKu8iQ",
        "outputId": "8e8682e4-174b-431d-a4f0-c28e5683ffe7",
        "colab": {
          "base_uri": "https://localhost:8080/",
          "height": 363
        }
      },
      "id": "EG99iIIKu8iQ",
      "execution_count": 47,
      "outputs": [
        {
          "output_type": "execute_result",
          "data": {
            "text/plain": [
              "   Unnamed: 0            device_id phone_brand        device_model\n",
              "0           0  1877775838486905855        vivo                 Y13\n",
              "1           1 -3766087376657242966          小米                V183\n",
              "2           2 -6238937574958215831        OPPO                 R7s\n",
              "3           3  8973197758510677470          三星               A368t\n",
              "4           4 -2015528097870762664          小米             红米Note2\n",
              "5           5 -8896952452425303597          小米             红米Note3\n",
              "6           6 -2634171391322875113          小米                S5.1\n",
              "7           7 -2526386806972133373          三星  Galaxy Grand Prime\n",
              "8           8  1427934937997164515          小米               MI 2S\n",
              "9           9  2866484947180243791          三星       Galaxy Note 2"
            ],
            "text/html": [
              "\n",
              "  <div id=\"df-89acc11c-7af6-43da-80a8-7eddb68868b9\">\n",
              "    <div class=\"colab-df-container\">\n",
              "      <div>\n",
              "<style scoped>\n",
              "    .dataframe tbody tr th:only-of-type {\n",
              "        vertical-align: middle;\n",
              "    }\n",
              "\n",
              "    .dataframe tbody tr th {\n",
              "        vertical-align: top;\n",
              "    }\n",
              "\n",
              "    .dataframe thead th {\n",
              "        text-align: right;\n",
              "    }\n",
              "</style>\n",
              "<table border=\"1\" class=\"dataframe\">\n",
              "  <thead>\n",
              "    <tr style=\"text-align: right;\">\n",
              "      <th></th>\n",
              "      <th>Unnamed: 0</th>\n",
              "      <th>device_id</th>\n",
              "      <th>phone_brand</th>\n",
              "      <th>device_model</th>\n",
              "    </tr>\n",
              "  </thead>\n",
              "  <tbody>\n",
              "    <tr>\n",
              "      <th>0</th>\n",
              "      <td>0</td>\n",
              "      <td>1877775838486905855</td>\n",
              "      <td>vivo</td>\n",
              "      <td>Y13</td>\n",
              "    </tr>\n",
              "    <tr>\n",
              "      <th>1</th>\n",
              "      <td>1</td>\n",
              "      <td>-3766087376657242966</td>\n",
              "      <td>小米</td>\n",
              "      <td>V183</td>\n",
              "    </tr>\n",
              "    <tr>\n",
              "      <th>2</th>\n",
              "      <td>2</td>\n",
              "      <td>-6238937574958215831</td>\n",
              "      <td>OPPO</td>\n",
              "      <td>R7s</td>\n",
              "    </tr>\n",
              "    <tr>\n",
              "      <th>3</th>\n",
              "      <td>3</td>\n",
              "      <td>8973197758510677470</td>\n",
              "      <td>三星</td>\n",
              "      <td>A368t</td>\n",
              "    </tr>\n",
              "    <tr>\n",
              "      <th>4</th>\n",
              "      <td>4</td>\n",
              "      <td>-2015528097870762664</td>\n",
              "      <td>小米</td>\n",
              "      <td>红米Note2</td>\n",
              "    </tr>\n",
              "    <tr>\n",
              "      <th>5</th>\n",
              "      <td>5</td>\n",
              "      <td>-8896952452425303597</td>\n",
              "      <td>小米</td>\n",
              "      <td>红米Note3</td>\n",
              "    </tr>\n",
              "    <tr>\n",
              "      <th>6</th>\n",
              "      <td>6</td>\n",
              "      <td>-2634171391322875113</td>\n",
              "      <td>小米</td>\n",
              "      <td>S5.1</td>\n",
              "    </tr>\n",
              "    <tr>\n",
              "      <th>7</th>\n",
              "      <td>7</td>\n",
              "      <td>-2526386806972133373</td>\n",
              "      <td>三星</td>\n",
              "      <td>Galaxy Grand Prime</td>\n",
              "    </tr>\n",
              "    <tr>\n",
              "      <th>8</th>\n",
              "      <td>8</td>\n",
              "      <td>1427934937997164515</td>\n",
              "      <td>小米</td>\n",
              "      <td>MI 2S</td>\n",
              "    </tr>\n",
              "    <tr>\n",
              "      <th>9</th>\n",
              "      <td>9</td>\n",
              "      <td>2866484947180243791</td>\n",
              "      <td>三星</td>\n",
              "      <td>Galaxy Note 2</td>\n",
              "    </tr>\n",
              "  </tbody>\n",
              "</table>\n",
              "</div>\n",
              "      <button class=\"colab-df-convert\" onclick=\"convertToInteractive('df-89acc11c-7af6-43da-80a8-7eddb68868b9')\"\n",
              "              title=\"Convert this dataframe to an interactive table.\"\n",
              "              style=\"display:none;\">\n",
              "        \n",
              "  <svg xmlns=\"http://www.w3.org/2000/svg\" height=\"24px\"viewBox=\"0 0 24 24\"\n",
              "       width=\"24px\">\n",
              "    <path d=\"M0 0h24v24H0V0z\" fill=\"none\"/>\n",
              "    <path d=\"M18.56 5.44l.94 2.06.94-2.06 2.06-.94-2.06-.94-.94-2.06-.94 2.06-2.06.94zm-11 1L8.5 8.5l.94-2.06 2.06-.94-2.06-.94L8.5 2.5l-.94 2.06-2.06.94zm10 10l.94 2.06.94-2.06 2.06-.94-2.06-.94-.94-2.06-.94 2.06-2.06.94z\"/><path d=\"M17.41 7.96l-1.37-1.37c-.4-.4-.92-.59-1.43-.59-.52 0-1.04.2-1.43.59L10.3 9.45l-7.72 7.72c-.78.78-.78 2.05 0 2.83L4 21.41c.39.39.9.59 1.41.59.51 0 1.02-.2 1.41-.59l7.78-7.78 2.81-2.81c.8-.78.8-2.07 0-2.86zM5.41 20L4 18.59l7.72-7.72 1.47 1.35L5.41 20z\"/>\n",
              "  </svg>\n",
              "      </button>\n",
              "      \n",
              "  <style>\n",
              "    .colab-df-container {\n",
              "      display:flex;\n",
              "      flex-wrap:wrap;\n",
              "      gap: 12px;\n",
              "    }\n",
              "\n",
              "    .colab-df-convert {\n",
              "      background-color: #E8F0FE;\n",
              "      border: none;\n",
              "      border-radius: 50%;\n",
              "      cursor: pointer;\n",
              "      display: none;\n",
              "      fill: #1967D2;\n",
              "      height: 32px;\n",
              "      padding: 0 0 0 0;\n",
              "      width: 32px;\n",
              "    }\n",
              "\n",
              "    .colab-df-convert:hover {\n",
              "      background-color: #E2EBFA;\n",
              "      box-shadow: 0px 1px 2px rgba(60, 64, 67, 0.3), 0px 1px 3px 1px rgba(60, 64, 67, 0.15);\n",
              "      fill: #174EA6;\n",
              "    }\n",
              "\n",
              "    [theme=dark] .colab-df-convert {\n",
              "      background-color: #3B4455;\n",
              "      fill: #D2E3FC;\n",
              "    }\n",
              "\n",
              "    [theme=dark] .colab-df-convert:hover {\n",
              "      background-color: #434B5C;\n",
              "      box-shadow: 0px 1px 3px 1px rgba(0, 0, 0, 0.15);\n",
              "      filter: drop-shadow(0px 1px 2px rgba(0, 0, 0, 0.3));\n",
              "      fill: #FFFFFF;\n",
              "    }\n",
              "  </style>\n",
              "\n",
              "      <script>\n",
              "        const buttonEl =\n",
              "          document.querySelector('#df-89acc11c-7af6-43da-80a8-7eddb68868b9 button.colab-df-convert');\n",
              "        buttonEl.style.display =\n",
              "          google.colab.kernel.accessAllowed ? 'block' : 'none';\n",
              "\n",
              "        async function convertToInteractive(key) {\n",
              "          const element = document.querySelector('#df-89acc11c-7af6-43da-80a8-7eddb68868b9');\n",
              "          const dataTable =\n",
              "            await google.colab.kernel.invokeFunction('convertToInteractive',\n",
              "                                                     [key], {});\n",
              "          if (!dataTable) return;\n",
              "\n",
              "          const docLinkHtml = 'Like what you see? Visit the ' +\n",
              "            '<a target=\"_blank\" href=https://colab.research.google.com/notebooks/data_table.ipynb>data table notebook</a>'\n",
              "            + ' to learn more about interactive tables.';\n",
              "          element.innerHTML = '';\n",
              "          dataTable['output_type'] = 'display_data';\n",
              "          await google.colab.output.renderOutput(dataTable, element);\n",
              "          const docLink = document.createElement('div');\n",
              "          docLink.innerHTML = docLinkHtml;\n",
              "          element.appendChild(docLink);\n",
              "        }\n",
              "      </script>\n",
              "    </div>\n",
              "  </div>\n",
              "  "
            ]
          },
          "metadata": {},
          "execution_count": 47
        }
      ]
    },
    {
      "cell_type": "code",
      "source": [
        "df3.info()"
      ],
      "metadata": {
        "id": "nDcQ1IMgu-Vw",
        "colab": {
          "base_uri": "https://localhost:8080/"
        },
        "outputId": "a37bc950-0ca7-46a8-e22f-12b80a9ea84c"
      },
      "id": "nDcQ1IMgu-Vw",
      "execution_count": 48,
      "outputs": [
        {
          "output_type": "stream",
          "name": "stdout",
          "text": [
            "<class 'pandas.core.frame.DataFrame'>\n",
            "RangeIndex: 87726 entries, 0 to 87725\n",
            "Data columns (total 4 columns):\n",
            " #   Column        Non-Null Count  Dtype \n",
            "---  ------        --------------  ----- \n",
            " 0   Unnamed: 0    87726 non-null  int64 \n",
            " 1   device_id     87726 non-null  int64 \n",
            " 2   phone_brand   87726 non-null  object\n",
            " 3   device_model  87726 non-null  object\n",
            "dtypes: int64(2), object(2)\n",
            "memory usage: 2.7+ MB\n"
          ]
        }
      ]
    },
    {
      "cell_type": "markdown",
      "source": [
        "## Observation\n",
        "Total entries - 87726<br>\n",
        "No missing values"
      ],
      "metadata": {
        "id": "QdATKfyHw2Jf"
      },
      "id": "QdATKfyHw2Jf"
    },
    {
      "cell_type": "code",
      "source": [
        "df3.nunique()"
      ],
      "metadata": {
        "colab": {
          "base_uri": "https://localhost:8080/"
        },
        "id": "FliXS5wewCSp",
        "outputId": "92516978-6320-4264-f370-11732d6c217c"
      },
      "id": "FliXS5wewCSp",
      "execution_count": 49,
      "outputs": [
        {
          "output_type": "execute_result",
          "data": {
            "text/plain": [
              "Unnamed: 0      87726\n",
              "device_id       87726\n",
              "phone_brand       116\n",
              "device_model     1467\n",
              "dtype: int64"
            ]
          },
          "metadata": {},
          "execution_count": 49
        }
      ]
    },
    {
      "cell_type": "code",
      "source": [
        "df3['phone_brand'].unique()"
      ],
      "metadata": {
        "colab": {
          "base_uri": "https://localhost:8080/"
        },
        "id": "IKfWF9TUwWUY",
        "outputId": "91f663ca-3560-46f3-e8ba-b31cc18a25ef"
      },
      "id": "IKfWF9TUwWUY",
      "execution_count": 50,
      "outputs": [
        {
          "output_type": "execute_result",
          "data": {
            "text/plain": [
              "array(['vivo', '小米', 'OPPO', '三星', '酷派', '联想 ', '华为', '奇酷', '魅族', '斐讯',\n",
              "       '中国移动', 'HTC', '天语', '至尊宝', 'LG', '欧博信', '优米', 'ZUK', '努比亚', '惠普',\n",
              "       '尼比鲁', '美图', '乡米', '摩托罗拉', '梦米', '锤子', '富可视', '乐视', '海信', '百立丰',\n",
              "       '一加', '语信', '海尔', '酷比', '纽曼', '波导', '朵唯', '聆韵', 'TCL', '酷珀', '爱派尔',\n",
              "       'LOGO', '青葱', '果米', '华硕', '昂达', '艾优尼', '康佳', '优购', '邦华', '赛博宇华',\n",
              "       '黑米', 'Lovme', '先锋', 'E派', '神舟', '诺基亚', '普耐尔', '糖葫芦', '亿通', '欧新',\n",
              "       '米奇', '酷比魔方', '蓝魔', '小杨树', '贝尔丰', '糯米', '米歌', 'E人E本', '西米', '大Q',\n",
              "       '台电', '飞利浦', '唯米', '大显', '长虹', '维图', '青橙', '本为', '虾米', '夏新', '帷幄',\n",
              "       '百加', 'SUGAR', '欧奇', '世纪星', '智镁', '欧比', '基伍', '飞秒', '德赛', '易派',\n",
              "       '谷歌', '金星数码', '广信', '诺亚信', 'MIL', '白米', '大可乐', '宝捷讯', '优语', '首云',\n",
              "       '瑞米', '瑞高', '沃普丰', '摩乐', '鲜米', '凯利通', '唯比', '欧沃', '丰米', '恒宇丰',\n",
              "       '奥克斯', '西门子', '欧乐迪', 'PPTV'], dtype=object)"
            ]
          },
          "metadata": {},
          "execution_count": 50
        }
      ]
    },
    {
      "cell_type": "markdown",
      "source": [
        "# Observation\n",
        "phone_brand have many chinese brand names and company provided equivalent english names are limited.<br>\n"
      ],
      "metadata": {
        "id": "3_qJshcaw_cC"
      },
      "id": "3_qJshcaw_cC"
    },
    {
      "cell_type": "markdown",
      "source": [
        "Brand Name\tBrand English Mapping<br><br>\n",
        "'华为'\t'Huawei'<br>\n",
        "'小米'\t'Xiaomi'<br>\n",
        "'三星'\t'Samsung'<br>\n",
        "'vivo'\t'vivo'<br>\n",
        "'OPPO'\t'OPPO'<br>\n",
        "'魅族'\t'Meizu'<br>\n",
        "'酷派'\t'Coolpad'<br>\n",
        "'乐视'\t'LeEco'<br>\n",
        "'联想 '\t'Lenovo'<br>\n",
        "'HTC'\t'HTC'<br><br>\n",
        "\n",
        "We shall check these brand names for Delhi only\n"
      ],
      "metadata": {
        "id": "YwIOSRIlxXy2"
      },
      "id": "YwIOSRIlxXy2"
    },
    {
      "cell_type": "code",
      "source": [
        "for i in df3['device_model'].unique():\n",
        "  print(i,end='   ')"
      ],
      "metadata": {
        "colab": {
          "base_uri": "https://localhost:8080/"
        },
        "id": "1dIUKjSGwfxp",
        "outputId": "2d0a2133-e347-4bc3-8720-ae4558fff048"
      },
      "id": "1dIUKjSGwfxp",
      "execution_count": 51,
      "outputs": [
        {
          "output_type": "stream",
          "name": "stdout",
          "text": [
            "Y13   V183   R7s   A368t   红米Note2   红米Note3   S5.1   Galaxy Grand Prime   MI 2S   Galaxy Note 2   R1C   大神F1Plus   note顶配版   Galaxy Mega 2   星星1号   Galaxy S4   MI 3   Find 7   C8816   红米note   X6 L   Galaxy Win   青春版   MX3   Y35   G520-5000   荣耀4A   魅蓝Note 2   Y560-CL00   荣耀7i   3000   荣耀畅玩4C   C730Lw   红米2A   A1   One   Galaxy J7   R3   MX2   荣耀畅玩5   荣耀7   MI 4   One M8   红米1S   麦芒4   Galaxy S6 Edge   A3800d   P780   Ascend G7   荣耀6   Xperia SL   Y17T   荣耀畅玩4X   Ascend P7   Galaxy Grand 2   荣耀3X畅玩版   荣耀X2   Ascend P8   R2017   魅蓝NOTE   Mate 2   M8   T87+   X710L   A890e   R7   X5M   MX5   Galaxy Mega 5.8   L81   Xperia Z1   荣耀6 Plus   X5Max+   Galaxy J5   Galaxy Note 4   A31   GN706L   G3   P8 Lite   Sensation XE with Beats Audio Z715e   A880   荣耀+   X5L   8720L   IVO 6655   R7 Plus   荣耀畅玩4   MX4   Y635-TL00   Galaxy S3   X3L   3   R807   黄金斗士A8   One X   小米note   R6007   Galaxy S2 Plus   R1   荣耀3C   小米4C   R823T   Mate 7   MI 2   F2   Galaxy S5   Xperia TX   Galaxy Trend DUOS 2   Z1   Y11IT   红米note增强版   天鉴W900   Ascend G700T   Galaxy Note 3   Galaxy R   F301   荣耀畅玩5X   N1 Mini   Find 5   红米2   X5Pro   X5V   A11   MI pad   Z7 Mini   Galaxy Note 5   MediaPad M2-801W   Galaxy Grand Neo Plus   Ascend GX1   R817   X3T   Galaxy E7   X817   GN700W   Y20T   A680   Y27   5891   大神F1   UIMI3   Compaq 7   G628   IVO 6622   B199   Galaxy Trend 3   X1ST   S7568I   C8818   Y622   魅蓝2   Mate 7 青春版   1107   Galaxy S2   乐檬K3 Note   Galaxy S4 Zoom   Galaxy Ace Dear   火星一号   乐檬K3   Ascend P1   R831T   M9   U9508   X5Max   2   X8888   联想黄金斗士S8   S60t   大神F2   Xplay3S   R1S   Y60-C1   Nexus 5   UIMI4   R809T   Q507T   Moto X Style   A788t   魅蓝   Y13iL   荣耀6 plus   G610S   N1T   X1 7.0   Y613F   Galaxy A7   N1   Y23L   大神F2全高清版   灵感XL   旗舰版   Y927   Z9 mini   X3S   Y15   R831S   R815T   R819T   Galaxy Core Prime   Butterfly   Galaxy Style DUOS   Xperia S   Galaxy Note 3 Lite   P6   S7   Galaxy S6   坚果手机   M210   S7I   A51   X907   红米   Y33   超级手机1 Pro   Galaxy Grand DUOS   Xperia Z5   G620-L75   畅享5   Xplay   MX4 Pro   Galaxy S6 Edge+   8185   G3588V   Y937   T528t   Galaxy A8   N3   G610T   S7T   V5 Max   MI One Plus   S90-t   Xperia Z3 mini   8105   7270-W00   M8St   Desire 820   A750   S898t   魅蓝metal   P970   Galaxy Mega 6.3   5890   Z9 Max   PRO5   X5SL   Y29L   E602T   GN150   8190Q   E620M   超级手机1   8702D   Galaxy Grand   Galaxy Note   U960E   Grand X   Xperia arc S   T708   X   T50   GN128   超级手机1s   L700T   Galaxy A5   F103S   5951   H1   A820   G7200   荣耀U8860   纽扣   LT01   Y11   Y635   荣耀畅玩平板T1   Xperia Neo   G7 Plus   Y13L   HT-I860   8056   EVO 3D X515m   红辣椒 X1   Galaxy A3   春雷HD   Galaxy S2 HD LTE E120S   L5Pro   ivvi 小i   荣耀畅玩4C运动版   麦芒3   Ascend G700   小鲜2   Nexus 4   R827T   G520-0000   Ascend P6   ELIFE E3T   大器2   5950   Q519T   Galaxy Tab P6800   A398t   锋尚   Z5S   Y511-T00   MI One C1   8085q   A3900   M4   L1 mini   V188S   大神X7   Grand X Quad   A320t   G2   Galaxy Core Advance   Y28L   Y22IL   小苹果   SHV-E210L   乐玩   F103   Y928   Galaxy Ace 3   R821T   大神Note3   MI 2A   Moto X   Y321C   Xperia Z2   I9118   8750   K860i   G730-C00   A708t   A670t   S658t   Galaxy On7   Desire 820 Mini   Galaxy Ace   T1   A33   603e   LT416   G11   S7568   T528w   6607   么么哒3N   8730L   M2   Y11IW   W2015   锋尚Pro   R830   ELIFE S5.5   Q505T   9190l   Galaxy Note Edge   Touch 2C   红辣椒   X3F   Y913   Galaxy Trend DUOS   Optimus G   7296   R5   M512   Galaxy On5   7105   Galaxy S3 Neo+   G520-T10   VIBE X   Mate 8   S1   MI 1S   5263   S2y   A369   Grand Memo 2   G750-T20   Y923   M032   R8205   A688t   荣耀3X   三星big foot   Touch 2   Galaxy Premier   Y37   U956   S810t   HN3-U01   S650   L128   IPH8   荣耀3C畅玩版   1100   S5830I   X6 Plus D   G606   B9388   Desire 826   A5800-D   Galaxy Core Lite   MI pad 2   A360t   SM-T705C   G4   ono   Find   Galaxy Core Max   ivvi 小骨Pro   A53   G718C   红辣椒XM   V5S   3007   D800   X6 Plus   S12   I779   Y1   远航3   My 布拉格   Y18L   Blade S6 Lux   H1S   GN715   metal 标准版   U879   Desire 7088   U930HD   Galaxy Note 10.1   G3818   畅享5S   U701   X6 D   MediaPad M2-803L   Blade A1   Galaxy Nexus   Desire 610t   Y19T   红辣椒Note   锋尚Max   Galaxy S L   2016版 Galaxy A9   Galaxy S3 Mini   GN152   Desire 816   VIBE X2   A516   S7898   红牛V5   Moto X Pro   Y13T   2016版 Galaxy A5   S11T   VIBE Z2   A7   7270   S6   Xperia C   7295   锋尚2   V4   M5   H5   R833T   Grand S 2   G510   C8817E   5263S   Y22L   S820   Y51   金钢   T329t   7298D   野火S   Galaxy J3   iPh-800   C8815   P335M   S5.5L   1105   8729   T328w   Xperia Z   W2014   Galaxy Mega Plus   G660-L075   5200S   Y613   Mate S   A298t   Galaxy Tab 3 8.0   T20L   U880F1   2016版 Galaxy A7   X8T   Two   N1 max   红米3   R820   小辣椒 X3   L920   One S   Ulike2   A376   8029   U707T   Galaxy Win Pro   Z5S Mini   ZenFone Max   E601M   GN708T   Xperia C3   I8268   Galaxy Tab 3 10.1   ZenFone 2   荣耀平板T1-823L   Y600D   S2L   Galaxy Tab 2 P3100   8122   Y518-T00   V819 3G   D2-M   A580   U3   S720   Xperia acro S   X3V   GN151   X6   5891Q   5956   P316L   :UOOGOUT1   Y516   C8816D   7269   Galaxy S7 Edge   U11   SOP M3   A828t   Y3T   大神Note   7295C   A850   U705T   A390   Galaxy Tab P3108   A789   E1T   A2800d   7295A青春版   MI 2C   M031   C8813   A199   795+   E6   802w   Xperia T   D500   5219   R813T   D350   8190   7231   A678t   Galaxy Note 8.0   A380t   A820t   7372   X1   E1   X1S   8195   MT1-U06   Y600-U00   S890   HS-U978   H7   Y320   Xperia P   Galaxy Ace 2   S920   Q705U   U817   T2   S9   V719   A356   EG939   A388t   R811   V1   L22   8720   S850t   S3+   V182   M100   P770   iSuper S2   A798t   T9   C8813Q   EG978   Galaxy S Advance   7620l   8702   MI 4S   8705   T29   Y17W   K68w   Xshot   Ascend G6   G730-T00   GN700T   大Q Note   P880   X50TS   M811   X68T   A390t   X6666   Y618-T00   ZenFone 5   IdeaTab A5000-E   Galaxy Ace Plus   M1   Galaxy Tab S T705C   Galaxy Tab 4 T231   G730-U00   U809   MI 5   V8   VIBE Z   XL   MOMO9   M310   Galaxy Core Mini   GN5001S   么么哒   Y330   小辣椒 M2   IVO 6600   黄金斗士Note8   Galaxy Trend 2   Mate   7295+   7320   U930   Y300   U7   A660   T3   P308L   U969   Xperia Z Ultra   T91   炫影S+   Galaxy Tab 7.0 Plus   M701   A658t   Moto G   P331M   P700i   N798+   7235   Galaxy S4 Active   E7   Xperia Z3   S720i   TAB 2 A7-30   P1   8085n   S5300   V987   Grand Memo   K1   L7   P520L   P700   Galaxy S4 Mini   风华3   Xperia SP   V70   MT2-C00   Xperia ion   7268   5892   G521   M6-M7   TALK 7X四核   i9   V889D   iSuper S1   7236   T9108   MM1101   L810   Xperia T2 Ultra   U960S3   Touch 3   7230   Galaxy Gio   U9815   8012   A630t   V818   Galaxy J1   Galaxy Fame   A800   T958   A820e   A278t   N1W   Y500   U960S   9976A   GN100   X805   8295M   C8817L   A505e   8198T   GN137   U51GT-W   K900   ME371MG   A520   J738M   A766   5860A   R9   S696   9180   S868t   TALK 9X   Optimus LTE   G615-U10   A830   Galaxy Core 4G   Y511-U00   V185   2016版 Galaxy J7   Y80D   天鉴T1   G716   Galaxy W   R830S   Y22   A850+   U795+   R8000   E5   GN9002   E6T   Galaxy J   5217   Z9   土星一号   W999   XT615   Y627   Vibe Z2 Pro   麦芒3S   8079   Q802T   W2013   BF T18   N910C   E912S   8295   L9   A770e   Q501U   SCH-I939   G6-U00   L1   E3   A698t   A765e   Xperia Z3+ Dual   A3000-H   Y623   G717C   飞马   T329d   T8620   S9T   3S   ivvi K1 mini   S5831I   联想VIBE X2   7296S   U966   A785e   T328t   T7   威武3   P8max   E70-T   E8   R9 Plus   P306C   One E8   Q503U   Galaxy S2 Epic 4G Touch   P9   201   Droid Ultra   T80   M812C   V955   3005   红辣椒任性版 Plus   L5 Plus   Galaxy Alpha   S938t   XT1060   U950   A2580   S899t   VS980   U980   C8650   S850   U2   Vibe Shot   Desire 626   X2   Z7 Max   Galaxy Mini   A750e   T619+   S7566   小辣椒 9   Galaxy Core 2   R805   GN305   C8812   A760   大观4   A399   超级手机Max   Galaxy K Zoom   R5s plus   P332U   N910U   星星2号   Blade S6   V956   雷霆战机   EG970   S5.1Pro   MI 1   X80HD   A858t   V526   Y628   G610C   R801   Y3100   Touch 3c   威武3C   F303   One max   5360   A560   8021   Galaxy Golden   I9050   7i   倾城L3   M20-T   E613M   G730-L075   Galaxy S Plus   8085   Z9 mini 精英版   小辣椒S1   8721   S686   S858t   P705   L8   小辣椒 5   G3609   E75T   Optimus G Pro   Galaxy Tab 3 Lite T111   R817T   T03锋至版   N909   乐玩2C   GN708W   C630Lw   VT898   One M9+   Nexus S   A7-30   S930   P70   C230w   Desire 616   7260   AxonMini   8712S   GT7   Galaxy Tab 4 T331C   One E9   么么哒3S   N1-Y   Y31   V5   乐檬K31   黄金斗士S8畅玩版   SM-T325   Galaxy Trend   IdeaTab A2207A-H   A318t   U807   XT910   A706   A330e   D520   K860   A8-50   SM-T2558   8295c   ELIFE E6 mini   A630   Grand Era   TL1000   Z5   S5000   C8813DQ   T9508   R2010   Q201T   N821   idol X   DROID RAZR   G6-C00   ELIFE E7 Mini   A5   Ascend D2   V967S   X5   GN168t   YOGA Tablet B6000   G3819D   Galaxy Tab 2 P5110   V6   Y320T   A288t   Touch V   时尚手机   A628t   OKU3   I8258   Galaxy Tab 3 7.0   Defy+   P301M   5872   V9   8732   8070   Galaxy Y   7060   S2   GT-I8160   T967   A3300-T   T5   Tab2 A7-10F   A308t   Galaxy Tab Pro T321   V975s Core4   Desire S   L168   R850   GN705T   7251   M601   U5482   S90-u   Xperia U   U880   D330   C986t   EV5   T528d   G630   A656   S660   T60   Y325   Q7   I95   8089   Galaxy S   5832   G525   Desire 310   EG966   V10   大神1s   GN135   S3   M10-M   A378t   A889   s820e   5860S   8076D   8017   Butterfly s   M6   Xperia ZR    608t   GN810   N986   Blade C   7019   N828   S880i   M030   G616-L076   A208t   GN139   VT898S   U939   Q301C   Galaxy Ace DUOS   A269i   GN878   One M8 Eye   A238t   VT868   A398t+   Q701C   TS1018   N818   T20   8707   S8-701u   Desire 5088   8017-T00   M8x   T327w   GN105   E600M   Xperia ZL   606w   MK260   memo 5S   Desire 609d   A3   Desire D516d   T8830Pro   HT-I717   A6800   I630T   T35   8713   Galaxy Tab S T800   E621T   Galaxy Grand Max   倾城L3C   t789   U701T   Nexus 7   5218S   L70   M3   Q302C   U8825D   V919   One ME   Galaxy Infinite   Y220T   IVO 6688   Y610-U00   5216D   小辣椒 4   T820   X920e   L820   S939   Xperia Z1 炫彩版   T9003   微客   T21   V95   A860e   V188   S8-701w   S5Q   One M9   voga v1   MM1103   M535   5261   i1   idol3   G5   S5   T12   A2860   黄金斗士青春版   P8   802d   红辣椒NX Plus   A51kc   T004   BF A500   T1-821w   Sensation Z710E   小鲜3   小星星   M5 Plus   Galaxy Note 10.1 2014 Edition P601   Galaxy S DUOS   A355e   A30   TL500   Z5 Mini   BM001   A690   A68e   W619   GN106   GT-N8000   EG971   N880F   J320T   EG936D   Desire D516t   T929   I8250   A338t   T327t   N881F   GN180   5316   5930   S880   MC002   U819   JX8166   A300t   8717   9976D   Desire D316d   A805e   KDOOR X5-Y12   大器3   S960   X7   Desire HD   E602M   H2   78P01   A588t   T619   8150   LT02   M1L   U8   8712   2C   M201S   T90   M20-M   SM-T2556   M3S   S6-NT1   A3600d   X98 3G   小辣椒 6   A606   Q801L   P318L   S860e   T9600   T890   Galaxy Tab P7500   金刚II   F105   L108   A768t   D557   W800   VIBE P1   L100   R2   中兴远航3   C03   Axon天机   OKA51   A385e   Galaxy Tab 2 P5100   N880E   MediaPad 10 Link   XT1033   EG980   210R   U86   Doeasy E700   Q501T   Y310-T10   Y310-5000   S6T   s800   GN108   K88L   U1   Z4   8076   5311   L930i   Xperia M2   P2   L820c   VT888   U81t   Xperia ZR   I630M   C8813D   青漾3   Xperia ray   GN9004   Galaxy Grand 2 LTE   5876   C8812+   D516w   D360   小辣椒 3   G629   P500M   GN800   N2   DM   I639T   PHAB Plus   Galaxy Tab 3 Lite T110   U968   Sonic+   P302C   Nexus 6P   7605   Y70-C   U808   T703   K23   旋影90w   V931   小辣椒 7   W700   H3   Tab2A7-20F   8736   Mos1   S8-50   5216s   W88   Ascend G330C   BM002   醉享   MAX3   L5 mini   渴望HD   A358t   N919D   5879   E913   V981   小辣椒 M3   Galaxy Tab S T805C   Desire V   I635T   E99   X6088   Optimus G Pro 2   A500   5310   7275   P501M   P518L   E260-T   U818   P502U   I900   U880S   飞马3   7061   BM002-G5   P360W   P21   E968   HT-I857   Y523-L176   领世旗舰3   K80   Galaxy Ace 4   L82   Moto X 3   小辣椒X4   V880   i600   U889   F320L   K012   U55GT   Xperia Z5 Premium   A375e   302U   T00G   L823   C666t   EG929   MediaPad M1   W6618   A590   a218t   E956Q   S300   A3500   E50-T   GN705   BM003   A780   D1   Q3C   A360e   P305   F1   LT988   5313S   红辣椒Note3   Galaxy S7   Xplay5   Desire 816x   S668t   T9608   IdeaTab A1010-T   W700+   5200   F240S   M15   T928   Q805T   U970   A396   S90-e   天鉴W808   J636D+   V923   T13   P51   X10i   E820   GN5002   G9   P9 Plus   A328t   8715   U880E   天鉴W900S   One A9   8722   V889M   T780+   N919   Galaxy Core   U793   L855   T9500   P3   大观铂顿   S560   Xperia J   A3890   G610M   魅蓝Note3   Hol-U10   Q509T   XT928   X18   A630e   MM1104   I7   A380e   A65   U25GT   Razr V锋芒   T6   IVO 6666   Z7   S8-303L   9300-M9   V983   G730-U30   V701s Core4   A366t   V965T   ME7510KG   W2016   One X9   T328d   YOGA Tablet B8000   A100   C986t+   ZenFone Selfie   火星一号探索版   P596   S838M   IdeaTab A1000-T   G309T   A780e   DROID RAZR M   VIBE X2 Pro   Moto X极   A395e   Gigaset ME   Ascend D1   Galaxy Tab P1000   Find 3   U960   G620-L72   T918   U936   I699I   E622M   X80h   B8080-F   魔镜 X5   Moto Turbo   A1020   T860   S870e   小章鱼   Z1988   X98 Air 3G   King 7   King 7s   T621   Y320C   M228-M51   I6   Galaxy S DUOS 2   乐檬3   T89-2   m310   H6   乐檬X3   飞马2 Plus   Galaxy Tab S T705   IVO 8800   U59GT   "
          ]
        }
      ]
    },
    {
      "cell_type": "markdown",
      "source": [
        "## Observation\n",
        "In device model, few names are in chinese. <br>\n",
        "No equivalent english names provided"
      ],
      "metadata": {
        "id": "4RBFxIa8zd3G"
      },
      "id": "4RBFxIa8zd3G"
    },
    {
      "cell_type": "code",
      "source": [
        "duplicate_in_df3 = df3.drop('Unnamed: 0',axis=1).duplicated()"
      ],
      "metadata": {
        "id": "LHEiX9hUzs4r"
      },
      "id": "LHEiX9hUzs4r",
      "execution_count": 52,
      "outputs": []
    },
    {
      "cell_type": "code",
      "source": [
        "df3.drop('Unnamed: 0',axis=1)[duplicate_in_df3]"
      ],
      "metadata": {
        "colab": {
          "base_uri": "https://localhost:8080/",
          "height": 49
        },
        "id": "E9ip5oZ6zzKL",
        "outputId": "1898cfb8-8a9a-4a97-cb9b-9d07066667c2"
      },
      "id": "E9ip5oZ6zzKL",
      "execution_count": 53,
      "outputs": [
        {
          "output_type": "execute_result",
          "data": {
            "text/plain": [
              "Empty DataFrame\n",
              "Columns: [device_id, phone_brand, device_model]\n",
              "Index: []"
            ],
            "text/html": [
              "\n",
              "  <div id=\"df-26790e1c-e6d5-47bc-bd83-d6f1c09489af\">\n",
              "    <div class=\"colab-df-container\">\n",
              "      <div>\n",
              "<style scoped>\n",
              "    .dataframe tbody tr th:only-of-type {\n",
              "        vertical-align: middle;\n",
              "    }\n",
              "\n",
              "    .dataframe tbody tr th {\n",
              "        vertical-align: top;\n",
              "    }\n",
              "\n",
              "    .dataframe thead th {\n",
              "        text-align: right;\n",
              "    }\n",
              "</style>\n",
              "<table border=\"1\" class=\"dataframe\">\n",
              "  <thead>\n",
              "    <tr style=\"text-align: right;\">\n",
              "      <th></th>\n",
              "      <th>device_id</th>\n",
              "      <th>phone_brand</th>\n",
              "      <th>device_model</th>\n",
              "    </tr>\n",
              "  </thead>\n",
              "  <tbody>\n",
              "  </tbody>\n",
              "</table>\n",
              "</div>\n",
              "      <button class=\"colab-df-convert\" onclick=\"convertToInteractive('df-26790e1c-e6d5-47bc-bd83-d6f1c09489af')\"\n",
              "              title=\"Convert this dataframe to an interactive table.\"\n",
              "              style=\"display:none;\">\n",
              "        \n",
              "  <svg xmlns=\"http://www.w3.org/2000/svg\" height=\"24px\"viewBox=\"0 0 24 24\"\n",
              "       width=\"24px\">\n",
              "    <path d=\"M0 0h24v24H0V0z\" fill=\"none\"/>\n",
              "    <path d=\"M18.56 5.44l.94 2.06.94-2.06 2.06-.94-2.06-.94-.94-2.06-.94 2.06-2.06.94zm-11 1L8.5 8.5l.94-2.06 2.06-.94-2.06-.94L8.5 2.5l-.94 2.06-2.06.94zm10 10l.94 2.06.94-2.06 2.06-.94-2.06-.94-.94-2.06-.94 2.06-2.06.94z\"/><path d=\"M17.41 7.96l-1.37-1.37c-.4-.4-.92-.59-1.43-.59-.52 0-1.04.2-1.43.59L10.3 9.45l-7.72 7.72c-.78.78-.78 2.05 0 2.83L4 21.41c.39.39.9.59 1.41.59.51 0 1.02-.2 1.41-.59l7.78-7.78 2.81-2.81c.8-.78.8-2.07 0-2.86zM5.41 20L4 18.59l7.72-7.72 1.47 1.35L5.41 20z\"/>\n",
              "  </svg>\n",
              "      </button>\n",
              "      \n",
              "  <style>\n",
              "    .colab-df-container {\n",
              "      display:flex;\n",
              "      flex-wrap:wrap;\n",
              "      gap: 12px;\n",
              "    }\n",
              "\n",
              "    .colab-df-convert {\n",
              "      background-color: #E8F0FE;\n",
              "      border: none;\n",
              "      border-radius: 50%;\n",
              "      cursor: pointer;\n",
              "      display: none;\n",
              "      fill: #1967D2;\n",
              "      height: 32px;\n",
              "      padding: 0 0 0 0;\n",
              "      width: 32px;\n",
              "    }\n",
              "\n",
              "    .colab-df-convert:hover {\n",
              "      background-color: #E2EBFA;\n",
              "      box-shadow: 0px 1px 2px rgba(60, 64, 67, 0.3), 0px 1px 3px 1px rgba(60, 64, 67, 0.15);\n",
              "      fill: #174EA6;\n",
              "    }\n",
              "\n",
              "    [theme=dark] .colab-df-convert {\n",
              "      background-color: #3B4455;\n",
              "      fill: #D2E3FC;\n",
              "    }\n",
              "\n",
              "    [theme=dark] .colab-df-convert:hover {\n",
              "      background-color: #434B5C;\n",
              "      box-shadow: 0px 1px 3px 1px rgba(0, 0, 0, 0.15);\n",
              "      filter: drop-shadow(0px 1px 2px rgba(0, 0, 0, 0.3));\n",
              "      fill: #FFFFFF;\n",
              "    }\n",
              "  </style>\n",
              "\n",
              "      <script>\n",
              "        const buttonEl =\n",
              "          document.querySelector('#df-26790e1c-e6d5-47bc-bd83-d6f1c09489af button.colab-df-convert');\n",
              "        buttonEl.style.display =\n",
              "          google.colab.kernel.accessAllowed ? 'block' : 'none';\n",
              "\n",
              "        async function convertToInteractive(key) {\n",
              "          const element = document.querySelector('#df-26790e1c-e6d5-47bc-bd83-d6f1c09489af');\n",
              "          const dataTable =\n",
              "            await google.colab.kernel.invokeFunction('convertToInteractive',\n",
              "                                                     [key], {});\n",
              "          if (!dataTable) return;\n",
              "\n",
              "          const docLinkHtml = 'Like what you see? Visit the ' +\n",
              "            '<a target=\"_blank\" href=https://colab.research.google.com/notebooks/data_table.ipynb>data table notebook</a>'\n",
              "            + ' to learn more about interactive tables.';\n",
              "          element.innerHTML = '';\n",
              "          dataTable['output_type'] = 'display_data';\n",
              "          await google.colab.output.renderOutput(dataTable, element);\n",
              "          const docLink = document.createElement('div');\n",
              "          docLink.innerHTML = docLinkHtml;\n",
              "          element.appendChild(docLink);\n",
              "        }\n",
              "      </script>\n",
              "    </div>\n",
              "  </div>\n",
              "  "
            ]
          },
          "metadata": {},
          "execution_count": 53
        }
      ]
    },
    {
      "cell_type": "markdown",
      "source": [
        "No Duplicate values present"
      ],
      "metadata": {
        "id": "wCKx6MbH0ppx"
      },
      "id": "wCKx6MbH0ppx"
    },
    {
      "cell_type": "code",
      "source": [
        "# id = []\n",
        "# miss = []\n",
        "# for i in df2['device_id'].unique():\n",
        "#   if i in df['device_id'].unique():\n",
        "#     id.append(i)\n",
        "#   else:\n",
        "#     miss.append(i)"
      ],
      "metadata": {
        "colab": {
          "base_uri": "https://localhost:8080/",
          "height": 380
        },
        "id": "2SqWmyJ60Fbp",
        "outputId": "655eefbe-a531-43b8-e291-5244234be9e3"
      },
      "id": "2SqWmyJ60Fbp",
      "execution_count": 54,
      "outputs": [
        {
          "output_type": "error",
          "ename": "KeyboardInterrupt",
          "evalue": "ignored",
          "traceback": [
            "\u001b[0;31m---------------------------------------------------------------------------\u001b[0m",
            "\u001b[0;31mKeyboardInterrupt\u001b[0m                         Traceback (most recent call last)",
            "\u001b[0;32m<ipython-input-54-3ecccb41d553>\u001b[0m in \u001b[0;36m<module>\u001b[0;34m()\u001b[0m\n\u001b[1;32m      2\u001b[0m \u001b[0mmiss\u001b[0m \u001b[0;34m=\u001b[0m \u001b[0;34m[\u001b[0m\u001b[0;34m]\u001b[0m\u001b[0;34m\u001b[0m\u001b[0;34m\u001b[0m\u001b[0m\n\u001b[1;32m      3\u001b[0m \u001b[0;32mfor\u001b[0m \u001b[0mi\u001b[0m \u001b[0;32min\u001b[0m \u001b[0mdf2\u001b[0m\u001b[0;34m[\u001b[0m\u001b[0;34m'device_id'\u001b[0m\u001b[0;34m]\u001b[0m\u001b[0;34m.\u001b[0m\u001b[0munique\u001b[0m\u001b[0;34m(\u001b[0m\u001b[0;34m)\u001b[0m\u001b[0;34m:\u001b[0m\u001b[0;34m\u001b[0m\u001b[0;34m\u001b[0m\u001b[0m\n\u001b[0;32m----> 4\u001b[0;31m   \u001b[0;32mif\u001b[0m \u001b[0mi\u001b[0m \u001b[0;32min\u001b[0m \u001b[0mdf\u001b[0m\u001b[0;34m[\u001b[0m\u001b[0;34m'device_id'\u001b[0m\u001b[0;34m]\u001b[0m\u001b[0;34m.\u001b[0m\u001b[0munique\u001b[0m\u001b[0;34m(\u001b[0m\u001b[0;34m)\u001b[0m\u001b[0;34m:\u001b[0m\u001b[0;34m\u001b[0m\u001b[0;34m\u001b[0m\u001b[0m\n\u001b[0m\u001b[1;32m      5\u001b[0m     \u001b[0mid\u001b[0m\u001b[0;34m.\u001b[0m\u001b[0mappend\u001b[0m\u001b[0;34m(\u001b[0m\u001b[0mi\u001b[0m\u001b[0;34m)\u001b[0m\u001b[0;34m\u001b[0m\u001b[0;34m\u001b[0m\u001b[0m\n\u001b[1;32m      6\u001b[0m   \u001b[0;32melse\u001b[0m\u001b[0;34m:\u001b[0m\u001b[0;34m\u001b[0m\u001b[0;34m\u001b[0m\u001b[0m\n",
            "\u001b[0;32m/usr/local/lib/python3.7/dist-packages/pandas/core/series.py\u001b[0m in \u001b[0;36munique\u001b[0;34m(self)\u001b[0m\n\u001b[1;32m   2037\u001b[0m         \u001b[0mCategories\u001b[0m \u001b[0;34m(\u001b[0m\u001b[0;36m3\u001b[0m\u001b[0;34m,\u001b[0m \u001b[0mobject\u001b[0m\u001b[0;34m)\u001b[0m\u001b[0;34m:\u001b[0m \u001b[0;34m[\u001b[0m\u001b[0;34m'a'\u001b[0m \u001b[0;34m<\u001b[0m \u001b[0;34m'b'\u001b[0m \u001b[0;34m<\u001b[0m \u001b[0;34m'c'\u001b[0m\u001b[0;34m]\u001b[0m\u001b[0;34m\u001b[0m\u001b[0;34m\u001b[0m\u001b[0m\n\u001b[1;32m   2038\u001b[0m         \"\"\"\n\u001b[0;32m-> 2039\u001b[0;31m         \u001b[0;32mreturn\u001b[0m \u001b[0msuper\u001b[0m\u001b[0;34m(\u001b[0m\u001b[0;34m)\u001b[0m\u001b[0;34m.\u001b[0m\u001b[0munique\u001b[0m\u001b[0;34m(\u001b[0m\u001b[0;34m)\u001b[0m\u001b[0;34m\u001b[0m\u001b[0;34m\u001b[0m\u001b[0m\n\u001b[0m\u001b[1;32m   2040\u001b[0m \u001b[0;34m\u001b[0m\u001b[0m\n\u001b[1;32m   2041\u001b[0m     \u001b[0;34m@\u001b[0m\u001b[0moverload\u001b[0m\u001b[0;34m\u001b[0m\u001b[0;34m\u001b[0m\u001b[0m\n",
            "\u001b[0;32m/usr/local/lib/python3.7/dist-packages/pandas/core/base.py\u001b[0m in \u001b[0;36munique\u001b[0;34m(self)\u001b[0m\n\u001b[1;32m    977\u001b[0m                     \u001b[0mresult\u001b[0m \u001b[0;34m=\u001b[0m \u001b[0mnp\u001b[0m\u001b[0;34m.\u001b[0m\u001b[0masarray\u001b[0m\u001b[0;34m(\u001b[0m\u001b[0mresult\u001b[0m\u001b[0;34m)\u001b[0m\u001b[0;34m\u001b[0m\u001b[0;34m\u001b[0m\u001b[0m\n\u001b[1;32m    978\u001b[0m         \u001b[0;32melse\u001b[0m\u001b[0;34m:\u001b[0m\u001b[0;34m\u001b[0m\u001b[0;34m\u001b[0m\u001b[0m\n\u001b[0;32m--> 979\u001b[0;31m             \u001b[0mresult\u001b[0m \u001b[0;34m=\u001b[0m \u001b[0munique1d\u001b[0m\u001b[0;34m(\u001b[0m\u001b[0mvalues\u001b[0m\u001b[0;34m)\u001b[0m\u001b[0;34m\u001b[0m\u001b[0;34m\u001b[0m\u001b[0m\n\u001b[0m\u001b[1;32m    980\u001b[0m \u001b[0;34m\u001b[0m\u001b[0m\n\u001b[1;32m    981\u001b[0m         \u001b[0;32mreturn\u001b[0m \u001b[0mresult\u001b[0m\u001b[0;34m\u001b[0m\u001b[0;34m\u001b[0m\u001b[0m\n",
            "\u001b[0;32m/usr/local/lib/python3.7/dist-packages/pandas/core/algorithms.py\u001b[0m in \u001b[0;36munique\u001b[0;34m(values)\u001b[0m\n\u001b[1;32m    429\u001b[0m \u001b[0;34m\u001b[0m\u001b[0m\n\u001b[1;32m    430\u001b[0m     \u001b[0mtable\u001b[0m \u001b[0;34m=\u001b[0m \u001b[0mhtable\u001b[0m\u001b[0;34m(\u001b[0m\u001b[0mlen\u001b[0m\u001b[0;34m(\u001b[0m\u001b[0mvalues\u001b[0m\u001b[0;34m)\u001b[0m\u001b[0;34m)\u001b[0m\u001b[0;34m\u001b[0m\u001b[0;34m\u001b[0m\u001b[0m\n\u001b[0;32m--> 431\u001b[0;31m     \u001b[0muniques\u001b[0m \u001b[0;34m=\u001b[0m \u001b[0mtable\u001b[0m\u001b[0;34m.\u001b[0m\u001b[0munique\u001b[0m\u001b[0;34m(\u001b[0m\u001b[0mvalues\u001b[0m\u001b[0;34m)\u001b[0m\u001b[0;34m\u001b[0m\u001b[0;34m\u001b[0m\u001b[0m\n\u001b[0m\u001b[1;32m    432\u001b[0m     \u001b[0muniques\u001b[0m \u001b[0;34m=\u001b[0m \u001b[0m_reconstruct_data\u001b[0m\u001b[0;34m(\u001b[0m\u001b[0muniques\u001b[0m\u001b[0;34m,\u001b[0m \u001b[0moriginal\u001b[0m\u001b[0;34m.\u001b[0m\u001b[0mdtype\u001b[0m\u001b[0;34m,\u001b[0m \u001b[0moriginal\u001b[0m\u001b[0;34m)\u001b[0m\u001b[0;34m\u001b[0m\u001b[0;34m\u001b[0m\u001b[0m\n\u001b[1;32m    433\u001b[0m     \u001b[0;32mreturn\u001b[0m \u001b[0muniques\u001b[0m\u001b[0;34m\u001b[0m\u001b[0;34m\u001b[0m\u001b[0m\n",
            "\u001b[0;31mKeyboardInterrupt\u001b[0m: "
          ]
        }
      ]
    },
    {
      "cell_type": "code",
      "source": [
        "# df2.drop('Unnamed: 0',axis=1,inplace=True)"
      ],
      "metadata": {
        "id": "zWZEXk4J7-As"
      },
      "id": "zWZEXk4J7-As",
      "execution_count": 55,
      "outputs": []
    },
    {
      "cell_type": "code",
      "source": [
        "# merge all tables by performing outer join between events, gender and phone brand\n",
        "merged_1 = df.merge(df2.drop('Unnamed: 0',axis=1), how = \"left\", on = \"device_id\")\n",
        "# .merge(phonebrand_device_model_df,how = \"outer\", on = \"device_id\",suffixes=('_left', '_right'))\n"
      ],
      "metadata": {
        "id": "oIBUNdbm490a"
      },
      "id": "oIBUNdbm490a",
      "execution_count": 59,
      "outputs": []
    },
    {
      "cell_type": "code",
      "source": [
        "merged_1.head()"
      ],
      "metadata": {
        "id": "FM6tW_Jt7oar",
        "outputId": "d9a5f05b-84f4-4ce9-a9ab-7b7d20e3fa3c",
        "colab": {
          "base_uri": "https://localhost:8080/",
          "height": 206
        }
      },
      "id": "FM6tW_Jt7oar",
      "execution_count": 60,
      "outputs": [
        {
          "output_type": "execute_result",
          "data": {
            "text/plain": [
              "   event_id     device_id            timestamp  longitude   latitude  \\\n",
              "0   2765368  2.973348e+18  2016-05-07 22:52:05  77.225676  28.730140   \n",
              "1   2955066  4.734221e+18  2016-05-01 20:44:16  88.388361  22.660325   \n",
              "2    605968 -3.264500e+18  2016-05-02 14:23:04  77.256809  28.757906   \n",
              "3    448114  5.731369e+18  2016-05-03 13:21:16  80.343613  13.153332   \n",
              "4    665740  3.388880e+17  2016-05-06 03:51:05  85.997745  23.842609   \n",
              "\n",
              "       city       state gender   age   group  \n",
              "0     Delhi       Delhi      M  35.0  M32-38  \n",
              "1  Calcutta  WestBengal    NaN   NaN     NaN  \n",
              "2     Delhi       Delhi    NaN   NaN     NaN  \n",
              "3   Chennai   TamilNadu    NaN   NaN     NaN  \n",
              "4    Bokaro   Jharkhand    NaN   NaN     NaN  "
            ],
            "text/html": [
              "\n",
              "  <div id=\"df-8e107427-0cdc-40e6-9673-b39e5f7a3874\">\n",
              "    <div class=\"colab-df-container\">\n",
              "      <div>\n",
              "<style scoped>\n",
              "    .dataframe tbody tr th:only-of-type {\n",
              "        vertical-align: middle;\n",
              "    }\n",
              "\n",
              "    .dataframe tbody tr th {\n",
              "        vertical-align: top;\n",
              "    }\n",
              "\n",
              "    .dataframe thead th {\n",
              "        text-align: right;\n",
              "    }\n",
              "</style>\n",
              "<table border=\"1\" class=\"dataframe\">\n",
              "  <thead>\n",
              "    <tr style=\"text-align: right;\">\n",
              "      <th></th>\n",
              "      <th>event_id</th>\n",
              "      <th>device_id</th>\n",
              "      <th>timestamp</th>\n",
              "      <th>longitude</th>\n",
              "      <th>latitude</th>\n",
              "      <th>city</th>\n",
              "      <th>state</th>\n",
              "      <th>gender</th>\n",
              "      <th>age</th>\n",
              "      <th>group</th>\n",
              "    </tr>\n",
              "  </thead>\n",
              "  <tbody>\n",
              "    <tr>\n",
              "      <th>0</th>\n",
              "      <td>2765368</td>\n",
              "      <td>2.973348e+18</td>\n",
              "      <td>2016-05-07 22:52:05</td>\n",
              "      <td>77.225676</td>\n",
              "      <td>28.730140</td>\n",
              "      <td>Delhi</td>\n",
              "      <td>Delhi</td>\n",
              "      <td>M</td>\n",
              "      <td>35.0</td>\n",
              "      <td>M32-38</td>\n",
              "    </tr>\n",
              "    <tr>\n",
              "      <th>1</th>\n",
              "      <td>2955066</td>\n",
              "      <td>4.734221e+18</td>\n",
              "      <td>2016-05-01 20:44:16</td>\n",
              "      <td>88.388361</td>\n",
              "      <td>22.660325</td>\n",
              "      <td>Calcutta</td>\n",
              "      <td>WestBengal</td>\n",
              "      <td>NaN</td>\n",
              "      <td>NaN</td>\n",
              "      <td>NaN</td>\n",
              "    </tr>\n",
              "    <tr>\n",
              "      <th>2</th>\n",
              "      <td>605968</td>\n",
              "      <td>-3.264500e+18</td>\n",
              "      <td>2016-05-02 14:23:04</td>\n",
              "      <td>77.256809</td>\n",
              "      <td>28.757906</td>\n",
              "      <td>Delhi</td>\n",
              "      <td>Delhi</td>\n",
              "      <td>NaN</td>\n",
              "      <td>NaN</td>\n",
              "      <td>NaN</td>\n",
              "    </tr>\n",
              "    <tr>\n",
              "      <th>3</th>\n",
              "      <td>448114</td>\n",
              "      <td>5.731369e+18</td>\n",
              "      <td>2016-05-03 13:21:16</td>\n",
              "      <td>80.343613</td>\n",
              "      <td>13.153332</td>\n",
              "      <td>Chennai</td>\n",
              "      <td>TamilNadu</td>\n",
              "      <td>NaN</td>\n",
              "      <td>NaN</td>\n",
              "      <td>NaN</td>\n",
              "    </tr>\n",
              "    <tr>\n",
              "      <th>4</th>\n",
              "      <td>665740</td>\n",
              "      <td>3.388880e+17</td>\n",
              "      <td>2016-05-06 03:51:05</td>\n",
              "      <td>85.997745</td>\n",
              "      <td>23.842609</td>\n",
              "      <td>Bokaro</td>\n",
              "      <td>Jharkhand</td>\n",
              "      <td>NaN</td>\n",
              "      <td>NaN</td>\n",
              "      <td>NaN</td>\n",
              "    </tr>\n",
              "  </tbody>\n",
              "</table>\n",
              "</div>\n",
              "      <button class=\"colab-df-convert\" onclick=\"convertToInteractive('df-8e107427-0cdc-40e6-9673-b39e5f7a3874')\"\n",
              "              title=\"Convert this dataframe to an interactive table.\"\n",
              "              style=\"display:none;\">\n",
              "        \n",
              "  <svg xmlns=\"http://www.w3.org/2000/svg\" height=\"24px\"viewBox=\"0 0 24 24\"\n",
              "       width=\"24px\">\n",
              "    <path d=\"M0 0h24v24H0V0z\" fill=\"none\"/>\n",
              "    <path d=\"M18.56 5.44l.94 2.06.94-2.06 2.06-.94-2.06-.94-.94-2.06-.94 2.06-2.06.94zm-11 1L8.5 8.5l.94-2.06 2.06-.94-2.06-.94L8.5 2.5l-.94 2.06-2.06.94zm10 10l.94 2.06.94-2.06 2.06-.94-2.06-.94-.94-2.06-.94 2.06-2.06.94z\"/><path d=\"M17.41 7.96l-1.37-1.37c-.4-.4-.92-.59-1.43-.59-.52 0-1.04.2-1.43.59L10.3 9.45l-7.72 7.72c-.78.78-.78 2.05 0 2.83L4 21.41c.39.39.9.59 1.41.59.51 0 1.02-.2 1.41-.59l7.78-7.78 2.81-2.81c.8-.78.8-2.07 0-2.86zM5.41 20L4 18.59l7.72-7.72 1.47 1.35L5.41 20z\"/>\n",
              "  </svg>\n",
              "      </button>\n",
              "      \n",
              "  <style>\n",
              "    .colab-df-container {\n",
              "      display:flex;\n",
              "      flex-wrap:wrap;\n",
              "      gap: 12px;\n",
              "    }\n",
              "\n",
              "    .colab-df-convert {\n",
              "      background-color: #E8F0FE;\n",
              "      border: none;\n",
              "      border-radius: 50%;\n",
              "      cursor: pointer;\n",
              "      display: none;\n",
              "      fill: #1967D2;\n",
              "      height: 32px;\n",
              "      padding: 0 0 0 0;\n",
              "      width: 32px;\n",
              "    }\n",
              "\n",
              "    .colab-df-convert:hover {\n",
              "      background-color: #E2EBFA;\n",
              "      box-shadow: 0px 1px 2px rgba(60, 64, 67, 0.3), 0px 1px 3px 1px rgba(60, 64, 67, 0.15);\n",
              "      fill: #174EA6;\n",
              "    }\n",
              "\n",
              "    [theme=dark] .colab-df-convert {\n",
              "      background-color: #3B4455;\n",
              "      fill: #D2E3FC;\n",
              "    }\n",
              "\n",
              "    [theme=dark] .colab-df-convert:hover {\n",
              "      background-color: #434B5C;\n",
              "      box-shadow: 0px 1px 3px 1px rgba(0, 0, 0, 0.15);\n",
              "      filter: drop-shadow(0px 1px 2px rgba(0, 0, 0, 0.3));\n",
              "      fill: #FFFFFF;\n",
              "    }\n",
              "  </style>\n",
              "\n",
              "      <script>\n",
              "        const buttonEl =\n",
              "          document.querySelector('#df-8e107427-0cdc-40e6-9673-b39e5f7a3874 button.colab-df-convert');\n",
              "        buttonEl.style.display =\n",
              "          google.colab.kernel.accessAllowed ? 'block' : 'none';\n",
              "\n",
              "        async function convertToInteractive(key) {\n",
              "          const element = document.querySelector('#df-8e107427-0cdc-40e6-9673-b39e5f7a3874');\n",
              "          const dataTable =\n",
              "            await google.colab.kernel.invokeFunction('convertToInteractive',\n",
              "                                                     [key], {});\n",
              "          if (!dataTable) return;\n",
              "\n",
              "          const docLinkHtml = 'Like what you see? Visit the ' +\n",
              "            '<a target=\"_blank\" href=https://colab.research.google.com/notebooks/data_table.ipynb>data table notebook</a>'\n",
              "            + ' to learn more about interactive tables.';\n",
              "          element.innerHTML = '';\n",
              "          dataTable['output_type'] = 'display_data';\n",
              "          await google.colab.output.renderOutput(dataTable, element);\n",
              "          const docLink = document.createElement('div');\n",
              "          docLink.innerHTML = docLinkHtml;\n",
              "          element.appendChild(docLink);\n",
              "        }\n",
              "      </script>\n",
              "    </div>\n",
              "  </div>\n",
              "  "
            ]
          },
          "metadata": {},
          "execution_count": 60
        }
      ]
    },
    {
      "cell_type": "code",
      "source": [
        "merged_1.shape"
      ],
      "metadata": {
        "id": "DupLwWv-7qwb",
        "outputId": "57e4910d-ee3f-427e-e9a6-757e15e01e6c",
        "colab": {
          "base_uri": "https://localhost:8080/"
        }
      },
      "id": "DupLwWv-7qwb",
      "execution_count": 62,
      "outputs": [
        {
          "output_type": "execute_result",
          "data": {
            "text/plain": [
              "(3252950, 10)"
            ]
          },
          "metadata": {},
          "execution_count": 62
        }
      ]
    },
    {
      "cell_type": "code",
      "source": [
        "merged_1.isna().sum()"
      ],
      "metadata": {
        "id": "yHfPEQGn-fka",
        "outputId": "0a3dd2d3-4283-4aa3-8900-feeab53e6825",
        "colab": {
          "base_uri": "https://localhost:8080/"
        }
      },
      "id": "yHfPEQGn-fka",
      "execution_count": 63,
      "outputs": [
        {
          "output_type": "execute_result",
          "data": {
            "text/plain": [
              "event_id           0\n",
              "device_id        453\n",
              "timestamp          0\n",
              "longitude        423\n",
              "latitude         423\n",
              "city               0\n",
              "state            377\n",
              "gender       3235968\n",
              "age          3235968\n",
              "group        3235968\n",
              "dtype: int64"
            ]
          },
          "metadata": {},
          "execution_count": 63
        }
      ]
    },
    {
      "cell_type": "code",
      "source": [
        "df.nunique()"
      ],
      "metadata": {
        "id": "ZdAkgdgR88hS",
        "outputId": "95e93ecb-18d0-466a-88df-6d68f8b13807",
        "colab": {
          "base_uri": "https://localhost:8080/"
        }
      },
      "id": "ZdAkgdgR88hS",
      "execution_count": 64,
      "outputs": [
        {
          "output_type": "execute_result",
          "data": {
            "text/plain": [
              "event_id     3252950\n",
              "device_id      60865\n",
              "timestamp     588126\n",
              "longitude      60095\n",
              "latitude       60177\n",
              "city             933\n",
              "state             32\n",
              "dtype: int64"
            ]
          },
          "metadata": {},
          "execution_count": 64
        }
      ]
    },
    {
      "cell_type": "code",
      "source": [
        "df2.nunique()"
      ],
      "metadata": {
        "id": "A_gtt8Ub9E2m",
        "outputId": "5256cf03-41de-4f59-97c7-00872238a6b5",
        "colab": {
          "base_uri": "https://localhost:8080/"
        }
      },
      "id": "A_gtt8Ub9E2m",
      "execution_count": 65,
      "outputs": [
        {
          "output_type": "execute_result",
          "data": {
            "text/plain": [
              "Unnamed: 0    74645\n",
              "device_id     74645\n",
              "gender            2\n",
              "age              85\n",
              "group            12\n",
              "dtype: int64"
            ]
          },
          "metadata": {},
          "execution_count": 65
        }
      ]
    },
    {
      "cell_type": "code",
      "source": [
        "merged_1.nunique()"
      ],
      "metadata": {
        "id": "lLZ3HoMy8rt-",
        "outputId": "7a66ff24-0be9-4231-c0d3-2f76488d1f3f",
        "colab": {
          "base_uri": "https://localhost:8080/"
        }
      },
      "id": "lLZ3HoMy8rt-",
      "execution_count": 66,
      "outputs": [
        {
          "output_type": "execute_result",
          "data": {
            "text/plain": [
              "event_id     3252950\n",
              "device_id      60865\n",
              "timestamp     588126\n",
              "longitude      60095\n",
              "latitude       60177\n",
              "city             933\n",
              "state             32\n",
              "gender             2\n",
              "age               51\n",
              "group             12\n",
              "dtype: int64"
            ]
          },
          "metadata": {},
          "execution_count": 66
        }
      ]
    },
    {
      "cell_type": "code",
      "source": [
        "merged_2 = merged_1.merge(df3.drop('Unnamed: 0',axis=1), how = \"left\", on = \"device_id\")"
      ],
      "metadata": {
        "id": "8vSKG5vy8YMa"
      },
      "id": "8vSKG5vy8YMa",
      "execution_count": 67,
      "outputs": []
    },
    {
      "cell_type": "code",
      "source": [
        "merged_2.nunique()"
      ],
      "metadata": {
        "id": "8pbWvm3aAL32",
        "outputId": "6a30fa12-aa3f-4165-f720-4b1ad5f58156",
        "colab": {
          "base_uri": "https://localhost:8080/"
        }
      },
      "id": "8pbWvm3aAL32",
      "execution_count": 68,
      "outputs": [
        {
          "output_type": "execute_result",
          "data": {
            "text/plain": [
              "event_id        3252950\n",
              "device_id         60865\n",
              "timestamp        588126\n",
              "longitude         60095\n",
              "latitude          60177\n",
              "city                933\n",
              "state                32\n",
              "gender                2\n",
              "age                  51\n",
              "group                12\n",
              "phone_brand          26\n",
              "device_model        191\n",
              "dtype: int64"
            ]
          },
          "metadata": {},
          "execution_count": 68
        }
      ]
    },
    {
      "cell_type": "code",
      "source": [
        "merged_2.isna().sum()"
      ],
      "metadata": {
        "id": "SXQkz5bbAO1t",
        "outputId": "81da3bdd-929c-4a1b-a540-6a1da0970582",
        "colab": {
          "base_uri": "https://localhost:8080/"
        }
      },
      "id": "SXQkz5bbAO1t",
      "execution_count": 69,
      "outputs": [
        {
          "output_type": "execute_result",
          "data": {
            "text/plain": [
              "event_id              0\n",
              "device_id           453\n",
              "timestamp             0\n",
              "longitude           423\n",
              "latitude            423\n",
              "city                  0\n",
              "state               377\n",
              "gender          3235968\n",
              "age             3235968\n",
              "group           3235968\n",
              "phone_brand     3235968\n",
              "device_model    3235968\n",
              "dtype: int64"
            ]
          },
          "metadata": {},
          "execution_count": 69
        }
      ]
    },
    {
      "cell_type": "code",
      "source": [
        "merged_df_df2 = df.merge(df2.drop('Unnamed: 0',axis=1), how = \"inner\", on = \"device_id\")"
      ],
      "metadata": {
        "id": "yxAVh7EDE8nW"
      },
      "id": "yxAVh7EDE8nW",
      "execution_count": 71,
      "outputs": []
    },
    {
      "cell_type": "code",
      "source": [
        "merged_df_df2.nunique()"
      ],
      "metadata": {
        "id": "ZwQr6EQLJWYc",
        "outputId": "8585ffba-865b-4038-b7d0-8231a3a4abb1",
        "colab": {
          "base_uri": "https://localhost:8080/"
        }
      },
      "id": "ZwQr6EQLJWYc",
      "execution_count": 72,
      "outputs": [
        {
          "output_type": "execute_result",
          "data": {
            "text/plain": [
              "event_id     16982\n",
              "device_id      406\n",
              "timestamp    16553\n",
              "longitude      406\n",
              "latitude       406\n",
              "city           197\n",
              "state           26\n",
              "gender           2\n",
              "age             51\n",
              "group           12\n",
              "dtype: int64"
            ]
          },
          "metadata": {},
          "execution_count": 72
        }
      ]
    },
    {
      "cell_type": "code",
      "source": [
        "merged_df_df3 = df.merge(df3.drop('Unnamed: 0',axis=1), how = \"inner\", on = \"device_id\")"
      ],
      "metadata": {
        "id": "rdHhzRGhJY75"
      },
      "id": "rdHhzRGhJY75",
      "execution_count": 73,
      "outputs": []
    },
    {
      "cell_type": "code",
      "source": [
        "df[df['state']=='Delhi'].nunique()"
      ],
      "metadata": {
        "id": "PhoIpqZtJm9L",
        "outputId": "7cf43a2e-df80-4bfa-de9c-f950bd3c78bc",
        "colab": {
          "base_uri": "https://localhost:8080/"
        }
      },
      "id": "PhoIpqZtJm9L",
      "execution_count": 74,
      "outputs": [
        {
          "output_type": "execute_result",
          "data": {
            "text/plain": [
              "event_id     751733\n",
              "device_id      4909\n",
              "timestamp    412084\n",
              "longitude      4795\n",
              "latitude       4789\n",
              "city             10\n",
              "state             1\n",
              "dtype: int64"
            ]
          },
          "metadata": {},
          "execution_count": 74
        }
      ]
    },
    {
      "cell_type": "code",
      "source": [
        "merged_df_df3.nunique()"
      ],
      "metadata": {
        "id": "2kaH5L3PJ2kr",
        "outputId": "004c8f4b-aa77-48c2-e385-61892c4f045e",
        "colab": {
          "base_uri": "https://localhost:8080/"
        }
      },
      "id": "2kaH5L3PJ2kr",
      "execution_count": 75,
      "outputs": [
        {
          "output_type": "execute_result",
          "data": {
            "text/plain": [
              "event_id        16982\n",
              "device_id         406\n",
              "timestamp       16553\n",
              "longitude         406\n",
              "latitude          406\n",
              "city              197\n",
              "state              26\n",
              "phone_brand        26\n",
              "device_model      191\n",
              "dtype: int64"
            ]
          },
          "metadata": {},
          "execution_count": 75
        }
      ]
    },
    {
      "cell_type": "code",
      "source": [
        "merged_df2_df3 = df2.merge(df3.drop('Unnamed: 0',axis=1), how = \"inner\", on = \"device_id\")"
      ],
      "metadata": {
        "id": "Ux5r9ujaKDm8"
      },
      "id": "Ux5r9ujaKDm8",
      "execution_count": 76,
      "outputs": []
    },
    {
      "cell_type": "code",
      "source": [
        "merged_df2_df3.nunique()"
      ],
      "metadata": {
        "id": "8slyX_eBKNR7",
        "outputId": "d9e65684-f9b5-40e2-aa10-6ba8e832a394",
        "colab": {
          "base_uri": "https://localhost:8080/"
        }
      },
      "id": "8slyX_eBKNR7",
      "execution_count": 77,
      "outputs": [
        {
          "output_type": "execute_result",
          "data": {
            "text/plain": [
              "Unnamed: 0      74617\n",
              "device_id       74617\n",
              "gender              2\n",
              "age                85\n",
              "group              12\n",
              "phone_brand       111\n",
              "device_model     1427\n",
              "dtype: int64"
            ]
          },
          "metadata": {},
          "execution_count": 77
        }
      ]
    },
    {
      "cell_type": "code",
      "source": [
        "all = merged_df2_df3.merge(df, how = \"inner\", on = \"device_id\")"
      ],
      "metadata": {
        "id": "h2U9dj2EKPfq"
      },
      "id": "h2U9dj2EKPfq",
      "execution_count": 79,
      "outputs": []
    },
    {
      "cell_type": "code",
      "source": [
        "all.nunique()"
      ],
      "metadata": {
        "id": "Pi8cbJWVKlWu",
        "outputId": "95dd8221-502d-456d-c675-234cbd766000",
        "colab": {
          "base_uri": "https://localhost:8080/"
        }
      },
      "id": "Pi8cbJWVKlWu",
      "execution_count": 80,
      "outputs": [
        {
          "output_type": "execute_result",
          "data": {
            "text/plain": [
              "Unnamed: 0        406\n",
              "device_id         406\n",
              "gender              2\n",
              "age                51\n",
              "group              12\n",
              "phone_brand        26\n",
              "device_model      191\n",
              "event_id        16982\n",
              "timestamp       16553\n",
              "longitude         406\n",
              "latitude          406\n",
              "city              197\n",
              "state              26\n",
              "dtype: int64"
            ]
          },
          "metadata": {},
          "execution_count": 80
        }
      ]
    },
    {
      "cell_type": "code",
      "source": [
        "all[all['state']=='Delhi'].info()"
      ],
      "metadata": {
        "id": "plNTyhyaKqnN",
        "outputId": "0a68903b-4590-4b3e-8532-6cc2511e10a5",
        "colab": {
          "base_uri": "https://localhost:8080/"
        }
      },
      "id": "plNTyhyaKqnN",
      "execution_count": 83,
      "outputs": [
        {
          "output_type": "stream",
          "name": "stdout",
          "text": [
            "<class 'pandas.core.frame.DataFrame'>\n",
            "Int64Index: 2328 entries, 1059 to 16813\n",
            "Data columns (total 13 columns):\n",
            " #   Column        Non-Null Count  Dtype  \n",
            "---  ------        --------------  -----  \n",
            " 0   Unnamed: 0    2328 non-null   int64  \n",
            " 1   device_id     2328 non-null   int64  \n",
            " 2   gender        2328 non-null   object \n",
            " 3   age           2328 non-null   int64  \n",
            " 4   group         2328 non-null   object \n",
            " 5   phone_brand   2328 non-null   object \n",
            " 6   device_model  2328 non-null   object \n",
            " 7   event_id      2328 non-null   int64  \n",
            " 8   timestamp     2328 non-null   object \n",
            " 9   longitude     2328 non-null   float64\n",
            " 10  latitude      2328 non-null   float64\n",
            " 11  city          2328 non-null   object \n",
            " 12  state         2328 non-null   object \n",
            "dtypes: float64(2), int64(4), object(7)\n",
            "memory usage: 254.6+ KB\n"
          ]
        }
      ]
    },
    {
      "cell_type": "code",
      "source": [
        ""
      ],
      "metadata": {
        "id": "PpJSbA7YKs1d"
      },
      "id": "PpJSbA7YKs1d",
      "execution_count": null,
      "outputs": []
    }
  ],
  "metadata": {
    "kernelspec": {
      "display_name": "Python 3 (ipykernel)",
      "language": "python",
      "name": "python3"
    },
    "language_info": {
      "codemirror_mode": {
        "name": "ipython",
        "version": 3
      },
      "file_extension": ".py",
      "mimetype": "text/x-python",
      "name": "python",
      "nbconvert_exporter": "python",
      "pygments_lexer": "ipython3",
      "version": "3.8.5"
    },
    "colab": {
      "name": "Primary Data Collection from server.ipynb",
      "provenance": [],
      "toc_visible": true,
      "include_colab_link": true
    }
  },
  "nbformat": 4,
  "nbformat_minor": 5
}