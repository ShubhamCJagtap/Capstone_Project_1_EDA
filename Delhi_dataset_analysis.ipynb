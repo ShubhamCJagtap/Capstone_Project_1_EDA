{
  "nbformat": 4,
  "nbformat_minor": 0,
  "metadata": {
    "colab": {
      "name": "Delhi dataset analysis.ipynb",
      "provenance": [],
      "mount_file_id": "1XWfJDAcIr9WA2B78WfKgs-H_edv6Ehfb",
      "authorship_tag": "ABX9TyMQLPAWdN0bjxa/hh+Jxz6j",
      "include_colab_link": true
    },
    "kernelspec": {
      "name": "python3",
      "display_name": "Python 3"
    },
    "language_info": {
      "name": "python"
    }
  },
  "cells": [
    {
      "cell_type": "markdown",
      "metadata": {
        "id": "view-in-github",
        "colab_type": "text"
      },
      "source": [
        "<a href=\"https://colab.research.google.com/github/ShubhamCJagtap/Capstone_Project_1_EDA/blob/master/Delhi_dataset_analysis.ipynb\" target=\"_parent\"><img src=\"https://colab.research.google.com/assets/colab-badge.svg\" alt=\"Open In Colab\"/></a>"
      ]
    },
    {
      "cell_type": "code",
      "execution_count": 76,
      "metadata": {
        "id": "tD3KSHfjMd_J"
      },
      "outputs": [],
      "source": [
        "import pandas as pd\n",
        "import numpy as np\n",
        "#import mysql.connector as connection # install !pip install mysql.connector\n",
        "import matplotlib.pyplot as plt\n",
        "import seaborn as sns\n",
        "import warnings\n",
        "warnings.filterwarnings('ignore')\n",
        "\n",
        "pd.set_option('display.max_columns',None)\n",
        "pd.set_option('display.max_rows',None)\n",
        "pd.set_option('display.max_colwidth',None)\n",
        "pd.set_option('mode.chained_assignment',None)"
      ]
    },
    {
      "cell_type": "code",
      "source": [
        "from google.colab import drive\n",
        "drive.mount('/content/drive')"
      ],
      "metadata": {
        "colab": {
          "base_uri": "https://localhost:8080/"
        },
        "id": "V_A9hGubs_Za",
        "outputId": "7dd8b9f0-dfee-44ba-fe64-172cf9c76155"
      },
      "execution_count": 1,
      "outputs": [
        {
          "output_type": "stream",
          "name": "stdout",
          "text": [
            "Mounted at /content/drive\n"
          ]
        }
      ]
    },
    {
      "cell_type": "code",
      "source": [
        "df1 = pd.read_csv('/content/drive/MyDrive/Capstone 1 Insaid/Database/events_data.csv')"
      ],
      "metadata": {
        "id": "2jcm7loDMwa5"
      },
      "execution_count": 77,
      "outputs": []
    },
    {
      "cell_type": "code",
      "source": [
        "df2 = pd.read_csv('https://raw.githubusercontent.com/ShubhamCJagtap/Capstone_Project_1_EDA/master/gender_age.csv')"
      ],
      "metadata": {
        "id": "e6fvMH5AMzEG"
      },
      "execution_count": 78,
      "outputs": []
    },
    {
      "cell_type": "code",
      "source": [
        "df3 = pd.read_csv('https://raw.githubusercontent.com/ShubhamCJagtap/Capstone_Project_1_EDA/master/phone_brand_device_model.csv')"
      ],
      "metadata": {
        "id": "_TI8TjHoM44W"
      },
      "execution_count": 79,
      "outputs": []
    },
    {
      "cell_type": "code",
      "source": [
        "df1.columns"
      ],
      "metadata": {
        "colab": {
          "base_uri": "https://localhost:8080/"
        },
        "id": "4-1EYROcM8Fm",
        "outputId": "a5cc0de6-36aa-454c-ec1a-c07a03bab599"
      },
      "execution_count": 80,
      "outputs": [
        {
          "output_type": "execute_result",
          "data": {
            "text/plain": [
              "Index(['event_id', 'device_id', 'timestamp', 'longitude', 'latitude', 'city',\n",
              "       'state'],\n",
              "      dtype='object')"
            ]
          },
          "metadata": {},
          "execution_count": 80
        }
      ]
    },
    {
      "cell_type": "code",
      "source": [
        "cities = (df1[df1['state']=='Delhi']['city'].unique()).tolist()"
      ],
      "metadata": {
        "id": "Lp6CDwDcNJon"
      },
      "execution_count": 81,
      "outputs": []
    },
    {
      "cell_type": "code",
      "source": [
        "cities"
      ],
      "metadata": {
        "colab": {
          "base_uri": "https://localhost:8080/"
        },
        "id": "1RICjr-ENgXo",
        "outputId": "e71b6051-450f-4771-abf6-41e6b253bc85"
      },
      "execution_count": 82,
      "outputs": [
        {
          "output_type": "execute_result",
          "data": {
            "text/plain": [
              "['Delhi',\n",
              " 'SultanpurMajra',\n",
              " 'Deoli',\n",
              " 'NiDilli',\n",
              " 'RoshanPura',\n",
              " 'BhalswaJahangirpur',\n",
              " 'Gokalpur',\n",
              " 'Tigri',\n",
              " 'DilliCantonment',\n",
              " 'NangloiJat']"
            ]
          },
          "metadata": {},
          "execution_count": 82
        }
      ]
    },
    {
      "cell_type": "code",
      "source": [
        "len(cities)"
      ],
      "metadata": {
        "colab": {
          "base_uri": "https://localhost:8080/"
        },
        "id": "UUZbLRDcOjA1",
        "outputId": "935d4881-8714-4cc3-f6b7-f555328493cd"
      },
      "execution_count": 9,
      "outputs": [
        {
          "output_type": "execute_result",
          "data": {
            "text/plain": [
              "10"
            ]
          },
          "metadata": {},
          "execution_count": 9
        }
      ]
    },
    {
      "cell_type": "code",
      "source": [
        "df_cities = df1[(df1['city']==cities[0])|\n",
        "    (df1['city']==cities[1])|\n",
        "    (df1['city']==cities[2])|\n",
        "    (df1['city']==cities[3])|\n",
        "    (df1['city']==cities[4])|\n",
        "    (df1['city']==cities[5])|\n",
        "    (df1['city']==cities[6])|\n",
        "    (df1['city']==cities[7])|\n",
        "    (df1['city']==cities[8])|\n",
        "    (df1['city']==cities[9])]"
      ],
      "metadata": {
        "id": "9lyJWFG4NsqH"
      },
      "execution_count": 83,
      "outputs": []
    },
    {
      "cell_type": "code",
      "source": [
        "df_cities['city'].unique(),df_cities['state'].unique()"
      ],
      "metadata": {
        "colab": {
          "base_uri": "https://localhost:8080/"
        },
        "id": "Qf2Sta1aPEhJ",
        "outputId": "600588ff-6d14-4767-d7f5-f0a6819745eb"
      },
      "execution_count": 84,
      "outputs": [
        {
          "output_type": "execute_result",
          "data": {
            "text/plain": [
              "(array(['Delhi', 'SultanpurMajra', 'Deoli', 'NiDilli', 'RoshanPura',\n",
              "        'BhalswaJahangirpur', 'Gokalpur', 'Tigri', 'DilliCantonment',\n",
              "        'NangloiJat'], dtype=object), array(['Delhi', nan], dtype=object))"
            ]
          },
          "metadata": {},
          "execution_count": 84
        }
      ]
    },
    {
      "cell_type": "code",
      "source": [
        "df_cities.isna().sum()"
      ],
      "metadata": {
        "colab": {
          "base_uri": "https://localhost:8080/"
        },
        "id": "P4ALMGiAPZX7",
        "outputId": "90e0ff8e-e0d0-46c3-f7e6-ff6bf131de09"
      },
      "execution_count": 85,
      "outputs": [
        {
          "output_type": "execute_result",
          "data": {
            "text/plain": [
              "event_id      0\n",
              "device_id    69\n",
              "timestamp     0\n",
              "longitude    63\n",
              "latitude     63\n",
              "city          0\n",
              "state        64\n",
              "dtype: int64"
            ]
          },
          "metadata": {},
          "execution_count": 85
        }
      ]
    },
    {
      "cell_type": "code",
      "source": [
        "df_cities[df_cities['state'].isna()].head()"
      ],
      "metadata": {
        "colab": {
          "base_uri": "https://localhost:8080/",
          "height": 206
        },
        "id": "73ZqjD7PQB5c",
        "outputId": "aa2f858c-b7cc-405b-940d-26126105311a"
      },
      "execution_count": 86,
      "outputs": [
        {
          "output_type": "execute_result",
          "data": {
            "text/plain": [
              "        event_id     device_id            timestamp  longitude  latitude  \\\n",
              "58711    1586328 -6.242501e+18  2016-05-02 18:25:36  77.293991  28.74982   \n",
              "146029    191851 -6.242501e+18  2016-05-02 05:50:53  77.293991  28.74982   \n",
              "154676   1813991 -8.340098e+18  2016-05-06 22:03:19  77.305988  28.68898   \n",
              "206994   1804080 -8.340098e+18  2016-05-02 15:35:20  77.305988  28.68898   \n",
              "219532    341684 -6.242501e+18  2016-05-02 08:37:46  77.293991  28.74982   \n",
              "\n",
              "         city state  \n",
              "58711   Delhi   NaN  \n",
              "146029  Delhi   NaN  \n",
              "154676  Delhi   NaN  \n",
              "206994  Delhi   NaN  \n",
              "219532  Delhi   NaN  "
            ],
            "text/html": [
              "\n",
              "  <div id=\"df-67dda7ff-a051-484a-bfa2-e770678ac6d0\">\n",
              "    <div class=\"colab-df-container\">\n",
              "      <div>\n",
              "<style scoped>\n",
              "    .dataframe tbody tr th:only-of-type {\n",
              "        vertical-align: middle;\n",
              "    }\n",
              "\n",
              "    .dataframe tbody tr th {\n",
              "        vertical-align: top;\n",
              "    }\n",
              "\n",
              "    .dataframe thead th {\n",
              "        text-align: right;\n",
              "    }\n",
              "</style>\n",
              "<table border=\"1\" class=\"dataframe\">\n",
              "  <thead>\n",
              "    <tr style=\"text-align: right;\">\n",
              "      <th></th>\n",
              "      <th>event_id</th>\n",
              "      <th>device_id</th>\n",
              "      <th>timestamp</th>\n",
              "      <th>longitude</th>\n",
              "      <th>latitude</th>\n",
              "      <th>city</th>\n",
              "      <th>state</th>\n",
              "    </tr>\n",
              "  </thead>\n",
              "  <tbody>\n",
              "    <tr>\n",
              "      <th>58711</th>\n",
              "      <td>1586328</td>\n",
              "      <td>-6.242501e+18</td>\n",
              "      <td>2016-05-02 18:25:36</td>\n",
              "      <td>77.293991</td>\n",
              "      <td>28.74982</td>\n",
              "      <td>Delhi</td>\n",
              "      <td>NaN</td>\n",
              "    </tr>\n",
              "    <tr>\n",
              "      <th>146029</th>\n",
              "      <td>191851</td>\n",
              "      <td>-6.242501e+18</td>\n",
              "      <td>2016-05-02 05:50:53</td>\n",
              "      <td>77.293991</td>\n",
              "      <td>28.74982</td>\n",
              "      <td>Delhi</td>\n",
              "      <td>NaN</td>\n",
              "    </tr>\n",
              "    <tr>\n",
              "      <th>154676</th>\n",
              "      <td>1813991</td>\n",
              "      <td>-8.340098e+18</td>\n",
              "      <td>2016-05-06 22:03:19</td>\n",
              "      <td>77.305988</td>\n",
              "      <td>28.68898</td>\n",
              "      <td>Delhi</td>\n",
              "      <td>NaN</td>\n",
              "    </tr>\n",
              "    <tr>\n",
              "      <th>206994</th>\n",
              "      <td>1804080</td>\n",
              "      <td>-8.340098e+18</td>\n",
              "      <td>2016-05-02 15:35:20</td>\n",
              "      <td>77.305988</td>\n",
              "      <td>28.68898</td>\n",
              "      <td>Delhi</td>\n",
              "      <td>NaN</td>\n",
              "    </tr>\n",
              "    <tr>\n",
              "      <th>219532</th>\n",
              "      <td>341684</td>\n",
              "      <td>-6.242501e+18</td>\n",
              "      <td>2016-05-02 08:37:46</td>\n",
              "      <td>77.293991</td>\n",
              "      <td>28.74982</td>\n",
              "      <td>Delhi</td>\n",
              "      <td>NaN</td>\n",
              "    </tr>\n",
              "  </tbody>\n",
              "</table>\n",
              "</div>\n",
              "      <button class=\"colab-df-convert\" onclick=\"convertToInteractive('df-67dda7ff-a051-484a-bfa2-e770678ac6d0')\"\n",
              "              title=\"Convert this dataframe to an interactive table.\"\n",
              "              style=\"display:none;\">\n",
              "        \n",
              "  <svg xmlns=\"http://www.w3.org/2000/svg\" height=\"24px\"viewBox=\"0 0 24 24\"\n",
              "       width=\"24px\">\n",
              "    <path d=\"M0 0h24v24H0V0z\" fill=\"none\"/>\n",
              "    <path d=\"M18.56 5.44l.94 2.06.94-2.06 2.06-.94-2.06-.94-.94-2.06-.94 2.06-2.06.94zm-11 1L8.5 8.5l.94-2.06 2.06-.94-2.06-.94L8.5 2.5l-.94 2.06-2.06.94zm10 10l.94 2.06.94-2.06 2.06-.94-2.06-.94-.94-2.06-.94 2.06-2.06.94z\"/><path d=\"M17.41 7.96l-1.37-1.37c-.4-.4-.92-.59-1.43-.59-.52 0-1.04.2-1.43.59L10.3 9.45l-7.72 7.72c-.78.78-.78 2.05 0 2.83L4 21.41c.39.39.9.59 1.41.59.51 0 1.02-.2 1.41-.59l7.78-7.78 2.81-2.81c.8-.78.8-2.07 0-2.86zM5.41 20L4 18.59l7.72-7.72 1.47 1.35L5.41 20z\"/>\n",
              "  </svg>\n",
              "      </button>\n",
              "      \n",
              "  <style>\n",
              "    .colab-df-container {\n",
              "      display:flex;\n",
              "      flex-wrap:wrap;\n",
              "      gap: 12px;\n",
              "    }\n",
              "\n",
              "    .colab-df-convert {\n",
              "      background-color: #E8F0FE;\n",
              "      border: none;\n",
              "      border-radius: 50%;\n",
              "      cursor: pointer;\n",
              "      display: none;\n",
              "      fill: #1967D2;\n",
              "      height: 32px;\n",
              "      padding: 0 0 0 0;\n",
              "      width: 32px;\n",
              "    }\n",
              "\n",
              "    .colab-df-convert:hover {\n",
              "      background-color: #E2EBFA;\n",
              "      box-shadow: 0px 1px 2px rgba(60, 64, 67, 0.3), 0px 1px 3px 1px rgba(60, 64, 67, 0.15);\n",
              "      fill: #174EA6;\n",
              "    }\n",
              "\n",
              "    [theme=dark] .colab-df-convert {\n",
              "      background-color: #3B4455;\n",
              "      fill: #D2E3FC;\n",
              "    }\n",
              "\n",
              "    [theme=dark] .colab-df-convert:hover {\n",
              "      background-color: #434B5C;\n",
              "      box-shadow: 0px 1px 3px 1px rgba(0, 0, 0, 0.15);\n",
              "      filter: drop-shadow(0px 1px 2px rgba(0, 0, 0, 0.3));\n",
              "      fill: #FFFFFF;\n",
              "    }\n",
              "  </style>\n",
              "\n",
              "      <script>\n",
              "        const buttonEl =\n",
              "          document.querySelector('#df-67dda7ff-a051-484a-bfa2-e770678ac6d0 button.colab-df-convert');\n",
              "        buttonEl.style.display =\n",
              "          google.colab.kernel.accessAllowed ? 'block' : 'none';\n",
              "\n",
              "        async function convertToInteractive(key) {\n",
              "          const element = document.querySelector('#df-67dda7ff-a051-484a-bfa2-e770678ac6d0');\n",
              "          const dataTable =\n",
              "            await google.colab.kernel.invokeFunction('convertToInteractive',\n",
              "                                                     [key], {});\n",
              "          if (!dataTable) return;\n",
              "\n",
              "          const docLinkHtml = 'Like what you see? Visit the ' +\n",
              "            '<a target=\"_blank\" href=https://colab.research.google.com/notebooks/data_table.ipynb>data table notebook</a>'\n",
              "            + ' to learn more about interactive tables.';\n",
              "          element.innerHTML = '';\n",
              "          dataTable['output_type'] = 'display_data';\n",
              "          await google.colab.output.renderOutput(dataTable, element);\n",
              "          const docLink = document.createElement('div');\n",
              "          docLink.innerHTML = docLinkHtml;\n",
              "          element.appendChild(docLink);\n",
              "        }\n",
              "      </script>\n",
              "    </div>\n",
              "  </div>\n",
              "  "
            ]
          },
          "metadata": {},
          "execution_count": 86
        }
      ]
    },
    {
      "cell_type": "code",
      "source": [
        "df_cities['state'].fillna('Delhi',inplace=True)"
      ],
      "metadata": {
        "id": "pP8-kyByQOCb"
      },
      "execution_count": 87,
      "outputs": []
    },
    {
      "cell_type": "code",
      "source": [
        "df_cities.isna().sum(),df_cities.nunique()"
      ],
      "metadata": {
        "colab": {
          "base_uri": "https://localhost:8080/"
        },
        "id": "vsMT_2_SRLuO",
        "outputId": "324d04ff-d8d9-4d81-93c2-3d4af1cc1b77"
      },
      "execution_count": 88,
      "outputs": [
        {
          "output_type": "execute_result",
          "data": {
            "text/plain": [
              "(event_id      0\n",
              " device_id    69\n",
              " timestamp     0\n",
              " longitude    63\n",
              " latitude     63\n",
              " city          0\n",
              " state         0\n",
              " dtype: int64, event_id     751797\n",
              " device_id      4909\n",
              " timestamp    412099\n",
              " longitude      4795\n",
              " latitude       4789\n",
              " city             10\n",
              " state             1\n",
              " dtype: int64)"
            ]
          },
          "metadata": {},
          "execution_count": 88
        }
      ]
    },
    {
      "cell_type": "code",
      "source": [
        "df_cities.to_csv('Dataset_for_delhi.csv')"
      ],
      "metadata": {
        "id": "mQ5grMA5RSQt"
      },
      "execution_count": null,
      "outputs": []
    },
    {
      "cell_type": "code",
      "source": [
        "df_cities[(df_cities['longitude'].isna())&(df_cities['latitude'].isna())].head()"
      ],
      "metadata": {
        "colab": {
          "base_uri": "https://localhost:8080/",
          "height": 206
        },
        "id": "mJA_-MHpTj1L",
        "outputId": "b5ce983e-1858-4209-8a73-16ac8c9dc765"
      },
      "execution_count": 18,
      "outputs": [
        {
          "output_type": "execute_result",
          "data": {
            "text/plain": [
              "        event_id     device_id            timestamp  longitude  latitude  \\\n",
              "8015     2929521  1.779631e+18  2016-05-05 01:15:22        NaN       NaN   \n",
              "35009    1039863  5.375599e+18  2016-05-01 14:40:31        NaN       NaN   \n",
              "91559    2527074  5.375599e+18  2016-05-07 17:51:23        NaN       NaN   \n",
              "102308   2922517  1.779631e+18  2016-05-01 21:50:03        NaN       NaN   \n",
              "119754   2869070  4.782582e+18  2016-05-01 02:35:12        NaN       NaN   \n",
              "\n",
              "         city  state  \n",
              "8015    Delhi  Delhi  \n",
              "35009   Delhi  Delhi  \n",
              "91559   Delhi  Delhi  \n",
              "102308  Delhi  Delhi  \n",
              "119754  Delhi  Delhi  "
            ],
            "text/html": [
              "\n",
              "  <div id=\"df-1611235e-80b4-4aee-8c06-0647d41496fe\">\n",
              "    <div class=\"colab-df-container\">\n",
              "      <div>\n",
              "<style scoped>\n",
              "    .dataframe tbody tr th:only-of-type {\n",
              "        vertical-align: middle;\n",
              "    }\n",
              "\n",
              "    .dataframe tbody tr th {\n",
              "        vertical-align: top;\n",
              "    }\n",
              "\n",
              "    .dataframe thead th {\n",
              "        text-align: right;\n",
              "    }\n",
              "</style>\n",
              "<table border=\"1\" class=\"dataframe\">\n",
              "  <thead>\n",
              "    <tr style=\"text-align: right;\">\n",
              "      <th></th>\n",
              "      <th>event_id</th>\n",
              "      <th>device_id</th>\n",
              "      <th>timestamp</th>\n",
              "      <th>longitude</th>\n",
              "      <th>latitude</th>\n",
              "      <th>city</th>\n",
              "      <th>state</th>\n",
              "    </tr>\n",
              "  </thead>\n",
              "  <tbody>\n",
              "    <tr>\n",
              "      <th>8015</th>\n",
              "      <td>2929521</td>\n",
              "      <td>1.779631e+18</td>\n",
              "      <td>2016-05-05 01:15:22</td>\n",
              "      <td>NaN</td>\n",
              "      <td>NaN</td>\n",
              "      <td>Delhi</td>\n",
              "      <td>Delhi</td>\n",
              "    </tr>\n",
              "    <tr>\n",
              "      <th>35009</th>\n",
              "      <td>1039863</td>\n",
              "      <td>5.375599e+18</td>\n",
              "      <td>2016-05-01 14:40:31</td>\n",
              "      <td>NaN</td>\n",
              "      <td>NaN</td>\n",
              "      <td>Delhi</td>\n",
              "      <td>Delhi</td>\n",
              "    </tr>\n",
              "    <tr>\n",
              "      <th>91559</th>\n",
              "      <td>2527074</td>\n",
              "      <td>5.375599e+18</td>\n",
              "      <td>2016-05-07 17:51:23</td>\n",
              "      <td>NaN</td>\n",
              "      <td>NaN</td>\n",
              "      <td>Delhi</td>\n",
              "      <td>Delhi</td>\n",
              "    </tr>\n",
              "    <tr>\n",
              "      <th>102308</th>\n",
              "      <td>2922517</td>\n",
              "      <td>1.779631e+18</td>\n",
              "      <td>2016-05-01 21:50:03</td>\n",
              "      <td>NaN</td>\n",
              "      <td>NaN</td>\n",
              "      <td>Delhi</td>\n",
              "      <td>Delhi</td>\n",
              "    </tr>\n",
              "    <tr>\n",
              "      <th>119754</th>\n",
              "      <td>2869070</td>\n",
              "      <td>4.782582e+18</td>\n",
              "      <td>2016-05-01 02:35:12</td>\n",
              "      <td>NaN</td>\n",
              "      <td>NaN</td>\n",
              "      <td>Delhi</td>\n",
              "      <td>Delhi</td>\n",
              "    </tr>\n",
              "  </tbody>\n",
              "</table>\n",
              "</div>\n",
              "      <button class=\"colab-df-convert\" onclick=\"convertToInteractive('df-1611235e-80b4-4aee-8c06-0647d41496fe')\"\n",
              "              title=\"Convert this dataframe to an interactive table.\"\n",
              "              style=\"display:none;\">\n",
              "        \n",
              "  <svg xmlns=\"http://www.w3.org/2000/svg\" height=\"24px\"viewBox=\"0 0 24 24\"\n",
              "       width=\"24px\">\n",
              "    <path d=\"M0 0h24v24H0V0z\" fill=\"none\"/>\n",
              "    <path d=\"M18.56 5.44l.94 2.06.94-2.06 2.06-.94-2.06-.94-.94-2.06-.94 2.06-2.06.94zm-11 1L8.5 8.5l.94-2.06 2.06-.94-2.06-.94L8.5 2.5l-.94 2.06-2.06.94zm10 10l.94 2.06.94-2.06 2.06-.94-2.06-.94-.94-2.06-.94 2.06-2.06.94z\"/><path d=\"M17.41 7.96l-1.37-1.37c-.4-.4-.92-.59-1.43-.59-.52 0-1.04.2-1.43.59L10.3 9.45l-7.72 7.72c-.78.78-.78 2.05 0 2.83L4 21.41c.39.39.9.59 1.41.59.51 0 1.02-.2 1.41-.59l7.78-7.78 2.81-2.81c.8-.78.8-2.07 0-2.86zM5.41 20L4 18.59l7.72-7.72 1.47 1.35L5.41 20z\"/>\n",
              "  </svg>\n",
              "      </button>\n",
              "      \n",
              "  <style>\n",
              "    .colab-df-container {\n",
              "      display:flex;\n",
              "      flex-wrap:wrap;\n",
              "      gap: 12px;\n",
              "    }\n",
              "\n",
              "    .colab-df-convert {\n",
              "      background-color: #E8F0FE;\n",
              "      border: none;\n",
              "      border-radius: 50%;\n",
              "      cursor: pointer;\n",
              "      display: none;\n",
              "      fill: #1967D2;\n",
              "      height: 32px;\n",
              "      padding: 0 0 0 0;\n",
              "      width: 32px;\n",
              "    }\n",
              "\n",
              "    .colab-df-convert:hover {\n",
              "      background-color: #E2EBFA;\n",
              "      box-shadow: 0px 1px 2px rgba(60, 64, 67, 0.3), 0px 1px 3px 1px rgba(60, 64, 67, 0.15);\n",
              "      fill: #174EA6;\n",
              "    }\n",
              "\n",
              "    [theme=dark] .colab-df-convert {\n",
              "      background-color: #3B4455;\n",
              "      fill: #D2E3FC;\n",
              "    }\n",
              "\n",
              "    [theme=dark] .colab-df-convert:hover {\n",
              "      background-color: #434B5C;\n",
              "      box-shadow: 0px 1px 3px 1px rgba(0, 0, 0, 0.15);\n",
              "      filter: drop-shadow(0px 1px 2px rgba(0, 0, 0, 0.3));\n",
              "      fill: #FFFFFF;\n",
              "    }\n",
              "  </style>\n",
              "\n",
              "      <script>\n",
              "        const buttonEl =\n",
              "          document.querySelector('#df-1611235e-80b4-4aee-8c06-0647d41496fe button.colab-df-convert');\n",
              "        buttonEl.style.display =\n",
              "          google.colab.kernel.accessAllowed ? 'block' : 'none';\n",
              "\n",
              "        async function convertToInteractive(key) {\n",
              "          const element = document.querySelector('#df-1611235e-80b4-4aee-8c06-0647d41496fe');\n",
              "          const dataTable =\n",
              "            await google.colab.kernel.invokeFunction('convertToInteractive',\n",
              "                                                     [key], {});\n",
              "          if (!dataTable) return;\n",
              "\n",
              "          const docLinkHtml = 'Like what you see? Visit the ' +\n",
              "            '<a target=\"_blank\" href=https://colab.research.google.com/notebooks/data_table.ipynb>data table notebook</a>'\n",
              "            + ' to learn more about interactive tables.';\n",
              "          element.innerHTML = '';\n",
              "          dataTable['output_type'] = 'display_data';\n",
              "          await google.colab.output.renderOutput(dataTable, element);\n",
              "          const docLink = document.createElement('div');\n",
              "          docLink.innerHTML = docLinkHtml;\n",
              "          element.appendChild(docLink);\n",
              "        }\n",
              "      </script>\n",
              "    </div>\n",
              "  </div>\n",
              "  "
            ]
          },
          "metadata": {},
          "execution_count": 18
        }
      ]
    },
    {
      "cell_type": "code",
      "source": [
        "df_cities[(df_cities['longitude'].isna())&(df_cities['latitude'].isna())].shape"
      ],
      "metadata": {
        "colab": {
          "base_uri": "https://localhost:8080/"
        },
        "id": "KNHhIfW1TyRj",
        "outputId": "57d20099-2c48-4ef4-9003-ca498976d0cf"
      },
      "execution_count": 19,
      "outputs": [
        {
          "output_type": "execute_result",
          "data": {
            "text/plain": [
              "(63, 7)"
            ]
          },
          "metadata": {},
          "execution_count": 19
        }
      ]
    },
    {
      "cell_type": "code",
      "source": [
        "(df_cities[(df_cities['longitude'].isna())|(df_cities['latitude'].isna())]==df_cities[(df_cities['longitude'].isna())&(df_cities['latitude'].isna())]).shape"
      ],
      "metadata": {
        "colab": {
          "base_uri": "https://localhost:8080/"
        },
        "id": "kf52IpRRT7n1",
        "outputId": "b6f8c526-aead-4036-8672-77c99c6f52ca"
      },
      "execution_count": 20,
      "outputs": [
        {
          "output_type": "execute_result",
          "data": {
            "text/plain": [
              "(63, 7)"
            ]
          },
          "metadata": {},
          "execution_count": 20
        }
      ]
    },
    {
      "cell_type": "code",
      "source": [
        "df_cities[(df_cities['longitude'].isna())&(df_cities['latitude'].isna())&(df_cities['device_id'].isna())].shape"
      ],
      "metadata": {
        "colab": {
          "base_uri": "https://localhost:8080/"
        },
        "id": "uFCdkNtJUFRD",
        "outputId": "4712f543-18a2-4a35-80f0-024cbd9cab7a"
      },
      "execution_count": 21,
      "outputs": [
        {
          "output_type": "execute_result",
          "data": {
            "text/plain": [
              "(0, 7)"
            ]
          },
          "metadata": {},
          "execution_count": 21
        }
      ]
    },
    {
      "cell_type": "markdown",
      "source": [
        "# Fill missing values of latitude an longitude based on device ID's"
      ],
      "metadata": {
        "id": "uW3DR27_4rSo"
      }
    },
    {
      "cell_type": "code",
      "source": [
        "device_id_lat_lon_missing = df_cities[(df_cities['longitude'].isna())&(df_cities['latitude'].isna())]['device_id'].unique()"
      ],
      "metadata": {
        "id": "ClDgUZEWVO6H"
      },
      "execution_count": 89,
      "outputs": []
    },
    {
      "cell_type": "code",
      "source": [
        "device_id_lat_lon_missing"
      ],
      "metadata": {
        "colab": {
          "base_uri": "https://localhost:8080/"
        },
        "id": "u9R_39nAvp3S",
        "outputId": "26db7f72-eefc-4ef4-d1d2-0089abaeb6cb"
      },
      "execution_count": 90,
      "outputs": [
        {
          "output_type": "execute_result",
          "data": {
            "text/plain": [
              "array([1.77963102e+18, 5.37559902e+18, 4.78258205e+18])"
            ]
          },
          "metadata": {},
          "execution_count": 90
        }
      ]
    },
    {
      "cell_type": "code",
      "source": [
        "lst_id_lat_lon = []\n",
        "for i in device_id_lat_lon_missing:\n",
        "  a = df_cities[(df_cities['longitude'].isna()==False)&(df_cities['latitude'].isna()==False)&(df_cities['device_id']==i)][['device_id','longitude','latitude']].value_counts()\n",
        "  lst_id_lat_lon.append(a.index.values)"
      ],
      "metadata": {
        "id": "gT6OJuctXGEA"
      },
      "execution_count": 91,
      "outputs": []
    },
    {
      "cell_type": "code",
      "source": [
        "id = []\n",
        "lat = []\n",
        "lon = []\n",
        "for j in lst_id_lat_lon:\n",
        "  id.append(j[0][0])\n",
        "  lon.append(j[0][1])\n",
        "  lat.append(j[0][2])"
      ],
      "metadata": {
        "id": "bC-sdcX7ubU0"
      },
      "execution_count": 104,
      "outputs": []
    },
    {
      "cell_type": "code",
      "source": [
        "id,lat,lon"
      ],
      "metadata": {
        "colab": {
          "base_uri": "https://localhost:8080/"
        },
        "id": "Tvrhgtq3vVXU",
        "outputId": "c838d0f8-39ee-4dd8-fb69-89c9fd6f5e0d"
      },
      "execution_count": 105,
      "outputs": [
        {
          "output_type": "execute_result",
          "data": {
            "text/plain": [
              "([1.7796310234394053e+18, 5.375599021847303e+18, 4.782582047729166e+18],\n",
              " [28.738901, 28.718392, 28.718379],\n",
              " [77.235416, 77.283447, 77.22522])"
            ]
          },
          "metadata": {},
          "execution_count": 105
        }
      ]
    },
    {
      "cell_type": "code",
      "source": [
        "id[0]"
      ],
      "metadata": {
        "id": "lJ3MzRFN0J6s",
        "outputId": "cf515d74-1a77-4552-bd65-aa338d07870d",
        "colab": {
          "base_uri": "https://localhost:8080/"
        }
      },
      "execution_count": 106,
      "outputs": [
        {
          "output_type": "execute_result",
          "data": {
            "text/plain": [
              "1.7796310234394053e+18"
            ]
          },
          "metadata": {},
          "execution_count": 106
        }
      ]
    },
    {
      "cell_type": "code",
      "source": [
        "df_cities.loc[(df_cities['device_id']==id[0])&(np.isnan(df_cities['latitude'])),'latitude']#.fillna(lat[0])"
      ],
      "metadata": {
        "id": "N3MGj5hhzvGr",
        "outputId": "13b49198-9a74-4ab0-e7a8-43606fdf07f1",
        "colab": {
          "base_uri": "https://localhost:8080/"
        }
      },
      "execution_count": 122,
      "outputs": [
        {
          "output_type": "execute_result",
          "data": {
            "text/plain": [
              "8015      NaN\n",
              "102308    NaN\n",
              "388546    NaN\n",
              "603570    NaN\n",
              "963156    NaN\n",
              "1102363   NaN\n",
              "1183044   NaN\n",
              "1441367   NaN\n",
              "1613563   NaN\n",
              "1711195   NaN\n",
              "1849716   NaN\n",
              "1929965   NaN\n",
              "2105900   NaN\n",
              "2218433   NaN\n",
              "2383992   NaN\n",
              "2420466   NaN\n",
              "2592269   NaN\n",
              "2611807   NaN\n",
              "2612236   NaN\n",
              "2691692   NaN\n",
              "3240057   NaN\n",
              "Name: latitude, dtype: float64"
            ]
          },
          "metadata": {},
          "execution_count": 122
        }
      ]
    },
    {
      "cell_type": "code",
      "source": [
        "df_cities.loc[(df_cities['device_id']==id[1])&(np.isnan(df_cities['latitude'])),'latitude']"
      ],
      "metadata": {
        "id": "dXnXi4lv3igj",
        "outputId": "89c0cf59-84c3-4bb0-d247-db2ba0a67c71",
        "colab": {
          "base_uri": "https://localhost:8080/"
        }
      },
      "execution_count": 123,
      "outputs": [
        {
          "output_type": "execute_result",
          "data": {
            "text/plain": [
              "35009     NaN\n",
              "91559     NaN\n",
              "181516    NaN\n",
              "392144    NaN\n",
              "408440    NaN\n",
              "618174    NaN\n",
              "761466    NaN\n",
              "786473    NaN\n",
              "1091491   NaN\n",
              "1139239   NaN\n",
              "1344039   NaN\n",
              "1731090   NaN\n",
              "1938824   NaN\n",
              "1990928   NaN\n",
              "2000548   NaN\n",
              "2270111   NaN\n",
              "2440981   NaN\n",
              "2611126   NaN\n",
              "2848235   NaN\n",
              "2976687   NaN\n",
              "2993381   NaN\n",
              "Name: latitude, dtype: float64"
            ]
          },
          "metadata": {},
          "execution_count": 123
        }
      ]
    },
    {
      "cell_type": "code",
      "source": [
        "df_cities.loc[(df_cities['device_id']==id[2])&(np.isnan(df_cities['latitude'])),'latitude'].shape"
      ],
      "metadata": {
        "id": "8HkZSQ__3nZi",
        "outputId": "567a73c8-962d-455d-8685-e7422003b767",
        "colab": {
          "base_uri": "https://localhost:8080/"
        }
      },
      "execution_count": 130,
      "outputs": [
        {
          "output_type": "execute_result",
          "data": {
            "text/plain": [
              "(21,)"
            ]
          },
          "metadata": {},
          "execution_count": 130
        }
      ]
    },
    {
      "cell_type": "code",
      "source": [
        "for i in range(0,len(id)):\n",
        "  print(df_cities.loc[(df_cities['device_id']==id[i])&(np.isnan(df_cities['latitude'])),'latitude'].shape)"
      ],
      "metadata": {
        "id": "8dbGxCIs3tst",
        "outputId": "dc98002a-40dc-4c1f-ba2f-acf7be1661a6",
        "colab": {
          "base_uri": "https://localhost:8080/"
        }
      },
      "execution_count": 132,
      "outputs": [
        {
          "output_type": "stream",
          "name": "stdout",
          "text": [
            "(21,)\n",
            "(21,)\n",
            "(21,)\n"
          ]
        }
      ]
    },
    {
      "cell_type": "code",
      "source": [
        "for i in range(0,len(id)):\n",
        "  df_cities.loc[(df_cities['device_id']==id[i])&(np.isnan(df_cities['latitude'])),'latitude'] = lat[i]\n",
        "  df_cities.loc[(df_cities['device_id']==id[i])&(np.isnan(df_cities['longitude'])),'longitude'] = lon[i]"
      ],
      "metadata": {
        "id": "lZFaTOetz4bn"
      },
      "execution_count": 134,
      "outputs": []
    },
    {
      "cell_type": "code",
      "source": [
        "df_cities.isna().sum()"
      ],
      "metadata": {
        "id": "0-RSNFGI1dKo",
        "outputId": "1c533561-7708-4053-a06f-c7b05fd4e06a",
        "colab": {
          "base_uri": "https://localhost:8080/"
        }
      },
      "execution_count": 135,
      "outputs": [
        {
          "output_type": "execute_result",
          "data": {
            "text/plain": [
              "event_id      0\n",
              "device_id    69\n",
              "timestamp     0\n",
              "longitude     0\n",
              "latitude      0\n",
              "city          0\n",
              "state         0\n",
              "dtype: int64"
            ]
          },
          "metadata": {},
          "execution_count": 135
        }
      ]
    },
    {
      "cell_type": "code",
      "source": [
        "print(df_cities.loc[(df_cities['device_id']==id[0])&(np.isnan(df_cities['latitude'])),'latitude'],\n",
        "df_cities.loc[(df_cities['device_id']==id[1])&(np.isnan(df_cities['latitude'])),'latitude'],\n",
        "df_cities.loc[(df_cities['device_id']==id[2])&(np.isnan(df_cities['latitude'])),'latitude'])"
      ],
      "metadata": {
        "id": "xpHXrMom2oJZ",
        "outputId": "837ff90c-59d9-4265-b3b7-664b82b5ac4e",
        "colab": {
          "base_uri": "https://localhost:8080/"
        }
      },
      "execution_count": 139,
      "outputs": [
        {
          "output_type": "stream",
          "name": "stdout",
          "text": [
            "Series([], Name: latitude, dtype: float64) Series([], Name: latitude, dtype: float64) Series([], Name: latitude, dtype: float64)\n"
          ]
        }
      ]
    },
    {
      "cell_type": "markdown",
      "source": [
        "## Apply same logic to fill device Id's"
      ],
      "metadata": {
        "id": "nCxdKExc42aA"
      }
    },
    {
      "cell_type": "code",
      "source": [
        "device_id_missing_lon = df_cities[df_cities['device_id'].isna()]['longitude'].unique()\n",
        "device_id_missing_lat = df_cities[df_cities['device_id'].isna()]['latitude'].unique()"
      ],
      "metadata": {
        "id": "rKqhrOia3SfJ"
      },
      "execution_count": 144,
      "outputs": []
    },
    {
      "cell_type": "code",
      "source": [
        "device_id_missing_lon"
      ],
      "metadata": {
        "id": "5D4KA5rB5RmO",
        "outputId": "0f61f99f-39d5-4ce9-bbf5-3619b2664311",
        "colab": {
          "base_uri": "https://localhost:8080/"
        }
      },
      "execution_count": 145,
      "outputs": [
        {
          "output_type": "execute_result",
          "data": {
            "text/plain": [
              "array([77.292481, 77.274814, 77.303153])"
            ]
          },
          "metadata": {},
          "execution_count": 145
        }
      ]
    },
    {
      "cell_type": "code",
      "source": [
        "device_id_missing_lat"
      ],
      "metadata": {
        "id": "5esyiwo05TDe",
        "outputId": "dbf11743-c3b9-43bf-a0a0-f82b7af9c855",
        "colab": {
          "base_uri": "https://localhost:8080/"
        }
      },
      "execution_count": 146,
      "outputs": [
        {
          "output_type": "execute_result",
          "data": {
            "text/plain": [
              "array([28.719966, 28.721053, 28.728888])"
            ]
          },
          "metadata": {},
          "execution_count": 146
        }
      ]
    },
    {
      "cell_type": "code",
      "source": [
        "lst_id_lon = []\n",
        "for i in device_id_missing_lon:\n",
        "  a = df_cities[(df_cities['device_id'].isna()==False)&(df_cities['longitude']==i)][['device_id','longitude','latitude']].value_counts()\n",
        "  lst_id_lon.append(a.index.values)"
      ],
      "metadata": {
        "id": "kv3-svem5r1u"
      },
      "execution_count": 152,
      "outputs": []
    },
    {
      "cell_type": "code",
      "source": [
        "lst_id_lon"
      ],
      "metadata": {
        "id": "wvKvjdiq6MVr",
        "outputId": "b9123cf2-27b1-475c-ea7f-e15171a97f9a",
        "colab": {
          "base_uri": "https://localhost:8080/"
        }
      },
      "execution_count": 155,
      "outputs": [
        {
          "output_type": "execute_result",
          "data": {
            "text/plain": [
              "[array([(5.098778421671838e+18, 77.29248100000002, 28.719966000000003)],\n",
              "       dtype=object),\n",
              " array([(3.724654925765159e+18, 77.27481399999998, 28.721053)],\n",
              "       dtype=object),\n",
              " array([(-6.875585507485886e+18, 77.30315300000002, 28.728888)],\n",
              "       dtype=object)]"
            ]
          },
          "metadata": {},
          "execution_count": 155
        }
      ]
    },
    {
      "cell_type": "code",
      "source": [
        "lst_id_lat = []\n",
        "for i in device_id_missing_lat:\n",
        "  a = df_cities[(df_cities['device_id'].isna()==False)&(df_cities['latitude']==i)][['device_id','longitude','latitude']].value_counts()\n",
        "  lst_id_lat.append(a.index.values)"
      ],
      "metadata": {
        "id": "wJtn4nIx6PIt"
      },
      "execution_count": 151,
      "outputs": []
    },
    {
      "cell_type": "code",
      "source": [
        "lst_id_lat"
      ],
      "metadata": {
        "id": "bMbj7dGb6mWa",
        "outputId": "f44fad2a-9edc-4e17-8291-03e19139c6a2",
        "colab": {
          "base_uri": "https://localhost:8080/"
        }
      },
      "execution_count": 154,
      "outputs": [
        {
          "output_type": "execute_result",
          "data": {
            "text/plain": [
              "[array([(5.098778421671838e+18, 77.29248100000002, 28.719966000000003)],\n",
              "       dtype=object),\n",
              " array([(3.724654925765159e+18, 77.27481399999998, 28.721053)],\n",
              "       dtype=object),\n",
              " array([(-6.875585507485886e+18, 77.30315300000002, 28.728888)],\n",
              "       dtype=object)]"
            ]
          },
          "metadata": {},
          "execution_count": 154
        }
      ]
    },
    {
      "cell_type": "code",
      "source": [
        "id_lat = []\n",
        "lat_lat = []\n",
        "lon_lat = []\n",
        "for j in lst_id_lat:\n",
        "  id_lat.append(j[0][0])\n",
        "  lon_lat.append(j[0][1])\n",
        "  lat_lat.append(j[0][2])"
      ],
      "metadata": {
        "id": "HXsfU3447C4b"
      },
      "execution_count": 156,
      "outputs": []
    },
    {
      "cell_type": "code",
      "source": [
        "id_lat,lat_lat,lon_lat"
      ],
      "metadata": {
        "id": "kfZc6GJS7LlY",
        "outputId": "9dc9e34d-f1ea-45f2-e340-e742ef1885fb",
        "colab": {
          "base_uri": "https://localhost:8080/"
        }
      },
      "execution_count": 158,
      "outputs": [
        {
          "output_type": "execute_result",
          "data": {
            "text/plain": [
              "([5.098778421671838e+18, 3.724654925765159e+18, -6.875585507485886e+18],\n",
              " [28.719966000000003, 28.721053, 28.728888],\n",
              " [77.29248100000002, 77.27481399999998, 77.30315300000002])"
            ]
          },
          "metadata": {},
          "execution_count": 158
        }
      ]
    },
    {
      "cell_type": "code",
      "source": [
        "id_lon = []\n",
        "lat_lon = []\n",
        "lon_lon = []\n",
        "for j in lst_id_lat:\n",
        "  id_lon.append(j[0][0])\n",
        "  lon_lon.append(j[0][1])\n",
        "  lat_lon.append(j[0][2])"
      ],
      "metadata": {
        "id": "CKnN4NNz7TJ_"
      },
      "execution_count": 159,
      "outputs": []
    },
    {
      "cell_type": "code",
      "source": [
        "id_lon,lat_lon,lon_lon"
      ],
      "metadata": {
        "id": "bacPNB0l7Z-p",
        "outputId": "2b53960b-a118-49e6-c694-1d7cdc6988da",
        "colab": {
          "base_uri": "https://localhost:8080/"
        }
      },
      "execution_count": 160,
      "outputs": [
        {
          "output_type": "execute_result",
          "data": {
            "text/plain": [
              "([5.098778421671838e+18, 3.724654925765159e+18, -6.875585507485886e+18],\n",
              " [28.719966000000003, 28.721053, 28.728888],\n",
              " [77.29248100000002, 77.27481399999998, 77.30315300000002])"
            ]
          },
          "metadata": {},
          "execution_count": 160
        }
      ]
    },
    {
      "cell_type": "code",
      "source": [
        "df_cities.loc[(df_cities['latitude']==lat_lat[0])&(np.isnan(df_cities['device_id'])),'device_id']"
      ],
      "metadata": {
        "id": "1PU6zsyF6u8s",
        "outputId": "4f441550-8f50-4c40-df51-e369e2c5c28e",
        "colab": {
          "base_uri": "https://localhost:8080/"
        }
      },
      "execution_count": 164,
      "outputs": [
        {
          "output_type": "execute_result",
          "data": {
            "text/plain": [
              "72898     NaN\n",
              "278170    NaN\n",
              "350761    NaN\n",
              "554548    NaN\n",
              "598793    NaN\n",
              "600849    NaN\n",
              "698069    NaN\n",
              "740873    NaN\n",
              "890505    NaN\n",
              "1287193   NaN\n",
              "1563172   NaN\n",
              "1841116   NaN\n",
              "1851327   NaN\n",
              "1908542   NaN\n",
              "1939918   NaN\n",
              "1987919   NaN\n",
              "2102325   NaN\n",
              "2450556   NaN\n",
              "2845240   NaN\n",
              "2939178   NaN\n",
              "3146530   NaN\n",
              "3175200   NaN\n",
              "3192090   NaN\n",
              "Name: device_id, dtype: float64"
            ]
          },
          "metadata": {},
          "execution_count": 164
        }
      ]
    },
    {
      "cell_type": "code",
      "source": [
        "for i in range(0,len(id_lat)):\n",
        "  df_cities.loc[(df_cities['latitude']==lat_lat[i])&(np.isnan(df_cities['device_id'])),'device_id'] = id_lat[i]"
      ],
      "metadata": {
        "id": "NiUJfXbl7lD6"
      },
      "execution_count": 167,
      "outputs": []
    },
    {
      "cell_type": "code",
      "source": [
        "df_cities.isna().sum()"
      ],
      "metadata": {
        "id": "wsU3cAVs7-e7",
        "outputId": "7469d7c8-e674-478b-8bc8-7abb54fcc04f",
        "colab": {
          "base_uri": "https://localhost:8080/"
        }
      },
      "execution_count": 168,
      "outputs": [
        {
          "output_type": "execute_result",
          "data": {
            "text/plain": [
              "event_id     0\n",
              "device_id    0\n",
              "timestamp    0\n",
              "longitude    0\n",
              "latitude     0\n",
              "city         0\n",
              "state        0\n",
              "dtype: int64"
            ]
          },
          "metadata": {},
          "execution_count": 168
        }
      ]
    },
    {
      "cell_type": "markdown",
      "source": [
        "## All missing values from first dataset wrt delhi city are filled"
      ],
      "metadata": {
        "id": "SevtIw688MRT"
      }
    },
    {
      "cell_type": "code",
      "source": [
        "df_cities.head()"
      ],
      "metadata": {
        "id": "BkYMTALi8CSM",
        "outputId": "f8103322-f800-448f-b972-d08811a81ae5",
        "colab": {
          "base_uri": "https://localhost:8080/",
          "height": 206
        }
      },
      "execution_count": 169,
      "outputs": [
        {
          "output_type": "execute_result",
          "data": {
            "text/plain": [
              "    event_id     device_id            timestamp  longitude   latitude   city  \\\n",
              "0    2765368  2.973348e+18  2016-05-07 22:52:05  77.225676  28.730140  Delhi   \n",
              "2     605968 -3.264500e+18  2016-05-02 14:23:04  77.256809  28.757906  Delhi   \n",
              "8    2309828  3.020769e+18  2016-05-04 09:24:50  77.263922  28.757914  Delhi   \n",
              "13   2633127 -3.090167e+18  2016-05-05 04:42:59  77.285920  28.758381  Delhi   \n",
              "17   2224400  7.566051e+18  2016-05-01 00:07:47  77.240478  28.715664  Delhi   \n",
              "\n",
              "    state  \n",
              "0   Delhi  \n",
              "2   Delhi  \n",
              "8   Delhi  \n",
              "13  Delhi  \n",
              "17  Delhi  "
            ],
            "text/html": [
              "\n",
              "  <div id=\"df-7437be36-cc74-4ec7-bebd-35c722571112\">\n",
              "    <div class=\"colab-df-container\">\n",
              "      <div>\n",
              "<style scoped>\n",
              "    .dataframe tbody tr th:only-of-type {\n",
              "        vertical-align: middle;\n",
              "    }\n",
              "\n",
              "    .dataframe tbody tr th {\n",
              "        vertical-align: top;\n",
              "    }\n",
              "\n",
              "    .dataframe thead th {\n",
              "        text-align: right;\n",
              "    }\n",
              "</style>\n",
              "<table border=\"1\" class=\"dataframe\">\n",
              "  <thead>\n",
              "    <tr style=\"text-align: right;\">\n",
              "      <th></th>\n",
              "      <th>event_id</th>\n",
              "      <th>device_id</th>\n",
              "      <th>timestamp</th>\n",
              "      <th>longitude</th>\n",
              "      <th>latitude</th>\n",
              "      <th>city</th>\n",
              "      <th>state</th>\n",
              "    </tr>\n",
              "  </thead>\n",
              "  <tbody>\n",
              "    <tr>\n",
              "      <th>0</th>\n",
              "      <td>2765368</td>\n",
              "      <td>2.973348e+18</td>\n",
              "      <td>2016-05-07 22:52:05</td>\n",
              "      <td>77.225676</td>\n",
              "      <td>28.730140</td>\n",
              "      <td>Delhi</td>\n",
              "      <td>Delhi</td>\n",
              "    </tr>\n",
              "    <tr>\n",
              "      <th>2</th>\n",
              "      <td>605968</td>\n",
              "      <td>-3.264500e+18</td>\n",
              "      <td>2016-05-02 14:23:04</td>\n",
              "      <td>77.256809</td>\n",
              "      <td>28.757906</td>\n",
              "      <td>Delhi</td>\n",
              "      <td>Delhi</td>\n",
              "    </tr>\n",
              "    <tr>\n",
              "      <th>8</th>\n",
              "      <td>2309828</td>\n",
              "      <td>3.020769e+18</td>\n",
              "      <td>2016-05-04 09:24:50</td>\n",
              "      <td>77.263922</td>\n",
              "      <td>28.757914</td>\n",
              "      <td>Delhi</td>\n",
              "      <td>Delhi</td>\n",
              "    </tr>\n",
              "    <tr>\n",
              "      <th>13</th>\n",
              "      <td>2633127</td>\n",
              "      <td>-3.090167e+18</td>\n",
              "      <td>2016-05-05 04:42:59</td>\n",
              "      <td>77.285920</td>\n",
              "      <td>28.758381</td>\n",
              "      <td>Delhi</td>\n",
              "      <td>Delhi</td>\n",
              "    </tr>\n",
              "    <tr>\n",
              "      <th>17</th>\n",
              "      <td>2224400</td>\n",
              "      <td>7.566051e+18</td>\n",
              "      <td>2016-05-01 00:07:47</td>\n",
              "      <td>77.240478</td>\n",
              "      <td>28.715664</td>\n",
              "      <td>Delhi</td>\n",
              "      <td>Delhi</td>\n",
              "    </tr>\n",
              "  </tbody>\n",
              "</table>\n",
              "</div>\n",
              "      <button class=\"colab-df-convert\" onclick=\"convertToInteractive('df-7437be36-cc74-4ec7-bebd-35c722571112')\"\n",
              "              title=\"Convert this dataframe to an interactive table.\"\n",
              "              style=\"display:none;\">\n",
              "        \n",
              "  <svg xmlns=\"http://www.w3.org/2000/svg\" height=\"24px\"viewBox=\"0 0 24 24\"\n",
              "       width=\"24px\">\n",
              "    <path d=\"M0 0h24v24H0V0z\" fill=\"none\"/>\n",
              "    <path d=\"M18.56 5.44l.94 2.06.94-2.06 2.06-.94-2.06-.94-.94-2.06-.94 2.06-2.06.94zm-11 1L8.5 8.5l.94-2.06 2.06-.94-2.06-.94L8.5 2.5l-.94 2.06-2.06.94zm10 10l.94 2.06.94-2.06 2.06-.94-2.06-.94-.94-2.06-.94 2.06-2.06.94z\"/><path d=\"M17.41 7.96l-1.37-1.37c-.4-.4-.92-.59-1.43-.59-.52 0-1.04.2-1.43.59L10.3 9.45l-7.72 7.72c-.78.78-.78 2.05 0 2.83L4 21.41c.39.39.9.59 1.41.59.51 0 1.02-.2 1.41-.59l7.78-7.78 2.81-2.81c.8-.78.8-2.07 0-2.86zM5.41 20L4 18.59l7.72-7.72 1.47 1.35L5.41 20z\"/>\n",
              "  </svg>\n",
              "      </button>\n",
              "      \n",
              "  <style>\n",
              "    .colab-df-container {\n",
              "      display:flex;\n",
              "      flex-wrap:wrap;\n",
              "      gap: 12px;\n",
              "    }\n",
              "\n",
              "    .colab-df-convert {\n",
              "      background-color: #E8F0FE;\n",
              "      border: none;\n",
              "      border-radius: 50%;\n",
              "      cursor: pointer;\n",
              "      display: none;\n",
              "      fill: #1967D2;\n",
              "      height: 32px;\n",
              "      padding: 0 0 0 0;\n",
              "      width: 32px;\n",
              "    }\n",
              "\n",
              "    .colab-df-convert:hover {\n",
              "      background-color: #E2EBFA;\n",
              "      box-shadow: 0px 1px 2px rgba(60, 64, 67, 0.3), 0px 1px 3px 1px rgba(60, 64, 67, 0.15);\n",
              "      fill: #174EA6;\n",
              "    }\n",
              "\n",
              "    [theme=dark] .colab-df-convert {\n",
              "      background-color: #3B4455;\n",
              "      fill: #D2E3FC;\n",
              "    }\n",
              "\n",
              "    [theme=dark] .colab-df-convert:hover {\n",
              "      background-color: #434B5C;\n",
              "      box-shadow: 0px 1px 3px 1px rgba(0, 0, 0, 0.15);\n",
              "      filter: drop-shadow(0px 1px 2px rgba(0, 0, 0, 0.3));\n",
              "      fill: #FFFFFF;\n",
              "    }\n",
              "  </style>\n",
              "\n",
              "      <script>\n",
              "        const buttonEl =\n",
              "          document.querySelector('#df-7437be36-cc74-4ec7-bebd-35c722571112 button.colab-df-convert');\n",
              "        buttonEl.style.display =\n",
              "          google.colab.kernel.accessAllowed ? 'block' : 'none';\n",
              "\n",
              "        async function convertToInteractive(key) {\n",
              "          const element = document.querySelector('#df-7437be36-cc74-4ec7-bebd-35c722571112');\n",
              "          const dataTable =\n",
              "            await google.colab.kernel.invokeFunction('convertToInteractive',\n",
              "                                                     [key], {});\n",
              "          if (!dataTable) return;\n",
              "\n",
              "          const docLinkHtml = 'Like what you see? Visit the ' +\n",
              "            '<a target=\"_blank\" href=https://colab.research.google.com/notebooks/data_table.ipynb>data table notebook</a>'\n",
              "            + ' to learn more about interactive tables.';\n",
              "          element.innerHTML = '';\n",
              "          dataTable['output_type'] = 'display_data';\n",
              "          await google.colab.output.renderOutput(dataTable, element);\n",
              "          const docLink = document.createElement('div');\n",
              "          docLink.innerHTML = docLinkHtml;\n",
              "          element.appendChild(docLink);\n",
              "        }\n",
              "      </script>\n",
              "    </div>\n",
              "  </div>\n",
              "  "
            ]
          },
          "metadata": {},
          "execution_count": 169
        }
      ]
    },
    {
      "cell_type": "code",
      "source": [
        ""
      ],
      "metadata": {
        "id": "r79NIt7X8KPb"
      },
      "execution_count": null,
      "outputs": []
    }
  ]
}