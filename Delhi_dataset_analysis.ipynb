{
  "nbformat": 4,
  "nbformat_minor": 0,
  "metadata": {
    "colab": {
      "name": "Delhi dataset analysis.ipynb",
      "provenance": [],
      "mount_file_id": "1XWfJDAcIr9WA2B78WfKgs-H_edv6Ehfb",
      "authorship_tag": "ABX9TyN2j9PHMeL6NFA83LoGNTht",
      "include_colab_link": true
    },
    "kernelspec": {
      "name": "python3",
      "display_name": "Python 3"
    },
    "language_info": {
      "name": "python"
    }
  },
  "cells": [
    {
      "cell_type": "markdown",
      "metadata": {
        "id": "view-in-github",
        "colab_type": "text"
      },
      "source": [
        "<a href=\"https://colab.research.google.com/github/ShubhamCJagtap/Capstone_Project_1_EDA/blob/master/Delhi_dataset_analysis.ipynb\" target=\"_parent\"><img src=\"https://colab.research.google.com/assets/colab-badge.svg\" alt=\"Open In Colab\"/></a>"
      ]
    },
    {
      "cell_type": "code",
      "execution_count": 2,
      "metadata": {
        "id": "tD3KSHfjMd_J"
      },
      "outputs": [],
      "source": [
        "import pandas as pd\n",
        "import numpy as np\n",
        "#import mysql.connector as connection # install !pip install mysql.connector\n",
        "import matplotlib.pyplot as plt\n",
        "import seaborn as sns\n",
        "import warnings\n",
        "warnings.filterwarnings('ignore')\n",
        "\n",
        "pd.set_option('display.max_columns',None)\n",
        "pd.set_option('display.max_rows',None)\n",
        "pd.set_option('display.max_colwidth',None)\n",
        "pd.set_option('mode.chained_assignment',None)"
      ]
    },
    {
      "cell_type": "code",
      "source": [
        "from google.colab import drive\n",
        "drive.mount('/content/drive')"
      ],
      "metadata": {
        "id": "V_A9hGubs_Za",
        "outputId": "7dd8b9f0-dfee-44ba-fe64-172cf9c76155",
        "colab": {
          "base_uri": "https://localhost:8080/"
        }
      },
      "execution_count": 1,
      "outputs": [
        {
          "output_type": "stream",
          "name": "stdout",
          "text": [
            "Mounted at /content/drive\n"
          ]
        }
      ]
    },
    {
      "cell_type": "code",
      "source": [
        "df1 = pd.read_csv('/content/drive/MyDrive/Capstone 1 Insaid/Database/events_data.csv')"
      ],
      "metadata": {
        "id": "2jcm7loDMwa5"
      },
      "execution_count": 3,
      "outputs": []
    },
    {
      "cell_type": "code",
      "source": [
        "df2 = pd.read_csv('https://raw.githubusercontent.com/ShubhamCJagtap/Capstone_Project_1_EDA/master/gender_age.csv')"
      ],
      "metadata": {
        "id": "e6fvMH5AMzEG"
      },
      "execution_count": 4,
      "outputs": []
    },
    {
      "cell_type": "code",
      "source": [
        "df3 = pd.read_csv('https://raw.githubusercontent.com/ShubhamCJagtap/Capstone_Project_1_EDA/master/phone_brand_device_model.csv')"
      ],
      "metadata": {
        "id": "_TI8TjHoM44W"
      },
      "execution_count": 5,
      "outputs": []
    },
    {
      "cell_type": "code",
      "source": [
        "df1.columns"
      ],
      "metadata": {
        "colab": {
          "base_uri": "https://localhost:8080/"
        },
        "id": "4-1EYROcM8Fm",
        "outputId": "581ec188-8462-4a07-a7c3-019d41cc38d2"
      },
      "execution_count": 6,
      "outputs": [
        {
          "output_type": "execute_result",
          "data": {
            "text/plain": [
              "Index(['event_id', 'device_id', 'timestamp', 'longitude', 'latitude', 'city',\n",
              "       'state'],\n",
              "      dtype='object')"
            ]
          },
          "metadata": {},
          "execution_count": 6
        }
      ]
    },
    {
      "cell_type": "code",
      "source": [
        "cities = (df1[df1['state']=='Delhi']['city'].unique()).tolist()"
      ],
      "metadata": {
        "id": "Lp6CDwDcNJon"
      },
      "execution_count": 7,
      "outputs": []
    },
    {
      "cell_type": "code",
      "source": [
        "cities"
      ],
      "metadata": {
        "colab": {
          "base_uri": "https://localhost:8080/"
        },
        "id": "1RICjr-ENgXo",
        "outputId": "f2ba15da-3360-41cb-b84a-c9a78f8d12a5"
      },
      "execution_count": 8,
      "outputs": [
        {
          "output_type": "execute_result",
          "data": {
            "text/plain": [
              "['Delhi',\n",
              " 'SultanpurMajra',\n",
              " 'Deoli',\n",
              " 'NiDilli',\n",
              " 'RoshanPura',\n",
              " 'BhalswaJahangirpur',\n",
              " 'Gokalpur',\n",
              " 'Tigri',\n",
              " 'DilliCantonment',\n",
              " 'NangloiJat']"
            ]
          },
          "metadata": {},
          "execution_count": 8
        }
      ]
    },
    {
      "cell_type": "code",
      "source": [
        "len(cities)"
      ],
      "metadata": {
        "colab": {
          "base_uri": "https://localhost:8080/"
        },
        "id": "UUZbLRDcOjA1",
        "outputId": "935d4881-8714-4cc3-f6b7-f555328493cd"
      },
      "execution_count": 9,
      "outputs": [
        {
          "output_type": "execute_result",
          "data": {
            "text/plain": [
              "10"
            ]
          },
          "metadata": {},
          "execution_count": 9
        }
      ]
    },
    {
      "cell_type": "code",
      "source": [
        "df_cities = df1[(df1['city']==cities[0])|\n",
        "    (df1['city']==cities[1])|\n",
        "    (df1['city']==cities[2])|\n",
        "    (df1['city']==cities[3])|\n",
        "    (df1['city']==cities[4])|\n",
        "    (df1['city']==cities[5])|\n",
        "    (df1['city']==cities[6])|\n",
        "    (df1['city']==cities[7])|\n",
        "    (df1['city']==cities[8])|\n",
        "    (df1['city']==cities[9])]"
      ],
      "metadata": {
        "id": "9lyJWFG4NsqH"
      },
      "execution_count": 10,
      "outputs": []
    },
    {
      "cell_type": "code",
      "source": [
        "df_cities['city'].unique(),df_cities['state'].unique()"
      ],
      "metadata": {
        "colab": {
          "base_uri": "https://localhost:8080/"
        },
        "id": "Qf2Sta1aPEhJ",
        "outputId": "9a501c7b-c64c-4c3f-9479-ab0544a08f3b"
      },
      "execution_count": 11,
      "outputs": [
        {
          "output_type": "execute_result",
          "data": {
            "text/plain": [
              "(array(['Delhi', 'SultanpurMajra', 'Deoli', 'NiDilli', 'RoshanPura',\n",
              "        'BhalswaJahangirpur', 'Gokalpur', 'Tigri', 'DilliCantonment',\n",
              "        'NangloiJat'], dtype=object), array(['Delhi', nan], dtype=object))"
            ]
          },
          "metadata": {},
          "execution_count": 11
        }
      ]
    },
    {
      "cell_type": "code",
      "source": [
        "df_cities.isna().sum()"
      ],
      "metadata": {
        "colab": {
          "base_uri": "https://localhost:8080/"
        },
        "id": "P4ALMGiAPZX7",
        "outputId": "6a30011a-9e69-4a2b-dddb-506ecd721865"
      },
      "execution_count": 12,
      "outputs": [
        {
          "output_type": "execute_result",
          "data": {
            "text/plain": [
              "event_id      0\n",
              "device_id    69\n",
              "timestamp     0\n",
              "longitude    63\n",
              "latitude     63\n",
              "city          0\n",
              "state        64\n",
              "dtype: int64"
            ]
          },
          "metadata": {},
          "execution_count": 12
        }
      ]
    },
    {
      "cell_type": "code",
      "source": [
        "df_cities[df_cities['state'].isna()].head()"
      ],
      "metadata": {
        "colab": {
          "base_uri": "https://localhost:8080/",
          "height": 206
        },
        "id": "73ZqjD7PQB5c",
        "outputId": "1e91eafb-0d13-4ef3-f815-a4af8cea5e68"
      },
      "execution_count": 14,
      "outputs": [
        {
          "output_type": "execute_result",
          "data": {
            "text/plain": [
              "        event_id     device_id            timestamp  longitude  latitude  \\\n",
              "58711    1586328 -6.242501e+18  2016-05-02 18:25:36  77.293991  28.74982   \n",
              "146029    191851 -6.242501e+18  2016-05-02 05:50:53  77.293991  28.74982   \n",
              "154676   1813991 -8.340098e+18  2016-05-06 22:03:19  77.305988  28.68898   \n",
              "206994   1804080 -8.340098e+18  2016-05-02 15:35:20  77.305988  28.68898   \n",
              "219532    341684 -6.242501e+18  2016-05-02 08:37:46  77.293991  28.74982   \n",
              "\n",
              "         city state  \n",
              "58711   Delhi   NaN  \n",
              "146029  Delhi   NaN  \n",
              "154676  Delhi   NaN  \n",
              "206994  Delhi   NaN  \n",
              "219532  Delhi   NaN  "
            ],
            "text/html": [
              "\n",
              "  <div id=\"df-94811522-197e-4f5a-9bc1-5879204c80d1\">\n",
              "    <div class=\"colab-df-container\">\n",
              "      <div>\n",
              "<style scoped>\n",
              "    .dataframe tbody tr th:only-of-type {\n",
              "        vertical-align: middle;\n",
              "    }\n",
              "\n",
              "    .dataframe tbody tr th {\n",
              "        vertical-align: top;\n",
              "    }\n",
              "\n",
              "    .dataframe thead th {\n",
              "        text-align: right;\n",
              "    }\n",
              "</style>\n",
              "<table border=\"1\" class=\"dataframe\">\n",
              "  <thead>\n",
              "    <tr style=\"text-align: right;\">\n",
              "      <th></th>\n",
              "      <th>event_id</th>\n",
              "      <th>device_id</th>\n",
              "      <th>timestamp</th>\n",
              "      <th>longitude</th>\n",
              "      <th>latitude</th>\n",
              "      <th>city</th>\n",
              "      <th>state</th>\n",
              "    </tr>\n",
              "  </thead>\n",
              "  <tbody>\n",
              "    <tr>\n",
              "      <th>58711</th>\n",
              "      <td>1586328</td>\n",
              "      <td>-6.242501e+18</td>\n",
              "      <td>2016-05-02 18:25:36</td>\n",
              "      <td>77.293991</td>\n",
              "      <td>28.74982</td>\n",
              "      <td>Delhi</td>\n",
              "      <td>NaN</td>\n",
              "    </tr>\n",
              "    <tr>\n",
              "      <th>146029</th>\n",
              "      <td>191851</td>\n",
              "      <td>-6.242501e+18</td>\n",
              "      <td>2016-05-02 05:50:53</td>\n",
              "      <td>77.293991</td>\n",
              "      <td>28.74982</td>\n",
              "      <td>Delhi</td>\n",
              "      <td>NaN</td>\n",
              "    </tr>\n",
              "    <tr>\n",
              "      <th>154676</th>\n",
              "      <td>1813991</td>\n",
              "      <td>-8.340098e+18</td>\n",
              "      <td>2016-05-06 22:03:19</td>\n",
              "      <td>77.305988</td>\n",
              "      <td>28.68898</td>\n",
              "      <td>Delhi</td>\n",
              "      <td>NaN</td>\n",
              "    </tr>\n",
              "    <tr>\n",
              "      <th>206994</th>\n",
              "      <td>1804080</td>\n",
              "      <td>-8.340098e+18</td>\n",
              "      <td>2016-05-02 15:35:20</td>\n",
              "      <td>77.305988</td>\n",
              "      <td>28.68898</td>\n",
              "      <td>Delhi</td>\n",
              "      <td>NaN</td>\n",
              "    </tr>\n",
              "    <tr>\n",
              "      <th>219532</th>\n",
              "      <td>341684</td>\n",
              "      <td>-6.242501e+18</td>\n",
              "      <td>2016-05-02 08:37:46</td>\n",
              "      <td>77.293991</td>\n",
              "      <td>28.74982</td>\n",
              "      <td>Delhi</td>\n",
              "      <td>NaN</td>\n",
              "    </tr>\n",
              "  </tbody>\n",
              "</table>\n",
              "</div>\n",
              "      <button class=\"colab-df-convert\" onclick=\"convertToInteractive('df-94811522-197e-4f5a-9bc1-5879204c80d1')\"\n",
              "              title=\"Convert this dataframe to an interactive table.\"\n",
              "              style=\"display:none;\">\n",
              "        \n",
              "  <svg xmlns=\"http://www.w3.org/2000/svg\" height=\"24px\"viewBox=\"0 0 24 24\"\n",
              "       width=\"24px\">\n",
              "    <path d=\"M0 0h24v24H0V0z\" fill=\"none\"/>\n",
              "    <path d=\"M18.56 5.44l.94 2.06.94-2.06 2.06-.94-2.06-.94-.94-2.06-.94 2.06-2.06.94zm-11 1L8.5 8.5l.94-2.06 2.06-.94-2.06-.94L8.5 2.5l-.94 2.06-2.06.94zm10 10l.94 2.06.94-2.06 2.06-.94-2.06-.94-.94-2.06-.94 2.06-2.06.94z\"/><path d=\"M17.41 7.96l-1.37-1.37c-.4-.4-.92-.59-1.43-.59-.52 0-1.04.2-1.43.59L10.3 9.45l-7.72 7.72c-.78.78-.78 2.05 0 2.83L4 21.41c.39.39.9.59 1.41.59.51 0 1.02-.2 1.41-.59l7.78-7.78 2.81-2.81c.8-.78.8-2.07 0-2.86zM5.41 20L4 18.59l7.72-7.72 1.47 1.35L5.41 20z\"/>\n",
              "  </svg>\n",
              "      </button>\n",
              "      \n",
              "  <style>\n",
              "    .colab-df-container {\n",
              "      display:flex;\n",
              "      flex-wrap:wrap;\n",
              "      gap: 12px;\n",
              "    }\n",
              "\n",
              "    .colab-df-convert {\n",
              "      background-color: #E8F0FE;\n",
              "      border: none;\n",
              "      border-radius: 50%;\n",
              "      cursor: pointer;\n",
              "      display: none;\n",
              "      fill: #1967D2;\n",
              "      height: 32px;\n",
              "      padding: 0 0 0 0;\n",
              "      width: 32px;\n",
              "    }\n",
              "\n",
              "    .colab-df-convert:hover {\n",
              "      background-color: #E2EBFA;\n",
              "      box-shadow: 0px 1px 2px rgba(60, 64, 67, 0.3), 0px 1px 3px 1px rgba(60, 64, 67, 0.15);\n",
              "      fill: #174EA6;\n",
              "    }\n",
              "\n",
              "    [theme=dark] .colab-df-convert {\n",
              "      background-color: #3B4455;\n",
              "      fill: #D2E3FC;\n",
              "    }\n",
              "\n",
              "    [theme=dark] .colab-df-convert:hover {\n",
              "      background-color: #434B5C;\n",
              "      box-shadow: 0px 1px 3px 1px rgba(0, 0, 0, 0.15);\n",
              "      filter: drop-shadow(0px 1px 2px rgba(0, 0, 0, 0.3));\n",
              "      fill: #FFFFFF;\n",
              "    }\n",
              "  </style>\n",
              "\n",
              "      <script>\n",
              "        const buttonEl =\n",
              "          document.querySelector('#df-94811522-197e-4f5a-9bc1-5879204c80d1 button.colab-df-convert');\n",
              "        buttonEl.style.display =\n",
              "          google.colab.kernel.accessAllowed ? 'block' : 'none';\n",
              "\n",
              "        async function convertToInteractive(key) {\n",
              "          const element = document.querySelector('#df-94811522-197e-4f5a-9bc1-5879204c80d1');\n",
              "          const dataTable =\n",
              "            await google.colab.kernel.invokeFunction('convertToInteractive',\n",
              "                                                     [key], {});\n",
              "          if (!dataTable) return;\n",
              "\n",
              "          const docLinkHtml = 'Like what you see? Visit the ' +\n",
              "            '<a target=\"_blank\" href=https://colab.research.google.com/notebooks/data_table.ipynb>data table notebook</a>'\n",
              "            + ' to learn more about interactive tables.';\n",
              "          element.innerHTML = '';\n",
              "          dataTable['output_type'] = 'display_data';\n",
              "          await google.colab.output.renderOutput(dataTable, element);\n",
              "          const docLink = document.createElement('div');\n",
              "          docLink.innerHTML = docLinkHtml;\n",
              "          element.appendChild(docLink);\n",
              "        }\n",
              "      </script>\n",
              "    </div>\n",
              "  </div>\n",
              "  "
            ]
          },
          "metadata": {},
          "execution_count": 14
        }
      ]
    },
    {
      "cell_type": "code",
      "source": [
        "df_cities['state'].fillna('Delhi',inplace=True)"
      ],
      "metadata": {
        "id": "pP8-kyByQOCb"
      },
      "execution_count": 15,
      "outputs": []
    },
    {
      "cell_type": "code",
      "source": [
        "df_cities.isna().sum(),df_cities.nunique()"
      ],
      "metadata": {
        "colab": {
          "base_uri": "https://localhost:8080/"
        },
        "id": "vsMT_2_SRLuO",
        "outputId": "c51945c1-58a4-4eab-dbc4-2267ebbc6e58"
      },
      "execution_count": 23,
      "outputs": [
        {
          "output_type": "execute_result",
          "data": {
            "text/plain": [
              "(event_id      0\n",
              " device_id    69\n",
              " timestamp     0\n",
              " longitude    63\n",
              " latitude     63\n",
              " city          0\n",
              " state         0\n",
              " dtype: int64, event_id     751797\n",
              " device_id      4909\n",
              " timestamp    412099\n",
              " longitude      4795\n",
              " latitude       4789\n",
              " city             10\n",
              " state             1\n",
              " dtype: int64)"
            ]
          },
          "metadata": {},
          "execution_count": 23
        }
      ]
    },
    {
      "cell_type": "code",
      "source": [
        "df_cities.to_csv('Dataset_for_delhi.csv')"
      ],
      "metadata": {
        "id": "mQ5grMA5RSQt"
      },
      "execution_count": null,
      "outputs": []
    },
    {
      "cell_type": "code",
      "source": [
        "df_cities[(df_cities['longitude'].isna())&(df_cities['latitude'].isna())].head()"
      ],
      "metadata": {
        "colab": {
          "base_uri": "https://localhost:8080/",
          "height": 206
        },
        "id": "mJA_-MHpTj1L",
        "outputId": "b5ce983e-1858-4209-8a73-16ac8c9dc765"
      },
      "execution_count": 18,
      "outputs": [
        {
          "output_type": "execute_result",
          "data": {
            "text/plain": [
              "        event_id     device_id            timestamp  longitude  latitude  \\\n",
              "8015     2929521  1.779631e+18  2016-05-05 01:15:22        NaN       NaN   \n",
              "35009    1039863  5.375599e+18  2016-05-01 14:40:31        NaN       NaN   \n",
              "91559    2527074  5.375599e+18  2016-05-07 17:51:23        NaN       NaN   \n",
              "102308   2922517  1.779631e+18  2016-05-01 21:50:03        NaN       NaN   \n",
              "119754   2869070  4.782582e+18  2016-05-01 02:35:12        NaN       NaN   \n",
              "\n",
              "         city  state  \n",
              "8015    Delhi  Delhi  \n",
              "35009   Delhi  Delhi  \n",
              "91559   Delhi  Delhi  \n",
              "102308  Delhi  Delhi  \n",
              "119754  Delhi  Delhi  "
            ],
            "text/html": [
              "\n",
              "  <div id=\"df-1611235e-80b4-4aee-8c06-0647d41496fe\">\n",
              "    <div class=\"colab-df-container\">\n",
              "      <div>\n",
              "<style scoped>\n",
              "    .dataframe tbody tr th:only-of-type {\n",
              "        vertical-align: middle;\n",
              "    }\n",
              "\n",
              "    .dataframe tbody tr th {\n",
              "        vertical-align: top;\n",
              "    }\n",
              "\n",
              "    .dataframe thead th {\n",
              "        text-align: right;\n",
              "    }\n",
              "</style>\n",
              "<table border=\"1\" class=\"dataframe\">\n",
              "  <thead>\n",
              "    <tr style=\"text-align: right;\">\n",
              "      <th></th>\n",
              "      <th>event_id</th>\n",
              "      <th>device_id</th>\n",
              "      <th>timestamp</th>\n",
              "      <th>longitude</th>\n",
              "      <th>latitude</th>\n",
              "      <th>city</th>\n",
              "      <th>state</th>\n",
              "    </tr>\n",
              "  </thead>\n",
              "  <tbody>\n",
              "    <tr>\n",
              "      <th>8015</th>\n",
              "      <td>2929521</td>\n",
              "      <td>1.779631e+18</td>\n",
              "      <td>2016-05-05 01:15:22</td>\n",
              "      <td>NaN</td>\n",
              "      <td>NaN</td>\n",
              "      <td>Delhi</td>\n",
              "      <td>Delhi</td>\n",
              "    </tr>\n",
              "    <tr>\n",
              "      <th>35009</th>\n",
              "      <td>1039863</td>\n",
              "      <td>5.375599e+18</td>\n",
              "      <td>2016-05-01 14:40:31</td>\n",
              "      <td>NaN</td>\n",
              "      <td>NaN</td>\n",
              "      <td>Delhi</td>\n",
              "      <td>Delhi</td>\n",
              "    </tr>\n",
              "    <tr>\n",
              "      <th>91559</th>\n",
              "      <td>2527074</td>\n",
              "      <td>5.375599e+18</td>\n",
              "      <td>2016-05-07 17:51:23</td>\n",
              "      <td>NaN</td>\n",
              "      <td>NaN</td>\n",
              "      <td>Delhi</td>\n",
              "      <td>Delhi</td>\n",
              "    </tr>\n",
              "    <tr>\n",
              "      <th>102308</th>\n",
              "      <td>2922517</td>\n",
              "      <td>1.779631e+18</td>\n",
              "      <td>2016-05-01 21:50:03</td>\n",
              "      <td>NaN</td>\n",
              "      <td>NaN</td>\n",
              "      <td>Delhi</td>\n",
              "      <td>Delhi</td>\n",
              "    </tr>\n",
              "    <tr>\n",
              "      <th>119754</th>\n",
              "      <td>2869070</td>\n",
              "      <td>4.782582e+18</td>\n",
              "      <td>2016-05-01 02:35:12</td>\n",
              "      <td>NaN</td>\n",
              "      <td>NaN</td>\n",
              "      <td>Delhi</td>\n",
              "      <td>Delhi</td>\n",
              "    </tr>\n",
              "  </tbody>\n",
              "</table>\n",
              "</div>\n",
              "      <button class=\"colab-df-convert\" onclick=\"convertToInteractive('df-1611235e-80b4-4aee-8c06-0647d41496fe')\"\n",
              "              title=\"Convert this dataframe to an interactive table.\"\n",
              "              style=\"display:none;\">\n",
              "        \n",
              "  <svg xmlns=\"http://www.w3.org/2000/svg\" height=\"24px\"viewBox=\"0 0 24 24\"\n",
              "       width=\"24px\">\n",
              "    <path d=\"M0 0h24v24H0V0z\" fill=\"none\"/>\n",
              "    <path d=\"M18.56 5.44l.94 2.06.94-2.06 2.06-.94-2.06-.94-.94-2.06-.94 2.06-2.06.94zm-11 1L8.5 8.5l.94-2.06 2.06-.94-2.06-.94L8.5 2.5l-.94 2.06-2.06.94zm10 10l.94 2.06.94-2.06 2.06-.94-2.06-.94-.94-2.06-.94 2.06-2.06.94z\"/><path d=\"M17.41 7.96l-1.37-1.37c-.4-.4-.92-.59-1.43-.59-.52 0-1.04.2-1.43.59L10.3 9.45l-7.72 7.72c-.78.78-.78 2.05 0 2.83L4 21.41c.39.39.9.59 1.41.59.51 0 1.02-.2 1.41-.59l7.78-7.78 2.81-2.81c.8-.78.8-2.07 0-2.86zM5.41 20L4 18.59l7.72-7.72 1.47 1.35L5.41 20z\"/>\n",
              "  </svg>\n",
              "      </button>\n",
              "      \n",
              "  <style>\n",
              "    .colab-df-container {\n",
              "      display:flex;\n",
              "      flex-wrap:wrap;\n",
              "      gap: 12px;\n",
              "    }\n",
              "\n",
              "    .colab-df-convert {\n",
              "      background-color: #E8F0FE;\n",
              "      border: none;\n",
              "      border-radius: 50%;\n",
              "      cursor: pointer;\n",
              "      display: none;\n",
              "      fill: #1967D2;\n",
              "      height: 32px;\n",
              "      padding: 0 0 0 0;\n",
              "      width: 32px;\n",
              "    }\n",
              "\n",
              "    .colab-df-convert:hover {\n",
              "      background-color: #E2EBFA;\n",
              "      box-shadow: 0px 1px 2px rgba(60, 64, 67, 0.3), 0px 1px 3px 1px rgba(60, 64, 67, 0.15);\n",
              "      fill: #174EA6;\n",
              "    }\n",
              "\n",
              "    [theme=dark] .colab-df-convert {\n",
              "      background-color: #3B4455;\n",
              "      fill: #D2E3FC;\n",
              "    }\n",
              "\n",
              "    [theme=dark] .colab-df-convert:hover {\n",
              "      background-color: #434B5C;\n",
              "      box-shadow: 0px 1px 3px 1px rgba(0, 0, 0, 0.15);\n",
              "      filter: drop-shadow(0px 1px 2px rgba(0, 0, 0, 0.3));\n",
              "      fill: #FFFFFF;\n",
              "    }\n",
              "  </style>\n",
              "\n",
              "      <script>\n",
              "        const buttonEl =\n",
              "          document.querySelector('#df-1611235e-80b4-4aee-8c06-0647d41496fe button.colab-df-convert');\n",
              "        buttonEl.style.display =\n",
              "          google.colab.kernel.accessAllowed ? 'block' : 'none';\n",
              "\n",
              "        async function convertToInteractive(key) {\n",
              "          const element = document.querySelector('#df-1611235e-80b4-4aee-8c06-0647d41496fe');\n",
              "          const dataTable =\n",
              "            await google.colab.kernel.invokeFunction('convertToInteractive',\n",
              "                                                     [key], {});\n",
              "          if (!dataTable) return;\n",
              "\n",
              "          const docLinkHtml = 'Like what you see? Visit the ' +\n",
              "            '<a target=\"_blank\" href=https://colab.research.google.com/notebooks/data_table.ipynb>data table notebook</a>'\n",
              "            + ' to learn more about interactive tables.';\n",
              "          element.innerHTML = '';\n",
              "          dataTable['output_type'] = 'display_data';\n",
              "          await google.colab.output.renderOutput(dataTable, element);\n",
              "          const docLink = document.createElement('div');\n",
              "          docLink.innerHTML = docLinkHtml;\n",
              "          element.appendChild(docLink);\n",
              "        }\n",
              "      </script>\n",
              "    </div>\n",
              "  </div>\n",
              "  "
            ]
          },
          "metadata": {},
          "execution_count": 18
        }
      ]
    },
    {
      "cell_type": "code",
      "source": [
        "df_cities[(df_cities['longitude'].isna())&(df_cities['latitude'].isna())].shape"
      ],
      "metadata": {
        "colab": {
          "base_uri": "https://localhost:8080/"
        },
        "id": "KNHhIfW1TyRj",
        "outputId": "57d20099-2c48-4ef4-9003-ca498976d0cf"
      },
      "execution_count": 19,
      "outputs": [
        {
          "output_type": "execute_result",
          "data": {
            "text/plain": [
              "(63, 7)"
            ]
          },
          "metadata": {},
          "execution_count": 19
        }
      ]
    },
    {
      "cell_type": "code",
      "source": [
        "(df_cities[(df_cities['longitude'].isna())|(df_cities['latitude'].isna())]==df_cities[(df_cities['longitude'].isna())&(df_cities['latitude'].isna())]).shape"
      ],
      "metadata": {
        "colab": {
          "base_uri": "https://localhost:8080/"
        },
        "id": "kf52IpRRT7n1",
        "outputId": "b6f8c526-aead-4036-8672-77c99c6f52ca"
      },
      "execution_count": 20,
      "outputs": [
        {
          "output_type": "execute_result",
          "data": {
            "text/plain": [
              "(63, 7)"
            ]
          },
          "metadata": {},
          "execution_count": 20
        }
      ]
    },
    {
      "cell_type": "code",
      "source": [
        "df_cities[(df_cities['longitude'].isna())&(df_cities['latitude'].isna())&(df_cities['device_id'].isna())].shape"
      ],
      "metadata": {
        "colab": {
          "base_uri": "https://localhost:8080/"
        },
        "id": "uFCdkNtJUFRD",
        "outputId": "4712f543-18a2-4a35-80f0-024cbd9cab7a"
      },
      "execution_count": 21,
      "outputs": [
        {
          "output_type": "execute_result",
          "data": {
            "text/plain": [
              "(0, 7)"
            ]
          },
          "metadata": {},
          "execution_count": 21
        }
      ]
    },
    {
      "cell_type": "code",
      "source": [
        "device_id_lat_lon_missing = df_cities[(df_cities['longitude'].isna())&(df_cities['latitude'].isna())]['device_id'].unique()"
      ],
      "metadata": {
        "id": "ClDgUZEWVO6H"
      },
      "execution_count": 25,
      "outputs": []
    },
    {
      "cell_type": "code",
      "source": [
        "device_id_lat_lon_missing"
      ],
      "metadata": {
        "id": "u9R_39nAvp3S",
        "outputId": "49c8625a-82b6-46e6-c18f-ec0c6540d446",
        "colab": {
          "base_uri": "https://localhost:8080/"
        }
      },
      "execution_count": 45,
      "outputs": [
        {
          "output_type": "execute_result",
          "data": {
            "text/plain": [
              "array([1.77963102e+18, 5.37559902e+18, 4.78258205e+18])"
            ]
          },
          "metadata": {},
          "execution_count": 45
        }
      ]
    },
    {
      "cell_type": "code",
      "source": [
        "lst_id_lat_lon = []\n",
        "for i in device_id_lat_lon_missing:\n",
        "  a = df_cities[(df_cities['longitude'].isna()==False)&(df_cities['latitude'].isna()==False)&(df_cities['device_id']==i)][['device_id','longitude','latitude']].value_counts()\n",
        "  lst_id_lat_lon.append(a.index.values)"
      ],
      "metadata": {
        "id": "gT6OJuctXGEA"
      },
      "execution_count": 33,
      "outputs": []
    },
    {
      "cell_type": "code",
      "source": [
        "id = []\n",
        "lat = []\n",
        "lon = []\n",
        "for j in lst_id_lat_lon:\n",
        "  id.append(j[0][0])\n",
        "  lat.append(j[0][1])\n",
        "  lon.append(j[0][2])"
      ],
      "metadata": {
        "id": "bC-sdcX7ubU0"
      },
      "execution_count": 56,
      "outputs": []
    },
    {
      "cell_type": "code",
      "source": [
        "id,lat,lon"
      ],
      "metadata": {
        "id": "Tvrhgtq3vVXU",
        "outputId": "a3710985-7a72-45fd-9a86-e3c169da8b43",
        "colab": {
          "base_uri": "https://localhost:8080/"
        }
      },
      "execution_count": 57,
      "outputs": [
        {
          "output_type": "execute_result",
          "data": {
            "text/plain": [
              "([1.7796310234394053e+18, 5.375599021847303e+18, 4.782582047729166e+18],\n",
              " [77.235416, 77.283447, 77.22522],\n",
              " [28.738901, 28.718392, 28.718379])"
            ]
          },
          "metadata": {},
          "execution_count": 57
        }
      ]
    },
    {
      "cell_type": "code",
      "source": [
        ""
      ],
      "metadata": {
        "id": "MqZp5qZWyXd2"
      },
      "execution_count": null,
      "outputs": []
    }
  ]
}