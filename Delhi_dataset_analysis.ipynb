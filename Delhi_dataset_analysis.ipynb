{
  "nbformat": 4,
  "nbformat_minor": 0,
  "metadata": {
    "colab": {
      "name": "Delhi dataset analysis.ipynb",
      "provenance": [],
      "mount_file_id": "1XWfJDAcIr9WA2B78WfKgs-H_edv6Ehfb",
      "authorship_tag": "ABX9TyO0QCR3XUvwjuEIS7udojvK",
      "include_colab_link": true
    },
    "kernelspec": {
      "name": "python3",
      "display_name": "Python 3"
    },
    "language_info": {
      "name": "python"
    }
  },
  "cells": [
    {
      "cell_type": "markdown",
      "metadata": {
        "id": "view-in-github",
        "colab_type": "text"
      },
      "source": [
        "<a href=\"https://colab.research.google.com/github/ShubhamCJagtap/Capstone_Project_1_EDA/blob/master/Delhi_dataset_analysis.ipynb\" target=\"_parent\"><img src=\"https://colab.research.google.com/assets/colab-badge.svg\" alt=\"Open In Colab\"/></a>"
      ]
    },
    {
      "cell_type": "code",
      "execution_count": null,
      "metadata": {
        "id": "tD3KSHfjMd_J"
      },
      "outputs": [],
      "source": [
        "import pandas as pd\n",
        "import numpy as np\n",
        "#import mysql.connector as connection # install !pip install mysql.connector\n",
        "import matplotlib.pyplot as plt\n",
        "import seaborn as sns\n",
        "import warnings\n",
        "warnings.filterwarnings('ignore')\n",
        "\n",
        "pd.set_option('display.max_columns',None)\n",
        "pd.set_option('display.max_rows',None)\n",
        "pd.set_option('display.max_colwidth',None)\n",
        "pd.set_option('mode.chained_assignment',None)"
      ]
    },
    {
      "cell_type": "code",
      "source": [
        "from google.colab import drive\n",
        "drive.mount('/content/drive')"
      ],
      "metadata": {
        "colab": {
          "base_uri": "https://localhost:8080/"
        },
        "id": "V_A9hGubs_Za",
        "outputId": "7dd8b9f0-dfee-44ba-fe64-172cf9c76155"
      },
      "execution_count": null,
      "outputs": [
        {
          "output_type": "stream",
          "name": "stdout",
          "text": [
            "Mounted at /content/drive\n"
          ]
        }
      ]
    },
    {
      "cell_type": "code",
      "source": [
        "df1 = pd.read_csv('/content/drive/MyDrive/Capstone 1 Insaid/Database/events_data.csv')"
      ],
      "metadata": {
        "id": "2jcm7loDMwa5"
      },
      "execution_count": null,
      "outputs": []
    },
    {
      "cell_type": "code",
      "source": [
        "df2 = pd.read_csv('https://raw.githubusercontent.com/ShubhamCJagtap/Capstone_Project_1_EDA/master/gender_age.csv',index_col=0)"
      ],
      "metadata": {
        "id": "e6fvMH5AMzEG"
      },
      "execution_count": 65,
      "outputs": []
    },
    {
      "cell_type": "code",
      "source": [
        "df3 = pd.read_csv('https://raw.githubusercontent.com/ShubhamCJagtap/Capstone_Project_1_EDA/master/phone_brand_device_model.csv',index_col=0)"
      ],
      "metadata": {
        "id": "_TI8TjHoM44W"
      },
      "execution_count": 73,
      "outputs": []
    },
    {
      "cell_type": "code",
      "source": [
        "df1.columns"
      ],
      "metadata": {
        "colab": {
          "base_uri": "https://localhost:8080/"
        },
        "id": "4-1EYROcM8Fm",
        "outputId": "a5cc0de6-36aa-454c-ec1a-c07a03bab599"
      },
      "execution_count": null,
      "outputs": [
        {
          "output_type": "execute_result",
          "data": {
            "text/plain": [
              "Index(['event_id', 'device_id', 'timestamp', 'longitude', 'latitude', 'city',\n",
              "       'state'],\n",
              "      dtype='object')"
            ]
          },
          "metadata": {},
          "execution_count": 80
        }
      ]
    },
    {
      "cell_type": "code",
      "source": [
        "cities = (df1[df1['state']=='Delhi']['city'].unique()).tolist()"
      ],
      "metadata": {
        "id": "Lp6CDwDcNJon"
      },
      "execution_count": null,
      "outputs": []
    },
    {
      "cell_type": "code",
      "source": [
        "cities"
      ],
      "metadata": {
        "colab": {
          "base_uri": "https://localhost:8080/"
        },
        "id": "1RICjr-ENgXo",
        "outputId": "e71b6051-450f-4771-abf6-41e6b253bc85"
      },
      "execution_count": null,
      "outputs": [
        {
          "output_type": "execute_result",
          "data": {
            "text/plain": [
              "['Delhi',\n",
              " 'SultanpurMajra',\n",
              " 'Deoli',\n",
              " 'NiDilli',\n",
              " 'RoshanPura',\n",
              " 'BhalswaJahangirpur',\n",
              " 'Gokalpur',\n",
              " 'Tigri',\n",
              " 'DilliCantonment',\n",
              " 'NangloiJat']"
            ]
          },
          "metadata": {},
          "execution_count": 82
        }
      ]
    },
    {
      "cell_type": "code",
      "source": [
        "len(cities)"
      ],
      "metadata": {
        "colab": {
          "base_uri": "https://localhost:8080/"
        },
        "id": "UUZbLRDcOjA1",
        "outputId": "935d4881-8714-4cc3-f6b7-f555328493cd"
      },
      "execution_count": null,
      "outputs": [
        {
          "output_type": "execute_result",
          "data": {
            "text/plain": [
              "10"
            ]
          },
          "metadata": {},
          "execution_count": 9
        }
      ]
    },
    {
      "cell_type": "code",
      "source": [
        "df_cities = df1[(df1['city']==cities[0])|\n",
        "    (df1['city']==cities[1])|\n",
        "    (df1['city']==cities[2])|\n",
        "    (df1['city']==cities[3])|\n",
        "    (df1['city']==cities[4])|\n",
        "    (df1['city']==cities[5])|\n",
        "    (df1['city']==cities[6])|\n",
        "    (df1['city']==cities[7])|\n",
        "    (df1['city']==cities[8])|\n",
        "    (df1['city']==cities[9])]"
      ],
      "metadata": {
        "id": "9lyJWFG4NsqH"
      },
      "execution_count": null,
      "outputs": []
    },
    {
      "cell_type": "code",
      "source": [
        "df_cities['city'].unique(),df_cities['state'].unique()"
      ],
      "metadata": {
        "colab": {
          "base_uri": "https://localhost:8080/"
        },
        "id": "Qf2Sta1aPEhJ",
        "outputId": "600588ff-6d14-4767-d7f5-f0a6819745eb"
      },
      "execution_count": null,
      "outputs": [
        {
          "output_type": "execute_result",
          "data": {
            "text/plain": [
              "(array(['Delhi', 'SultanpurMajra', 'Deoli', 'NiDilli', 'RoshanPura',\n",
              "        'BhalswaJahangirpur', 'Gokalpur', 'Tigri', 'DilliCantonment',\n",
              "        'NangloiJat'], dtype=object), array(['Delhi', nan], dtype=object))"
            ]
          },
          "metadata": {},
          "execution_count": 84
        }
      ]
    },
    {
      "cell_type": "code",
      "source": [
        "df_cities.isna().sum()"
      ],
      "metadata": {
        "colab": {
          "base_uri": "https://localhost:8080/"
        },
        "id": "P4ALMGiAPZX7",
        "outputId": "90e0ff8e-e0d0-46c3-f7e6-ff6bf131de09"
      },
      "execution_count": null,
      "outputs": [
        {
          "output_type": "execute_result",
          "data": {
            "text/plain": [
              "event_id      0\n",
              "device_id    69\n",
              "timestamp     0\n",
              "longitude    63\n",
              "latitude     63\n",
              "city          0\n",
              "state        64\n",
              "dtype: int64"
            ]
          },
          "metadata": {},
          "execution_count": 85
        }
      ]
    },
    {
      "cell_type": "code",
      "source": [
        "df_cities[df_cities['state'].isna()].head()"
      ],
      "metadata": {
        "colab": {
          "base_uri": "https://localhost:8080/",
          "height": 206
        },
        "id": "73ZqjD7PQB5c",
        "outputId": "aa2f858c-b7cc-405b-940d-26126105311a"
      },
      "execution_count": null,
      "outputs": [
        {
          "output_type": "execute_result",
          "data": {
            "text/plain": [
              "        event_id     device_id            timestamp  longitude  latitude  \\\n",
              "58711    1586328 -6.242501e+18  2016-05-02 18:25:36  77.293991  28.74982   \n",
              "146029    191851 -6.242501e+18  2016-05-02 05:50:53  77.293991  28.74982   \n",
              "154676   1813991 -8.340098e+18  2016-05-06 22:03:19  77.305988  28.68898   \n",
              "206994   1804080 -8.340098e+18  2016-05-02 15:35:20  77.305988  28.68898   \n",
              "219532    341684 -6.242501e+18  2016-05-02 08:37:46  77.293991  28.74982   \n",
              "\n",
              "         city state  \n",
              "58711   Delhi   NaN  \n",
              "146029  Delhi   NaN  \n",
              "154676  Delhi   NaN  \n",
              "206994  Delhi   NaN  \n",
              "219532  Delhi   NaN  "
            ],
            "text/html": [
              "\n",
              "  <div id=\"df-67dda7ff-a051-484a-bfa2-e770678ac6d0\">\n",
              "    <div class=\"colab-df-container\">\n",
              "      <div>\n",
              "<style scoped>\n",
              "    .dataframe tbody tr th:only-of-type {\n",
              "        vertical-align: middle;\n",
              "    }\n",
              "\n",
              "    .dataframe tbody tr th {\n",
              "        vertical-align: top;\n",
              "    }\n",
              "\n",
              "    .dataframe thead th {\n",
              "        text-align: right;\n",
              "    }\n",
              "</style>\n",
              "<table border=\"1\" class=\"dataframe\">\n",
              "  <thead>\n",
              "    <tr style=\"text-align: right;\">\n",
              "      <th></th>\n",
              "      <th>event_id</th>\n",
              "      <th>device_id</th>\n",
              "      <th>timestamp</th>\n",
              "      <th>longitude</th>\n",
              "      <th>latitude</th>\n",
              "      <th>city</th>\n",
              "      <th>state</th>\n",
              "    </tr>\n",
              "  </thead>\n",
              "  <tbody>\n",
              "    <tr>\n",
              "      <th>58711</th>\n",
              "      <td>1586328</td>\n",
              "      <td>-6.242501e+18</td>\n",
              "      <td>2016-05-02 18:25:36</td>\n",
              "      <td>77.293991</td>\n",
              "      <td>28.74982</td>\n",
              "      <td>Delhi</td>\n",
              "      <td>NaN</td>\n",
              "    </tr>\n",
              "    <tr>\n",
              "      <th>146029</th>\n",
              "      <td>191851</td>\n",
              "      <td>-6.242501e+18</td>\n",
              "      <td>2016-05-02 05:50:53</td>\n",
              "      <td>77.293991</td>\n",
              "      <td>28.74982</td>\n",
              "      <td>Delhi</td>\n",
              "      <td>NaN</td>\n",
              "    </tr>\n",
              "    <tr>\n",
              "      <th>154676</th>\n",
              "      <td>1813991</td>\n",
              "      <td>-8.340098e+18</td>\n",
              "      <td>2016-05-06 22:03:19</td>\n",
              "      <td>77.305988</td>\n",
              "      <td>28.68898</td>\n",
              "      <td>Delhi</td>\n",
              "      <td>NaN</td>\n",
              "    </tr>\n",
              "    <tr>\n",
              "      <th>206994</th>\n",
              "      <td>1804080</td>\n",
              "      <td>-8.340098e+18</td>\n",
              "      <td>2016-05-02 15:35:20</td>\n",
              "      <td>77.305988</td>\n",
              "      <td>28.68898</td>\n",
              "      <td>Delhi</td>\n",
              "      <td>NaN</td>\n",
              "    </tr>\n",
              "    <tr>\n",
              "      <th>219532</th>\n",
              "      <td>341684</td>\n",
              "      <td>-6.242501e+18</td>\n",
              "      <td>2016-05-02 08:37:46</td>\n",
              "      <td>77.293991</td>\n",
              "      <td>28.74982</td>\n",
              "      <td>Delhi</td>\n",
              "      <td>NaN</td>\n",
              "    </tr>\n",
              "  </tbody>\n",
              "</table>\n",
              "</div>\n",
              "      <button class=\"colab-df-convert\" onclick=\"convertToInteractive('df-67dda7ff-a051-484a-bfa2-e770678ac6d0')\"\n",
              "              title=\"Convert this dataframe to an interactive table.\"\n",
              "              style=\"display:none;\">\n",
              "        \n",
              "  <svg xmlns=\"http://www.w3.org/2000/svg\" height=\"24px\"viewBox=\"0 0 24 24\"\n",
              "       width=\"24px\">\n",
              "    <path d=\"M0 0h24v24H0V0z\" fill=\"none\"/>\n",
              "    <path d=\"M18.56 5.44l.94 2.06.94-2.06 2.06-.94-2.06-.94-.94-2.06-.94 2.06-2.06.94zm-11 1L8.5 8.5l.94-2.06 2.06-.94-2.06-.94L8.5 2.5l-.94 2.06-2.06.94zm10 10l.94 2.06.94-2.06 2.06-.94-2.06-.94-.94-2.06-.94 2.06-2.06.94z\"/><path d=\"M17.41 7.96l-1.37-1.37c-.4-.4-.92-.59-1.43-.59-.52 0-1.04.2-1.43.59L10.3 9.45l-7.72 7.72c-.78.78-.78 2.05 0 2.83L4 21.41c.39.39.9.59 1.41.59.51 0 1.02-.2 1.41-.59l7.78-7.78 2.81-2.81c.8-.78.8-2.07 0-2.86zM5.41 20L4 18.59l7.72-7.72 1.47 1.35L5.41 20z\"/>\n",
              "  </svg>\n",
              "      </button>\n",
              "      \n",
              "  <style>\n",
              "    .colab-df-container {\n",
              "      display:flex;\n",
              "      flex-wrap:wrap;\n",
              "      gap: 12px;\n",
              "    }\n",
              "\n",
              "    .colab-df-convert {\n",
              "      background-color: #E8F0FE;\n",
              "      border: none;\n",
              "      border-radius: 50%;\n",
              "      cursor: pointer;\n",
              "      display: none;\n",
              "      fill: #1967D2;\n",
              "      height: 32px;\n",
              "      padding: 0 0 0 0;\n",
              "      width: 32px;\n",
              "    }\n",
              "\n",
              "    .colab-df-convert:hover {\n",
              "      background-color: #E2EBFA;\n",
              "      box-shadow: 0px 1px 2px rgba(60, 64, 67, 0.3), 0px 1px 3px 1px rgba(60, 64, 67, 0.15);\n",
              "      fill: #174EA6;\n",
              "    }\n",
              "\n",
              "    [theme=dark] .colab-df-convert {\n",
              "      background-color: #3B4455;\n",
              "      fill: #D2E3FC;\n",
              "    }\n",
              "\n",
              "    [theme=dark] .colab-df-convert:hover {\n",
              "      background-color: #434B5C;\n",
              "      box-shadow: 0px 1px 3px 1px rgba(0, 0, 0, 0.15);\n",
              "      filter: drop-shadow(0px 1px 2px rgba(0, 0, 0, 0.3));\n",
              "      fill: #FFFFFF;\n",
              "    }\n",
              "  </style>\n",
              "\n",
              "      <script>\n",
              "        const buttonEl =\n",
              "          document.querySelector('#df-67dda7ff-a051-484a-bfa2-e770678ac6d0 button.colab-df-convert');\n",
              "        buttonEl.style.display =\n",
              "          google.colab.kernel.accessAllowed ? 'block' : 'none';\n",
              "\n",
              "        async function convertToInteractive(key) {\n",
              "          const element = document.querySelector('#df-67dda7ff-a051-484a-bfa2-e770678ac6d0');\n",
              "          const dataTable =\n",
              "            await google.colab.kernel.invokeFunction('convertToInteractive',\n",
              "                                                     [key], {});\n",
              "          if (!dataTable) return;\n",
              "\n",
              "          const docLinkHtml = 'Like what you see? Visit the ' +\n",
              "            '<a target=\"_blank\" href=https://colab.research.google.com/notebooks/data_table.ipynb>data table notebook</a>'\n",
              "            + ' to learn more about interactive tables.';\n",
              "          element.innerHTML = '';\n",
              "          dataTable['output_type'] = 'display_data';\n",
              "          await google.colab.output.renderOutput(dataTable, element);\n",
              "          const docLink = document.createElement('div');\n",
              "          docLink.innerHTML = docLinkHtml;\n",
              "          element.appendChild(docLink);\n",
              "        }\n",
              "      </script>\n",
              "    </div>\n",
              "  </div>\n",
              "  "
            ]
          },
          "metadata": {},
          "execution_count": 86
        }
      ]
    },
    {
      "cell_type": "code",
      "source": [
        "df_cities['state'].fillna('Delhi',inplace=True)"
      ],
      "metadata": {
        "id": "pP8-kyByQOCb"
      },
      "execution_count": null,
      "outputs": []
    },
    {
      "cell_type": "code",
      "source": [
        "df_cities.isna().sum(),df_cities.nunique()"
      ],
      "metadata": {
        "colab": {
          "base_uri": "https://localhost:8080/"
        },
        "id": "vsMT_2_SRLuO",
        "outputId": "324d04ff-d8d9-4d81-93c2-3d4af1cc1b77"
      },
      "execution_count": null,
      "outputs": [
        {
          "output_type": "execute_result",
          "data": {
            "text/plain": [
              "(event_id      0\n",
              " device_id    69\n",
              " timestamp     0\n",
              " longitude    63\n",
              " latitude     63\n",
              " city          0\n",
              " state         0\n",
              " dtype: int64, event_id     751797\n",
              " device_id      4909\n",
              " timestamp    412099\n",
              " longitude      4795\n",
              " latitude       4789\n",
              " city             10\n",
              " state             1\n",
              " dtype: int64)"
            ]
          },
          "metadata": {},
          "execution_count": 88
        }
      ]
    },
    {
      "cell_type": "code",
      "source": [
        "df_cities.to_csv('Dataset_for_delhi.csv')"
      ],
      "metadata": {
        "id": "mQ5grMA5RSQt"
      },
      "execution_count": null,
      "outputs": []
    },
    {
      "cell_type": "code",
      "source": [
        "df_cities[(df_cities['longitude'].isna())&(df_cities['latitude'].isna())].head()"
      ],
      "metadata": {
        "colab": {
          "base_uri": "https://localhost:8080/",
          "height": 206
        },
        "id": "mJA_-MHpTj1L",
        "outputId": "b5ce983e-1858-4209-8a73-16ac8c9dc765"
      },
      "execution_count": null,
      "outputs": [
        {
          "output_type": "execute_result",
          "data": {
            "text/plain": [
              "        event_id     device_id            timestamp  longitude  latitude  \\\n",
              "8015     2929521  1.779631e+18  2016-05-05 01:15:22        NaN       NaN   \n",
              "35009    1039863  5.375599e+18  2016-05-01 14:40:31        NaN       NaN   \n",
              "91559    2527074  5.375599e+18  2016-05-07 17:51:23        NaN       NaN   \n",
              "102308   2922517  1.779631e+18  2016-05-01 21:50:03        NaN       NaN   \n",
              "119754   2869070  4.782582e+18  2016-05-01 02:35:12        NaN       NaN   \n",
              "\n",
              "         city  state  \n",
              "8015    Delhi  Delhi  \n",
              "35009   Delhi  Delhi  \n",
              "91559   Delhi  Delhi  \n",
              "102308  Delhi  Delhi  \n",
              "119754  Delhi  Delhi  "
            ],
            "text/html": [
              "\n",
              "  <div id=\"df-1611235e-80b4-4aee-8c06-0647d41496fe\">\n",
              "    <div class=\"colab-df-container\">\n",
              "      <div>\n",
              "<style scoped>\n",
              "    .dataframe tbody tr th:only-of-type {\n",
              "        vertical-align: middle;\n",
              "    }\n",
              "\n",
              "    .dataframe tbody tr th {\n",
              "        vertical-align: top;\n",
              "    }\n",
              "\n",
              "    .dataframe thead th {\n",
              "        text-align: right;\n",
              "    }\n",
              "</style>\n",
              "<table border=\"1\" class=\"dataframe\">\n",
              "  <thead>\n",
              "    <tr style=\"text-align: right;\">\n",
              "      <th></th>\n",
              "      <th>event_id</th>\n",
              "      <th>device_id</th>\n",
              "      <th>timestamp</th>\n",
              "      <th>longitude</th>\n",
              "      <th>latitude</th>\n",
              "      <th>city</th>\n",
              "      <th>state</th>\n",
              "    </tr>\n",
              "  </thead>\n",
              "  <tbody>\n",
              "    <tr>\n",
              "      <th>8015</th>\n",
              "      <td>2929521</td>\n",
              "      <td>1.779631e+18</td>\n",
              "      <td>2016-05-05 01:15:22</td>\n",
              "      <td>NaN</td>\n",
              "      <td>NaN</td>\n",
              "      <td>Delhi</td>\n",
              "      <td>Delhi</td>\n",
              "    </tr>\n",
              "    <tr>\n",
              "      <th>35009</th>\n",
              "      <td>1039863</td>\n",
              "      <td>5.375599e+18</td>\n",
              "      <td>2016-05-01 14:40:31</td>\n",
              "      <td>NaN</td>\n",
              "      <td>NaN</td>\n",
              "      <td>Delhi</td>\n",
              "      <td>Delhi</td>\n",
              "    </tr>\n",
              "    <tr>\n",
              "      <th>91559</th>\n",
              "      <td>2527074</td>\n",
              "      <td>5.375599e+18</td>\n",
              "      <td>2016-05-07 17:51:23</td>\n",
              "      <td>NaN</td>\n",
              "      <td>NaN</td>\n",
              "      <td>Delhi</td>\n",
              "      <td>Delhi</td>\n",
              "    </tr>\n",
              "    <tr>\n",
              "      <th>102308</th>\n",
              "      <td>2922517</td>\n",
              "      <td>1.779631e+18</td>\n",
              "      <td>2016-05-01 21:50:03</td>\n",
              "      <td>NaN</td>\n",
              "      <td>NaN</td>\n",
              "      <td>Delhi</td>\n",
              "      <td>Delhi</td>\n",
              "    </tr>\n",
              "    <tr>\n",
              "      <th>119754</th>\n",
              "      <td>2869070</td>\n",
              "      <td>4.782582e+18</td>\n",
              "      <td>2016-05-01 02:35:12</td>\n",
              "      <td>NaN</td>\n",
              "      <td>NaN</td>\n",
              "      <td>Delhi</td>\n",
              "      <td>Delhi</td>\n",
              "    </tr>\n",
              "  </tbody>\n",
              "</table>\n",
              "</div>\n",
              "      <button class=\"colab-df-convert\" onclick=\"convertToInteractive('df-1611235e-80b4-4aee-8c06-0647d41496fe')\"\n",
              "              title=\"Convert this dataframe to an interactive table.\"\n",
              "              style=\"display:none;\">\n",
              "        \n",
              "  <svg xmlns=\"http://www.w3.org/2000/svg\" height=\"24px\"viewBox=\"0 0 24 24\"\n",
              "       width=\"24px\">\n",
              "    <path d=\"M0 0h24v24H0V0z\" fill=\"none\"/>\n",
              "    <path d=\"M18.56 5.44l.94 2.06.94-2.06 2.06-.94-2.06-.94-.94-2.06-.94 2.06-2.06.94zm-11 1L8.5 8.5l.94-2.06 2.06-.94-2.06-.94L8.5 2.5l-.94 2.06-2.06.94zm10 10l.94 2.06.94-2.06 2.06-.94-2.06-.94-.94-2.06-.94 2.06-2.06.94z\"/><path d=\"M17.41 7.96l-1.37-1.37c-.4-.4-.92-.59-1.43-.59-.52 0-1.04.2-1.43.59L10.3 9.45l-7.72 7.72c-.78.78-.78 2.05 0 2.83L4 21.41c.39.39.9.59 1.41.59.51 0 1.02-.2 1.41-.59l7.78-7.78 2.81-2.81c.8-.78.8-2.07 0-2.86zM5.41 20L4 18.59l7.72-7.72 1.47 1.35L5.41 20z\"/>\n",
              "  </svg>\n",
              "      </button>\n",
              "      \n",
              "  <style>\n",
              "    .colab-df-container {\n",
              "      display:flex;\n",
              "      flex-wrap:wrap;\n",
              "      gap: 12px;\n",
              "    }\n",
              "\n",
              "    .colab-df-convert {\n",
              "      background-color: #E8F0FE;\n",
              "      border: none;\n",
              "      border-radius: 50%;\n",
              "      cursor: pointer;\n",
              "      display: none;\n",
              "      fill: #1967D2;\n",
              "      height: 32px;\n",
              "      padding: 0 0 0 0;\n",
              "      width: 32px;\n",
              "    }\n",
              "\n",
              "    .colab-df-convert:hover {\n",
              "      background-color: #E2EBFA;\n",
              "      box-shadow: 0px 1px 2px rgba(60, 64, 67, 0.3), 0px 1px 3px 1px rgba(60, 64, 67, 0.15);\n",
              "      fill: #174EA6;\n",
              "    }\n",
              "\n",
              "    [theme=dark] .colab-df-convert {\n",
              "      background-color: #3B4455;\n",
              "      fill: #D2E3FC;\n",
              "    }\n",
              "\n",
              "    [theme=dark] .colab-df-convert:hover {\n",
              "      background-color: #434B5C;\n",
              "      box-shadow: 0px 1px 3px 1px rgba(0, 0, 0, 0.15);\n",
              "      filter: drop-shadow(0px 1px 2px rgba(0, 0, 0, 0.3));\n",
              "      fill: #FFFFFF;\n",
              "    }\n",
              "  </style>\n",
              "\n",
              "      <script>\n",
              "        const buttonEl =\n",
              "          document.querySelector('#df-1611235e-80b4-4aee-8c06-0647d41496fe button.colab-df-convert');\n",
              "        buttonEl.style.display =\n",
              "          google.colab.kernel.accessAllowed ? 'block' : 'none';\n",
              "\n",
              "        async function convertToInteractive(key) {\n",
              "          const element = document.querySelector('#df-1611235e-80b4-4aee-8c06-0647d41496fe');\n",
              "          const dataTable =\n",
              "            await google.colab.kernel.invokeFunction('convertToInteractive',\n",
              "                                                     [key], {});\n",
              "          if (!dataTable) return;\n",
              "\n",
              "          const docLinkHtml = 'Like what you see? Visit the ' +\n",
              "            '<a target=\"_blank\" href=https://colab.research.google.com/notebooks/data_table.ipynb>data table notebook</a>'\n",
              "            + ' to learn more about interactive tables.';\n",
              "          element.innerHTML = '';\n",
              "          dataTable['output_type'] = 'display_data';\n",
              "          await google.colab.output.renderOutput(dataTable, element);\n",
              "          const docLink = document.createElement('div');\n",
              "          docLink.innerHTML = docLinkHtml;\n",
              "          element.appendChild(docLink);\n",
              "        }\n",
              "      </script>\n",
              "    </div>\n",
              "  </div>\n",
              "  "
            ]
          },
          "metadata": {},
          "execution_count": 18
        }
      ]
    },
    {
      "cell_type": "code",
      "source": [
        "df_cities[(df_cities['longitude'].isna())&(df_cities['latitude'].isna())].shape"
      ],
      "metadata": {
        "colab": {
          "base_uri": "https://localhost:8080/"
        },
        "id": "KNHhIfW1TyRj",
        "outputId": "57d20099-2c48-4ef4-9003-ca498976d0cf"
      },
      "execution_count": null,
      "outputs": [
        {
          "output_type": "execute_result",
          "data": {
            "text/plain": [
              "(63, 7)"
            ]
          },
          "metadata": {},
          "execution_count": 19
        }
      ]
    },
    {
      "cell_type": "code",
      "source": [
        "(df_cities[(df_cities['longitude'].isna())|(df_cities['latitude'].isna())]==df_cities[(df_cities['longitude'].isna())&(df_cities['latitude'].isna())]).shape"
      ],
      "metadata": {
        "colab": {
          "base_uri": "https://localhost:8080/"
        },
        "id": "kf52IpRRT7n1",
        "outputId": "b6f8c526-aead-4036-8672-77c99c6f52ca"
      },
      "execution_count": null,
      "outputs": [
        {
          "output_type": "execute_result",
          "data": {
            "text/plain": [
              "(63, 7)"
            ]
          },
          "metadata": {},
          "execution_count": 20
        }
      ]
    },
    {
      "cell_type": "code",
      "source": [
        "df_cities[(df_cities['longitude'].isna())&(df_cities['latitude'].isna())&(df_cities['device_id'].isna())].shape"
      ],
      "metadata": {
        "colab": {
          "base_uri": "https://localhost:8080/"
        },
        "id": "uFCdkNtJUFRD",
        "outputId": "4712f543-18a2-4a35-80f0-024cbd9cab7a"
      },
      "execution_count": null,
      "outputs": [
        {
          "output_type": "execute_result",
          "data": {
            "text/plain": [
              "(0, 7)"
            ]
          },
          "metadata": {},
          "execution_count": 21
        }
      ]
    },
    {
      "cell_type": "markdown",
      "source": [
        "# Fill missing values of latitude an longitude based on device ID's"
      ],
      "metadata": {
        "id": "uW3DR27_4rSo"
      }
    },
    {
      "cell_type": "code",
      "source": [
        "device_id_lat_lon_missing = df_cities[(df_cities['longitude'].isna())&(df_cities['latitude'].isna())]['device_id'].unique()"
      ],
      "metadata": {
        "id": "ClDgUZEWVO6H"
      },
      "execution_count": null,
      "outputs": []
    },
    {
      "cell_type": "code",
      "source": [
        "device_id_lat_lon_missing"
      ],
      "metadata": {
        "colab": {
          "base_uri": "https://localhost:8080/"
        },
        "id": "u9R_39nAvp3S",
        "outputId": "26db7f72-eefc-4ef4-d1d2-0089abaeb6cb"
      },
      "execution_count": null,
      "outputs": [
        {
          "output_type": "execute_result",
          "data": {
            "text/plain": [
              "array([1.77963102e+18, 5.37559902e+18, 4.78258205e+18])"
            ]
          },
          "metadata": {},
          "execution_count": 90
        }
      ]
    },
    {
      "cell_type": "code",
      "source": [
        "lst_id_lat_lon = []\n",
        "for i in device_id_lat_lon_missing:\n",
        "  a = df_cities[(df_cities['longitude'].isna()==False)&(df_cities['latitude'].isna()==False)&(df_cities['device_id']==i)][['device_id','longitude','latitude']].value_counts()\n",
        "  lst_id_lat_lon.append(a.index.values)"
      ],
      "metadata": {
        "id": "gT6OJuctXGEA"
      },
      "execution_count": null,
      "outputs": []
    },
    {
      "cell_type": "code",
      "source": [
        "id = []\n",
        "lat = []\n",
        "lon = []\n",
        "for j in lst_id_lat_lon:\n",
        "  id.append(j[0][0])\n",
        "  lon.append(j[0][1])\n",
        "  lat.append(j[0][2])"
      ],
      "metadata": {
        "id": "bC-sdcX7ubU0"
      },
      "execution_count": null,
      "outputs": []
    },
    {
      "cell_type": "code",
      "source": [
        "id,lat,lon"
      ],
      "metadata": {
        "colab": {
          "base_uri": "https://localhost:8080/"
        },
        "id": "Tvrhgtq3vVXU",
        "outputId": "c838d0f8-39ee-4dd8-fb69-89c9fd6f5e0d"
      },
      "execution_count": null,
      "outputs": [
        {
          "output_type": "execute_result",
          "data": {
            "text/plain": [
              "([1.7796310234394053e+18, 5.375599021847303e+18, 4.782582047729166e+18],\n",
              " [28.738901, 28.718392, 28.718379],\n",
              " [77.235416, 77.283447, 77.22522])"
            ]
          },
          "metadata": {},
          "execution_count": 105
        }
      ]
    },
    {
      "cell_type": "code",
      "source": [
        "id[0]"
      ],
      "metadata": {
        "colab": {
          "base_uri": "https://localhost:8080/"
        },
        "id": "lJ3MzRFN0J6s",
        "outputId": "cf515d74-1a77-4552-bd65-aa338d07870d"
      },
      "execution_count": null,
      "outputs": [
        {
          "output_type": "execute_result",
          "data": {
            "text/plain": [
              "1.7796310234394053e+18"
            ]
          },
          "metadata": {},
          "execution_count": 106
        }
      ]
    },
    {
      "cell_type": "code",
      "source": [
        "df_cities.loc[(df_cities['device_id']==id[0])&(np.isnan(df_cities['latitude'])),'latitude']#.fillna(lat[0])"
      ],
      "metadata": {
        "colab": {
          "base_uri": "https://localhost:8080/"
        },
        "id": "N3MGj5hhzvGr",
        "outputId": "13b49198-9a74-4ab0-e7a8-43606fdf07f1"
      },
      "execution_count": null,
      "outputs": [
        {
          "output_type": "execute_result",
          "data": {
            "text/plain": [
              "8015      NaN\n",
              "102308    NaN\n",
              "388546    NaN\n",
              "603570    NaN\n",
              "963156    NaN\n",
              "1102363   NaN\n",
              "1183044   NaN\n",
              "1441367   NaN\n",
              "1613563   NaN\n",
              "1711195   NaN\n",
              "1849716   NaN\n",
              "1929965   NaN\n",
              "2105900   NaN\n",
              "2218433   NaN\n",
              "2383992   NaN\n",
              "2420466   NaN\n",
              "2592269   NaN\n",
              "2611807   NaN\n",
              "2612236   NaN\n",
              "2691692   NaN\n",
              "3240057   NaN\n",
              "Name: latitude, dtype: float64"
            ]
          },
          "metadata": {},
          "execution_count": 122
        }
      ]
    },
    {
      "cell_type": "code",
      "source": [
        "df_cities.loc[(df_cities['device_id']==id[1])&(np.isnan(df_cities['latitude'])),'latitude']"
      ],
      "metadata": {
        "colab": {
          "base_uri": "https://localhost:8080/"
        },
        "id": "dXnXi4lv3igj",
        "outputId": "89c0cf59-84c3-4bb0-d247-db2ba0a67c71"
      },
      "execution_count": null,
      "outputs": [
        {
          "output_type": "execute_result",
          "data": {
            "text/plain": [
              "35009     NaN\n",
              "91559     NaN\n",
              "181516    NaN\n",
              "392144    NaN\n",
              "408440    NaN\n",
              "618174    NaN\n",
              "761466    NaN\n",
              "786473    NaN\n",
              "1091491   NaN\n",
              "1139239   NaN\n",
              "1344039   NaN\n",
              "1731090   NaN\n",
              "1938824   NaN\n",
              "1990928   NaN\n",
              "2000548   NaN\n",
              "2270111   NaN\n",
              "2440981   NaN\n",
              "2611126   NaN\n",
              "2848235   NaN\n",
              "2976687   NaN\n",
              "2993381   NaN\n",
              "Name: latitude, dtype: float64"
            ]
          },
          "metadata": {},
          "execution_count": 123
        }
      ]
    },
    {
      "cell_type": "code",
      "source": [
        "df_cities.loc[(df_cities['device_id']==id[2])&(np.isnan(df_cities['latitude'])),'latitude'].shape"
      ],
      "metadata": {
        "colab": {
          "base_uri": "https://localhost:8080/"
        },
        "id": "8HkZSQ__3nZi",
        "outputId": "567a73c8-962d-455d-8685-e7422003b767"
      },
      "execution_count": null,
      "outputs": [
        {
          "output_type": "execute_result",
          "data": {
            "text/plain": [
              "(21,)"
            ]
          },
          "metadata": {},
          "execution_count": 130
        }
      ]
    },
    {
      "cell_type": "code",
      "source": [
        "for i in range(0,len(id)):\n",
        "  print(df_cities.loc[(df_cities['device_id']==id[i])&(np.isnan(df_cities['latitude'])),'latitude'].shape)"
      ],
      "metadata": {
        "colab": {
          "base_uri": "https://localhost:8080/"
        },
        "id": "8dbGxCIs3tst",
        "outputId": "dc98002a-40dc-4c1f-ba2f-acf7be1661a6"
      },
      "execution_count": null,
      "outputs": [
        {
          "output_type": "stream",
          "name": "stdout",
          "text": [
            "(21,)\n",
            "(21,)\n",
            "(21,)\n"
          ]
        }
      ]
    },
    {
      "cell_type": "code",
      "source": [
        "for i in range(0,len(id)):\n",
        "  df_cities.loc[(df_cities['device_id']==id[i])&(np.isnan(df_cities['latitude'])),'latitude'] = lat[i]\n",
        "  df_cities.loc[(df_cities['device_id']==id[i])&(np.isnan(df_cities['longitude'])),'longitude'] = lon[i]"
      ],
      "metadata": {
        "id": "lZFaTOetz4bn"
      },
      "execution_count": null,
      "outputs": []
    },
    {
      "cell_type": "code",
      "source": [
        "df_cities.isna().sum()"
      ],
      "metadata": {
        "colab": {
          "base_uri": "https://localhost:8080/"
        },
        "id": "0-RSNFGI1dKo",
        "outputId": "1c533561-7708-4053-a06f-c7b05fd4e06a"
      },
      "execution_count": null,
      "outputs": [
        {
          "output_type": "execute_result",
          "data": {
            "text/plain": [
              "event_id      0\n",
              "device_id    69\n",
              "timestamp     0\n",
              "longitude     0\n",
              "latitude      0\n",
              "city          0\n",
              "state         0\n",
              "dtype: int64"
            ]
          },
          "metadata": {},
          "execution_count": 135
        }
      ]
    },
    {
      "cell_type": "code",
      "source": [
        "print(df_cities.loc[(df_cities['device_id']==id[0])&(np.isnan(df_cities['latitude'])),'latitude'],\n",
        "df_cities.loc[(df_cities['device_id']==id[1])&(np.isnan(df_cities['latitude'])),'latitude'],\n",
        "df_cities.loc[(df_cities['device_id']==id[2])&(np.isnan(df_cities['latitude'])),'latitude'])"
      ],
      "metadata": {
        "colab": {
          "base_uri": "https://localhost:8080/"
        },
        "id": "xpHXrMom2oJZ",
        "outputId": "837ff90c-59d9-4265-b3b7-664b82b5ac4e"
      },
      "execution_count": null,
      "outputs": [
        {
          "output_type": "stream",
          "name": "stdout",
          "text": [
            "Series([], Name: latitude, dtype: float64) Series([], Name: latitude, dtype: float64) Series([], Name: latitude, dtype: float64)\n"
          ]
        }
      ]
    },
    {
      "cell_type": "markdown",
      "source": [
        "## Apply same logic to fill device Id's"
      ],
      "metadata": {
        "id": "nCxdKExc42aA"
      }
    },
    {
      "cell_type": "code",
      "source": [
        "device_id_missing_lon = df_cities[df_cities['device_id'].isna()]['longitude'].unique()\n",
        "device_id_missing_lat = df_cities[df_cities['device_id'].isna()]['latitude'].unique()"
      ],
      "metadata": {
        "id": "rKqhrOia3SfJ"
      },
      "execution_count": null,
      "outputs": []
    },
    {
      "cell_type": "code",
      "source": [
        "device_id_missing_lon"
      ],
      "metadata": {
        "colab": {
          "base_uri": "https://localhost:8080/"
        },
        "id": "5D4KA5rB5RmO",
        "outputId": "0f61f99f-39d5-4ce9-bbf5-3619b2664311"
      },
      "execution_count": null,
      "outputs": [
        {
          "output_type": "execute_result",
          "data": {
            "text/plain": [
              "array([77.292481, 77.274814, 77.303153])"
            ]
          },
          "metadata": {},
          "execution_count": 145
        }
      ]
    },
    {
      "cell_type": "code",
      "source": [
        "device_id_missing_lat"
      ],
      "metadata": {
        "colab": {
          "base_uri": "https://localhost:8080/"
        },
        "id": "5esyiwo05TDe",
        "outputId": "dbf11743-c3b9-43bf-a0a0-f82b7af9c855"
      },
      "execution_count": null,
      "outputs": [
        {
          "output_type": "execute_result",
          "data": {
            "text/plain": [
              "array([28.719966, 28.721053, 28.728888])"
            ]
          },
          "metadata": {},
          "execution_count": 146
        }
      ]
    },
    {
      "cell_type": "code",
      "source": [
        "lst_id_lon = []\n",
        "for i in device_id_missing_lon:\n",
        "  a = df_cities[(df_cities['device_id'].isna()==False)&(df_cities['longitude']==i)][['device_id','longitude','latitude']].value_counts()\n",
        "  lst_id_lon.append(a.index.values)"
      ],
      "metadata": {
        "id": "kv3-svem5r1u"
      },
      "execution_count": null,
      "outputs": []
    },
    {
      "cell_type": "code",
      "source": [
        "lst_id_lon"
      ],
      "metadata": {
        "colab": {
          "base_uri": "https://localhost:8080/"
        },
        "id": "wvKvjdiq6MVr",
        "outputId": "b9123cf2-27b1-475c-ea7f-e15171a97f9a"
      },
      "execution_count": null,
      "outputs": [
        {
          "output_type": "execute_result",
          "data": {
            "text/plain": [
              "[array([(5.098778421671838e+18, 77.29248100000002, 28.719966000000003)],\n",
              "       dtype=object),\n",
              " array([(3.724654925765159e+18, 77.27481399999998, 28.721053)],\n",
              "       dtype=object),\n",
              " array([(-6.875585507485886e+18, 77.30315300000002, 28.728888)],\n",
              "       dtype=object)]"
            ]
          },
          "metadata": {},
          "execution_count": 155
        }
      ]
    },
    {
      "cell_type": "code",
      "source": [
        "lst_id_lat = []\n",
        "for i in device_id_missing_lat:\n",
        "  a = df_cities[(df_cities['device_id'].isna()==False)&(df_cities['latitude']==i)][['device_id','longitude','latitude']].value_counts()\n",
        "  lst_id_lat.append(a.index.values)"
      ],
      "metadata": {
        "id": "wJtn4nIx6PIt"
      },
      "execution_count": null,
      "outputs": []
    },
    {
      "cell_type": "code",
      "source": [
        "lst_id_lat"
      ],
      "metadata": {
        "colab": {
          "base_uri": "https://localhost:8080/"
        },
        "id": "bMbj7dGb6mWa",
        "outputId": "f44fad2a-9edc-4e17-8291-03e19139c6a2"
      },
      "execution_count": null,
      "outputs": [
        {
          "output_type": "execute_result",
          "data": {
            "text/plain": [
              "[array([(5.098778421671838e+18, 77.29248100000002, 28.719966000000003)],\n",
              "       dtype=object),\n",
              " array([(3.724654925765159e+18, 77.27481399999998, 28.721053)],\n",
              "       dtype=object),\n",
              " array([(-6.875585507485886e+18, 77.30315300000002, 28.728888)],\n",
              "       dtype=object)]"
            ]
          },
          "metadata": {},
          "execution_count": 154
        }
      ]
    },
    {
      "cell_type": "code",
      "source": [
        "id_lat = []\n",
        "lat_lat = []\n",
        "lon_lat = []\n",
        "for j in lst_id_lat:\n",
        "  id_lat.append(j[0][0])\n",
        "  lon_lat.append(j[0][1])\n",
        "  lat_lat.append(j[0][2])"
      ],
      "metadata": {
        "id": "HXsfU3447C4b"
      },
      "execution_count": null,
      "outputs": []
    },
    {
      "cell_type": "code",
      "source": [
        "id_lat,lat_lat,lon_lat"
      ],
      "metadata": {
        "colab": {
          "base_uri": "https://localhost:8080/"
        },
        "id": "kfZc6GJS7LlY",
        "outputId": "9dc9e34d-f1ea-45f2-e340-e742ef1885fb"
      },
      "execution_count": null,
      "outputs": [
        {
          "output_type": "execute_result",
          "data": {
            "text/plain": [
              "([5.098778421671838e+18, 3.724654925765159e+18, -6.875585507485886e+18],\n",
              " [28.719966000000003, 28.721053, 28.728888],\n",
              " [77.29248100000002, 77.27481399999998, 77.30315300000002])"
            ]
          },
          "metadata": {},
          "execution_count": 158
        }
      ]
    },
    {
      "cell_type": "code",
      "source": [
        "id_lon = []\n",
        "lat_lon = []\n",
        "lon_lon = []\n",
        "for j in lst_id_lat:\n",
        "  id_lon.append(j[0][0])\n",
        "  lon_lon.append(j[0][1])\n",
        "  lat_lon.append(j[0][2])"
      ],
      "metadata": {
        "id": "CKnN4NNz7TJ_"
      },
      "execution_count": null,
      "outputs": []
    },
    {
      "cell_type": "code",
      "source": [
        "id_lon,lat_lon,lon_lon"
      ],
      "metadata": {
        "colab": {
          "base_uri": "https://localhost:8080/"
        },
        "id": "bacPNB0l7Z-p",
        "outputId": "2b53960b-a118-49e6-c694-1d7cdc6988da"
      },
      "execution_count": null,
      "outputs": [
        {
          "output_type": "execute_result",
          "data": {
            "text/plain": [
              "([5.098778421671838e+18, 3.724654925765159e+18, -6.875585507485886e+18],\n",
              " [28.719966000000003, 28.721053, 28.728888],\n",
              " [77.29248100000002, 77.27481399999998, 77.30315300000002])"
            ]
          },
          "metadata": {},
          "execution_count": 160
        }
      ]
    },
    {
      "cell_type": "code",
      "source": [
        "df_cities.loc[(df_cities['latitude']==lat_lat[0])&(np.isnan(df_cities['device_id'])),'device_id']"
      ],
      "metadata": {
        "colab": {
          "base_uri": "https://localhost:8080/"
        },
        "id": "1PU6zsyF6u8s",
        "outputId": "4f441550-8f50-4c40-df51-e369e2c5c28e"
      },
      "execution_count": null,
      "outputs": [
        {
          "output_type": "execute_result",
          "data": {
            "text/plain": [
              "72898     NaN\n",
              "278170    NaN\n",
              "350761    NaN\n",
              "554548    NaN\n",
              "598793    NaN\n",
              "600849    NaN\n",
              "698069    NaN\n",
              "740873    NaN\n",
              "890505    NaN\n",
              "1287193   NaN\n",
              "1563172   NaN\n",
              "1841116   NaN\n",
              "1851327   NaN\n",
              "1908542   NaN\n",
              "1939918   NaN\n",
              "1987919   NaN\n",
              "2102325   NaN\n",
              "2450556   NaN\n",
              "2845240   NaN\n",
              "2939178   NaN\n",
              "3146530   NaN\n",
              "3175200   NaN\n",
              "3192090   NaN\n",
              "Name: device_id, dtype: float64"
            ]
          },
          "metadata": {},
          "execution_count": 164
        }
      ]
    },
    {
      "cell_type": "code",
      "source": [
        "for i in range(0,len(id_lat)):\n",
        "  df_cities.loc[(df_cities['latitude']==lat_lat[i])&(np.isnan(df_cities['device_id'])),'device_id'] = id_lat[i]"
      ],
      "metadata": {
        "id": "NiUJfXbl7lD6"
      },
      "execution_count": null,
      "outputs": []
    },
    {
      "cell_type": "code",
      "source": [
        "df_cities.isna().sum()"
      ],
      "metadata": {
        "colab": {
          "base_uri": "https://localhost:8080/"
        },
        "id": "wsU3cAVs7-e7",
        "outputId": "7469d7c8-e674-478b-8bc8-7abb54fcc04f"
      },
      "execution_count": null,
      "outputs": [
        {
          "output_type": "execute_result",
          "data": {
            "text/plain": [
              "event_id     0\n",
              "device_id    0\n",
              "timestamp    0\n",
              "longitude    0\n",
              "latitude     0\n",
              "city         0\n",
              "state        0\n",
              "dtype: int64"
            ]
          },
          "metadata": {},
          "execution_count": 168
        }
      ]
    },
    {
      "cell_type": "markdown",
      "source": [
        "## All missing values from first dataset wrt delhi city are filled"
      ],
      "metadata": {
        "id": "SevtIw688MRT"
      }
    },
    {
      "cell_type": "code",
      "source": [
        "df_cities.head()"
      ],
      "metadata": {
        "colab": {
          "base_uri": "https://localhost:8080/",
          "height": 206
        },
        "id": "BkYMTALi8CSM",
        "outputId": "f8103322-f800-448f-b972-d08811a81ae5"
      },
      "execution_count": null,
      "outputs": [
        {
          "output_type": "execute_result",
          "data": {
            "text/plain": [
              "    event_id     device_id            timestamp  longitude   latitude   city  \\\n",
              "0    2765368  2.973348e+18  2016-05-07 22:52:05  77.225676  28.730140  Delhi   \n",
              "2     605968 -3.264500e+18  2016-05-02 14:23:04  77.256809  28.757906  Delhi   \n",
              "8    2309828  3.020769e+18  2016-05-04 09:24:50  77.263922  28.757914  Delhi   \n",
              "13   2633127 -3.090167e+18  2016-05-05 04:42:59  77.285920  28.758381  Delhi   \n",
              "17   2224400  7.566051e+18  2016-05-01 00:07:47  77.240478  28.715664  Delhi   \n",
              "\n",
              "    state  \n",
              "0   Delhi  \n",
              "2   Delhi  \n",
              "8   Delhi  \n",
              "13  Delhi  \n",
              "17  Delhi  "
            ],
            "text/html": [
              "\n",
              "  <div id=\"df-7437be36-cc74-4ec7-bebd-35c722571112\">\n",
              "    <div class=\"colab-df-container\">\n",
              "      <div>\n",
              "<style scoped>\n",
              "    .dataframe tbody tr th:only-of-type {\n",
              "        vertical-align: middle;\n",
              "    }\n",
              "\n",
              "    .dataframe tbody tr th {\n",
              "        vertical-align: top;\n",
              "    }\n",
              "\n",
              "    .dataframe thead th {\n",
              "        text-align: right;\n",
              "    }\n",
              "</style>\n",
              "<table border=\"1\" class=\"dataframe\">\n",
              "  <thead>\n",
              "    <tr style=\"text-align: right;\">\n",
              "      <th></th>\n",
              "      <th>event_id</th>\n",
              "      <th>device_id</th>\n",
              "      <th>timestamp</th>\n",
              "      <th>longitude</th>\n",
              "      <th>latitude</th>\n",
              "      <th>city</th>\n",
              "      <th>state</th>\n",
              "    </tr>\n",
              "  </thead>\n",
              "  <tbody>\n",
              "    <tr>\n",
              "      <th>0</th>\n",
              "      <td>2765368</td>\n",
              "      <td>2.973348e+18</td>\n",
              "      <td>2016-05-07 22:52:05</td>\n",
              "      <td>77.225676</td>\n",
              "      <td>28.730140</td>\n",
              "      <td>Delhi</td>\n",
              "      <td>Delhi</td>\n",
              "    </tr>\n",
              "    <tr>\n",
              "      <th>2</th>\n",
              "      <td>605968</td>\n",
              "      <td>-3.264500e+18</td>\n",
              "      <td>2016-05-02 14:23:04</td>\n",
              "      <td>77.256809</td>\n",
              "      <td>28.757906</td>\n",
              "      <td>Delhi</td>\n",
              "      <td>Delhi</td>\n",
              "    </tr>\n",
              "    <tr>\n",
              "      <th>8</th>\n",
              "      <td>2309828</td>\n",
              "      <td>3.020769e+18</td>\n",
              "      <td>2016-05-04 09:24:50</td>\n",
              "      <td>77.263922</td>\n",
              "      <td>28.757914</td>\n",
              "      <td>Delhi</td>\n",
              "      <td>Delhi</td>\n",
              "    </tr>\n",
              "    <tr>\n",
              "      <th>13</th>\n",
              "      <td>2633127</td>\n",
              "      <td>-3.090167e+18</td>\n",
              "      <td>2016-05-05 04:42:59</td>\n",
              "      <td>77.285920</td>\n",
              "      <td>28.758381</td>\n",
              "      <td>Delhi</td>\n",
              "      <td>Delhi</td>\n",
              "    </tr>\n",
              "    <tr>\n",
              "      <th>17</th>\n",
              "      <td>2224400</td>\n",
              "      <td>7.566051e+18</td>\n",
              "      <td>2016-05-01 00:07:47</td>\n",
              "      <td>77.240478</td>\n",
              "      <td>28.715664</td>\n",
              "      <td>Delhi</td>\n",
              "      <td>Delhi</td>\n",
              "    </tr>\n",
              "  </tbody>\n",
              "</table>\n",
              "</div>\n",
              "      <button class=\"colab-df-convert\" onclick=\"convertToInteractive('df-7437be36-cc74-4ec7-bebd-35c722571112')\"\n",
              "              title=\"Convert this dataframe to an interactive table.\"\n",
              "              style=\"display:none;\">\n",
              "        \n",
              "  <svg xmlns=\"http://www.w3.org/2000/svg\" height=\"24px\"viewBox=\"0 0 24 24\"\n",
              "       width=\"24px\">\n",
              "    <path d=\"M0 0h24v24H0V0z\" fill=\"none\"/>\n",
              "    <path d=\"M18.56 5.44l.94 2.06.94-2.06 2.06-.94-2.06-.94-.94-2.06-.94 2.06-2.06.94zm-11 1L8.5 8.5l.94-2.06 2.06-.94-2.06-.94L8.5 2.5l-.94 2.06-2.06.94zm10 10l.94 2.06.94-2.06 2.06-.94-2.06-.94-.94-2.06-.94 2.06-2.06.94z\"/><path d=\"M17.41 7.96l-1.37-1.37c-.4-.4-.92-.59-1.43-.59-.52 0-1.04.2-1.43.59L10.3 9.45l-7.72 7.72c-.78.78-.78 2.05 0 2.83L4 21.41c.39.39.9.59 1.41.59.51 0 1.02-.2 1.41-.59l7.78-7.78 2.81-2.81c.8-.78.8-2.07 0-2.86zM5.41 20L4 18.59l7.72-7.72 1.47 1.35L5.41 20z\"/>\n",
              "  </svg>\n",
              "      </button>\n",
              "      \n",
              "  <style>\n",
              "    .colab-df-container {\n",
              "      display:flex;\n",
              "      flex-wrap:wrap;\n",
              "      gap: 12px;\n",
              "    }\n",
              "\n",
              "    .colab-df-convert {\n",
              "      background-color: #E8F0FE;\n",
              "      border: none;\n",
              "      border-radius: 50%;\n",
              "      cursor: pointer;\n",
              "      display: none;\n",
              "      fill: #1967D2;\n",
              "      height: 32px;\n",
              "      padding: 0 0 0 0;\n",
              "      width: 32px;\n",
              "    }\n",
              "\n",
              "    .colab-df-convert:hover {\n",
              "      background-color: #E2EBFA;\n",
              "      box-shadow: 0px 1px 2px rgba(60, 64, 67, 0.3), 0px 1px 3px 1px rgba(60, 64, 67, 0.15);\n",
              "      fill: #174EA6;\n",
              "    }\n",
              "\n",
              "    [theme=dark] .colab-df-convert {\n",
              "      background-color: #3B4455;\n",
              "      fill: #D2E3FC;\n",
              "    }\n",
              "\n",
              "    [theme=dark] .colab-df-convert:hover {\n",
              "      background-color: #434B5C;\n",
              "      box-shadow: 0px 1px 3px 1px rgba(0, 0, 0, 0.15);\n",
              "      filter: drop-shadow(0px 1px 2px rgba(0, 0, 0, 0.3));\n",
              "      fill: #FFFFFF;\n",
              "    }\n",
              "  </style>\n",
              "\n",
              "      <script>\n",
              "        const buttonEl =\n",
              "          document.querySelector('#df-7437be36-cc74-4ec7-bebd-35c722571112 button.colab-df-convert');\n",
              "        buttonEl.style.display =\n",
              "          google.colab.kernel.accessAllowed ? 'block' : 'none';\n",
              "\n",
              "        async function convertToInteractive(key) {\n",
              "          const element = document.querySelector('#df-7437be36-cc74-4ec7-bebd-35c722571112');\n",
              "          const dataTable =\n",
              "            await google.colab.kernel.invokeFunction('convertToInteractive',\n",
              "                                                     [key], {});\n",
              "          if (!dataTable) return;\n",
              "\n",
              "          const docLinkHtml = 'Like what you see? Visit the ' +\n",
              "            '<a target=\"_blank\" href=https://colab.research.google.com/notebooks/data_table.ipynb>data table notebook</a>'\n",
              "            + ' to learn more about interactive tables.';\n",
              "          element.innerHTML = '';\n",
              "          dataTable['output_type'] = 'display_data';\n",
              "          await google.colab.output.renderOutput(dataTable, element);\n",
              "          const docLink = document.createElement('div');\n",
              "          docLink.innerHTML = docLinkHtml;\n",
              "          element.appendChild(docLink);\n",
              "        }\n",
              "      </script>\n",
              "    </div>\n",
              "  </div>\n",
              "  "
            ]
          },
          "metadata": {},
          "execution_count": 169
        }
      ]
    },
    {
      "cell_type": "markdown",
      "source": [
        "# Let's handle datetime "
      ],
      "metadata": {
        "id": "Ke-3C8suTNfK"
      }
    },
    {
      "cell_type": "code",
      "source": [
        "df_cities['timestamp'] = pd.to_datetime(df_cities['timestamp'])"
      ],
      "metadata": {
        "id": "ZV0U5k3_TKUb"
      },
      "execution_count": 45,
      "outputs": []
    },
    {
      "cell_type": "code",
      "source": [
        "df_cities.info()"
      ],
      "metadata": {
        "id": "wHnOogDBUJV7",
        "outputId": "5c7eaa4d-3717-436a-a795-4b07eebf3d0e",
        "colab": {
          "base_uri": "https://localhost:8080/"
        }
      },
      "execution_count": 46,
      "outputs": [
        {
          "output_type": "stream",
          "name": "stdout",
          "text": [
            "<class 'pandas.core.frame.DataFrame'>\n",
            "Int64Index: 751797 entries, 0 to 3252947\n",
            "Data columns (total 7 columns):\n",
            " #   Column     Non-Null Count   Dtype         \n",
            "---  ------     --------------   -----         \n",
            " 0   event_id   751797 non-null  int64         \n",
            " 1   device_id  751797 non-null  float64       \n",
            " 2   timestamp  751797 non-null  datetime64[ns]\n",
            " 3   longitude  751797 non-null  float64       \n",
            " 4   latitude   751797 non-null  float64       \n",
            " 5   city       751797 non-null  object        \n",
            " 6   state      751797 non-null  object        \n",
            "dtypes: datetime64[ns](1), float64(3), int64(1), object(2)\n",
            "memory usage: 45.9+ MB\n"
          ]
        }
      ]
    },
    {
      "cell_type": "markdown",
      "source": [
        "## get year and month"
      ],
      "metadata": {
        "id": "XmdkKWJKUmDS"
      }
    },
    {
      "cell_type": "code",
      "source": [
        "df_cities['year'] = pd.DatetimeIndex(df_cities['timestamp']).year\n",
        "df_cities['month'] = pd.DatetimeIndex(df_cities['timestamp']).month"
      ],
      "metadata": {
        "id": "H-M-lQi8UWQZ"
      },
      "execution_count": 47,
      "outputs": []
    },
    {
      "cell_type": "code",
      "source": [
        "df_cities['year'].value_counts()"
      ],
      "metadata": {
        "id": "y4Y0MHVbUxiJ",
        "outputId": "78b687d4-7d90-482d-ba1a-39fbaf61e2a8",
        "colab": {
          "base_uri": "https://localhost:8080/"
        }
      },
      "execution_count": 50,
      "outputs": [
        {
          "output_type": "execute_result",
          "data": {
            "text/plain": [
              "2016    751797\n",
              "Name: year, dtype: int64"
            ]
          },
          "metadata": {},
          "execution_count": 50
        }
      ]
    },
    {
      "cell_type": "code",
      "source": [
        "df_cities['month'].value_counts()"
      ],
      "metadata": {
        "id": "5sMAwVKzU0U5",
        "outputId": "116d6050-2802-4235-f290-29643355300c",
        "colab": {
          "base_uri": "https://localhost:8080/"
        }
      },
      "execution_count": 51,
      "outputs": [
        {
          "output_type": "execute_result",
          "data": {
            "text/plain": [
              "5    751576\n",
              "4       221\n",
              "Name: month, dtype: int64"
            ]
          },
          "metadata": {},
          "execution_count": 51
        }
      ]
    },
    {
      "cell_type": "code",
      "source": [
        "import calendar\n",
        "df_cities['month_name'] = df_cities['month'].apply(lambda x: calendar.month_abbr[x])"
      ],
      "metadata": {
        "id": "FmgjqNVJWx7y"
      },
      "execution_count": 60,
      "outputs": []
    },
    {
      "cell_type": "code",
      "source": [
        "df_cities['month_name'].value_counts()"
      ],
      "metadata": {
        "id": "ArdpFgp3W-Wg",
        "outputId": "70fae917-9816-439b-fc8a-b0503f025f27",
        "colab": {
          "base_uri": "https://localhost:8080/"
        }
      },
      "execution_count": 61,
      "outputs": [
        {
          "output_type": "execute_result",
          "data": {
            "text/plain": [
              "May    751576\n",
              "Apr       221\n",
              "Name: month_name, dtype: int64"
            ]
          },
          "metadata": {},
          "execution_count": 61
        }
      ]
    },
    {
      "cell_type": "code",
      "source": [
        "df_cities.head()"
      ],
      "metadata": {
        "id": "ud8zyjIoXDRw",
        "outputId": "ebd23dfa-24ab-4041-8982-b7209c9e5695",
        "colab": {
          "base_uri": "https://localhost:8080/",
          "height": 206
        }
      },
      "execution_count": 62,
      "outputs": [
        {
          "output_type": "execute_result",
          "data": {
            "text/plain": [
              "    event_id     device_id           timestamp  longitude   latitude   city  \\\n",
              "0    2765368  2.973348e+18 2016-05-07 22:52:05  77.225676  28.730140  Delhi   \n",
              "2     605968 -3.264500e+18 2016-05-02 14:23:04  77.256809  28.757906  Delhi   \n",
              "8    2309828  3.020769e+18 2016-05-04 09:24:50  77.263922  28.757914  Delhi   \n",
              "13   2633127 -3.090167e+18 2016-05-05 04:42:59  77.285920  28.758381  Delhi   \n",
              "17   2224400  7.566051e+18 2016-05-01 00:07:47  77.240478  28.715664  Delhi   \n",
              "\n",
              "    state  year  month day_of_week  hour month_name  \n",
              "0   Delhi  2016      5    Saturday    22        May  \n",
              "2   Delhi  2016      5      Monday    14        May  \n",
              "8   Delhi  2016      5   Wednesday     9        May  \n",
              "13  Delhi  2016      5    Thursday     4        May  \n",
              "17  Delhi  2016      5      Sunday     0        May  "
            ],
            "text/html": [
              "\n",
              "  <div id=\"df-2134e392-2261-41d0-a4ab-8c6336c1edba\">\n",
              "    <div class=\"colab-df-container\">\n",
              "      <div>\n",
              "<style scoped>\n",
              "    .dataframe tbody tr th:only-of-type {\n",
              "        vertical-align: middle;\n",
              "    }\n",
              "\n",
              "    .dataframe tbody tr th {\n",
              "        vertical-align: top;\n",
              "    }\n",
              "\n",
              "    .dataframe thead th {\n",
              "        text-align: right;\n",
              "    }\n",
              "</style>\n",
              "<table border=\"1\" class=\"dataframe\">\n",
              "  <thead>\n",
              "    <tr style=\"text-align: right;\">\n",
              "      <th></th>\n",
              "      <th>event_id</th>\n",
              "      <th>device_id</th>\n",
              "      <th>timestamp</th>\n",
              "      <th>longitude</th>\n",
              "      <th>latitude</th>\n",
              "      <th>city</th>\n",
              "      <th>state</th>\n",
              "      <th>year</th>\n",
              "      <th>month</th>\n",
              "      <th>day_of_week</th>\n",
              "      <th>hour</th>\n",
              "      <th>month_name</th>\n",
              "    </tr>\n",
              "  </thead>\n",
              "  <tbody>\n",
              "    <tr>\n",
              "      <th>0</th>\n",
              "      <td>2765368</td>\n",
              "      <td>2.973348e+18</td>\n",
              "      <td>2016-05-07 22:52:05</td>\n",
              "      <td>77.225676</td>\n",
              "      <td>28.730140</td>\n",
              "      <td>Delhi</td>\n",
              "      <td>Delhi</td>\n",
              "      <td>2016</td>\n",
              "      <td>5</td>\n",
              "      <td>Saturday</td>\n",
              "      <td>22</td>\n",
              "      <td>May</td>\n",
              "    </tr>\n",
              "    <tr>\n",
              "      <th>2</th>\n",
              "      <td>605968</td>\n",
              "      <td>-3.264500e+18</td>\n",
              "      <td>2016-05-02 14:23:04</td>\n",
              "      <td>77.256809</td>\n",
              "      <td>28.757906</td>\n",
              "      <td>Delhi</td>\n",
              "      <td>Delhi</td>\n",
              "      <td>2016</td>\n",
              "      <td>5</td>\n",
              "      <td>Monday</td>\n",
              "      <td>14</td>\n",
              "      <td>May</td>\n",
              "    </tr>\n",
              "    <tr>\n",
              "      <th>8</th>\n",
              "      <td>2309828</td>\n",
              "      <td>3.020769e+18</td>\n",
              "      <td>2016-05-04 09:24:50</td>\n",
              "      <td>77.263922</td>\n",
              "      <td>28.757914</td>\n",
              "      <td>Delhi</td>\n",
              "      <td>Delhi</td>\n",
              "      <td>2016</td>\n",
              "      <td>5</td>\n",
              "      <td>Wednesday</td>\n",
              "      <td>9</td>\n",
              "      <td>May</td>\n",
              "    </tr>\n",
              "    <tr>\n",
              "      <th>13</th>\n",
              "      <td>2633127</td>\n",
              "      <td>-3.090167e+18</td>\n",
              "      <td>2016-05-05 04:42:59</td>\n",
              "      <td>77.285920</td>\n",
              "      <td>28.758381</td>\n",
              "      <td>Delhi</td>\n",
              "      <td>Delhi</td>\n",
              "      <td>2016</td>\n",
              "      <td>5</td>\n",
              "      <td>Thursday</td>\n",
              "      <td>4</td>\n",
              "      <td>May</td>\n",
              "    </tr>\n",
              "    <tr>\n",
              "      <th>17</th>\n",
              "      <td>2224400</td>\n",
              "      <td>7.566051e+18</td>\n",
              "      <td>2016-05-01 00:07:47</td>\n",
              "      <td>77.240478</td>\n",
              "      <td>28.715664</td>\n",
              "      <td>Delhi</td>\n",
              "      <td>Delhi</td>\n",
              "      <td>2016</td>\n",
              "      <td>5</td>\n",
              "      <td>Sunday</td>\n",
              "      <td>0</td>\n",
              "      <td>May</td>\n",
              "    </tr>\n",
              "  </tbody>\n",
              "</table>\n",
              "</div>\n",
              "      <button class=\"colab-df-convert\" onclick=\"convertToInteractive('df-2134e392-2261-41d0-a4ab-8c6336c1edba')\"\n",
              "              title=\"Convert this dataframe to an interactive table.\"\n",
              "              style=\"display:none;\">\n",
              "        \n",
              "  <svg xmlns=\"http://www.w3.org/2000/svg\" height=\"24px\"viewBox=\"0 0 24 24\"\n",
              "       width=\"24px\">\n",
              "    <path d=\"M0 0h24v24H0V0z\" fill=\"none\"/>\n",
              "    <path d=\"M18.56 5.44l.94 2.06.94-2.06 2.06-.94-2.06-.94-.94-2.06-.94 2.06-2.06.94zm-11 1L8.5 8.5l.94-2.06 2.06-.94-2.06-.94L8.5 2.5l-.94 2.06-2.06.94zm10 10l.94 2.06.94-2.06 2.06-.94-2.06-.94-.94-2.06-.94 2.06-2.06.94z\"/><path d=\"M17.41 7.96l-1.37-1.37c-.4-.4-.92-.59-1.43-.59-.52 0-1.04.2-1.43.59L10.3 9.45l-7.72 7.72c-.78.78-.78 2.05 0 2.83L4 21.41c.39.39.9.59 1.41.59.51 0 1.02-.2 1.41-.59l7.78-7.78 2.81-2.81c.8-.78.8-2.07 0-2.86zM5.41 20L4 18.59l7.72-7.72 1.47 1.35L5.41 20z\"/>\n",
              "  </svg>\n",
              "      </button>\n",
              "      \n",
              "  <style>\n",
              "    .colab-df-container {\n",
              "      display:flex;\n",
              "      flex-wrap:wrap;\n",
              "      gap: 12px;\n",
              "    }\n",
              "\n",
              "    .colab-df-convert {\n",
              "      background-color: #E8F0FE;\n",
              "      border: none;\n",
              "      border-radius: 50%;\n",
              "      cursor: pointer;\n",
              "      display: none;\n",
              "      fill: #1967D2;\n",
              "      height: 32px;\n",
              "      padding: 0 0 0 0;\n",
              "      width: 32px;\n",
              "    }\n",
              "\n",
              "    .colab-df-convert:hover {\n",
              "      background-color: #E2EBFA;\n",
              "      box-shadow: 0px 1px 2px rgba(60, 64, 67, 0.3), 0px 1px 3px 1px rgba(60, 64, 67, 0.15);\n",
              "      fill: #174EA6;\n",
              "    }\n",
              "\n",
              "    [theme=dark] .colab-df-convert {\n",
              "      background-color: #3B4455;\n",
              "      fill: #D2E3FC;\n",
              "    }\n",
              "\n",
              "    [theme=dark] .colab-df-convert:hover {\n",
              "      background-color: #434B5C;\n",
              "      box-shadow: 0px 1px 3px 1px rgba(0, 0, 0, 0.15);\n",
              "      filter: drop-shadow(0px 1px 2px rgba(0, 0, 0, 0.3));\n",
              "      fill: #FFFFFF;\n",
              "    }\n",
              "  </style>\n",
              "\n",
              "      <script>\n",
              "        const buttonEl =\n",
              "          document.querySelector('#df-2134e392-2261-41d0-a4ab-8c6336c1edba button.colab-df-convert');\n",
              "        buttonEl.style.display =\n",
              "          google.colab.kernel.accessAllowed ? 'block' : 'none';\n",
              "\n",
              "        async function convertToInteractive(key) {\n",
              "          const element = document.querySelector('#df-2134e392-2261-41d0-a4ab-8c6336c1edba');\n",
              "          const dataTable =\n",
              "            await google.colab.kernel.invokeFunction('convertToInteractive',\n",
              "                                                     [key], {});\n",
              "          if (!dataTable) return;\n",
              "\n",
              "          const docLinkHtml = 'Like what you see? Visit the ' +\n",
              "            '<a target=\"_blank\" href=https://colab.research.google.com/notebooks/data_table.ipynb>data table notebook</a>'\n",
              "            + ' to learn more about interactive tables.';\n",
              "          element.innerHTML = '';\n",
              "          dataTable['output_type'] = 'display_data';\n",
              "          await google.colab.output.renderOutput(dataTable, element);\n",
              "          const docLink = document.createElement('div');\n",
              "          docLink.innerHTML = docLinkHtml;\n",
              "          element.appendChild(docLink);\n",
              "        }\n",
              "      </script>\n",
              "    </div>\n",
              "  </div>\n",
              "  "
            ]
          },
          "metadata": {},
          "execution_count": 62
        }
      ]
    },
    {
      "cell_type": "markdown",
      "source": [
        "## Get week day and hours"
      ],
      "metadata": {
        "id": "hZHhMxRRWemU"
      }
    },
    {
      "cell_type": "code",
      "source": [
        "df_cities['day_of_week'] = df_cities['timestamp'].dt.day_name()"
      ],
      "metadata": {
        "id": "MzcI7mz_VCq5"
      },
      "execution_count": 52,
      "outputs": []
    },
    {
      "cell_type": "code",
      "source": [
        "df_cities['day_of_week'].value_counts()"
      ],
      "metadata": {
        "id": "A6Om_D5cViJ4",
        "outputId": "620c9fc9-4885-4322-9804-0206ff30702f",
        "colab": {
          "base_uri": "https://localhost:8080/"
        }
      },
      "execution_count": 54,
      "outputs": [
        {
          "output_type": "execute_result",
          "data": {
            "text/plain": [
              "Tuesday      113209\n",
              "Wednesday    112687\n",
              "Thursday     112413\n",
              "Friday       107663\n",
              "Monday       105700\n",
              "Sunday       100148\n",
              "Saturday      99977\n",
              "Name: day_of_week, dtype: int64"
            ]
          },
          "metadata": {},
          "execution_count": 54
        }
      ]
    },
    {
      "cell_type": "code",
      "source": [
        "df_cities['hour'] = df_cities['timestamp'].dt.hour"
      ],
      "metadata": {
        "id": "PEVC3S-UVoXp"
      },
      "execution_count": 56,
      "outputs": []
    },
    {
      "cell_type": "code",
      "source": [
        "df_cities['hour'].value_counts().sort_index()"
      ],
      "metadata": {
        "id": "Bj2li6RDWHHY",
        "outputId": "4ebd1514-ada9-4ce8-b9c1-62f4a26e6af2",
        "colab": {
          "base_uri": "https://localhost:8080/"
        }
      },
      "execution_count": 58,
      "outputs": [
        {
          "output_type": "execute_result",
          "data": {
            "text/plain": [
              "0     28234\n",
              "1     17574\n",
              "2     13393\n",
              "3     11189\n",
              "4     11011\n",
              "5     16521\n",
              "6     28735\n",
              "7     34972\n",
              "8     36178\n",
              "9     38723\n",
              "10    43102\n",
              "11    39182\n",
              "12    39145\n",
              "13    36699\n",
              "14    35812\n",
              "15    34824\n",
              "16    36307\n",
              "17    36829\n",
              "18    35340\n",
              "19    37014\n",
              "20    38523\n",
              "21    38045\n",
              "22    34998\n",
              "23    29447\n",
              "Name: hour, dtype: int64"
            ]
          },
          "metadata": {},
          "execution_count": 58
        }
      ]
    },
    {
      "cell_type": "code",
      "source": [
        "df_cities.head()"
      ],
      "metadata": {
        "id": "rYnXNHKJWNfI",
        "outputId": "f9ffece6-81de-4387-8a58-0938ba147029",
        "colab": {
          "base_uri": "https://localhost:8080/",
          "height": 206
        }
      },
      "execution_count": 63,
      "outputs": [
        {
          "output_type": "execute_result",
          "data": {
            "text/plain": [
              "    event_id     device_id           timestamp  longitude   latitude   city  \\\n",
              "0    2765368  2.973348e+18 2016-05-07 22:52:05  77.225676  28.730140  Delhi   \n",
              "2     605968 -3.264500e+18 2016-05-02 14:23:04  77.256809  28.757906  Delhi   \n",
              "8    2309828  3.020769e+18 2016-05-04 09:24:50  77.263922  28.757914  Delhi   \n",
              "13   2633127 -3.090167e+18 2016-05-05 04:42:59  77.285920  28.758381  Delhi   \n",
              "17   2224400  7.566051e+18 2016-05-01 00:07:47  77.240478  28.715664  Delhi   \n",
              "\n",
              "    state  year  month day_of_week  hour month_name  \n",
              "0   Delhi  2016      5    Saturday    22        May  \n",
              "2   Delhi  2016      5      Monday    14        May  \n",
              "8   Delhi  2016      5   Wednesday     9        May  \n",
              "13  Delhi  2016      5    Thursday     4        May  \n",
              "17  Delhi  2016      5      Sunday     0        May  "
            ],
            "text/html": [
              "\n",
              "  <div id=\"df-2046142a-69a0-4c69-9911-aeb5f39772f1\">\n",
              "    <div class=\"colab-df-container\">\n",
              "      <div>\n",
              "<style scoped>\n",
              "    .dataframe tbody tr th:only-of-type {\n",
              "        vertical-align: middle;\n",
              "    }\n",
              "\n",
              "    .dataframe tbody tr th {\n",
              "        vertical-align: top;\n",
              "    }\n",
              "\n",
              "    .dataframe thead th {\n",
              "        text-align: right;\n",
              "    }\n",
              "</style>\n",
              "<table border=\"1\" class=\"dataframe\">\n",
              "  <thead>\n",
              "    <tr style=\"text-align: right;\">\n",
              "      <th></th>\n",
              "      <th>event_id</th>\n",
              "      <th>device_id</th>\n",
              "      <th>timestamp</th>\n",
              "      <th>longitude</th>\n",
              "      <th>latitude</th>\n",
              "      <th>city</th>\n",
              "      <th>state</th>\n",
              "      <th>year</th>\n",
              "      <th>month</th>\n",
              "      <th>day_of_week</th>\n",
              "      <th>hour</th>\n",
              "      <th>month_name</th>\n",
              "    </tr>\n",
              "  </thead>\n",
              "  <tbody>\n",
              "    <tr>\n",
              "      <th>0</th>\n",
              "      <td>2765368</td>\n",
              "      <td>2.973348e+18</td>\n",
              "      <td>2016-05-07 22:52:05</td>\n",
              "      <td>77.225676</td>\n",
              "      <td>28.730140</td>\n",
              "      <td>Delhi</td>\n",
              "      <td>Delhi</td>\n",
              "      <td>2016</td>\n",
              "      <td>5</td>\n",
              "      <td>Saturday</td>\n",
              "      <td>22</td>\n",
              "      <td>May</td>\n",
              "    </tr>\n",
              "    <tr>\n",
              "      <th>2</th>\n",
              "      <td>605968</td>\n",
              "      <td>-3.264500e+18</td>\n",
              "      <td>2016-05-02 14:23:04</td>\n",
              "      <td>77.256809</td>\n",
              "      <td>28.757906</td>\n",
              "      <td>Delhi</td>\n",
              "      <td>Delhi</td>\n",
              "      <td>2016</td>\n",
              "      <td>5</td>\n",
              "      <td>Monday</td>\n",
              "      <td>14</td>\n",
              "      <td>May</td>\n",
              "    </tr>\n",
              "    <tr>\n",
              "      <th>8</th>\n",
              "      <td>2309828</td>\n",
              "      <td>3.020769e+18</td>\n",
              "      <td>2016-05-04 09:24:50</td>\n",
              "      <td>77.263922</td>\n",
              "      <td>28.757914</td>\n",
              "      <td>Delhi</td>\n",
              "      <td>Delhi</td>\n",
              "      <td>2016</td>\n",
              "      <td>5</td>\n",
              "      <td>Wednesday</td>\n",
              "      <td>9</td>\n",
              "      <td>May</td>\n",
              "    </tr>\n",
              "    <tr>\n",
              "      <th>13</th>\n",
              "      <td>2633127</td>\n",
              "      <td>-3.090167e+18</td>\n",
              "      <td>2016-05-05 04:42:59</td>\n",
              "      <td>77.285920</td>\n",
              "      <td>28.758381</td>\n",
              "      <td>Delhi</td>\n",
              "      <td>Delhi</td>\n",
              "      <td>2016</td>\n",
              "      <td>5</td>\n",
              "      <td>Thursday</td>\n",
              "      <td>4</td>\n",
              "      <td>May</td>\n",
              "    </tr>\n",
              "    <tr>\n",
              "      <th>17</th>\n",
              "      <td>2224400</td>\n",
              "      <td>7.566051e+18</td>\n",
              "      <td>2016-05-01 00:07:47</td>\n",
              "      <td>77.240478</td>\n",
              "      <td>28.715664</td>\n",
              "      <td>Delhi</td>\n",
              "      <td>Delhi</td>\n",
              "      <td>2016</td>\n",
              "      <td>5</td>\n",
              "      <td>Sunday</td>\n",
              "      <td>0</td>\n",
              "      <td>May</td>\n",
              "    </tr>\n",
              "  </tbody>\n",
              "</table>\n",
              "</div>\n",
              "      <button class=\"colab-df-convert\" onclick=\"convertToInteractive('df-2046142a-69a0-4c69-9911-aeb5f39772f1')\"\n",
              "              title=\"Convert this dataframe to an interactive table.\"\n",
              "              style=\"display:none;\">\n",
              "        \n",
              "  <svg xmlns=\"http://www.w3.org/2000/svg\" height=\"24px\"viewBox=\"0 0 24 24\"\n",
              "       width=\"24px\">\n",
              "    <path d=\"M0 0h24v24H0V0z\" fill=\"none\"/>\n",
              "    <path d=\"M18.56 5.44l.94 2.06.94-2.06 2.06-.94-2.06-.94-.94-2.06-.94 2.06-2.06.94zm-11 1L8.5 8.5l.94-2.06 2.06-.94-2.06-.94L8.5 2.5l-.94 2.06-2.06.94zm10 10l.94 2.06.94-2.06 2.06-.94-2.06-.94-.94-2.06-.94 2.06-2.06.94z\"/><path d=\"M17.41 7.96l-1.37-1.37c-.4-.4-.92-.59-1.43-.59-.52 0-1.04.2-1.43.59L10.3 9.45l-7.72 7.72c-.78.78-.78 2.05 0 2.83L4 21.41c.39.39.9.59 1.41.59.51 0 1.02-.2 1.41-.59l7.78-7.78 2.81-2.81c.8-.78.8-2.07 0-2.86zM5.41 20L4 18.59l7.72-7.72 1.47 1.35L5.41 20z\"/>\n",
              "  </svg>\n",
              "      </button>\n",
              "      \n",
              "  <style>\n",
              "    .colab-df-container {\n",
              "      display:flex;\n",
              "      flex-wrap:wrap;\n",
              "      gap: 12px;\n",
              "    }\n",
              "\n",
              "    .colab-df-convert {\n",
              "      background-color: #E8F0FE;\n",
              "      border: none;\n",
              "      border-radius: 50%;\n",
              "      cursor: pointer;\n",
              "      display: none;\n",
              "      fill: #1967D2;\n",
              "      height: 32px;\n",
              "      padding: 0 0 0 0;\n",
              "      width: 32px;\n",
              "    }\n",
              "\n",
              "    .colab-df-convert:hover {\n",
              "      background-color: #E2EBFA;\n",
              "      box-shadow: 0px 1px 2px rgba(60, 64, 67, 0.3), 0px 1px 3px 1px rgba(60, 64, 67, 0.15);\n",
              "      fill: #174EA6;\n",
              "    }\n",
              "\n",
              "    [theme=dark] .colab-df-convert {\n",
              "      background-color: #3B4455;\n",
              "      fill: #D2E3FC;\n",
              "    }\n",
              "\n",
              "    [theme=dark] .colab-df-convert:hover {\n",
              "      background-color: #434B5C;\n",
              "      box-shadow: 0px 1px 3px 1px rgba(0, 0, 0, 0.15);\n",
              "      filter: drop-shadow(0px 1px 2px rgba(0, 0, 0, 0.3));\n",
              "      fill: #FFFFFF;\n",
              "    }\n",
              "  </style>\n",
              "\n",
              "      <script>\n",
              "        const buttonEl =\n",
              "          document.querySelector('#df-2046142a-69a0-4c69-9911-aeb5f39772f1 button.colab-df-convert');\n",
              "        buttonEl.style.display =\n",
              "          google.colab.kernel.accessAllowed ? 'block' : 'none';\n",
              "\n",
              "        async function convertToInteractive(key) {\n",
              "          const element = document.querySelector('#df-2046142a-69a0-4c69-9911-aeb5f39772f1');\n",
              "          const dataTable =\n",
              "            await google.colab.kernel.invokeFunction('convertToInteractive',\n",
              "                                                     [key], {});\n",
              "          if (!dataTable) return;\n",
              "\n",
              "          const docLinkHtml = 'Like what you see? Visit the ' +\n",
              "            '<a target=\"_blank\" href=https://colab.research.google.com/notebooks/data_table.ipynb>data table notebook</a>'\n",
              "            + ' to learn more about interactive tables.';\n",
              "          element.innerHTML = '';\n",
              "          dataTable['output_type'] = 'display_data';\n",
              "          await google.colab.output.renderOutput(dataTable, element);\n",
              "          const docLink = document.createElement('div');\n",
              "          docLink.innerHTML = docLinkHtml;\n",
              "          element.appendChild(docLink);\n",
              "        }\n",
              "      </script>\n",
              "    </div>\n",
              "  </div>\n",
              "  "
            ]
          },
          "metadata": {},
          "execution_count": 63
        }
      ]
    },
    {
      "cell_type": "markdown",
      "source": [
        "# Preprocessing of second dataset"
      ],
      "metadata": {
        "id": "uRCTPrwsXaXA"
      }
    },
    {
      "cell_type": "code",
      "source": [
        "df2.head()"
      ],
      "metadata": {
        "id": "j-zb4u-UXMaY",
        "outputId": "a14236e7-e83c-4812-e66a-e683cff703c4",
        "colab": {
          "base_uri": "https://localhost:8080/",
          "height": 206
        }
      },
      "execution_count": 67,
      "outputs": [
        {
          "output_type": "execute_result",
          "data": {
            "text/plain": [
              "             device_id gender  age   group\n",
              "0 -8076087639492063270      M   35  M32-38\n",
              "1 -2897161552818060146      M   35  M32-38\n",
              "2 -8260683887967679142      M   35  M32-38\n",
              "3 -4938849341048082022      M   30  M29-31\n",
              "4   245133531816851882      M   30  M29-31"
            ],
            "text/html": [
              "\n",
              "  <div id=\"df-d4bc8b5c-b229-4098-af3b-2a0623129281\">\n",
              "    <div class=\"colab-df-container\">\n",
              "      <div>\n",
              "<style scoped>\n",
              "    .dataframe tbody tr th:only-of-type {\n",
              "        vertical-align: middle;\n",
              "    }\n",
              "\n",
              "    .dataframe tbody tr th {\n",
              "        vertical-align: top;\n",
              "    }\n",
              "\n",
              "    .dataframe thead th {\n",
              "        text-align: right;\n",
              "    }\n",
              "</style>\n",
              "<table border=\"1\" class=\"dataframe\">\n",
              "  <thead>\n",
              "    <tr style=\"text-align: right;\">\n",
              "      <th></th>\n",
              "      <th>device_id</th>\n",
              "      <th>gender</th>\n",
              "      <th>age</th>\n",
              "      <th>group</th>\n",
              "    </tr>\n",
              "  </thead>\n",
              "  <tbody>\n",
              "    <tr>\n",
              "      <th>0</th>\n",
              "      <td>-8076087639492063270</td>\n",
              "      <td>M</td>\n",
              "      <td>35</td>\n",
              "      <td>M32-38</td>\n",
              "    </tr>\n",
              "    <tr>\n",
              "      <th>1</th>\n",
              "      <td>-2897161552818060146</td>\n",
              "      <td>M</td>\n",
              "      <td>35</td>\n",
              "      <td>M32-38</td>\n",
              "    </tr>\n",
              "    <tr>\n",
              "      <th>2</th>\n",
              "      <td>-8260683887967679142</td>\n",
              "      <td>M</td>\n",
              "      <td>35</td>\n",
              "      <td>M32-38</td>\n",
              "    </tr>\n",
              "    <tr>\n",
              "      <th>3</th>\n",
              "      <td>-4938849341048082022</td>\n",
              "      <td>M</td>\n",
              "      <td>30</td>\n",
              "      <td>M29-31</td>\n",
              "    </tr>\n",
              "    <tr>\n",
              "      <th>4</th>\n",
              "      <td>245133531816851882</td>\n",
              "      <td>M</td>\n",
              "      <td>30</td>\n",
              "      <td>M29-31</td>\n",
              "    </tr>\n",
              "  </tbody>\n",
              "</table>\n",
              "</div>\n",
              "      <button class=\"colab-df-convert\" onclick=\"convertToInteractive('df-d4bc8b5c-b229-4098-af3b-2a0623129281')\"\n",
              "              title=\"Convert this dataframe to an interactive table.\"\n",
              "              style=\"display:none;\">\n",
              "        \n",
              "  <svg xmlns=\"http://www.w3.org/2000/svg\" height=\"24px\"viewBox=\"0 0 24 24\"\n",
              "       width=\"24px\">\n",
              "    <path d=\"M0 0h24v24H0V0z\" fill=\"none\"/>\n",
              "    <path d=\"M18.56 5.44l.94 2.06.94-2.06 2.06-.94-2.06-.94-.94-2.06-.94 2.06-2.06.94zm-11 1L8.5 8.5l.94-2.06 2.06-.94-2.06-.94L8.5 2.5l-.94 2.06-2.06.94zm10 10l.94 2.06.94-2.06 2.06-.94-2.06-.94-.94-2.06-.94 2.06-2.06.94z\"/><path d=\"M17.41 7.96l-1.37-1.37c-.4-.4-.92-.59-1.43-.59-.52 0-1.04.2-1.43.59L10.3 9.45l-7.72 7.72c-.78.78-.78 2.05 0 2.83L4 21.41c.39.39.9.59 1.41.59.51 0 1.02-.2 1.41-.59l7.78-7.78 2.81-2.81c.8-.78.8-2.07 0-2.86zM5.41 20L4 18.59l7.72-7.72 1.47 1.35L5.41 20z\"/>\n",
              "  </svg>\n",
              "      </button>\n",
              "      \n",
              "  <style>\n",
              "    .colab-df-container {\n",
              "      display:flex;\n",
              "      flex-wrap:wrap;\n",
              "      gap: 12px;\n",
              "    }\n",
              "\n",
              "    .colab-df-convert {\n",
              "      background-color: #E8F0FE;\n",
              "      border: none;\n",
              "      border-radius: 50%;\n",
              "      cursor: pointer;\n",
              "      display: none;\n",
              "      fill: #1967D2;\n",
              "      height: 32px;\n",
              "      padding: 0 0 0 0;\n",
              "      width: 32px;\n",
              "    }\n",
              "\n",
              "    .colab-df-convert:hover {\n",
              "      background-color: #E2EBFA;\n",
              "      box-shadow: 0px 1px 2px rgba(60, 64, 67, 0.3), 0px 1px 3px 1px rgba(60, 64, 67, 0.15);\n",
              "      fill: #174EA6;\n",
              "    }\n",
              "\n",
              "    [theme=dark] .colab-df-convert {\n",
              "      background-color: #3B4455;\n",
              "      fill: #D2E3FC;\n",
              "    }\n",
              "\n",
              "    [theme=dark] .colab-df-convert:hover {\n",
              "      background-color: #434B5C;\n",
              "      box-shadow: 0px 1px 3px 1px rgba(0, 0, 0, 0.15);\n",
              "      filter: drop-shadow(0px 1px 2px rgba(0, 0, 0, 0.3));\n",
              "      fill: #FFFFFF;\n",
              "    }\n",
              "  </style>\n",
              "\n",
              "      <script>\n",
              "        const buttonEl =\n",
              "          document.querySelector('#df-d4bc8b5c-b229-4098-af3b-2a0623129281 button.colab-df-convert');\n",
              "        buttonEl.style.display =\n",
              "          google.colab.kernel.accessAllowed ? 'block' : 'none';\n",
              "\n",
              "        async function convertToInteractive(key) {\n",
              "          const element = document.querySelector('#df-d4bc8b5c-b229-4098-af3b-2a0623129281');\n",
              "          const dataTable =\n",
              "            await google.colab.kernel.invokeFunction('convertToInteractive',\n",
              "                                                     [key], {});\n",
              "          if (!dataTable) return;\n",
              "\n",
              "          const docLinkHtml = 'Like what you see? Visit the ' +\n",
              "            '<a target=\"_blank\" href=https://colab.research.google.com/notebooks/data_table.ipynb>data table notebook</a>'\n",
              "            + ' to learn more about interactive tables.';\n",
              "          element.innerHTML = '';\n",
              "          dataTable['output_type'] = 'display_data';\n",
              "          await google.colab.output.renderOutput(dataTable, element);\n",
              "          const docLink = document.createElement('div');\n",
              "          docLink.innerHTML = docLinkHtml;\n",
              "          element.appendChild(docLink);\n",
              "        }\n",
              "      </script>\n",
              "    </div>\n",
              "  </div>\n",
              "  "
            ]
          },
          "metadata": {},
          "execution_count": 67
        }
      ]
    },
    {
      "cell_type": "code",
      "source": [
        "df2.group.value_counts()"
      ],
      "metadata": {
        "id": "JRFb0-T9XlVY",
        "outputId": "a9effce8-71c3-4b7e-900d-0e3ca649784a",
        "colab": {
          "base_uri": "https://localhost:8080/"
        }
      },
      "execution_count": 68,
      "outputs": [
        {
          "output_type": "execute_result",
          "data": {
            "text/plain": [
              "M23-26    9605\n",
              "M32-38    9476\n",
              "M39+      8581\n",
              "M22-      7488\n",
              "M29-31    7309\n",
              "F33-42    5561\n",
              "M27-28    5445\n",
              "F23-      5050\n",
              "F29-32    4628\n",
              "F43+      4194\n",
              "F24-26    4190\n",
              "F27-28    3118\n",
              "Name: group, dtype: int64"
            ]
          },
          "metadata": {},
          "execution_count": 68
        }
      ]
    },
    {
      "cell_type": "markdown",
      "source": [
        "In group, it seems that groups are not consistent in size e.g. M23-26 = 4 Values, M29-31 = 3 Values, M32-38 = 7 Values <br> we can approach grouping in same way or we can make group size consistent"
      ],
      "metadata": {
        "id": "vwCLPu2xYkNh"
      }
    },
    {
      "cell_type": "markdown",
      "source": [
        "### Lets keep age group as it is"
      ],
      "metadata": {
        "id": "eIeJVdLXb99X"
      }
    },
    {
      "cell_type": "markdown",
      "source": [
        "# Preprocessing of third dataset"
      ],
      "metadata": {
        "id": "DfP47SHjZYto"
      }
    },
    {
      "cell_type": "code",
      "source": [
        "df3.head()"
      ],
      "metadata": {
        "id": "696H_RXWXzcI",
        "outputId": "f55a29c4-9431-41e7-af26-6bc203218200",
        "colab": {
          "base_uri": "https://localhost:8080/",
          "height": 206
        }
      },
      "execution_count": 69,
      "outputs": [
        {
          "output_type": "execute_result",
          "data": {
            "text/plain": [
              "             device_id phone_brand device_model\n",
              "0  1877775838486905855        vivo          Y13\n",
              "1 -3766087376657242966          小米         V183\n",
              "2 -6238937574958215831        OPPO          R7s\n",
              "3  8973197758510677470          三星        A368t\n",
              "4 -2015528097870762664          小米      红米Note2"
            ],
            "text/html": [
              "\n",
              "  <div id=\"df-62edfaf1-2753-414c-bbf2-96467046d411\">\n",
              "    <div class=\"colab-df-container\">\n",
              "      <div>\n",
              "<style scoped>\n",
              "    .dataframe tbody tr th:only-of-type {\n",
              "        vertical-align: middle;\n",
              "    }\n",
              "\n",
              "    .dataframe tbody tr th {\n",
              "        vertical-align: top;\n",
              "    }\n",
              "\n",
              "    .dataframe thead th {\n",
              "        text-align: right;\n",
              "    }\n",
              "</style>\n",
              "<table border=\"1\" class=\"dataframe\">\n",
              "  <thead>\n",
              "    <tr style=\"text-align: right;\">\n",
              "      <th></th>\n",
              "      <th>device_id</th>\n",
              "      <th>phone_brand</th>\n",
              "      <th>device_model</th>\n",
              "    </tr>\n",
              "  </thead>\n",
              "  <tbody>\n",
              "    <tr>\n",
              "      <th>0</th>\n",
              "      <td>1877775838486905855</td>\n",
              "      <td>vivo</td>\n",
              "      <td>Y13</td>\n",
              "    </tr>\n",
              "    <tr>\n",
              "      <th>1</th>\n",
              "      <td>-3766087376657242966</td>\n",
              "      <td>小米</td>\n",
              "      <td>V183</td>\n",
              "    </tr>\n",
              "    <tr>\n",
              "      <th>2</th>\n",
              "      <td>-6238937574958215831</td>\n",
              "      <td>OPPO</td>\n",
              "      <td>R7s</td>\n",
              "    </tr>\n",
              "    <tr>\n",
              "      <th>3</th>\n",
              "      <td>8973197758510677470</td>\n",
              "      <td>三星</td>\n",
              "      <td>A368t</td>\n",
              "    </tr>\n",
              "    <tr>\n",
              "      <th>4</th>\n",
              "      <td>-2015528097870762664</td>\n",
              "      <td>小米</td>\n",
              "      <td>红米Note2</td>\n",
              "    </tr>\n",
              "  </tbody>\n",
              "</table>\n",
              "</div>\n",
              "      <button class=\"colab-df-convert\" onclick=\"convertToInteractive('df-62edfaf1-2753-414c-bbf2-96467046d411')\"\n",
              "              title=\"Convert this dataframe to an interactive table.\"\n",
              "              style=\"display:none;\">\n",
              "        \n",
              "  <svg xmlns=\"http://www.w3.org/2000/svg\" height=\"24px\"viewBox=\"0 0 24 24\"\n",
              "       width=\"24px\">\n",
              "    <path d=\"M0 0h24v24H0V0z\" fill=\"none\"/>\n",
              "    <path d=\"M18.56 5.44l.94 2.06.94-2.06 2.06-.94-2.06-.94-.94-2.06-.94 2.06-2.06.94zm-11 1L8.5 8.5l.94-2.06 2.06-.94-2.06-.94L8.5 2.5l-.94 2.06-2.06.94zm10 10l.94 2.06.94-2.06 2.06-.94-2.06-.94-.94-2.06-.94 2.06-2.06.94z\"/><path d=\"M17.41 7.96l-1.37-1.37c-.4-.4-.92-.59-1.43-.59-.52 0-1.04.2-1.43.59L10.3 9.45l-7.72 7.72c-.78.78-.78 2.05 0 2.83L4 21.41c.39.39.9.59 1.41.59.51 0 1.02-.2 1.41-.59l7.78-7.78 2.81-2.81c.8-.78.8-2.07 0-2.86zM5.41 20L4 18.59l7.72-7.72 1.47 1.35L5.41 20z\"/>\n",
              "  </svg>\n",
              "      </button>\n",
              "      \n",
              "  <style>\n",
              "    .colab-df-container {\n",
              "      display:flex;\n",
              "      flex-wrap:wrap;\n",
              "      gap: 12px;\n",
              "    }\n",
              "\n",
              "    .colab-df-convert {\n",
              "      background-color: #E8F0FE;\n",
              "      border: none;\n",
              "      border-radius: 50%;\n",
              "      cursor: pointer;\n",
              "      display: none;\n",
              "      fill: #1967D2;\n",
              "      height: 32px;\n",
              "      padding: 0 0 0 0;\n",
              "      width: 32px;\n",
              "    }\n",
              "\n",
              "    .colab-df-convert:hover {\n",
              "      background-color: #E2EBFA;\n",
              "      box-shadow: 0px 1px 2px rgba(60, 64, 67, 0.3), 0px 1px 3px 1px rgba(60, 64, 67, 0.15);\n",
              "      fill: #174EA6;\n",
              "    }\n",
              "\n",
              "    [theme=dark] .colab-df-convert {\n",
              "      background-color: #3B4455;\n",
              "      fill: #D2E3FC;\n",
              "    }\n",
              "\n",
              "    [theme=dark] .colab-df-convert:hover {\n",
              "      background-color: #434B5C;\n",
              "      box-shadow: 0px 1px 3px 1px rgba(0, 0, 0, 0.15);\n",
              "      filter: drop-shadow(0px 1px 2px rgba(0, 0, 0, 0.3));\n",
              "      fill: #FFFFFF;\n",
              "    }\n",
              "  </style>\n",
              "\n",
              "      <script>\n",
              "        const buttonEl =\n",
              "          document.querySelector('#df-62edfaf1-2753-414c-bbf2-96467046d411 button.colab-df-convert');\n",
              "        buttonEl.style.display =\n",
              "          google.colab.kernel.accessAllowed ? 'block' : 'none';\n",
              "\n",
              "        async function convertToInteractive(key) {\n",
              "          const element = document.querySelector('#df-62edfaf1-2753-414c-bbf2-96467046d411');\n",
              "          const dataTable =\n",
              "            await google.colab.kernel.invokeFunction('convertToInteractive',\n",
              "                                                     [key], {});\n",
              "          if (!dataTable) return;\n",
              "\n",
              "          const docLinkHtml = 'Like what you see? Visit the ' +\n",
              "            '<a target=\"_blank\" href=https://colab.research.google.com/notebooks/data_table.ipynb>data table notebook</a>'\n",
              "            + ' to learn more about interactive tables.';\n",
              "          element.innerHTML = '';\n",
              "          dataTable['output_type'] = 'display_data';\n",
              "          await google.colab.output.renderOutput(dataTable, element);\n",
              "          const docLink = document.createElement('div');\n",
              "          docLink.innerHTML = docLinkHtml;\n",
              "          element.appendChild(docLink);\n",
              "        }\n",
              "      </script>\n",
              "    </div>\n",
              "  </div>\n",
              "  "
            ]
          },
          "metadata": {},
          "execution_count": 69
        }
      ]
    },
    {
      "cell_type": "markdown",
      "source": [
        "Let's replace chinese names with equivalent english words"
      ],
      "metadata": {
        "id": "y5tnzgiLZvgc"
      }
    },
    {
      "cell_type": "code",
      "source": [
        "df3['phone_brand'].unique()"
      ],
      "metadata": {
        "id": "TOiIshQIbDzg",
        "outputId": "bdead603-0991-4ce6-cb38-de65818f0cf9",
        "colab": {
          "base_uri": "https://localhost:8080/"
        }
      },
      "execution_count": 74,
      "outputs": [
        {
          "output_type": "execute_result",
          "data": {
            "text/plain": [
              "array(['vivo', '小米', 'OPPO', '三星', '酷派', '联想 ', '华为', '奇酷', '魅族', '斐讯',\n",
              "       '中国移动', 'HTC', '天语', '至尊宝', 'LG', '欧博信', '优米', 'ZUK', '努比亚', '惠普',\n",
              "       '尼比鲁', '美图', '乡米', '摩托罗拉', '梦米', '锤子', '富可视', '乐视', '海信', '百立丰',\n",
              "       '一加', '语信', '海尔', '酷比', '纽曼', '波导', '朵唯', '聆韵', 'TCL', '酷珀', '爱派尔',\n",
              "       'LOGO', '青葱', '果米', '华硕', '昂达', '艾优尼', '康佳', '优购', '邦华', '赛博宇华',\n",
              "       '黑米', 'Lovme', '先锋', 'E派', '神舟', '诺基亚', '普耐尔', '糖葫芦', '亿通', '欧新',\n",
              "       '米奇', '酷比魔方', '蓝魔', '小杨树', '贝尔丰', '糯米', '米歌', 'E人E本', '西米', '大Q',\n",
              "       '台电', '飞利浦', '唯米', '大显', '长虹', '维图', '青橙', '本为', '虾米', '夏新', '帷幄',\n",
              "       '百加', 'SUGAR', '欧奇', '世纪星', '智镁', '欧比', '基伍', '飞秒', '德赛', '易派',\n",
              "       '谷歌', '金星数码', '广信', '诺亚信', 'MIL', '白米', '大可乐', '宝捷讯', '优语', '首云',\n",
              "       '瑞米', '瑞高', '沃普丰', '摩乐', '鲜米', '凯利通', '唯比', '欧沃', '丰米', '恒宇丰',\n",
              "       '奥克斯', '西门子', '欧乐迪', 'PPTV'], dtype=object)"
            ]
          },
          "metadata": {},
          "execution_count": 74
        }
      ]
    },
    {
      "cell_type": "code",
      "source": [
        "dict = {'华为':'Huawei',\n",
        "'小米':'Xiaomi',\n",
        "'三星':'Samsung',\n",
        "'vivo':'vivo',\n",
        "'OPPO': 'OPPO',\n",
        "'魅族': 'Meizu',\n",
        "'酷派': 'Coolpad',\n",
        "'乐视':'LeEco',\n",
        "'联想 ': 'Lenovo',\n",
        "'HTC': 'HTC'}"
      ],
      "metadata": {
        "id": "ENrptC96Zd-H"
      },
      "execution_count": 70,
      "outputs": []
    },
    {
      "cell_type": "code",
      "source": [
        "df3.replace({'phone_brand':dict},inplace=True)"
      ],
      "metadata": {
        "id": "5sfzrtQuagpI"
      },
      "execution_count": 75,
      "outputs": []
    },
    {
      "cell_type": "code",
      "source": [
        "df3['phone_brand'].unique()"
      ],
      "metadata": {
        "id": "Kx5yYOBiawbH",
        "outputId": "e8edfb75-44a5-4708-870b-6198dff2a1c4",
        "colab": {
          "base_uri": "https://localhost:8080/"
        }
      },
      "execution_count": 76,
      "outputs": [
        {
          "output_type": "execute_result",
          "data": {
            "text/plain": [
              "array(['vivo', 'Xiaomi', 'OPPO', 'Samsung', 'Coolpad', 'Lenovo', 'Huawei',\n",
              "       '奇酷', 'Meizu', '斐讯', '中国移动', 'HTC', '天语', '至尊宝', 'LG', '欧博信', '优米',\n",
              "       'ZUK', '努比亚', '惠普', '尼比鲁', '美图', '乡米', '摩托罗拉', '梦米', '锤子', '富可视',\n",
              "       'LeEco', '海信', '百立丰', '一加', '语信', '海尔', '酷比', '纽曼', '波导', '朵唯',\n",
              "       '聆韵', 'TCL', '酷珀', '爱派尔', 'LOGO', '青葱', '果米', '华硕', '昂达', '艾优尼',\n",
              "       '康佳', '优购', '邦华', '赛博宇华', '黑米', 'Lovme', '先锋', 'E派', '神舟', '诺基亚',\n",
              "       '普耐尔', '糖葫芦', '亿通', '欧新', '米奇', '酷比魔方', '蓝魔', '小杨树', '贝尔丰', '糯米',\n",
              "       '米歌', 'E人E本', '西米', '大Q', '台电', '飞利浦', '唯米', '大显', '长虹', '维图',\n",
              "       '青橙', '本为', '虾米', '夏新', '帷幄', '百加', 'SUGAR', '欧奇', '世纪星', '智镁',\n",
              "       '欧比', '基伍', '飞秒', '德赛', '易派', '谷歌', '金星数码', '广信', '诺亚信', 'MIL',\n",
              "       '白米', '大可乐', '宝捷讯', '优语', '首云', '瑞米', '瑞高', '沃普丰', '摩乐', '鲜米',\n",
              "       '凯利通', '唯比', '欧沃', '丰米', '恒宇丰', '奥克斯', '西门子', '欧乐迪', 'PPTV'],\n",
              "      dtype=object)"
            ]
          },
          "metadata": {},
          "execution_count": 76
        }
      ]
    },
    {
      "cell_type": "markdown",
      "source": [
        "# Time to merge all"
      ],
      "metadata": {
        "id": "Apybkb1DcF7P"
      }
    },
    {
      "cell_type": "code",
      "source": [
        "df_merged_1 = df2.merge(df3,how='inner',on = \"device_id\")"
      ],
      "metadata": {
        "id": "CDJpmnvda1Yn"
      },
      "execution_count": 78,
      "outputs": []
    },
    {
      "cell_type": "code",
      "source": [
        "df_merged_1.head()"
      ],
      "metadata": {
        "id": "ZCHoe36ScSz3",
        "outputId": "5129afac-6ec4-4341-9f9e-1fa20675eb4e",
        "colab": {
          "base_uri": "https://localhost:8080/",
          "height": 206
        }
      },
      "execution_count": 79,
      "outputs": [
        {
          "output_type": "execute_result",
          "data": {
            "text/plain": [
              "             device_id gender  age   group phone_brand device_model\n",
              "0 -8076087639492063270      M   35  M32-38      Xiaomi         MI 2\n",
              "1 -2897161552818060146      M   35  M32-38      Xiaomi         MI 2\n",
              "2 -8260683887967679142      M   35  M32-38      Xiaomi         MI 2\n",
              "3 -4938849341048082022      M   30  M29-31     Samsung    Galaxy S4\n",
              "4   245133531816851882      M   30  M29-31       SUGAR         时尚手机"
            ],
            "text/html": [
              "\n",
              "  <div id=\"df-ba71d18e-f912-4c04-8cf4-b3e6bfc95249\">\n",
              "    <div class=\"colab-df-container\">\n",
              "      <div>\n",
              "<style scoped>\n",
              "    .dataframe tbody tr th:only-of-type {\n",
              "        vertical-align: middle;\n",
              "    }\n",
              "\n",
              "    .dataframe tbody tr th {\n",
              "        vertical-align: top;\n",
              "    }\n",
              "\n",
              "    .dataframe thead th {\n",
              "        text-align: right;\n",
              "    }\n",
              "</style>\n",
              "<table border=\"1\" class=\"dataframe\">\n",
              "  <thead>\n",
              "    <tr style=\"text-align: right;\">\n",
              "      <th></th>\n",
              "      <th>device_id</th>\n",
              "      <th>gender</th>\n",
              "      <th>age</th>\n",
              "      <th>group</th>\n",
              "      <th>phone_brand</th>\n",
              "      <th>device_model</th>\n",
              "    </tr>\n",
              "  </thead>\n",
              "  <tbody>\n",
              "    <tr>\n",
              "      <th>0</th>\n",
              "      <td>-8076087639492063270</td>\n",
              "      <td>M</td>\n",
              "      <td>35</td>\n",
              "      <td>M32-38</td>\n",
              "      <td>Xiaomi</td>\n",
              "      <td>MI 2</td>\n",
              "    </tr>\n",
              "    <tr>\n",
              "      <th>1</th>\n",
              "      <td>-2897161552818060146</td>\n",
              "      <td>M</td>\n",
              "      <td>35</td>\n",
              "      <td>M32-38</td>\n",
              "      <td>Xiaomi</td>\n",
              "      <td>MI 2</td>\n",
              "    </tr>\n",
              "    <tr>\n",
              "      <th>2</th>\n",
              "      <td>-8260683887967679142</td>\n",
              "      <td>M</td>\n",
              "      <td>35</td>\n",
              "      <td>M32-38</td>\n",
              "      <td>Xiaomi</td>\n",
              "      <td>MI 2</td>\n",
              "    </tr>\n",
              "    <tr>\n",
              "      <th>3</th>\n",
              "      <td>-4938849341048082022</td>\n",
              "      <td>M</td>\n",
              "      <td>30</td>\n",
              "      <td>M29-31</td>\n",
              "      <td>Samsung</td>\n",
              "      <td>Galaxy S4</td>\n",
              "    </tr>\n",
              "    <tr>\n",
              "      <th>4</th>\n",
              "      <td>245133531816851882</td>\n",
              "      <td>M</td>\n",
              "      <td>30</td>\n",
              "      <td>M29-31</td>\n",
              "      <td>SUGAR</td>\n",
              "      <td>时尚手机</td>\n",
              "    </tr>\n",
              "  </tbody>\n",
              "</table>\n",
              "</div>\n",
              "      <button class=\"colab-df-convert\" onclick=\"convertToInteractive('df-ba71d18e-f912-4c04-8cf4-b3e6bfc95249')\"\n",
              "              title=\"Convert this dataframe to an interactive table.\"\n",
              "              style=\"display:none;\">\n",
              "        \n",
              "  <svg xmlns=\"http://www.w3.org/2000/svg\" height=\"24px\"viewBox=\"0 0 24 24\"\n",
              "       width=\"24px\">\n",
              "    <path d=\"M0 0h24v24H0V0z\" fill=\"none\"/>\n",
              "    <path d=\"M18.56 5.44l.94 2.06.94-2.06 2.06-.94-2.06-.94-.94-2.06-.94 2.06-2.06.94zm-11 1L8.5 8.5l.94-2.06 2.06-.94-2.06-.94L8.5 2.5l-.94 2.06-2.06.94zm10 10l.94 2.06.94-2.06 2.06-.94-2.06-.94-.94-2.06-.94 2.06-2.06.94z\"/><path d=\"M17.41 7.96l-1.37-1.37c-.4-.4-.92-.59-1.43-.59-.52 0-1.04.2-1.43.59L10.3 9.45l-7.72 7.72c-.78.78-.78 2.05 0 2.83L4 21.41c.39.39.9.59 1.41.59.51 0 1.02-.2 1.41-.59l7.78-7.78 2.81-2.81c.8-.78.8-2.07 0-2.86zM5.41 20L4 18.59l7.72-7.72 1.47 1.35L5.41 20z\"/>\n",
              "  </svg>\n",
              "      </button>\n",
              "      \n",
              "  <style>\n",
              "    .colab-df-container {\n",
              "      display:flex;\n",
              "      flex-wrap:wrap;\n",
              "      gap: 12px;\n",
              "    }\n",
              "\n",
              "    .colab-df-convert {\n",
              "      background-color: #E8F0FE;\n",
              "      border: none;\n",
              "      border-radius: 50%;\n",
              "      cursor: pointer;\n",
              "      display: none;\n",
              "      fill: #1967D2;\n",
              "      height: 32px;\n",
              "      padding: 0 0 0 0;\n",
              "      width: 32px;\n",
              "    }\n",
              "\n",
              "    .colab-df-convert:hover {\n",
              "      background-color: #E2EBFA;\n",
              "      box-shadow: 0px 1px 2px rgba(60, 64, 67, 0.3), 0px 1px 3px 1px rgba(60, 64, 67, 0.15);\n",
              "      fill: #174EA6;\n",
              "    }\n",
              "\n",
              "    [theme=dark] .colab-df-convert {\n",
              "      background-color: #3B4455;\n",
              "      fill: #D2E3FC;\n",
              "    }\n",
              "\n",
              "    [theme=dark] .colab-df-convert:hover {\n",
              "      background-color: #434B5C;\n",
              "      box-shadow: 0px 1px 3px 1px rgba(0, 0, 0, 0.15);\n",
              "      filter: drop-shadow(0px 1px 2px rgba(0, 0, 0, 0.3));\n",
              "      fill: #FFFFFF;\n",
              "    }\n",
              "  </style>\n",
              "\n",
              "      <script>\n",
              "        const buttonEl =\n",
              "          document.querySelector('#df-ba71d18e-f912-4c04-8cf4-b3e6bfc95249 button.colab-df-convert');\n",
              "        buttonEl.style.display =\n",
              "          google.colab.kernel.accessAllowed ? 'block' : 'none';\n",
              "\n",
              "        async function convertToInteractive(key) {\n",
              "          const element = document.querySelector('#df-ba71d18e-f912-4c04-8cf4-b3e6bfc95249');\n",
              "          const dataTable =\n",
              "            await google.colab.kernel.invokeFunction('convertToInteractive',\n",
              "                                                     [key], {});\n",
              "          if (!dataTable) return;\n",
              "\n",
              "          const docLinkHtml = 'Like what you see? Visit the ' +\n",
              "            '<a target=\"_blank\" href=https://colab.research.google.com/notebooks/data_table.ipynb>data table notebook</a>'\n",
              "            + ' to learn more about interactive tables.';\n",
              "          element.innerHTML = '';\n",
              "          dataTable['output_type'] = 'display_data';\n",
              "          await google.colab.output.renderOutput(dataTable, element);\n",
              "          const docLink = document.createElement('div');\n",
              "          docLink.innerHTML = docLinkHtml;\n",
              "          element.appendChild(docLink);\n",
              "        }\n",
              "      </script>\n",
              "    </div>\n",
              "  </div>\n",
              "  "
            ]
          },
          "metadata": {},
          "execution_count": 79
        }
      ]
    },
    {
      "cell_type": "code",
      "source": [
        "df_merged_1.info()"
      ],
      "metadata": {
        "id": "TW9WgEJxcj_2",
        "outputId": "5530b985-3c04-4893-a439-f913bc3dd80f",
        "colab": {
          "base_uri": "https://localhost:8080/"
        }
      },
      "execution_count": 80,
      "outputs": [
        {
          "output_type": "stream",
          "name": "stdout",
          "text": [
            "<class 'pandas.core.frame.DataFrame'>\n",
            "Int64Index: 74617 entries, 0 to 74616\n",
            "Data columns (total 6 columns):\n",
            " #   Column        Non-Null Count  Dtype \n",
            "---  ------        --------------  ----- \n",
            " 0   device_id     74617 non-null  int64 \n",
            " 1   gender        74617 non-null  object\n",
            " 2   age           74617 non-null  int64 \n",
            " 3   group         74617 non-null  object\n",
            " 4   phone_brand   74617 non-null  object\n",
            " 5   device_model  74617 non-null  object\n",
            "dtypes: int64(2), object(4)\n",
            "memory usage: 4.0+ MB\n"
          ]
        }
      ]
    },
    {
      "cell_type": "code",
      "source": [
        "df_merged_1.nunique()"
      ],
      "metadata": {
        "id": "lCmZdDopcqR2",
        "outputId": "a6661850-04ac-424d-e384-53cdf63acd34",
        "colab": {
          "base_uri": "https://localhost:8080/"
        }
      },
      "execution_count": 81,
      "outputs": [
        {
          "output_type": "execute_result",
          "data": {
            "text/plain": [
              "device_id       74617\n",
              "gender              2\n",
              "age                85\n",
              "group              12\n",
              "phone_brand       111\n",
              "device_model     1427\n",
              "dtype: int64"
            ]
          },
          "metadata": {},
          "execution_count": 81
        }
      ]
    },
    {
      "cell_type": "code",
      "source": [
        "df_merged_1['device_id'] = df_merged_1['device_id'].apply(lambda x: abs(x))"
      ],
      "metadata": {
        "id": "T3Wr8UD_eOvA"
      },
      "execution_count": 86,
      "outputs": []
    },
    {
      "cell_type": "code",
      "source": [
        "df_cities['device_id'] = df_cities['device_id'].apply(lambda x: abs(x))"
      ],
      "metadata": {
        "id": "foCQRxauehCx"
      },
      "execution_count": 90,
      "outputs": []
    },
    {
      "cell_type": "code",
      "source": [
        "df_merged_2 = df_cities.merge(df_merged_1,how='inner',on='device_id')"
      ],
      "metadata": {
        "id": "iNwf5BY0cu8H"
      },
      "execution_count": 91,
      "outputs": []
    },
    {
      "cell_type": "code",
      "source": [
        "df_merged_2.head()"
      ],
      "metadata": {
        "id": "NTQZ0k9nc_Dn",
        "outputId": "573f4d66-2dee-43fe-9adf-8ebf179780a1",
        "colab": {
          "base_uri": "https://localhost:8080/",
          "height": 337
        }
      },
      "execution_count": 92,
      "outputs": [
        {
          "output_type": "execute_result",
          "data": {
            "text/plain": [
              "   event_id     device_id           timestamp  longitude  latitude   city  \\\n",
              "0   2765368  2.973348e+18 2016-05-07 22:52:05  77.225676  28.73014  Delhi   \n",
              "1   1355198  2.973348e+18 2016-05-01 01:35:45  77.225676  28.73014  Delhi   \n",
              "2   1630972  2.973348e+18 2016-05-03 00:07:34  77.225676  28.73014  Delhi   \n",
              "3   2732453  2.973348e+18 2016-05-01 06:15:59  77.225676  28.73014  Delhi   \n",
              "4   1562542  2.973348e+18 2016-05-01 20:34:19  77.225676  28.73014  Delhi   \n",
              "\n",
              "   state  year  month day_of_week  hour month_name gender  age   group  \\\n",
              "0  Delhi  2016      5    Saturday    22        May      M   35  M32-38   \n",
              "1  Delhi  2016      5      Sunday     1        May      M   35  M32-38   \n",
              "2  Delhi  2016      5     Tuesday     0        May      M   35  M32-38   \n",
              "3  Delhi  2016      5      Sunday     6        May      M   35  M32-38   \n",
              "4  Delhi  2016      5      Sunday    20        May      M   35  M32-38   \n",
              "\n",
              "  phone_brand device_model  \n",
              "0          优米        UIMI3  \n",
              "1          优米        UIMI3  \n",
              "2          优米        UIMI3  \n",
              "3          优米        UIMI3  \n",
              "4          优米        UIMI3  "
            ],
            "text/html": [
              "\n",
              "  <div id=\"df-adef51e4-3a94-4f35-afac-ca0307de4abc\">\n",
              "    <div class=\"colab-df-container\">\n",
              "      <div>\n",
              "<style scoped>\n",
              "    .dataframe tbody tr th:only-of-type {\n",
              "        vertical-align: middle;\n",
              "    }\n",
              "\n",
              "    .dataframe tbody tr th {\n",
              "        vertical-align: top;\n",
              "    }\n",
              "\n",
              "    .dataframe thead th {\n",
              "        text-align: right;\n",
              "    }\n",
              "</style>\n",
              "<table border=\"1\" class=\"dataframe\">\n",
              "  <thead>\n",
              "    <tr style=\"text-align: right;\">\n",
              "      <th></th>\n",
              "      <th>event_id</th>\n",
              "      <th>device_id</th>\n",
              "      <th>timestamp</th>\n",
              "      <th>longitude</th>\n",
              "      <th>latitude</th>\n",
              "      <th>city</th>\n",
              "      <th>state</th>\n",
              "      <th>year</th>\n",
              "      <th>month</th>\n",
              "      <th>day_of_week</th>\n",
              "      <th>hour</th>\n",
              "      <th>month_name</th>\n",
              "      <th>gender</th>\n",
              "      <th>age</th>\n",
              "      <th>group</th>\n",
              "      <th>phone_brand</th>\n",
              "      <th>device_model</th>\n",
              "    </tr>\n",
              "  </thead>\n",
              "  <tbody>\n",
              "    <tr>\n",
              "      <th>0</th>\n",
              "      <td>2765368</td>\n",
              "      <td>2.973348e+18</td>\n",
              "      <td>2016-05-07 22:52:05</td>\n",
              "      <td>77.225676</td>\n",
              "      <td>28.73014</td>\n",
              "      <td>Delhi</td>\n",
              "      <td>Delhi</td>\n",
              "      <td>2016</td>\n",
              "      <td>5</td>\n",
              "      <td>Saturday</td>\n",
              "      <td>22</td>\n",
              "      <td>May</td>\n",
              "      <td>M</td>\n",
              "      <td>35</td>\n",
              "      <td>M32-38</td>\n",
              "      <td>优米</td>\n",
              "      <td>UIMI3</td>\n",
              "    </tr>\n",
              "    <tr>\n",
              "      <th>1</th>\n",
              "      <td>1355198</td>\n",
              "      <td>2.973348e+18</td>\n",
              "      <td>2016-05-01 01:35:45</td>\n",
              "      <td>77.225676</td>\n",
              "      <td>28.73014</td>\n",
              "      <td>Delhi</td>\n",
              "      <td>Delhi</td>\n",
              "      <td>2016</td>\n",
              "      <td>5</td>\n",
              "      <td>Sunday</td>\n",
              "      <td>1</td>\n",
              "      <td>May</td>\n",
              "      <td>M</td>\n",
              "      <td>35</td>\n",
              "      <td>M32-38</td>\n",
              "      <td>优米</td>\n",
              "      <td>UIMI3</td>\n",
              "    </tr>\n",
              "    <tr>\n",
              "      <th>2</th>\n",
              "      <td>1630972</td>\n",
              "      <td>2.973348e+18</td>\n",
              "      <td>2016-05-03 00:07:34</td>\n",
              "      <td>77.225676</td>\n",
              "      <td>28.73014</td>\n",
              "      <td>Delhi</td>\n",
              "      <td>Delhi</td>\n",
              "      <td>2016</td>\n",
              "      <td>5</td>\n",
              "      <td>Tuesday</td>\n",
              "      <td>0</td>\n",
              "      <td>May</td>\n",
              "      <td>M</td>\n",
              "      <td>35</td>\n",
              "      <td>M32-38</td>\n",
              "      <td>优米</td>\n",
              "      <td>UIMI3</td>\n",
              "    </tr>\n",
              "    <tr>\n",
              "      <th>3</th>\n",
              "      <td>2732453</td>\n",
              "      <td>2.973348e+18</td>\n",
              "      <td>2016-05-01 06:15:59</td>\n",
              "      <td>77.225676</td>\n",
              "      <td>28.73014</td>\n",
              "      <td>Delhi</td>\n",
              "      <td>Delhi</td>\n",
              "      <td>2016</td>\n",
              "      <td>5</td>\n",
              "      <td>Sunday</td>\n",
              "      <td>6</td>\n",
              "      <td>May</td>\n",
              "      <td>M</td>\n",
              "      <td>35</td>\n",
              "      <td>M32-38</td>\n",
              "      <td>优米</td>\n",
              "      <td>UIMI3</td>\n",
              "    </tr>\n",
              "    <tr>\n",
              "      <th>4</th>\n",
              "      <td>1562542</td>\n",
              "      <td>2.973348e+18</td>\n",
              "      <td>2016-05-01 20:34:19</td>\n",
              "      <td>77.225676</td>\n",
              "      <td>28.73014</td>\n",
              "      <td>Delhi</td>\n",
              "      <td>Delhi</td>\n",
              "      <td>2016</td>\n",
              "      <td>5</td>\n",
              "      <td>Sunday</td>\n",
              "      <td>20</td>\n",
              "      <td>May</td>\n",
              "      <td>M</td>\n",
              "      <td>35</td>\n",
              "      <td>M32-38</td>\n",
              "      <td>优米</td>\n",
              "      <td>UIMI3</td>\n",
              "    </tr>\n",
              "  </tbody>\n",
              "</table>\n",
              "</div>\n",
              "      <button class=\"colab-df-convert\" onclick=\"convertToInteractive('df-adef51e4-3a94-4f35-afac-ca0307de4abc')\"\n",
              "              title=\"Convert this dataframe to an interactive table.\"\n",
              "              style=\"display:none;\">\n",
              "        \n",
              "  <svg xmlns=\"http://www.w3.org/2000/svg\" height=\"24px\"viewBox=\"0 0 24 24\"\n",
              "       width=\"24px\">\n",
              "    <path d=\"M0 0h24v24H0V0z\" fill=\"none\"/>\n",
              "    <path d=\"M18.56 5.44l.94 2.06.94-2.06 2.06-.94-2.06-.94-.94-2.06-.94 2.06-2.06.94zm-11 1L8.5 8.5l.94-2.06 2.06-.94-2.06-.94L8.5 2.5l-.94 2.06-2.06.94zm10 10l.94 2.06.94-2.06 2.06-.94-2.06-.94-.94-2.06-.94 2.06-2.06.94z\"/><path d=\"M17.41 7.96l-1.37-1.37c-.4-.4-.92-.59-1.43-.59-.52 0-1.04.2-1.43.59L10.3 9.45l-7.72 7.72c-.78.78-.78 2.05 0 2.83L4 21.41c.39.39.9.59 1.41.59.51 0 1.02-.2 1.41-.59l7.78-7.78 2.81-2.81c.8-.78.8-2.07 0-2.86zM5.41 20L4 18.59l7.72-7.72 1.47 1.35L5.41 20z\"/>\n",
              "  </svg>\n",
              "      </button>\n",
              "      \n",
              "  <style>\n",
              "    .colab-df-container {\n",
              "      display:flex;\n",
              "      flex-wrap:wrap;\n",
              "      gap: 12px;\n",
              "    }\n",
              "\n",
              "    .colab-df-convert {\n",
              "      background-color: #E8F0FE;\n",
              "      border: none;\n",
              "      border-radius: 50%;\n",
              "      cursor: pointer;\n",
              "      display: none;\n",
              "      fill: #1967D2;\n",
              "      height: 32px;\n",
              "      padding: 0 0 0 0;\n",
              "      width: 32px;\n",
              "    }\n",
              "\n",
              "    .colab-df-convert:hover {\n",
              "      background-color: #E2EBFA;\n",
              "      box-shadow: 0px 1px 2px rgba(60, 64, 67, 0.3), 0px 1px 3px 1px rgba(60, 64, 67, 0.15);\n",
              "      fill: #174EA6;\n",
              "    }\n",
              "\n",
              "    [theme=dark] .colab-df-convert {\n",
              "      background-color: #3B4455;\n",
              "      fill: #D2E3FC;\n",
              "    }\n",
              "\n",
              "    [theme=dark] .colab-df-convert:hover {\n",
              "      background-color: #434B5C;\n",
              "      box-shadow: 0px 1px 3px 1px rgba(0, 0, 0, 0.15);\n",
              "      filter: drop-shadow(0px 1px 2px rgba(0, 0, 0, 0.3));\n",
              "      fill: #FFFFFF;\n",
              "    }\n",
              "  </style>\n",
              "\n",
              "      <script>\n",
              "        const buttonEl =\n",
              "          document.querySelector('#df-adef51e4-3a94-4f35-afac-ca0307de4abc button.colab-df-convert');\n",
              "        buttonEl.style.display =\n",
              "          google.colab.kernel.accessAllowed ? 'block' : 'none';\n",
              "\n",
              "        async function convertToInteractive(key) {\n",
              "          const element = document.querySelector('#df-adef51e4-3a94-4f35-afac-ca0307de4abc');\n",
              "          const dataTable =\n",
              "            await google.colab.kernel.invokeFunction('convertToInteractive',\n",
              "                                                     [key], {});\n",
              "          if (!dataTable) return;\n",
              "\n",
              "          const docLinkHtml = 'Like what you see? Visit the ' +\n",
              "            '<a target=\"_blank\" href=https://colab.research.google.com/notebooks/data_table.ipynb>data table notebook</a>'\n",
              "            + ' to learn more about interactive tables.';\n",
              "          element.innerHTML = '';\n",
              "          dataTable['output_type'] = 'display_data';\n",
              "          await google.colab.output.renderOutput(dataTable, element);\n",
              "          const docLink = document.createElement('div');\n",
              "          docLink.innerHTML = docLinkHtml;\n",
              "          element.appendChild(docLink);\n",
              "        }\n",
              "      </script>\n",
              "    </div>\n",
              "  </div>\n",
              "  "
            ]
          },
          "metadata": {},
          "execution_count": 92
        }
      ]
    },
    {
      "cell_type": "code",
      "source": [
        "df_merged_2.info()"
      ],
      "metadata": {
        "id": "Ltg1y8UcdA0H",
        "outputId": "d0cc8d34-98e5-4375-8774-9bd02664518c",
        "colab": {
          "base_uri": "https://localhost:8080/"
        }
      },
      "execution_count": 93,
      "outputs": [
        {
          "output_type": "stream",
          "name": "stdout",
          "text": [
            "<class 'pandas.core.frame.DataFrame'>\n",
            "Int64Index: 2328 entries, 0 to 2327\n",
            "Data columns (total 17 columns):\n",
            " #   Column        Non-Null Count  Dtype         \n",
            "---  ------        --------------  -----         \n",
            " 0   event_id      2328 non-null   int64         \n",
            " 1   device_id     2328 non-null   float64       \n",
            " 2   timestamp     2328 non-null   datetime64[ns]\n",
            " 3   longitude     2328 non-null   float64       \n",
            " 4   latitude      2328 non-null   float64       \n",
            " 5   city          2328 non-null   object        \n",
            " 6   state         2328 non-null   object        \n",
            " 7   year          2328 non-null   int64         \n",
            " 8   month         2328 non-null   int64         \n",
            " 9   day_of_week   2328 non-null   object        \n",
            " 10  hour          2328 non-null   int64         \n",
            " 11  month_name    2328 non-null   object        \n",
            " 12  gender        2328 non-null   object        \n",
            " 13  age           2328 non-null   int64         \n",
            " 14  group         2328 non-null   object        \n",
            " 15  phone_brand   2328 non-null   object        \n",
            " 16  device_model  2328 non-null   object        \n",
            "dtypes: datetime64[ns](1), float64(3), int64(5), object(8)\n",
            "memory usage: 327.4+ KB\n"
          ]
        }
      ]
    },
    {
      "cell_type": "code",
      "source": [
        "df_merged_2.nunique()"
      ],
      "metadata": {
        "id": "dmy_jrGYdIzM",
        "outputId": "f629da17-34c4-4516-863a-0b04b3aa8410",
        "colab": {
          "base_uri": "https://localhost:8080/"
        }
      },
      "execution_count": 94,
      "outputs": [
        {
          "output_type": "execute_result",
          "data": {
            "text/plain": [
              "event_id        2328\n",
              "device_id         20\n",
              "timestamp       2316\n",
              "longitude         20\n",
              "latitude          20\n",
              "city               1\n",
              "state              1\n",
              "year               1\n",
              "month              1\n",
              "day_of_week        7\n",
              "hour              24\n",
              "month_name         1\n",
              "gender             2\n",
              "age               13\n",
              "group              8\n",
              "phone_brand       11\n",
              "device_model      17\n",
              "dtype: int64"
            ]
          },
          "metadata": {},
          "execution_count": 94
        }
      ]
    },
    {
      "cell_type": "code",
      "source": [
        ""
      ],
      "metadata": {
        "id": "7t-mbwsWdPWW"
      },
      "execution_count": null,
      "outputs": []
    }
  ]
}